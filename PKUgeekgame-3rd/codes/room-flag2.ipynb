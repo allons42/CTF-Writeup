{
 "cells": [
  {
   "cell_type": "code",
   "execution_count": 152,
   "id": "aa9c8517",
   "metadata": {},
   "outputs": [],
   "source": [
    "from pwn import *\n",
    "import re\n",
    "from tqdm import tqdm\n",
    "import time"
   ]
  },
  {
   "cell_type": "code",
   "execution_count": 197,
   "id": "3453c962",
   "metadata": {},
   "outputs": [
    {
     "name": "stdout",
     "output_type": "stream",
     "text": [
      "[x] Opening connection to prob16.geekgame.pku.edu.cn on port 10016\n",
      "[x] Opening connection to prob16.geekgame.pku.edu.cn on port 10016: Trying 115.27.246.20\n",
      "[+] Opening connection to prob16.geekgame.pku.edu.cn on port 10016: Done\n"
     ]
    },
    {
     "data": {
      "text/plain": [
       "b'?\\n\\n[...]: \\nIs x what you want to be known as'"
      ]
     },
     "execution_count": 197,
     "metadata": {},
     "output_type": "execute_result"
    }
   ],
   "source": [
    "r = remote('prob16.geekgame.pku.edu.cn', 10016)\n",
    "r.sendline(b'34:MEUCIQDOrEz76mgSlMHgMyc8PUmHN2outbzVCUHyKCA4vxdv1wIgLRv4gw7LWZ4ucdcD9z_XsSlI1oVahfzYsjk-2uU4aKM=')\n",
    "r.sendafter(b'[...]:', b'newgame')\n",
    "r.sendafter(b'your name', b'x')\n",
    "r.sendafter(b'known as', b'y')"
   ]
  },
  {
   "cell_type": "code",
   "execution_count": 198,
   "id": "39a343ed",
   "metadata": {},
   "outputs": [
    {
     "data": {
      "text/plain": [
       "b' ==========================================================================================\\n\\nA locked door stands to the North. This one has a gold handle.\\n\\n            __________\\n           |  __  __  |\\n           | |  ||  | |\\n           | |  ||  | |\\n           | |__||__| |\\n           |  __  __ @|\\n           | |  ||  | |\\n           | |  ||  | |\\n           | |  ||  | |\\n           | |  ||  | |\\n           | |__||__| |\\n           |__________|\\n            \\nWhat do you do?\\n\\ne: >> Walk East.\\ns: \\\\/ Move South.\\ni: View inventory.\\nh: Help, could increase sanity with a certain probability.\\nq: Check sanity.\\nuse: Use an item.\\nusewith: Use something with something.\\npickup: Pickup something.\\n\\n[x]:'"
      ]
     },
     "execution_count": 198,
     "metadata": {},
     "output_type": "execute_result"
    }
   ],
   "source": [
    "r.sendline(b'n')\n",
    "r.sendafter(b\"[x]:\", b'n')\n",
    "r.sendafter(b\"[x]:\", b'e')\n",
    "\n",
    "r.sendafter(b\"[x]:\", b'pickup key')\n",
    "r.sendafter(b\"[x]:\", b'w')\n",
    "r.sendafter(b\"[x]:\", b's')\n",
    "r.sendafter(b\"[x]:\", b's')\n",
    "\n",
    "r.sendafter(b\"[x]:\", b'e')\n",
    "r.sendafter(b\"[x]:\", b'e')\n",
    "r.sendafter(b\"[x]:\", b'e')\n",
    "\n",
    "r.sendafter(b\"[x]:\", b'pickup trinket')\n",
    "r.sendafter(b\"[x]:\", b'use trinket')\n",
    "\n",
    "r.sendafter(b\"[x]:\", b'w')\n",
    "r.sendafter(b\"[x]:\", b's')\n",
    "r.sendafter(b\"[x]:\", b'usewith key door')\n",
    "\n",
    "r.sendafter(b\"[x]:\", b's')\n",
    "r.sendafter(b\"[x]:\", b's')\n",
    "r.sendafter(b\"[x]:\", b'n')\n",
    "r.sendafter(b\"[x]:\", b'w')\n",
    "r.sendafter(b\"[x]:\", b'w')\n",
    "r.sendafter(b\"[x]:\", b'w')\n",
    "r.sendafter(b\"[x]:\", b'n')\n",
    "r.sendafter(b\"[x]:\", b'pickup key')\n",
    "\n",
    "r.sendafter(b\"[x]:\", b's')\n",
    "r.sendafter(b\"[x]:\", b'e')\n",
    "r.sendafter(b\"[x]:\", b'e')\n",
    "r.sendafter(b\"[x]:\", b'e')\n",
    "r.sendafter(b\"[x]:\", b'n')\n",
    "r.sendafter(b\"[x]:\", b'n')\n",
    "r.sendafter(b\"[x]:\", b'n')\n",
    "r.sendafter(b\"[x]:\", b'w')\n",
    "r.sendafter(b\"[x]:\", b'w')\n",
    "r.sendafter(b\"[x]:\", b'n')\n",
    "r.sendafter(b\"[x]:\", b'n')\n",
    "r.sendafter(b\"[x]:\", b'w')\n",
    "r.sendafter(b\"[x]:\", b'w')\n",
    "\n",
    "r.sendafter(b\"[x]:\", b's')\n",
    "r.sendafter(b\"[x]:\", b'getflag')"
   ]
  },
  {
   "cell_type": "code",
   "execution_count": 186,
   "id": "c6e99042",
   "metadata": {},
   "outputs": [],
   "source": [
    "import time"
   ]
  },
  {
   "cell_type": "code",
   "execution_count": 187,
   "id": "c38c5ef2",
   "metadata": {
    "scrolled": true
   },
   "outputs": [
    {
     "name": "stdout",
     "output_type": "stream",
     "text": [
      "b' ==========================================================================================\\n\\nYou are entering FlagRoom. \\nWhat do you do?\\n\\nn: /\\\\ Go North.\\ni: View inventory.\\nh: Help, could increase sanity with a certain probability.\\nq: Check sanity.\\nuse: Use an item.\\nusewith: Use something with something.\\npickup: Pickup something.\\ngetflag: Get Flag by solve the challenge.\\n\\n[x]: ==========================================================================================\\n\\nGuess my public key (give me a number): '\n",
      "b'Wrong\\nGuess my public key (give me a number): '\n",
      "b'Wrong\\nGuess my public key (give me a number): '\n",
      "b'Wrong\\nGuess my public key (give me a number): '\n",
      "b'Wrong\\nGuess my public key (give me a number): '\n",
      "b'Wrong\\nGuess my public key (give me a number): '\n",
      "b'Wrong\\nGuess my public key (give me a number): '\n",
      "b'Wrong\\nGuess my public key (give me a number): '\n",
      "b'Wrong\\nGuess my public key (give me a number): '\n",
      "b'Wrong\\nGuess my public key (give me a number): '\n",
      "b'Wrong\\nGuess my public key (give me a number): '\n",
      "b'Wrong\\nGuess my public key (give me a number): '\n",
      "b'Wrong\\nGuess my public key (give me a number): '\n",
      "b'Wrong\\nGuess my public key (give me a number): '\n",
      "b'Wrong\\nGuess my public key (give me a number): '\n",
      "b'Wrong\\nGuess my public key (give me a number): '\n",
      "b'Wrong\\nGuess my public key (give me a number): '\n",
      "b'Wrong\\nGuess my public key (give me a number): '\n",
      "b'Wrong\\nGuess my public key (give me a number): '\n",
      "b'Wrong\\nGuess my public key (give me a number): '\n",
      "b'Wrong\\nGuess my public key (give me a number): '\n",
      "b'Wrong\\nGuess my public key (give me a number): '\n",
      "b'Wrong\\nGuess my public key (give me a number): '\n",
      "b'Wrong\\nGuess my public key (give me a number): '\n",
      "b'Wrong\\nGuess my public key (give me a number): '\n",
      "b'Wrong\\nGuess my public key (give me a number): '\n",
      "b'Wrong\\nGuess my public key (give me a number): '\n",
      "b'Wrong\\nGuess my public key (give me a number): '\n",
      "b'Wrong\\nGuess my public key (give me a number): '\n",
      "b'Wrong\\nGuess my public key (give me a number): '\n",
      "b'Wrong\\nGuess my public key (give me a number): '\n",
      "b'Wrong\\nGuess my public key (give me a number): '\n",
      "b'Wrong\\nGuess my public key (give me a number): '\n",
      "b'Wrong\\nGuess my public key (give me a number): '\n",
      "b'Wrong\\nGuess my public key (give me a number): '\n",
      "b'Wrong\\nGuess my public key (give me a number): '\n",
      "b'Wrong\\nGuess my public key (give me a number): '\n",
      "b'Wrong\\nGuess my public key (give me a number): '\n",
      "b'Wrong\\nGuess my public key (give me a number): '\n",
      "b'Wrong\\nGuess my public key (give me a number): '\n",
      "b'Wrong\\nGuess my public key (give me a number): '\n",
      "b'Wrong\\nGuess my public key (give me a number): '\n",
      "b'Wrong\\nGuess my public key (give me a number): '\n",
      "b'Wrong\\nGuess my public key (give me a number): '\n",
      "b'Wrong\\nGuess my public key (give me a number): '\n",
      "b'Wrong\\nGuess my public key (give me a number): '\n",
      "b'Wrong\\nGuess my public key (give me a number): '\n",
      "b'Wrong\\nGuess my public key (give me a number): '\n",
      "b'Wrong\\nGuess my public key (give me a number): '\n",
      "b'Wrong\\nGuess my public key (give me a number): '\n",
      "b'Wrong\\nGuess my public key (give me a number): '\n",
      "b'Wrong\\nGuess my public key (give me a number): '\n",
      "b'Wrong\\nGuess my public key (give me a number): '\n",
      "b'Wrong\\nGuess my public key (give me a number): '\n",
      "b'Wrong\\nGuess my public key (give me a number): '\n",
      "b'Wrong\\nGuess my public key (give me a number): '\n",
      "b'Wrong\\nGuess my public key (give me a number): '\n",
      "b'Wrong\\nGuess my public key (give me a number): '\n",
      "b'Wrong\\nGuess my public key (give me a number): '\n",
      "b'Wrong\\nGuess my public key (give me a number): '\n",
      "b'Wrong\\nGuess my public key (give me a number): '\n",
      "b'Wrong\\nGuess my public key (give me a number): '\n",
      "b'Wrong\\nGuess my public key (give me a number): '\n",
      "b'Wrong\\nGuess my public key (give me a number): '\n",
      "b'Wrong\\nGuess my public key (give me a number): '\n",
      "b'Wrong\\nGuess my public key (give me a number): '\n",
      "b'Wrong\\nGuess my public key (give me a number): '\n",
      "b'Wrong\\nGuess my public key (give me a number): '\n",
      "b'Wrong\\nGuess my public key (give me a number): '\n",
      "b'Wrong\\nGuess my public key (give me a number): '\n",
      "b'Wrong\\nGuess my public key (give me a number): '\n",
      "b'Wrong\\nGuess my public key (give me a number): '\n",
      "b'Wrong\\nGuess my public key (give me a number): '\n",
      "b'Wrong\\nGuess my public key (give me a number): '\n",
      "b'Wrong\\nGuess my public key (give me a number): '\n",
      "b'Wrong\\nGuess my public key (give me a number): '\n",
      "b'Wrong\\nGuess my public key (give me a number): '\n",
      "b'Wrong\\nGuess my public key (give me a number): '\n",
      "b'Wrong\\nGuess my public key (give me a number): '\n",
      "b'Wrong\\nGuess my public key (give me a number): '\n",
      "b'Wrong\\nGuess my public key (give me a number): '\n",
      "b'Wrong\\nGuess my public key (give me a number): '\n",
      "b'Wrong\\nGuess my public key (give me a number): '\n",
      "b'Wrong\\nGuess my public key (give me a number): '\n",
      "b'Wrong\\nGuess my public key (give me a number): '\n",
      "b'Wrong\\nGuess my public key (give me a number): '\n",
      "b'Wrong\\nGuess my public key (give me a number): '\n",
      "b'Wrong\\nGuess my public key (give me a number): '\n",
      "b'Wrong\\nGuess my public key (give me a number): '\n",
      "b'Wrong\\nGuess my public key (give me a number): '\n",
      "b'Wrong\\nGuess my public key (give me a number): '\n",
      "b'Wrong\\nGuess my public key (give me a number): '\n",
      "b'Wrong\\nGuess my public key (give me a number): '\n",
      "b'Wrong\\nGuess my public key (give me a number): '\n",
      "b'Wrong\\nGuess my public key (give me a number): '\n",
      "b'Wrong\\nGuess my public key (give me a number): '\n",
      "b'Wrong\\nGuess my public key (give me a number): '\n",
      "b'Wrong\\nGuess my public key (give me a number): '\n",
      "b'Wrong\\nGuess my public key (give me a number): '\n",
      "b'Wrong\\nGuess my public key (give me a number): '\n",
      "b'Wrong\\nGuess my public key (give me a number): '\n",
      "b'Wrong\\nGuess my public key (give me a number): '\n",
      "b'Wrong\\nGuess my public key (give me a number): '\n",
      "b'Wrong\\nGuess my public key (give me a number): '\n",
      "b'Wrong\\nGuess my public key (give me a number): '\n",
      "b'Wrong\\nGuess my public key (give me a number): '\n",
      "b'Wrong\\nGuess my public key (give me a number): '\n",
      "b'Wrong\\nGuess my public key (give me a number): '\n",
      "b'Wrong\\nGuess my public key (give me a number): '\n",
      "b'Wrong\\nGuess my public key (give me a number): '\n",
      "b'Wrong\\nGuess my public key (give me a number): '\n",
      "b'Wrong\\nGuess my public key (give me a number): '\n",
      "b'Wrong\\nGuess my public key (give me a number): '\n",
      "b'Wrong\\nGuess my public key (give me a number): '\n",
      "b'Wrong\\nGuess my public key (give me a number): '\n",
      "b'Wrong\\nGuess my public key (give me a number): '\n",
      "b'Wrong\\nGuess my public key (give me a number): '\n",
      "b'Wrong\\nGuess my public key (give me a number): '\n",
      "b'Wrong\\nGuess my public key (give me a number): '\n",
      "b'Wrong\\nGuess my public key (give me a number): '\n",
      "b'Wrong\\nGuess my public key (give me a number): '\n",
      "b'Wrong\\nGuess my public key (give me a number): '\n",
      "b'Wrong\\nGuess my public key (give me a number): '\n",
      "b'Wrong\\nGuess my public key (give me a number): '\n",
      "b'Wrong\\nGuess my public key (give me a number): '\n",
      "b'Wrong\\nGuess my public key (give me a number): '\n",
      "b'Wrong\\nGuess my public key (give me a number): '\n",
      "b'Wrong\\nGuess my public key (give me a number): '\n",
      "b'Wrong\\nGuess my public key (give me a number): '\n",
      "b'Wrong\\nGuess my public key (give me a number): '\n",
      "b'Wrong\\nGuess my public key (give me a number): '\n",
      "b'Wrong\\nGuess my public key (give me a number): '\n",
      "b'Wrong\\nGuess my public key (give me a number): '\n",
      "b'Wrong\\nGuess my public key (give me a number): '\n",
      "b'Wrong\\nGuess my public key (give me a number): '\n",
      "b'Wrong\\nGuess my public key (give me a number): '\n",
      "b'Wrong\\nGuess my public key (give me a number): '\n",
      "b'Wrong\\nGuess my public key (give me a number): '\n",
      "b'Wrong\\nGuess my public key (give me a number): '\n",
      "b'Wrong\\nGuess my public key (give me a number): '\n",
      "b'Wrong\\nGuess my public key (give me a number): '\n",
      "b'Wrong\\nGuess my public key (give me a number): '\n",
      "b'Wrong\\nGuess my public key (give me a number): '\n",
      "b'Wrong\\nGuess my public key (give me a number): '\n",
      "b'Wrong\\nGuess my public key (give me a number): '\n",
      "b'Wrong\\nGuess my public key (give me a number): '\n",
      "b'Wrong\\nGuess my public key (give me a number): '\n",
      "b'Wrong\\nGuess my public key (give me a number): '\n",
      "b'Wrong\\nGuess my public key (give me a number): '\n",
      "b'Wrong\\nGuess my public key (give me a number): '\n",
      "b'Wrong\\nGuess my public key (give me a number): '\n",
      "b'Wrong\\nGuess my public key (give me a number): '\n",
      "b'Wrong\\nGuess my public key (give me a number): '\n"
     ]
    },
    {
     "name": "stdout",
     "output_type": "stream",
     "text": [
      "b'Wrong\\nGuess my public key (give me a number): '\n",
      "b'Wrong\\nGuess my public key (give me a number): '\n",
      "b'Wrong\\nGuess my public key (give me a number): '\n",
      "b'Wrong\\nGuess my public key (give me a number): '\n",
      "b'Wrong\\nGuess my public key (give me a number): '\n",
      "b'Wrong\\nGuess my public key (give me a number): '\n",
      "b'Wrong\\nGuess my public key (give me a number): '\n",
      "b'Wrong\\nGuess my public key (give me a number): '\n",
      "b'Wrong\\nGuess my public key (give me a number): '\n",
      "b'Wrong\\nGuess my public key (give me a number): '\n",
      "b'Wrong\\nGuess my public key (give me a number): '\n",
      "b'Wrong\\nGuess my public key (give me a number): '\n",
      "b'Wrong\\nGuess my public key (give me a number): '\n",
      "b'Wrong\\nGuess my public key (give me a number): '\n",
      "b'Wrong\\nGuess my public key (give me a number): '\n",
      "b'Wrong\\nGuess my public key (give me a number): '\n",
      "b'Wrong\\nGuess my public key (give me a number): '\n",
      "b'Wrong\\nGuess my public key (give me a number): '\n",
      "b'Wrong\\nGuess my public key (give me a number): '\n",
      "b'Wrong\\nGuess my public key (give me a number): '\n",
      "b'Wrong\\nGuess my public key (give me a number): '\n",
      "b'Wrong\\nGuess my public key (give me a number): '\n",
      "b'Wrong\\nGuess my public key (give me a number): '\n",
      "b'Wrong\\nGuess my public key (give me a number): '\n",
      "b'Wrong\\nGuess my public key (give me a number): '\n",
      "b'Wrong\\nGuess my public key (give me a number): '\n",
      "b'Wrong\\nGuess my public key (give me a number): '\n",
      "b'Wrong\\nGuess my public key (give me a number): '\n",
      "b'Wrong\\nGuess my public key (give me a number): '\n",
      "b'Wrong\\nGuess my public key (give me a number): '\n",
      "b'Wrong\\nGuess my public key (give me a number): '\n",
      "b'Wrong\\nGuess my public key (give me a number): '\n",
      "b'Wrong\\nGuess my public key (give me a number): '\n",
      "b'Wrong\\nGuess my public key (give me a number): '\n",
      "b'Wrong\\nGuess my public key (give me a number): '\n",
      "b'Wrong\\nGuess my public key (give me a number): '\n",
      "b'Wrong\\nGuess my public key (give me a number): '\n",
      "b'Wrong\\nGuess my public key (give me a number): '\n",
      "b'Wrong\\nGuess my public key (give me a number): '\n",
      "b'Wrong\\nGuess my public key (give me a number): '\n",
      "b'Wrong\\nGuess my public key (give me a number): '\n",
      "b'Wrong\\nGuess my public key (give me a number): '\n",
      "b'Wrong\\nGuess my public key (give me a number): '\n",
      "b'Wrong\\nGuess my public key (give me a number): '\n",
      "b'Wrong\\nGuess my public key (give me a number): '\n",
      "b'Wrong\\nGuess my public key (give me a number): '\n",
      "b'Wrong\\nGuess my public key (give me a number): '\n",
      "b'Wrong\\nGuess my public key (give me a number): '\n",
      "b'Wrong\\nGuess my public key (give me a number): '\n",
      "b'Wrong\\nGuess my public key (give me a number): '\n",
      "b'Wrong\\nGuess my public key (give me a number): '\n",
      "b'Wrong\\nGuess my public key (give me a number): '\n",
      "b'Wrong\\nGuess my public key (give me a number): '\n",
      "b'Wrong\\nGuess my public key (give me a number): '\n",
      "b'Wrong\\nGuess my public key (give me a number): '\n",
      "b'Wrong\\nGuess my public key (give me a number): '\n",
      "b'Wrong\\nGuess my public key (give me a number): '\n",
      "b'Wrong\\nGuess my public key (give me a number): '\n",
      "b'Wrong\\nGuess my public key (give me a number): '\n",
      "b'Wrong\\nGuess my public key (give me a number): '\n",
      "b'Wrong\\nGuess my public key (give me a number): '\n",
      "b'Wrong\\nGuess my public key (give me a number): '\n",
      "b'Wrong\\nGuess my public key (give me a number): '\n",
      "b'Wrong\\nGuess my public key (give me a number): '\n",
      "b'Wrong\\nGuess my public key (give me a number): '\n",
      "b'Wrong\\nGuess my public key (give me a number): '\n",
      "b'Wrong\\nGuess my public key (give me a number): '\n",
      "b'Wrong\\nGuess my public key (give me a number): '\n",
      "b'Wrong\\nGuess my public key (give me a number): '\n",
      "b'Wrong\\nGuess my public key (give me a number): '\n",
      "b'Wrong\\nGuess my public key (give me a number): '\n",
      "b'Wrong\\nGuess my public key (give me a number): '\n",
      "b'Wrong\\nGuess my public key (give me a number): '\n",
      "b'Wrong\\nGuess my public key (give me a number): '\n",
      "b'Wrong\\nGuess my public key (give me a number): '\n",
      "b'Wrong\\nGuess my public key (give me a number): '\n",
      "b'Wrong\\nGuess my public key (give me a number): '\n",
      "b'Wrong\\nGuess my public key (give me a number): '\n",
      "b'Wrong\\nGuess my public key (give me a number): '\n",
      "b'Wrong\\nGuess my public key (give me a number): '\n",
      "b'Wrong\\nGuess my public key (give me a number): '\n",
      "b'Wrong\\nGuess my public key (give me a number): '\n",
      "b'Wrong\\nGuess my public key (give me a number): '\n",
      "b'Wrong\\nGuess my public key (give me a number): '\n",
      "b'Wrong\\nGuess my public key (give me a number): '\n",
      "b'Wrong\\nGuess my public key (give me a number): '\n",
      "b'Wrong\\nGuess my public key (give me a number): '\n",
      "b'Wrong\\nGuess my public key (give me a number): '\n",
      "b'Wrong\\nGuess my public key (give me a number): '\n",
      "b'Wrong\\nGuess my public key (give me a number): '\n",
      "b'Wrong\\nGuess my public key (give me a number): '\n",
      "b'Wrong\\nGuess my public key (give me a number): '\n",
      "b'Wrong\\nGuess my public key (give me a number): '\n",
      "b'Wrong\\nGuess my public key (give me a number): '\n",
      "b'Wrong\\nGuess my public key (give me a number): '\n",
      "b'Wrong\\nGuess my public key (give me a number): '\n",
      "b'Wrong\\nGuess my public key (give me a number): '\n",
      "b'Wrong\\nGuess my public key (give me a number): '\n",
      "b'Wrong\\nGuess my public key (give me a number): '\n",
      "b'Wrong\\nGuess my public key (give me a number): '\n",
      "b'Wrong\\nGuess my public key (give me a number): '\n",
      "b'Wrong\\nGuess my public key (give me a number): '\n",
      "b'Wrong\\nGuess my public key (give me a number): '\n",
      "b'Wrong\\nGuess my public key (give me a number): '\n",
      "b'Wrong\\nGuess my public key (give me a number): '\n",
      "b'Wrong\\nGuess my public key (give me a number): '\n",
      "b'Wrong\\nGuess my public key (give me a number): '\n",
      "b'Wrong\\nGuess my public key (give me a number): '\n",
      "b'Wrong\\nGuess my public key (give me a number): '\n",
      "b'Wrong\\nGuess my public key (give me a number): '\n",
      "b'Wrong\\nGuess my public key (give me a number): '\n",
      "b'Wrong\\nGuess my public key (give me a number): '\n",
      "b'Wrong\\nGuess my public key (give me a number): '\n",
      "b'Wrong\\nGuess my public key (give me a number): '\n",
      "b'Wrong\\nGuess my public key (give me a number): '\n",
      "b'Wrong\\nGuess my public key (give me a number): '\n",
      "b'Wrong\\nGuess my public key (give me a number): '\n",
      "b'Wrong\\nGuess my public key (give me a number): '\n",
      "b'Wrong\\nGuess my public key (give me a number): '\n",
      "b'Wrong\\nGuess my public key (give me a number): '\n",
      "b'Wrong\\nGuess my public key (give me a number): '\n",
      "b'Wrong\\nGuess my public key (give me a number): '\n",
      "b'Wrong\\nGuess my public key (give me a number): '\n",
      "b'Wrong\\nGuess my public key (give me a number): '\n",
      "b'Wrong\\nGuess my public key (give me a number): '\n",
      "b'Wrong\\nGuess my public key (give me a number): '\n",
      "b'Wrong\\nGuess my public key (give me a number): '\n",
      "b'Wrong\\nGuess my public key (give me a number): '\n",
      "b'Wrong\\nGuess my public key (give me a number): '\n",
      "b'Wrong\\nGuess my public key (give me a number): '\n",
      "b'Wrong\\nGuess my public key (give me a number): '\n",
      "b'Wrong\\nGuess my public key (give me a number): '\n",
      "b'Wrong\\nGuess my public key (give me a number): '\n",
      "b'Wrong\\nGuess my public key (give me a number): '\n",
      "b'Wrong\\nGuess my public key (give me a number): '\n",
      "b'Wrong\\nGuess my public key (give me a number): '\n",
      "b'Wrong\\nGuess my public key (give me a number): '\n",
      "b'Wrong\\nGuess my public key (give me a number): '\n",
      "b'Wrong\\nGuess my public key (give me a number): '\n",
      "b'Wrong\\nGuess my public key (give me a number): '\n",
      "b'Wrong\\nGuess my public key (give me a number): '\n",
      "b'Wrong\\nGuess my public key (give me a number): '\n",
      "b'Wrong\\nGuess my public key (give me a number): '\n",
      "b'Wrong\\nGuess my public key (give me a number): '\n",
      "b'Wrong\\nGuess my public key (give me a number): '\n",
      "b'Wrong\\nGuess my public key (give me a number): '\n",
      "b'Wrong\\nGuess my public key (give me a number): '\n",
      "b'Wrong\\nGuess my public key (give me a number): '\n",
      "b'Wrong\\nGuess my public key (give me a number): '\n",
      "b'Wrong\\nGuess my public key (give me a number): '\n",
      "b'Wrong\\nGuess my public key (give me a number): '\n",
      "b'Wrong\\nGuess my public key (give me a number): '\n",
      "b'Wrong\\nGuess my public key (give me a number): '\n",
      "b'Wrong\\nGuess my public key (give me a number): '\n",
      "b'Wrong\\nGuess my public key (give me a number): '\n",
      "b'Wrong\\nGuess my public key (give me a number): '\n",
      "b'Wrong\\nGuess my public key (give me a number): '\n",
      "b'Wrong\\nGuess my public key (give me a number): '\n",
      "b'Wrong\\nGuess my public key (give me a number): '\n",
      "b'Wrong\\nGuess my public key (give me a number): '\n",
      "b'Wrong\\nGuess my public key (give me a number): '\n"
     ]
    },
    {
     "name": "stdout",
     "output_type": "stream",
     "text": [
      "b'Wrong\\nGuess my public key (give me a number): '\n",
      "b'Wrong\\nGuess my public key (give me a number): '\n",
      "b'Wrong\\nGuess my public key (give me a number): '\n",
      "b'Wrong\\nGuess my public key (give me a number): '\n",
      "b'Wrong\\nGuess my public key (give me a number): '\n",
      "b'Wrong\\nGuess my public key (give me a number): '\n",
      "b'Wrong\\nGuess my public key (give me a number): '\n",
      "b'Wrong\\nGuess my public key (give me a number): '\n",
      "b'Wrong\\nGuess my public key (give me a number): '\n",
      "b'Wrong\\nGuess my public key (give me a number): '\n",
      "b'Wrong\\nGuess my public key (give me a number): '\n",
      "b'Wrong\\nGuess my public key (give me a number): '\n",
      "b'Wrong\\nGuess my public key (give me a number): '\n",
      "b'Wrong\\nGuess my public key (give me a number): '\n",
      "b'Wrong\\nGuess my public key (give me a number): '\n",
      "b'Wrong\\nGuess my public key (give me a number): '\n",
      "b'Wrong\\nGuess my public key (give me a number): '\n",
      "b'Wrong\\nGuess my public key (give me a number): '\n",
      "b'Wrong\\nGuess my public key (give me a number): '\n",
      "b'Wrong\\nGuess my public key (give me a number): '\n",
      "b'Wrong\\nGuess my public key (give me a number): '\n",
      "b'Wrong\\nGuess my public key (give me a number): '\n",
      "b'Wrong\\nGuess my public key (give me a number): '\n",
      "b'Wrong\\nGuess my public key (give me a number): '\n",
      "b'Wrong\\nGuess my public key (give me a number): '\n",
      "b'Wrong\\nGuess my public key (give me a number): '\n",
      "b'Wrong\\nGuess my public key (give me a number): '\n",
      "b'Wrong\\nGuess my public key (give me a number): '\n",
      "b'Wrong\\nGuess my public key (give me a number): '\n"
     ]
    }
   ],
   "source": [
    "d = []\n",
    "while True:\n",
    "    t1 = time.time()\n",
    "    print(r.sendafter(b\"(give me a number): \", b'3'))\n",
    "    \n",
    "    t2 = time.time()\n",
    "    d.append(t2 - t1)"
   ]
  },
  {
   "cell_type": "code",
   "execution_count": 196,
   "id": "57e32656",
   "metadata": {},
   "outputs": [],
   "source": [
    "for i in d[::-1]:\n",
    "    if i > 0.1 and i < 1:\n",
    "        print(i)"
   ]
  },
  {
   "cell_type": "code",
   "execution_count": 140,
   "id": "b89392ad",
   "metadata": {},
   "outputs": [
    {
     "data": {
      "text/plain": [
       "343"
      ]
     },
     "execution_count": 140,
     "metadata": {},
     "output_type": "execute_result"
    }
   ],
   "source": [
    "len(\"1001100110110001100001011001110111101101011001011011110111010101011111011100110011000001101100010101100100010101100100010111110111010001101000001100010101001101011111010000110110100001000001010011000100110001100101010011100110011101100101010111110110010101111000011000110100010101101100011011000100010101001110011101000100110001011001011111010\")"
   ]
  },
  {
   "cell_type": "code",
   "execution_count": 194,
   "id": "6626c275",
   "metadata": {},
   "outputs": [
    {
     "name": "stdout",
     "output_type": "stream",
     "text": [
      "1001100110110001100001011001110111101101011001011011110111010101011111011100110011000001101100010101100100010101100100010111110111010001101000001100010101001101011111010000110110100001000001010011000100110001100101010011100110011101100101010111110110010101111000011000110100010101101100011011000100010101001110011101000100110001011001011111010\n"
     ]
    }
   ],
   "source": [
    "s = \"\"\n",
    "for i in d[::-1]:\n",
    "    if i > 0.3:\n",
    "        s += \"1\"\n",
    "    else:\n",
    "        s += \"0\"\n",
    "print(s)"
   ]
  },
  {
   "cell_type": "code",
   "execution_count": 209,
   "id": "8e8ffe1e",
   "metadata": {},
   "outputs": [
    {
     "data": {
      "text/plain": [
       "14337636555116434721283868263196308025529926834634501532291059746748708500325025888265775984204051143037"
      ]
     },
     "execution_count": 209,
     "metadata": {},
     "output_type": "execute_result"
    }
   ],
   "source": [
    "0b1100110011011000110000101100111011110110101100101101111011101010101111101110011001100000110110001010110010001010110010001011111011101000110100000110001010100110101111101000011011010000100000101001100010011000110010101001110011001110110010101011111011001010111100001100011010001010110110001101100010001010100111001110100010011000101100101111101"
   ]
  },
  {
   "cell_type": "code",
   "execution_count": 210,
   "id": "bd0cb03a",
   "metadata": {},
   "outputs": [
    {
     "data": {
      "text/plain": [
       "'0x666c61677b596f755f73306c5645645f746831535f4368414c4c654e67655f657863456c6c454e744c597d'"
      ]
     },
     "execution_count": 210,
     "metadata": {},
     "output_type": "execute_result"
    }
   ],
   "source": [
    "hex(14337636555116434721283868263196308025529926834634501532291059746748708500325025888265775984204051143037)"
   ]
  },
  {
   "cell_type": "code",
   "execution_count": 211,
   "id": "bcbbc405",
   "metadata": {},
   "outputs": [
    {
     "data": {
      "text/plain": [
       "b'flag{You_s0lVEd_th1S_ChALLeNge_excEllENtLY}'"
      ]
     },
     "execution_count": 211,
     "metadata": {},
     "output_type": "execute_result"
    }
   ],
   "source": [
    "import binascii\n",
    "binascii.unhexlify(\"666c61677b596f755f73306c5645645f746831535f4368414c4c654e67655f657863456c6c454e744c597d\")"
   ]
  },
  {
   "cell_type": "code",
   "execution_count": null,
   "id": "6f0a4e63",
   "metadata": {},
   "outputs": [],
   "source": []
  },
  {
   "cell_type": "code",
   "execution_count": null,
   "id": "14ef5aa7",
   "metadata": {},
   "outputs": [],
   "source": []
  },
  {
   "cell_type": "code",
   "execution_count": null,
   "id": "617cc5a6",
   "metadata": {},
   "outputs": [],
   "source": [
    "# 报错代码\n",
    "while flag_number:\n",
    "    choice = int(self.recv(b\"Guess my public key (give me a number): \").decode())\n",
    "    if flag_number & 1:\n",
    "        p = getStrongPrime(2048)\n",
    "        q = getStrongPrime(2048)\n",
    "    flag_number >> 1"
   ]
  }
 ],
 "metadata": {
  "kernelspec": {
   "display_name": "Python [conda env:.conda-py36] *",
   "language": "python",
   "name": "conda-env-.conda-py36-py"
  },
  "language_info": {
   "codemirror_mode": {
    "name": "ipython",
    "version": 3
   },
   "file_extension": ".py",
   "mimetype": "text/x-python",
   "name": "python",
   "nbconvert_exporter": "python",
   "pygments_lexer": "ipython3",
   "version": "3.6.13"
  }
 },
 "nbformat": 4,
 "nbformat_minor": 5
}
