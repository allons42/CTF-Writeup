{
 "cells": [
  {
   "cell_type": "markdown",
   "id": "3538513e",
   "metadata": {},
   "source": [
    "## flag1"
   ]
  },
  {
   "cell_type": "code",
   "execution_count": 1,
   "id": "9915f8c0",
   "metadata": {},
   "outputs": [],
   "source": [
    "import secrets\n",
    "from random import Random\n",
    "from randcrack import RandCrack\n",
    "import binascii"
   ]
  },
  {
   "cell_type": "code",
   "execution_count": 2,
   "id": "da9ffc84",
   "metadata": {},
   "outputs": [],
   "source": [
    "# 每个字节8bit，每4个字节一次生成\n",
    "# 2500 * 8 ~ 624 * 32 \n",
    "# 624 * 4 = 2496"
   ]
  },
  {
   "cell_type": "code",
   "execution_count": 4,
   "id": "9bd527ba",
   "metadata": {},
   "outputs": [],
   "source": [
    "s = \"d3d6e04e755688e3f9a39d238d0d291aaa006558b6fe6f4fb18ef2c20130e523286e37460bf5bd68949b61a8cdad837d838c119c26bb91b8328f27c672d63aa57954cc2e93ad850fc8ec978148714f641e34531361b86f1952de1fd371865fcf760f25f3712a34f55416d1386c43d69c623e8ce82df1f8d3e26a031e6b301e1067914dfb29eac186e10a172e65ab464ea0d89a9702b7941f577b0380440e1b716a6605568218628e151a59798152382b33bbfc49e7d7e561a6af9b9a76cb94b35d6f43bbdc1d4419d5ae78b34a6034b4a845bd1c4cc8394c087f20b9902bf311aee5ec5034dc8d57549a7d5f9dadbeb084c366ed5d9f2e0732f25e788df167814bbcbf69981a88d2b0fcfa21fa70eff6c5761f36cb63bfb66cab53337e3003824159ddde39465caa673fccd532e37858298f7ecd7884334bf53c09da3b63fd1191acdd7f57c94337ef08ec469a5b93a35e1904eb399b679507693585f2d15006da7838e70ec795b471246f8e4e4f41e89f6de868364f8c2ab4ff0fa92350d0f16d71260278162ea1f35ba869974c68113f6fbdbd7de4764c9ce7b5e62f7933ed64c75194de0cce8ea9a78115de44fc540a2887dd44343fa3d328c3ee3f09459eb5095fe20a0590dc3b9baf9b1ef9be687e18b4d4976a1df83278351b72f1659eac14c6ec504717e42c510d70745a51d47e5f4e01417571e4eee4ff917ec6e03ab20e982e000c62f3a578b8568482f239d41200096fcd2778ad24d12bc0bfa715411f448efe643724a8e15820c5891c22528c5b7d54fb8c78778243e3aeddcf996f4723f6670541c32e3090aaf0dd682db3855eeffb905be018b9835aea0013c743bf219cc7bc357df0be1c655580eb2d745de6a76fc115bbd4a720436ac1c3143fe387f593d18a145c63753759bd7b5d9e4bba6febb7ab10ad87832d2746bd6015316c384af5216377daa4618152f66b0e517532c8bacdfb26532e893f19ad0090e507100336b364fbf552f8982284a708db5fc093eeea5d0d4d67810b0840b03562465491c2aa5551ea2e97c2ee63b21781a207be07e0e4bd1928e48eb5c356c62fe7dd04f48814d7b1acb8510d557205b9082f2f78b8bd14ff8b7eb46839176376b5436918f368c11590ac293cf89658e3539c324328109e0ba3c4752d2356661706b0289aabae8048cc7e3e3d373afa269395f6aa1f36befdad6ae85a47cbe1a0a474c4ebc7d93e8d317965fd24343229f81a35237491648f984e6e5f7e82343893c6c2bccb65bd33a5e8cf7ed9a82c416268f602971d4eaf4e26d738d943bd86fb90090cf9f5ecfb9b7e50657a95abd779898f9c7a568efdde69cf4b7c44a5b58616ddb462b4411f5ad3806f1324c4b5793c54cc9894d132548a00f29e928e1605bc505182c8b5dddcaf43cc5d21295cff54f417fbbe27fddbcdee744aca1a42070cfe917613cc875ee8ecbdd298cba17e8f1493a511e548f25a3955df5796fc2760419bd08d26d07e2076cb49b14db0b505bae3ba30915a78d111428fc1425e1b2d7dbdd768510b754d3c2bea543d31bdaeb7226b32758a27abc4c730a02f933f41168250ca1db69575eab439d61352533b687b15724d3c4fb6810c8479f99abacc4b4a11843ccdf1584efa06a6bcaf4894faea8faa45fa633a7bc2b643b71f1a21b771818db7be6fbc1193d3b303de1c9d054eed3aa82fa5b01ffb33c72a84bd0d998914db825d542072a1a3e839138461de75c7eeeccf6b4e20bae6a24498b9a59a2904a61e43c13b37d7df133d20f38c990270e8e0bd829be9e9aba29cacdc2084d428da6de3a4ee766e5785cfcffa2ed5b24b481ea04054ce42041301a80692a51c9a151ceeef57453d6e297e41ce03a599db1b56a7c0b479d1fd6f9706cf479f0baa16407087cab444bff9e3408f205b5c11160681ae0b7d91ece14a5dd51b28caacf6ffd4c1aa293bb2231817cbd4f70b4c7a1f4f31d489b692e072e3a25c6a8067d26371e3ed0ee30d4236ac0225060504dfef3688292dec3f3776b88eccf08225b2a67d6ce6b9facd46d8ee3e7b2b87fe1015225760a9cb45e03ec6d17589d6b059f72fd19af9fb5cb7c922b6698ca0d60690ab72d61b1b0711b423cbed409338bdab0d0ce07974ddcf06ff53b5271c54e8902b593999573460c179107f05c32739d7a9ed10e48a0b4697ac999e4cdea4c6fd18086f067404f836f2f391c6d1cc5174276ef63ce0ffa16e2304e1a8224c67cbd8818d84404c27c9c4a832bdfe391c0fdeca8b97748d149eec96a6d38eda0fdb177a483d336c2e9597a5d325b53297049e3e83b27a15a9812303954ac0cb666bc1034497f0bfe2a4e2084efbee7a64e996773d435a2c59dd722deb362918e4344a118660b3d17f22f1b1cf2540ce75e1ca416a2b6725243008fd5db652940256210e4a4ec974e2aa4fc1e4aa499cdacc9dd5e0f997316e797100022c7ff7837e213f1834c2b8188720e11d59300c08e4916097e304d7fae724026b13a282bfab4de04349df6a81e556765195951f39b34e80fd9331b1c11d0cbadecc7386c18d70f20ea312b31d36124954cf05e1e0f7cbdfe32c6a2dbe615c22bfff79e5e09af5c93befd089c80608691effbc9dad9c54829d559a4c1d9d5f9d8ff161e8ffbced2bc6df16a6d4c5b753037a0fa4bbc3186594419b885eb15ed93bd364010c10967f2c402fedd0f4491fc1ebd5647a0c822b7e3afa8cbfb22f7a4ebf27b40fb9671e2a5e2571c3967b09c762cbfa324dab7dc20ec964fa292348b53c8e8a9a709ad7b897d601cfd309b13246d9c6b454ccb6b626d6d8d5c81e8f14293b8fa13d6704e41f3b165f85b5f295457752dd2b4b5eb592d1fd11a1764c7567e4fda9d4e0b7979e61580ba772a0af3c5fa984f25bbb3f6248b05796435139805dd0b06e1ef356fee906f0ea3cfba795441a9215f1ca7882dbea9aca7347d0a0bf2f864f91fabfd830ee5b5eda51260a4861ea31d36429f4ff7cd3129aef18c22416c06903ddb7f0f8ba9bd134d6037391b5ea00a527f0a5d8826d2bdd82ba707345a5007efda97d90acfc8d6d065f001ac6033c71a72353f5ac88e836a89df34373e38622b51409b1587c32f4ae84e84038cbc28f32afb355f4d3ba3ecef8980d3c9128ae42c1ba6a140af8fbeb68e07d29ed6b8b1a0c68fb821d512afd2ec96230eb40e9f5fe519ab54bb52558408046d1bd2222e0af290ce593e46fdf5618aefab3b678c8195813ec96bb437c1cb064a6cd1aca993fdec1aebb8c8d0481ec84d7358b998aa28525d6da305c47f71c2832a91cde4d75a7239c37d3a576945665bd5687d753fb07d4f93e347b442f365ce47e122736dddd975fd0298de77cc64f04aefcd50e65b787c903bea786d051aca5bf85c5cd8a8ba0ade6823bf97021ae5c4682ca587a429fabd09d9f6f8f5d1b7dc52c0252c22399a57e0e7e9918b41ad1e58b64fa8965664ce0d33d2ee814171f1288d4ed01513cb1f16f2888ee149ba687c273242c1d2a1cade1d4602166d0d66c2fec62030fb20c3c11f8ede52f1bad11e459b3583980f56ab7\""
   ]
  },
  {
   "cell_type": "code",
   "execution_count": 61,
   "id": "02458c39",
   "metadata": {},
   "outputs": [
    {
     "data": {
      "text/plain": [
       "5058"
      ]
     },
     "execution_count": 61,
     "metadata": {},
     "output_type": "execute_result"
    }
   ],
   "source": [
    "n = len(s)\n",
    "n"
   ]
  },
  {
   "cell_type": "code",
   "execution_count": 89,
   "id": "0491a3e7",
   "metadata": {},
   "outputs": [],
   "source": [
    "l = []\n",
    "for i in range(n//8):\n",
    "    x = int(s[8*i+6:8*i+8], 16)\n",
    "    x = (x << 8) + int(s[8*i+4:8*i+6], 16)\n",
    "    x = (x << 8) + int(s[8*i+2:8*i+4], 16)\n",
    "    x = (x << 8) + int(s[8*i:8*i+2], 16)\n",
    "    \n",
    "    l.append(x)"
   ]
  },
  {
   "cell_type": "code",
   "execution_count": 105,
   "id": "e0c8e13a",
   "metadata": {},
   "outputs": [],
   "source": [
    "arr = l[:624]\n",
    "\n",
    "rc = RandCrack()                            \n",
    "for i in arr:\n",
    "    rc.submit(i)                            "
   ]
  },
  {
   "cell_type": "code",
   "execution_count": 107,
   "id": "68780bb4",
   "metadata": {},
   "outputs": [
    {
     "data": {
      "text/plain": [
       "559994081"
      ]
     },
     "execution_count": 107,
     "metadata": {},
     "output_type": "execute_result"
    }
   ],
   "source": [
    "flag = rc.predict_getrandbits(32)\n",
    "flag"
   ]
  },
  {
   "cell_type": "code",
   "execution_count": 108,
   "id": "62624e4a",
   "metadata": {},
   "outputs": [
    {
     "data": {
      "text/plain": [
       "[559994081, 1826017382, 56814639, 1007464975, 3857578001, 296557359]"
      ]
     },
     "execution_count": 108,
     "metadata": {},
     "output_type": "execute_result"
    }
   ],
   "source": [
    "l[624:630]"
   ]
  },
  {
   "cell_type": "code",
   "execution_count": 109,
   "id": "ef19a06b",
   "metadata": {},
   "outputs": [],
   "source": [
    "res = \"\"\n",
    "for x in l[625:]:\n",
    "    f = rc.predict_getrandbits(32) ^ x\n",
    "    s = hex(f)[2:]\n",
    "    res += chr(int(s[6:8], 16)) + chr(int(s[4:6], 16)) + chr(int(s[2:4], 16)) + chr(int(s[0:2], 16))"
   ]
  },
  {
   "cell_type": "code",
   "execution_count": 110,
   "id": "218d12ce",
   "metadata": {},
   "outputs": [
    {
     "data": {
      "text/plain": [
       "'flag{RaNd0m_1s_Ez_2_PRed1cT}'"
      ]
     },
     "execution_count": 110,
     "metadata": {},
     "output_type": "execute_result"
    }
   ],
   "source": [
    "res"
   ]
  },
  {
   "cell_type": "markdown",
   "id": "a4ae0862",
   "metadata": {},
   "source": [
    "## flag2"
   ]
  },
  {
   "cell_type": "code",
   "execution_count": 5,
   "id": "1708795e",
   "metadata": {},
   "outputs": [],
   "source": [
    "seed1 = 0xe9794381f0c00e5dff1c121b2a5992b1c842202969747e308cbc835121403285\n",
    "seed2 = 0x123"
   ]
  },
  {
   "cell_type": "code",
   "execution_count": 6,
   "id": "81449691",
   "metadata": {},
   "outputs": [],
   "source": [
    "def xor_arrays(a, b, *args):\n",
    "    if args:\n",
    "        return xor_arrays(a, xor_arrays(b, *args))\n",
    "    return bytes([x ^ y for x, y in zip(a, b)])"
   ]
  },
  {
   "cell_type": "code",
   "execution_count": 14,
   "id": "448e41ae",
   "metadata": {},
   "outputs": [],
   "source": [
    "void1 = Random(seed1)\n",
    "void2 = Random(seed2)\n",
    "void3 = Random(42)\n",
    "words = b'\\0' * 2500 + b\"flag{whatisthisqqqqqqqqqqqqq}\"\n",
    "n = len(words)\n",
    "\n",
    "entropy = 0\n",
    "void1.randbytes(entropy)\n",
    "void2.randbytes(entropy)\n",
    "\n",
    "ra1 = void1.randbytes(n)\n",
    "ra2 = void2.randbytes(n)\n",
    "ra3 = void3.randbytes(n)\n",
    "\n",
    "s = xor_arrays(words, ra1, ra2, ra3).hex()"
   ]
  },
  {
   "cell_type": "code",
   "execution_count": 15,
   "id": "c09cffe3",
   "metadata": {},
   "outputs": [],
   "source": [
    "void1 = Random(seed1)\n",
    "void2 = Random(seed2)\n",
    "entropy = 0\n",
    "void1.randbytes(entropy)\n",
    "void2.randbytes(entropy)\n",
    "\n",
    "ra1 = void1.randbytes(n)\n",
    "ra2 = void2.randbytes(n)\n",
    "\n",
    "bs = binascii.unhexlify(s)\n",
    "dat = xor_arrays(bs, ra1, ra2)\n",
    "dat = dat.hex()\n"
   ]
  },
  {
   "cell_type": "code",
   "execution_count": 16,
   "id": "cdb46105",
   "metadata": {},
   "outputs": [
    {
     "data": {
      "text/plain": [
       "True"
      ]
     },
     "execution_count": 16,
     "metadata": {},
     "output_type": "execute_result"
    }
   ],
   "source": [
    "dat == xor_arrays(words, ra3).hex()"
   ]
  },
  {
   "cell_type": "code",
   "execution_count": 17,
   "id": "2d40fdb6",
   "metadata": {},
   "outputs": [],
   "source": [
    "n = len(bs)\n",
    "l = []\n",
    "s = dat\n",
    "for i in range(n//4):\n",
    "    x = int(s[8*i+6:8*i+8], 16)\n",
    "    x = (x << 8) + int(s[8*i+4:8*i+6], 16)\n",
    "    x = (x << 8) + int(s[8*i+2:8*i+4], 16)\n",
    "    x = (x << 8) + int(s[8*i:8*i+2], 16)\n",
    "    \n",
    "    l.append(x)"
   ]
  },
  {
   "cell_type": "code",
   "execution_count": 18,
   "id": "382cd655",
   "metadata": {},
   "outputs": [],
   "source": [
    "arr = l[:624]\n",
    "\n",
    "rc = RandCrack()                            \n",
    "for i in arr:\n",
    "    rc.submit(i)"
   ]
  },
  {
   "cell_type": "code",
   "execution_count": 19,
   "id": "7372a43e",
   "metadata": {},
   "outputs": [
    {
     "data": {
      "text/plain": [
       "(1071722055, 1071722055)"
      ]
     },
     "execution_count": 19,
     "metadata": {},
     "output_type": "execute_result"
    }
   ],
   "source": [
    "rc.predict_getrandbits(32), l[624]"
   ]
  },
  {
   "cell_type": "code",
   "execution_count": 20,
   "id": "6cbb455a",
   "metadata": {},
   "outputs": [],
   "source": [
    "def test(s,entropy):\n",
    "    void1 = Random(seed1)\n",
    "    void2 = Random(seed2)\n",
    "    \n",
    "    void1.randbytes(entropy)\n",
    "    void2.randbytes(entropy)\n",
    "\n",
    "    bs = binascii.unhexlify(s)\n",
    "    n = len(bs)\n",
    "    \n",
    "    ra1 = void1.randbytes(n)\n",
    "    ra2 = void2.randbytes(n)\n",
    "    \n",
    "    dat = xor_arrays(bs, ra1, ra2)\n",
    "    dat = dat.hex()\n",
    "    \n",
    "    l = []\n",
    "    for i in range(n//4):\n",
    "        x = int(dat[8*i+6:8*i+8], 16)\n",
    "        x = (x << 8) + int(dat[8*i+4:8*i+6], 16)\n",
    "        x = (x << 8) + int(dat[8*i+2:8*i+4], 16)\n",
    "        x = (x << 8) + int(dat[8*i:8*i+2], 16)\n",
    "\n",
    "        l.append(x)\n",
    "    \n",
    "    arr = l[:624]\n",
    "    rc = RandCrack()                            \n",
    "    for i in arr:\n",
    "        rc.submit(i)                            \n",
    "\n",
    "    if rc.predict_getrandbits(32) == l[624]:\n",
    "        print(entropy)\n",
    "        res = \"\"\n",
    "        for x in l[625:]:\n",
    "            f = rc.predict_getrandbits(32) ^ x\n",
    "            s = hex(f)[2:]\n",
    "            res += chr(int(s[6:8], 16)) + chr(int(s[4:6], 16)) + chr(int(s[2:4], 16)) + chr(int(s[0:2], 16))\n",
    "        print(res)\n",
    "        return entropy\n",
    "    else:\n",
    "        return None"
   ]
  },
  {
   "cell_type": "code",
   "execution_count": 21,
   "id": "293d70c0",
   "metadata": {},
   "outputs": [
    {
     "name": "stdout",
     "output_type": "stream",
     "text": [
      "0\n",
      "flag{whatisthisqqqqqqqqqqqqq\n"
     ]
    },
    {
     "data": {
      "text/plain": [
       "0"
      ]
     },
     "execution_count": 21,
     "metadata": {},
     "output_type": "execute_result"
    }
   ],
   "source": [
    "test(s,0)"
   ]
  },
  {
   "cell_type": "code",
   "execution_count": 25,
   "id": "93c1ef8d",
   "metadata": {},
   "outputs": [],
   "source": [
    "s = \"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\""
   ]
  },
  {
   "cell_type": "code",
   "execution_count": 33,
   "id": "a126d8ca",
   "metadata": {},
   "outputs": [
    {
     "name": "stdout",
     "output_type": "stream",
     "text": [
      "0\n",
      "flag{cRAft1NG_sEEd_can_b3_fuUun}\n"
     ]
    },
    {
     "data": {
      "text/plain": [
       "0"
      ]
     },
     "execution_count": 33,
     "metadata": {},
     "output_type": "execute_result"
    }
   ],
   "source": [
    "test(s,0)"
   ]
  },
  {
   "cell_type": "code",
   "execution_count": null,
   "id": "0a5d044e",
   "metadata": {},
   "outputs": [],
   "source": []
  },
  {
   "cell_type": "code",
   "execution_count": null,
   "id": "7825e936",
   "metadata": {},
   "outputs": [],
   "source": [
    "from tqdm import tqdm\n",
    "from multiprocessing import Pool\n",
    "\n",
    "\n",
    "n_proc = 80\n",
    "pool = Pool(n_proc) # 进程池数量上限\n",
    "pool_res = []\n",
    "\n",
    "for entropy in tqdm(range(1 << 22)):\n",
    "    pool_res.append(pool.apply_async(func=test, args=(s,entropy)))\n",
    "        \n",
    "        \n",
    "pool.close()\n",
    "pool.join() "
   ]
  }
 ],
 "metadata": {
  "kernelspec": {
   "display_name": "Python [conda env:.conda-py39]",
   "language": "python",
   "name": "conda-env-.conda-py39-py"
  },
  "language_info": {
   "codemirror_mode": {
    "name": "ipython",
    "version": 3
   },
   "file_extension": ".py",
   "mimetype": "text/x-python",
   "name": "python",
   "nbconvert_exporter": "python",
   "pygments_lexer": "ipython3",
   "version": "3.9.18"
  }
 },
 "nbformat": 4,
 "nbformat_minor": 5
}
