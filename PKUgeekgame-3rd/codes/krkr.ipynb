{
 "cells": [
  {
   "cell_type": "code",
   "execution_count": 11,
   "id": "57ae21a6",
   "metadata": {},
   "outputs": [],
   "source": [
    "s = \"\"\"[\n",
    " \"trail_round1_sel_i\" => int 1,\n",
    " \"trail_func_init\" => int 3,\n",
    " \"trail_round1_round_1\" => int 1,\n",
    " \"trail_autolabel_autoLabelLabel\" => int 18,\n",
    " \"trail_round1_sel_fin\" => int 1,\n",
    " \"trail_round1_sel_a\" => int 6,\n",
    " \"trail_first_start\" => int 1,\n",
    " \"trail_round1_sel_loop\" => int 18,\n",
    " \"trail_round1_sel_end\" => int 17,\n",
    " \"trail_round1_sel_e\" => int 3,\n",
    " \"trail_round1_sel_o\" => int 6,\n",
    "]\"\"\""
   ]
  },
  {
   "cell_type": "code",
   "execution_count": 12,
   "id": "a13b48ba",
   "metadata": {},
   "outputs": [],
   "source": [
    "d = {\"A\": 6, \"E\": 3, \"I\": 1, \"O\":6, \"U\":0}"
   ]
  },
  {
   "cell_type": "code",
   "execution_count": 13,
   "id": "17a9c451",
   "metadata": {},
   "outputs": [],
   "source": [
    "def hashing(s):\n",
    "    h = 1337\n",
    "    for i in s:\n",
    "        if i == \"A\":\n",
    "            h = h * 13337 + 11\n",
    "        elif i == \"E\":\n",
    "            h = h * 13337 + 22\n",
    "        elif i == \"I\":\n",
    "            h = h * 13337 + 33\n",
    "        elif i == \"O\":\n",
    "            h = h * 13337 + 44\n",
    "        else:\n",
    "            h = h * 13337 + 55\n",
    "        h = h % 19260817\n",
    "    h = (h * 13337 + 66) % 19260817\n",
    "    return h\n",
    "            "
   ]
  },
  {
   "cell_type": "code",
   "execution_count": 14,
   "id": "a4e6c3fe",
   "metadata": {},
   "outputs": [
    {
     "data": {
      "text/plain": [
       "6624513"
      ]
     },
     "execution_count": 14,
     "metadata": {},
     "output_type": "execute_result"
    }
   ],
   "source": [
    "hashing(\"AEIOU\")"
   ]
  },
  {
   "cell_type": "code",
   "execution_count": 15,
   "id": "46607059",
   "metadata": {},
   "outputs": [],
   "source": [
    "def enum(s, d):\n",
    "    if len(s) == 16:\n",
    "        if hashing(s) == 7748521:\n",
    "            print(s)\n",
    "            return\n",
    "    \n",
    "    for k,v in d.items():\n",
    "        if v > 0:\n",
    "            tmp = {k:v for k,v in d.items()}\n",
    "            tmp[k] = v - 1\n",
    "            enum(s+k, tmp)\n",
    "    "
   ]
  },
  {
   "cell_type": "code",
   "execution_count": 16,
   "id": "de33ae0c",
   "metadata": {},
   "outputs": [
    {
     "name": "stdout",
     "output_type": "stream",
     "text": [
      "OOAAAAEAEIEAOOOO\n"
     ]
    }
   ],
   "source": [
    "enum(\"\", d)"
   ]
  }
 ],
 "metadata": {
  "kernelspec": {
   "display_name": "Python [conda env:.conda-hjh]",
   "language": "python",
   "name": "conda-env-.conda-hjh-py"
  },
  "language_info": {
   "codemirror_mode": {
    "name": "ipython",
    "version": 3
   },
   "file_extension": ".py",
   "mimetype": "text/x-python",
   "name": "python",
   "nbconvert_exporter": "python",
   "pygments_lexer": "ipython3",
   "version": "3.8.10"
  }
 },
 "nbformat": 4,
 "nbformat_minor": 5
}
