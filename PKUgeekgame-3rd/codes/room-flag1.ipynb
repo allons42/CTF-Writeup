{
 "cells": [
  {
   "cell_type": "code",
   "execution_count": 3,
   "id": "aa08f6fd",
   "metadata": {},
   "outputs": [],
   "source": [
    "import pandas as pd"
   ]
  },
  {
   "cell_type": "code",
   "execution_count": 4,
   "id": "148c5d8c",
   "metadata": {},
   "outputs": [],
   "source": [
    "df = pd.read_csv(\"map.txt\", sep=\"#\", header=None)"
   ]
  },
  {
   "cell_type": "code",
   "execution_count": 5,
   "id": "9a23eeae",
   "metadata": {},
   "outputs": [
    {
     "data": {
      "text/html": [
       "<div>\n",
       "<style scoped>\n",
       "    .dataframe tbody tr th:only-of-type {\n",
       "        vertical-align: middle;\n",
       "    }\n",
       "\n",
       "    .dataframe tbody tr th {\n",
       "        vertical-align: top;\n",
       "    }\n",
       "\n",
       "    .dataframe thead th {\n",
       "        text-align: right;\n",
       "    }\n",
       "</style>\n",
       "<table border=\"1\" class=\"dataframe\">\n",
       "  <thead>\n",
       "    <tr style=\"text-align: right;\">\n",
       "      <th></th>\n",
       "      <th>0</th>\n",
       "      <th>1</th>\n",
       "      <th>2</th>\n",
       "      <th>3</th>\n",
       "      <th>4</th>\n",
       "      <th>5</th>\n",
       "      <th>6</th>\n",
       "      <th>7</th>\n",
       "    </tr>\n",
       "  </thead>\n",
       "  <tbody>\n",
       "    <tr>\n",
       "      <th>0</th>\n",
       "      <td>NaN</td>\n",
       "      <td>Front_Door</td>\n",
       "      <td>NaN</td>\n",
       "      <td>NaN</td>\n",
       "      <td>NaN</td>\n",
       "      <td>NaN</td>\n",
       "      <td>NaN</td>\n",
       "      <td>NaN</td>\n",
       "    </tr>\n",
       "    <tr>\n",
       "      <th>1</th>\n",
       "      <td>NaN</td>\n",
       "      <td>Locked_Door2</td>\n",
       "      <td>Hallway</td>\n",
       "      <td>Hallway</td>\n",
       "      <td>Bad_Room</td>\n",
       "      <td>NaN</td>\n",
       "      <td>NaN</td>\n",
       "      <td>NaN</td>\n",
       "    </tr>\n",
       "    <tr>\n",
       "      <th>2</th>\n",
       "      <td>NaN</td>\n",
       "      <td>NaN</td>\n",
       "      <td>NaN</td>\n",
       "      <td>Hallway</td>\n",
       "      <td>NaN</td>\n",
       "      <td>NaN</td>\n",
       "      <td>NaN</td>\n",
       "      <td>NaN</td>\n",
       "    </tr>\n",
       "    <tr>\n",
       "      <th>3</th>\n",
       "      <td>NaN</td>\n",
       "      <td>NaN</td>\n",
       "      <td>NaN</td>\n",
       "      <td>Dark_Room</td>\n",
       "      <td>Hallway</td>\n",
       "      <td>Hallway</td>\n",
       "      <td>Lootway</td>\n",
       "      <td>NaN</td>\n",
       "    </tr>\n",
       "    <tr>\n",
       "      <th>4</th>\n",
       "      <td>NaN</td>\n",
       "      <td>NaN</td>\n",
       "      <td>Good_Choice</td>\n",
       "      <td>NaN</td>\n",
       "      <td>NaN</td>\n",
       "      <td>Locked_Door1</td>\n",
       "      <td>NaN</td>\n",
       "      <td>NaN</td>\n",
       "    </tr>\n",
       "    <tr>\n",
       "      <th>5</th>\n",
       "      <td>NaN</td>\n",
       "      <td>NaN</td>\n",
       "      <td>Choice_Room</td>\n",
       "      <td>Hallway</td>\n",
       "      <td>Hallway</td>\n",
       "      <td>Hallway</td>\n",
       "      <td>NaN</td>\n",
       "      <td>NaN</td>\n",
       "    </tr>\n",
       "    <tr>\n",
       "      <th>6</th>\n",
       "      <td>NaN</td>\n",
       "      <td>NaN</td>\n",
       "      <td>Bad_Choice</td>\n",
       "      <td>NaN</td>\n",
       "      <td>NaN</td>\n",
       "      <td>Loot_Dirty</td>\n",
       "      <td>NaN</td>\n",
       "      <td>NaN</td>\n",
       "    </tr>\n",
       "  </tbody>\n",
       "</table>\n",
       "</div>"
      ],
      "text/plain": [
       "    0             1            2          3         4             5        6  \\\n",
       "0 NaN    Front_Door          NaN        NaN       NaN           NaN      NaN   \n",
       "1 NaN  Locked_Door2      Hallway    Hallway  Bad_Room           NaN      NaN   \n",
       "2 NaN           NaN          NaN    Hallway       NaN           NaN      NaN   \n",
       "3 NaN           NaN          NaN  Dark_Room   Hallway       Hallway  Lootway   \n",
       "4 NaN           NaN  Good_Choice        NaN       NaN  Locked_Door1      NaN   \n",
       "5 NaN           NaN  Choice_Room    Hallway   Hallway       Hallway      NaN   \n",
       "6 NaN           NaN   Bad_Choice        NaN       NaN    Loot_Dirty      NaN   \n",
       "\n",
       "    7  \n",
       "0 NaN  \n",
       "1 NaN  \n",
       "2 NaN  \n",
       "3 NaN  \n",
       "4 NaN  \n",
       "5 NaN  \n",
       "6 NaN  "
      ]
     },
     "execution_count": 5,
     "metadata": {},
     "output_type": "execute_result"
    }
   ],
   "source": [
    "df"
   ]
  },
  {
   "cell_type": "code",
   "execution_count": 1,
   "id": "af87ec64",
   "metadata": {
    "scrolled": true
   },
   "outputs": [
    {
     "name": "stderr",
     "output_type": "stream",
     "text": [
      "\r",
      "  0%|          | 0/1000 [00:00<?, ?it/s]"
     ]
    },
    {
     "name": "stdout",
     "output_type": "stream",
     "text": [
      "[x] Opening connection to prob16.geekgame.pku.edu.cn on port 10016\n",
      "[x] Opening connection to prob16.geekgame.pku.edu.cn on port 10016: Trying 115.27.246.20\n",
      "[+] Opening connection to prob16.geekgame.pku.edu.cn on port 10016: Done\n"
     ]
    },
    {
     "name": "stderr",
     "output_type": "stream",
     "text": [
      "\r",
      "  0%|          | 1/1000 [00:03<1:04:46,  3.89s/it]"
     ]
    },
    {
     "name": "stdout",
     "output_type": "stream",
     "text": [
      "95\n",
      "[x] Opening connection to prob16.geekgame.pku.edu.cn on port 10016\n",
      "[x] Opening connection to prob16.geekgame.pku.edu.cn on port 10016: Trying 115.27.246.20\n",
      "[+] Opening connection to prob16.geekgame.pku.edu.cn on port 10016: Done\n"
     ]
    },
    {
     "name": "stderr",
     "output_type": "stream",
     "text": [
      "\r",
      "  0%|          | 2/1000 [00:08<1:08:07,  4.10s/it]"
     ]
    },
    {
     "name": "stdout",
     "output_type": "stream",
     "text": [
      "55\n",
      "[x] Opening connection to prob16.geekgame.pku.edu.cn on port 10016\n",
      "[x] Opening connection to prob16.geekgame.pku.edu.cn on port 10016: Trying 115.27.246.20\n",
      "[+] Opening connection to prob16.geekgame.pku.edu.cn on port 10016: Done\n"
     ]
    },
    {
     "name": "stderr",
     "output_type": "stream",
     "text": [
      "\r",
      "  0%|          | 3/1000 [00:11<1:04:45,  3.90s/it]"
     ]
    },
    {
     "name": "stdout",
     "output_type": "stream",
     "text": [
      "55\n",
      "[x] Opening connection to prob16.geekgame.pku.edu.cn on port 10016\n",
      "[x] Opening connection to prob16.geekgame.pku.edu.cn on port 10016: Trying 115.27.246.20\n",
      "[+] Opening connection to prob16.geekgame.pku.edu.cn on port 10016: Done\n"
     ]
    },
    {
     "name": "stderr",
     "output_type": "stream",
     "text": [
      "\r",
      "  0%|          | 4/1000 [00:15<1:03:11,  3.81s/it]"
     ]
    },
    {
     "name": "stdout",
     "output_type": "stream",
     "text": [
      "35\n",
      "[x] Opening connection to prob16.geekgame.pku.edu.cn on port 10016\n",
      "[x] Opening connection to prob16.geekgame.pku.edu.cn on port 10016: Trying 115.27.246.20\n",
      "[+] Opening connection to prob16.geekgame.pku.edu.cn on port 10016: Done\n"
     ]
    },
    {
     "name": "stderr",
     "output_type": "stream",
     "text": [
      "\r",
      "  0%|          | 5/1000 [00:19<1:02:19,  3.76s/it]"
     ]
    },
    {
     "name": "stdout",
     "output_type": "stream",
     "text": [
      "[x] Opening connection to prob16.geekgame.pku.edu.cn on port 10016\n",
      "[x] Opening connection to prob16.geekgame.pku.edu.cn on port 10016: Trying 115.27.246.20\n",
      "[+] Opening connection to prob16.geekgame.pku.edu.cn on port 10016: Done\n"
     ]
    },
    {
     "name": "stderr",
     "output_type": "stream",
     "text": [
      "\r",
      "  1%|          | 6/1000 [00:22<1:01:34,  3.72s/it]"
     ]
    },
    {
     "name": "stdout",
     "output_type": "stream",
     "text": [
      "65\n",
      "[x] Opening connection to prob16.geekgame.pku.edu.cn on port 10016\n",
      "[x] Opening connection to prob16.geekgame.pku.edu.cn on port 10016: Trying 115.27.246.20\n",
      "[+] Opening connection to prob16.geekgame.pku.edu.cn on port 10016: Done\n"
     ]
    },
    {
     "name": "stderr",
     "output_type": "stream",
     "text": [
      "\r",
      "  1%|          | 7/1000 [00:26<1:01:34,  3.72s/it]"
     ]
    },
    {
     "name": "stdout",
     "output_type": "stream",
     "text": [
      "[x] Opening connection to prob16.geekgame.pku.edu.cn on port 10016\n",
      "[x] Opening connection to prob16.geekgame.pku.edu.cn on port 10016: Trying 115.27.246.20\n",
      "[+] Opening connection to prob16.geekgame.pku.edu.cn on port 10016: Done\n"
     ]
    },
    {
     "name": "stderr",
     "output_type": "stream",
     "text": [
      "\r",
      "  1%|          | 8/1000 [00:30<1:04:59,  3.93s/it]"
     ]
    },
    {
     "name": "stdout",
     "output_type": "stream",
     "text": [
      "[x] Opening connection to prob16.geekgame.pku.edu.cn on port 10016\n",
      "[x] Opening connection to prob16.geekgame.pku.edu.cn on port 10016: Trying 115.27.246.20\n",
      "[+] Opening connection to prob16.geekgame.pku.edu.cn on port 10016: Done\n"
     ]
    },
    {
     "name": "stderr",
     "output_type": "stream",
     "text": [
      "\r",
      "  1%|          | 9/1000 [00:34<1:04:07,  3.88s/it]"
     ]
    },
    {
     "name": "stdout",
     "output_type": "stream",
     "text": [
      "55\n",
      "[x] Opening connection to prob16.geekgame.pku.edu.cn on port 10016\n",
      "[x] Opening connection to prob16.geekgame.pku.edu.cn on port 10016: Trying 115.27.246.20\n",
      "[+] Opening connection to prob16.geekgame.pku.edu.cn on port 10016: Done\n"
     ]
    },
    {
     "name": "stderr",
     "output_type": "stream",
     "text": [
      "\r",
      "  1%|          | 10/1000 [00:38<1:02:44,  3.80s/it]"
     ]
    },
    {
     "name": "stdout",
     "output_type": "stream",
     "text": [
      "55\n",
      "[x] Opening connection to prob16.geekgame.pku.edu.cn on port 10016\n",
      "[x] Opening connection to prob16.geekgame.pku.edu.cn on port 10016: Trying 115.27.246.20\n",
      "[+] Opening connection to prob16.geekgame.pku.edu.cn on port 10016: Done\n"
     ]
    },
    {
     "name": "stderr",
     "output_type": "stream",
     "text": [
      "\r",
      "  1%|          | 11/1000 [00:44<1:12:26,  4.40s/it]"
     ]
    },
    {
     "name": "stdout",
     "output_type": "stream",
     "text": [
      "65\n",
      "[x] Opening connection to prob16.geekgame.pku.edu.cn on port 10016\n",
      "[x] Opening connection to prob16.geekgame.pku.edu.cn on port 10016: Trying 115.27.246.20\n",
      "[+] Opening connection to prob16.geekgame.pku.edu.cn on port 10016: Done\n"
     ]
    },
    {
     "name": "stderr",
     "output_type": "stream",
     "text": [
      "\r",
      "  1%|          | 12/1000 [00:47<1:08:56,  4.19s/it]"
     ]
    },
    {
     "name": "stdout",
     "output_type": "stream",
     "text": [
      "45\n",
      "[x] Opening connection to prob16.geekgame.pku.edu.cn on port 10016\n",
      "[x] Opening connection to prob16.geekgame.pku.edu.cn on port 10016: Trying 115.27.246.20\n",
      "[+] Opening connection to prob16.geekgame.pku.edu.cn on port 10016: Done\n"
     ]
    },
    {
     "name": "stderr",
     "output_type": "stream",
     "text": [
      "\r",
      "  1%|▏         | 13/1000 [00:51<1:06:27,  4.04s/it]"
     ]
    },
    {
     "name": "stdout",
     "output_type": "stream",
     "text": [
      "[x] Opening connection to prob16.geekgame.pku.edu.cn on port 10016\n",
      "[x] Opening connection to prob16.geekgame.pku.edu.cn on port 10016: Trying 115.27.246.20\n",
      "[+] Opening connection to prob16.geekgame.pku.edu.cn on port 10016: Done\n"
     ]
    },
    {
     "name": "stderr",
     "output_type": "stream",
     "text": [
      "\r",
      "  1%|▏         | 14/1000 [00:55<1:04:51,  3.95s/it]"
     ]
    },
    {
     "name": "stdout",
     "output_type": "stream",
     "text": [
      "80\n",
      "[x] Opening connection to prob16.geekgame.pku.edu.cn on port 10016\n",
      "[x] Opening connection to prob16.geekgame.pku.edu.cn on port 10016: Trying 115.27.246.20\n",
      "[+] Opening connection to prob16.geekgame.pku.edu.cn on port 10016: Done\n"
     ]
    },
    {
     "name": "stderr",
     "output_type": "stream",
     "text": [
      "\r",
      "  2%|▏         | 15/1000 [00:58<1:03:38,  3.88s/it]"
     ]
    },
    {
     "name": "stdout",
     "output_type": "stream",
     "text": [
      "[x] Opening connection to prob16.geekgame.pku.edu.cn on port 10016\n",
      "[x] Opening connection to prob16.geekgame.pku.edu.cn on port 10016: Trying 115.27.246.20\n",
      "[+] Opening connection to prob16.geekgame.pku.edu.cn on port 10016: Done\n"
     ]
    },
    {
     "name": "stderr",
     "output_type": "stream",
     "text": [
      "\r",
      "  2%|▏         | 16/1000 [01:02<1:02:38,  3.82s/it]"
     ]
    },
    {
     "name": "stdout",
     "output_type": "stream",
     "text": [
      "[x] Opening connection to prob16.geekgame.pku.edu.cn on port 10016\n",
      "[x] Opening connection to prob16.geekgame.pku.edu.cn on port 10016: Trying 115.27.246.20\n",
      "[+] Opening connection to prob16.geekgame.pku.edu.cn on port 10016: Done\n"
     ]
    },
    {
     "name": "stderr",
     "output_type": "stream",
     "text": [
      "\r",
      "  2%|▏         | 17/1000 [01:06<1:02:15,  3.80s/it]"
     ]
    },
    {
     "name": "stdout",
     "output_type": "stream",
     "text": [
      "65\n",
      "[x] Opening connection to prob16.geekgame.pku.edu.cn on port 10016\n",
      "[x] Opening connection to prob16.geekgame.pku.edu.cn on port 10016: Trying 115.27.246.20\n",
      "[+] Opening connection to prob16.geekgame.pku.edu.cn on port 10016: Done\n"
     ]
    },
    {
     "name": "stderr",
     "output_type": "stream",
     "text": [
      "\r",
      "  2%|▏         | 18/1000 [01:09<1:01:30,  3.76s/it]"
     ]
    },
    {
     "name": "stdout",
     "output_type": "stream",
     "text": [
      "70\n",
      "[x] Opening connection to prob16.geekgame.pku.edu.cn on port 10016\n",
      "[x] Opening connection to prob16.geekgame.pku.edu.cn on port 10016: Trying 115.27.246.20\n",
      "[+] Opening connection to prob16.geekgame.pku.edu.cn on port 10016: Done\n"
     ]
    },
    {
     "name": "stderr",
     "output_type": "stream",
     "text": [
      "\r",
      "  2%|▏         | 19/1000 [01:13<1:00:43,  3.71s/it]"
     ]
    },
    {
     "name": "stdout",
     "output_type": "stream",
     "text": [
      "55\n",
      "[x] Opening connection to prob16.geekgame.pku.edu.cn on port 10016\n",
      "[x] Opening connection to prob16.geekgame.pku.edu.cn on port 10016: Trying 115.27.246.20\n",
      "[+] Opening connection to prob16.geekgame.pku.edu.cn on port 10016: Done\n"
     ]
    },
    {
     "name": "stderr",
     "output_type": "stream",
     "text": [
      "\r",
      "  2%|▏         | 20/1000 [01:17<1:00:07,  3.68s/it]"
     ]
    },
    {
     "name": "stdout",
     "output_type": "stream",
     "text": [
      "90\n",
      "[x] Opening connection to prob16.geekgame.pku.edu.cn on port 10016\n",
      "[x] Opening connection to prob16.geekgame.pku.edu.cn on port 10016: Trying 115.27.246.20\n",
      "[+] Opening connection to prob16.geekgame.pku.edu.cn on port 10016: Done\n"
     ]
    },
    {
     "name": "stderr",
     "output_type": "stream",
     "text": [
      "\r",
      "  2%|▏         | 21/1000 [01:20<59:58,  3.68s/it]  "
     ]
    },
    {
     "name": "stdout",
     "output_type": "stream",
     "text": [
      "[x] Opening connection to prob16.geekgame.pku.edu.cn on port 10016\n",
      "[x] Opening connection to prob16.geekgame.pku.edu.cn on port 10016: Trying 115.27.246.20\n",
      "[+] Opening connection to prob16.geekgame.pku.edu.cn on port 10016: Done\n"
     ]
    },
    {
     "name": "stderr",
     "output_type": "stream",
     "text": [
      "\r",
      "  2%|▏         | 22/1000 [01:24<1:00:17,  3.70s/it]"
     ]
    },
    {
     "name": "stdout",
     "output_type": "stream",
     "text": [
      "45\n",
      "[x] Opening connection to prob16.geekgame.pku.edu.cn on port 10016\n",
      "[x] Opening connection to prob16.geekgame.pku.edu.cn on port 10016: Trying 115.27.246.20\n",
      "[+] Opening connection to prob16.geekgame.pku.edu.cn on port 10016: Done\n"
     ]
    },
    {
     "name": "stderr",
     "output_type": "stream",
     "text": [
      "\r",
      "  2%|▏         | 23/1000 [01:28<1:00:12,  3.70s/it]"
     ]
    },
    {
     "name": "stdout",
     "output_type": "stream",
     "text": [
      "80\n",
      "[x] Opening connection to prob16.geekgame.pku.edu.cn on port 10016\n",
      "[x] Opening connection to prob16.geekgame.pku.edu.cn on port 10016: Trying 115.27.246.20\n",
      "[+] Opening connection to prob16.geekgame.pku.edu.cn on port 10016: Done\n"
     ]
    },
    {
     "name": "stderr",
     "output_type": "stream",
     "text": [
      "\r",
      "  2%|▏         | 24/1000 [01:32<1:00:24,  3.71s/it]"
     ]
    },
    {
     "name": "stdout",
     "output_type": "stream",
     "text": [
      "95\n",
      "[x] Opening connection to prob16.geekgame.pku.edu.cn on port 10016\n",
      "[x] Opening connection to prob16.geekgame.pku.edu.cn on port 10016: Trying 115.27.246.20\n",
      "[+] Opening connection to prob16.geekgame.pku.edu.cn on port 10016: Done\n"
     ]
    },
    {
     "name": "stderr",
     "output_type": "stream",
     "text": [
      "\r",
      "  2%|▎         | 25/1000 [01:35<1:00:05,  3.70s/it]"
     ]
    },
    {
     "name": "stdout",
     "output_type": "stream",
     "text": [
      "[x] Opening connection to prob16.geekgame.pku.edu.cn on port 10016\n",
      "[x] Opening connection to prob16.geekgame.pku.edu.cn on port 10016: Trying 115.27.246.20\n",
      "[+] Opening connection to prob16.geekgame.pku.edu.cn on port 10016: Done\n"
     ]
    },
    {
     "name": "stderr",
     "output_type": "stream",
     "text": [
      "\r",
      "  3%|▎         | 26/1000 [01:39<1:01:02,  3.76s/it]"
     ]
    },
    {
     "name": "stdout",
     "output_type": "stream",
     "text": [
      "110\n",
      "[x] Opening connection to prob16.geekgame.pku.edu.cn on port 10016\n",
      "[x] Opening connection to prob16.geekgame.pku.edu.cn on port 10016: Trying 115.27.246.20\n",
      "[+] Opening connection to prob16.geekgame.pku.edu.cn on port 10016: Done\n"
     ]
    },
    {
     "name": "stderr",
     "output_type": "stream",
     "text": [
      "\r",
      "  3%|▎         | 27/1000 [01:43<1:00:07,  3.71s/it]"
     ]
    },
    {
     "name": "stdout",
     "output_type": "stream",
     "text": [
      "60\n",
      "[x] Opening connection to prob16.geekgame.pku.edu.cn on port 10016\n",
      "[x] Opening connection to prob16.geekgame.pku.edu.cn on port 10016: Trying 115.27.246.20\n",
      "[+] Opening connection to prob16.geekgame.pku.edu.cn on port 10016: Done\n"
     ]
    },
    {
     "name": "stderr",
     "output_type": "stream",
     "text": [
      "\r",
      "  3%|▎         | 28/1000 [01:46<1:00:09,  3.71s/it]"
     ]
    },
    {
     "name": "stdout",
     "output_type": "stream",
     "text": [
      "60\n",
      "[x] Opening connection to prob16.geekgame.pku.edu.cn on port 10016\n",
      "[x] Opening connection to prob16.geekgame.pku.edu.cn on port 10016: Trying 115.27.246.20\n",
      "[+] Opening connection to prob16.geekgame.pku.edu.cn on port 10016: Done\n"
     ]
    },
    {
     "name": "stderr",
     "output_type": "stream",
     "text": [
      "\r",
      "  3%|▎         | 29/1000 [01:51<1:05:58,  4.08s/it]"
     ]
    },
    {
     "name": "stdout",
     "output_type": "stream",
     "text": [
      "65\n",
      "[x] Opening connection to prob16.geekgame.pku.edu.cn on port 10016\n",
      "[x] Opening connection to prob16.geekgame.pku.edu.cn on port 10016: Trying 115.27.246.20\n",
      "[+] Opening connection to prob16.geekgame.pku.edu.cn on port 10016: Done\n"
     ]
    },
    {
     "name": "stderr",
     "output_type": "stream",
     "text": [
      "\r",
      "  3%|▎         | 30/1000 [01:55<1:04:12,  3.97s/it]"
     ]
    },
    {
     "name": "stdout",
     "output_type": "stream",
     "text": [
      "70\n",
      "[x] Opening connection to prob16.geekgame.pku.edu.cn on port 10016\n",
      "[x] Opening connection to prob16.geekgame.pku.edu.cn on port 10016: Trying 115.27.246.20\n",
      "[+] Opening connection to prob16.geekgame.pku.edu.cn on port 10016: Done\n"
     ]
    },
    {
     "name": "stderr",
     "output_type": "stream",
     "text": [
      "\r",
      "  3%|▎         | 31/1000 [01:59<1:03:46,  3.95s/it]"
     ]
    },
    {
     "name": "stdout",
     "output_type": "stream",
     "text": [
      "95\n",
      "[x] Opening connection to prob16.geekgame.pku.edu.cn on port 10016\n",
      "[x] Opening connection to prob16.geekgame.pku.edu.cn on port 10016: Trying 115.27.246.20\n",
      "[+] Opening connection to prob16.geekgame.pku.edu.cn on port 10016: Done\n"
     ]
    },
    {
     "name": "stderr",
     "output_type": "stream",
     "text": [
      "\r",
      "  3%|▎         | 32/1000 [02:03<1:01:54,  3.84s/it]"
     ]
    },
    {
     "name": "stdout",
     "output_type": "stream",
     "text": [
      "85\n",
      "[x] Opening connection to prob16.geekgame.pku.edu.cn on port 10016\n",
      "[x] Opening connection to prob16.geekgame.pku.edu.cn on port 10016: Trying 115.27.246.20\n",
      "[+] Opening connection to prob16.geekgame.pku.edu.cn on port 10016: Done\n"
     ]
    },
    {
     "name": "stderr",
     "output_type": "stream",
     "text": [
      "\r",
      "  3%|▎         | 33/1000 [02:06<1:00:39,  3.76s/it]"
     ]
    },
    {
     "name": "stdout",
     "output_type": "stream",
     "text": [
      "80\n",
      "[x] Opening connection to prob16.geekgame.pku.edu.cn on port 10016\n",
      "[x] Opening connection to prob16.geekgame.pku.edu.cn on port 10016: Trying 115.27.246.20\n",
      "[+] Opening connection to prob16.geekgame.pku.edu.cn on port 10016: Done\n"
     ]
    },
    {
     "name": "stderr",
     "output_type": "stream",
     "text": [
      "\r",
      "  3%|▎         | 34/1000 [02:10<1:00:02,  3.73s/it]"
     ]
    },
    {
     "name": "stdout",
     "output_type": "stream",
     "text": [
      "[x] Opening connection to prob16.geekgame.pku.edu.cn on port 10016\n",
      "[x] Opening connection to prob16.geekgame.pku.edu.cn on port 10016: Trying 115.27.246.20\n",
      "[+] Opening connection to prob16.geekgame.pku.edu.cn on port 10016: Done\n"
     ]
    },
    {
     "name": "stderr",
     "output_type": "stream",
     "text": [
      "\r",
      "  4%|▎         | 35/1000 [02:14<59:58,  3.73s/it]  "
     ]
    },
    {
     "name": "stdout",
     "output_type": "stream",
     "text": [
      "60\n",
      "[x] Opening connection to prob16.geekgame.pku.edu.cn on port 10016\n",
      "[x] Opening connection to prob16.geekgame.pku.edu.cn on port 10016: Trying 115.27.246.20\n",
      "[+] Opening connection to prob16.geekgame.pku.edu.cn on port 10016: Done\n"
     ]
    },
    {
     "name": "stderr",
     "output_type": "stream",
     "text": [
      "\r",
      "  4%|▎         | 36/1000 [02:17<59:49,  3.72s/it]"
     ]
    },
    {
     "name": "stdout",
     "output_type": "stream",
     "text": [
      "85\n",
      "[x] Opening connection to prob16.geekgame.pku.edu.cn on port 10016\n",
      "[x] Opening connection to prob16.geekgame.pku.edu.cn on port 10016: Trying 115.27.246.20\n",
      "[+] Opening connection to prob16.geekgame.pku.edu.cn on port 10016: Done\n"
     ]
    },
    {
     "name": "stderr",
     "output_type": "stream",
     "text": [
      "\r",
      "  4%|▎         | 37/1000 [02:21<1:01:32,  3.83s/it]"
     ]
    },
    {
     "name": "stdout",
     "output_type": "stream",
     "text": [
      "95\n",
      "[x] Opening connection to prob16.geekgame.pku.edu.cn on port 10016\n",
      "[x] Opening connection to prob16.geekgame.pku.edu.cn on port 10016: Trying 115.27.246.20\n",
      "[+] Opening connection to prob16.geekgame.pku.edu.cn on port 10016: Done\n"
     ]
    },
    {
     "name": "stderr",
     "output_type": "stream",
     "text": [
      "\r",
      "  4%|▍         | 38/1000 [02:25<1:00:44,  3.79s/it]"
     ]
    },
    {
     "name": "stdout",
     "output_type": "stream",
     "text": [
      "[x] Opening connection to prob16.geekgame.pku.edu.cn on port 10016\n",
      "[x] Opening connection to prob16.geekgame.pku.edu.cn on port 10016: Trying 115.27.246.20\n",
      "[+] Opening connection to prob16.geekgame.pku.edu.cn on port 10016: Done\n"
     ]
    },
    {
     "name": "stderr",
     "output_type": "stream",
     "text": [
      "\r",
      "  4%|▍         | 39/1000 [02:29<59:51,  3.74s/it]  "
     ]
    },
    {
     "name": "stdout",
     "output_type": "stream",
     "text": [
      "[x] Opening connection to prob16.geekgame.pku.edu.cn on port 10016\n",
      "[x] Opening connection to prob16.geekgame.pku.edu.cn on port 10016: Trying 115.27.246.20\n",
      "[+] Opening connection to prob16.geekgame.pku.edu.cn on port 10016: Done\n"
     ]
    },
    {
     "name": "stderr",
     "output_type": "stream",
     "text": [
      "\r",
      "  4%|▍         | 40/1000 [02:32<59:05,  3.69s/it]"
     ]
    },
    {
     "name": "stdout",
     "output_type": "stream",
     "text": [
      "[x] Opening connection to prob16.geekgame.pku.edu.cn on port 10016\n",
      "[x] Opening connection to prob16.geekgame.pku.edu.cn on port 10016: Trying 115.27.246.20\n",
      "[+] Opening connection to prob16.geekgame.pku.edu.cn on port 10016: Done\n"
     ]
    },
    {
     "name": "stderr",
     "output_type": "stream",
     "text": [
      "\r",
      "  4%|▍         | 41/1000 [02:36<59:20,  3.71s/it]"
     ]
    },
    {
     "name": "stdout",
     "output_type": "stream",
     "text": [
      "70\n",
      "[x] Opening connection to prob16.geekgame.pku.edu.cn on port 10016\n",
      "[x] Opening connection to prob16.geekgame.pku.edu.cn on port 10016: Trying 115.27.246.20\n",
      "[+] Opening connection to prob16.geekgame.pku.edu.cn on port 10016: Done\n"
     ]
    },
    {
     "name": "stderr",
     "output_type": "stream",
     "text": [
      "\r",
      "  4%|▍         | 42/1000 [02:40<58:53,  3.69s/it]"
     ]
    },
    {
     "name": "stdout",
     "output_type": "stream",
     "text": [
      "80\n",
      "[x] Opening connection to prob16.geekgame.pku.edu.cn on port 10016\n",
      "[x] Opening connection to prob16.geekgame.pku.edu.cn on port 10016: Trying 115.27.246.20\n",
      "[+] Opening connection to prob16.geekgame.pku.edu.cn on port 10016: Done\n"
     ]
    },
    {
     "name": "stderr",
     "output_type": "stream",
     "text": [
      "\r",
      "  4%|▍         | 43/1000 [02:43<58:28,  3.67s/it]"
     ]
    },
    {
     "name": "stdout",
     "output_type": "stream",
     "text": [
      "65\n",
      "[x] Opening connection to prob16.geekgame.pku.edu.cn on port 10016\n",
      "[x] Opening connection to prob16.geekgame.pku.edu.cn on port 10016: Trying 115.27.246.20\n",
      "[+] Opening connection to prob16.geekgame.pku.edu.cn on port 10016: Done\n"
     ]
    },
    {
     "name": "stderr",
     "output_type": "stream",
     "text": [
      "\r",
      "  4%|▍         | 44/1000 [02:47<58:18,  3.66s/it]"
     ]
    },
    {
     "name": "stdout",
     "output_type": "stream",
     "text": [
      "90\n",
      "[x] Opening connection to prob16.geekgame.pku.edu.cn on port 10016\n",
      "[x] Opening connection to prob16.geekgame.pku.edu.cn on port 10016: Trying 115.27.246.20\n",
      "[+] Opening connection to prob16.geekgame.pku.edu.cn on port 10016: Done\n"
     ]
    },
    {
     "name": "stderr",
     "output_type": "stream",
     "text": [
      "\r",
      "  4%|▍         | 45/1000 [02:51<58:15,  3.66s/it]"
     ]
    },
    {
     "name": "stdout",
     "output_type": "stream",
     "text": [
      "[x] Opening connection to prob16.geekgame.pku.edu.cn on port 10016\n",
      "[x] Opening connection to prob16.geekgame.pku.edu.cn on port 10016: Trying 115.27.246.20\n",
      "[+] Opening connection to prob16.geekgame.pku.edu.cn on port 10016: Done\n"
     ]
    },
    {
     "name": "stderr",
     "output_type": "stream",
     "text": [
      "\r",
      "  5%|▍         | 46/1000 [02:54<57:50,  3.64s/it]"
     ]
    },
    {
     "name": "stdout",
     "output_type": "stream",
     "text": [
      "120\n",
      "[x] Opening connection to prob16.geekgame.pku.edu.cn on port 10016\n",
      "[x] Opening connection to prob16.geekgame.pku.edu.cn on port 10016: Trying 115.27.246.20\n",
      "[+] Opening connection to prob16.geekgame.pku.edu.cn on port 10016: Done\n"
     ]
    },
    {
     "name": "stderr",
     "output_type": "stream",
     "text": [
      "\r",
      "  5%|▍         | 47/1000 [02:58<57:53,  3.64s/it]"
     ]
    },
    {
     "name": "stdout",
     "output_type": "stream",
     "text": [
      "70\n",
      "[x] Opening connection to prob16.geekgame.pku.edu.cn on port 10016\n",
      "[x] Opening connection to prob16.geekgame.pku.edu.cn on port 10016: Trying 115.27.246.20\n",
      "[+] Opening connection to prob16.geekgame.pku.edu.cn on port 10016: Done\n"
     ]
    },
    {
     "name": "stderr",
     "output_type": "stream",
     "text": [
      "\r",
      "  5%|▍         | 48/1000 [03:01<57:39,  3.63s/it]"
     ]
    },
    {
     "name": "stdout",
     "output_type": "stream",
     "text": [
      "55\n",
      "[x] Opening connection to prob16.geekgame.pku.edu.cn on port 10016\n",
      "[x] Opening connection to prob16.geekgame.pku.edu.cn on port 10016: Trying 115.27.246.20\n",
      "[+] Opening connection to prob16.geekgame.pku.edu.cn on port 10016: Done\n"
     ]
    },
    {
     "name": "stderr",
     "output_type": "stream",
     "text": [
      "\r",
      "  5%|▍         | 49/1000 [03:06<1:00:55,  3.84s/it]"
     ]
    },
    {
     "name": "stdout",
     "output_type": "stream",
     "text": [
      "[x] Opening connection to prob16.geekgame.pku.edu.cn on port 10016\n",
      "[x] Opening connection to prob16.geekgame.pku.edu.cn on port 10016: Trying 115.27.246.20\n",
      "[+] Opening connection to prob16.geekgame.pku.edu.cn on port 10016: Done\n"
     ]
    },
    {
     "name": "stderr",
     "output_type": "stream",
     "text": [
      "\r",
      "  5%|▌         | 50/1000 [03:09<1:00:11,  3.80s/it]"
     ]
    },
    {
     "name": "stdout",
     "output_type": "stream",
     "text": [
      "95\n",
      "[x] Opening connection to prob16.geekgame.pku.edu.cn on port 10016\n",
      "[x] Opening connection to prob16.geekgame.pku.edu.cn on port 10016: Trying 115.27.246.20\n",
      "[+] Opening connection to prob16.geekgame.pku.edu.cn on port 10016: Done\n"
     ]
    },
    {
     "name": "stderr",
     "output_type": "stream",
     "text": [
      "\r",
      "  5%|▌         | 51/1000 [03:13<1:00:51,  3.85s/it]"
     ]
    },
    {
     "name": "stdout",
     "output_type": "stream",
     "text": [
      "45\n",
      "[x] Opening connection to prob16.geekgame.pku.edu.cn on port 10016\n",
      "[x] Opening connection to prob16.geekgame.pku.edu.cn on port 10016: Trying 115.27.246.20\n",
      "[+] Opening connection to prob16.geekgame.pku.edu.cn on port 10016: Done\n"
     ]
    },
    {
     "name": "stderr",
     "output_type": "stream",
     "text": [
      "\r",
      "  5%|▌         | 52/1000 [03:17<1:00:43,  3.84s/it]"
     ]
    },
    {
     "name": "stdout",
     "output_type": "stream",
     "text": [
      "80\n",
      "[x] Opening connection to prob16.geekgame.pku.edu.cn on port 10016\n",
      "[x] Opening connection to prob16.geekgame.pku.edu.cn on port 10016: Trying 115.27.246.20\n",
      "[+] Opening connection to prob16.geekgame.pku.edu.cn on port 10016: Done\n"
     ]
    },
    {
     "name": "stderr",
     "output_type": "stream",
     "text": [
      "\r",
      "  5%|▌         | 53/1000 [03:21<59:54,  3.80s/it]  "
     ]
    },
    {
     "name": "stdout",
     "output_type": "stream",
     "text": [
      "45\n",
      "[x] Opening connection to prob16.geekgame.pku.edu.cn on port 10016\n",
      "[x] Opening connection to prob16.geekgame.pku.edu.cn on port 10016: Trying 115.27.246.20\n",
      "[+] Opening connection to prob16.geekgame.pku.edu.cn on port 10016: Done\n"
     ]
    },
    {
     "name": "stderr",
     "output_type": "stream",
     "text": [
      "\r",
      "  5%|▌         | 54/1000 [03:24<58:55,  3.74s/it]"
     ]
    },
    {
     "name": "stdout",
     "output_type": "stream",
     "text": [
      "[x] Opening connection to prob16.geekgame.pku.edu.cn on port 10016\n",
      "[x] Opening connection to prob16.geekgame.pku.edu.cn on port 10016: Trying 115.27.246.20\n",
      "[+] Opening connection to prob16.geekgame.pku.edu.cn on port 10016: Done\n"
     ]
    },
    {
     "name": "stderr",
     "output_type": "stream",
     "text": [
      "\r",
      "  6%|▌         | 55/1000 [03:28<58:18,  3.70s/it]"
     ]
    },
    {
     "name": "stdout",
     "output_type": "stream",
     "text": [
      "[x] Opening connection to prob16.geekgame.pku.edu.cn on port 10016\n",
      "[x] Opening connection to prob16.geekgame.pku.edu.cn on port 10016: Trying 115.27.246.20\n",
      "[+] Opening connection to prob16.geekgame.pku.edu.cn on port 10016: Done\n"
     ]
    },
    {
     "name": "stderr",
     "output_type": "stream",
     "text": [
      "\r",
      "  6%|▌         | 56/1000 [03:32<58:01,  3.69s/it]"
     ]
    },
    {
     "name": "stdout",
     "output_type": "stream",
     "text": [
      "[x] Opening connection to prob16.geekgame.pku.edu.cn on port 10016\n",
      "[x] Opening connection to prob16.geekgame.pku.edu.cn on port 10016: Trying 115.27.246.20\n",
      "[+] Opening connection to prob16.geekgame.pku.edu.cn on port 10016: Done\n"
     ]
    },
    {
     "name": "stderr",
     "output_type": "stream",
     "text": [
      "\r",
      "  6%|▌         | 57/1000 [03:35<57:46,  3.68s/it]"
     ]
    },
    {
     "name": "stdout",
     "output_type": "stream",
     "text": [
      "[x] Opening connection to prob16.geekgame.pku.edu.cn on port 10016\n",
      "[x] Opening connection to prob16.geekgame.pku.edu.cn on port 10016: Trying 115.27.246.20\n",
      "[+] Opening connection to prob16.geekgame.pku.edu.cn on port 10016: Done\n"
     ]
    },
    {
     "name": "stderr",
     "output_type": "stream",
     "text": [
      "\r",
      "  6%|▌         | 58/1000 [03:39<58:21,  3.72s/it]"
     ]
    },
    {
     "name": "stdout",
     "output_type": "stream",
     "text": [
      "[x] Opening connection to prob16.geekgame.pku.edu.cn on port 10016\n",
      "[x] Opening connection to prob16.geekgame.pku.edu.cn on port 10016: Trying 115.27.246.20\n",
      "[+] Opening connection to prob16.geekgame.pku.edu.cn on port 10016: Done\n"
     ]
    },
    {
     "name": "stderr",
     "output_type": "stream",
     "text": [
      "\r",
      "  6%|▌         | 59/1000 [03:43<57:58,  3.70s/it]"
     ]
    },
    {
     "name": "stdout",
     "output_type": "stream",
     "text": [
      "60\n",
      "[x] Opening connection to prob16.geekgame.pku.edu.cn on port 10016\n",
      "[x] Opening connection to prob16.geekgame.pku.edu.cn on port 10016: Trying 115.27.246.20\n",
      "[+] Opening connection to prob16.geekgame.pku.edu.cn on port 10016: Done\n"
     ]
    },
    {
     "name": "stderr",
     "output_type": "stream",
     "text": [
      "\r",
      "  6%|▌         | 60/1000 [03:47<57:55,  3.70s/it]"
     ]
    },
    {
     "name": "stdout",
     "output_type": "stream",
     "text": [
      "[x] Opening connection to prob16.geekgame.pku.edu.cn on port 10016\n",
      "[x] Opening connection to prob16.geekgame.pku.edu.cn on port 10016: Trying 115.27.246.20\n",
      "[+] Opening connection to prob16.geekgame.pku.edu.cn on port 10016: Done\n"
     ]
    },
    {
     "name": "stderr",
     "output_type": "stream",
     "text": [
      "\r",
      "  6%|▌         | 61/1000 [03:50<58:37,  3.75s/it]"
     ]
    },
    {
     "name": "stdout",
     "output_type": "stream",
     "text": [
      "[x] Opening connection to prob16.geekgame.pku.edu.cn on port 10016\n",
      "[x] Opening connection to prob16.geekgame.pku.edu.cn on port 10016: Trying 115.27.246.20\n",
      "[+] Opening connection to prob16.geekgame.pku.edu.cn on port 10016: Done\n"
     ]
    },
    {
     "name": "stderr",
     "output_type": "stream",
     "text": [
      "\r",
      "  6%|▌         | 62/1000 [03:54<58:19,  3.73s/it]"
     ]
    },
    {
     "name": "stdout",
     "output_type": "stream",
     "text": [
      "95\n",
      "[x] Opening connection to prob16.geekgame.pku.edu.cn on port 10016\n",
      "[x] Opening connection to prob16.geekgame.pku.edu.cn on port 10016: Trying 115.27.246.20\n",
      "[+] Opening connection to prob16.geekgame.pku.edu.cn on port 10016: Done\n"
     ]
    },
    {
     "name": "stderr",
     "output_type": "stream",
     "text": [
      "\r",
      "  6%|▋         | 63/1000 [03:58<58:29,  3.75s/it]"
     ]
    },
    {
     "name": "stdout",
     "output_type": "stream",
     "text": [
      "80\n",
      "[x] Opening connection to prob16.geekgame.pku.edu.cn on port 10016\n",
      "[x] Opening connection to prob16.geekgame.pku.edu.cn on port 10016: Trying 115.27.246.20\n",
      "[+] Opening connection to prob16.geekgame.pku.edu.cn on port 10016: Done\n"
     ]
    },
    {
     "name": "stderr",
     "output_type": "stream",
     "text": [
      "\r",
      "  6%|▋         | 64/1000 [04:02<58:39,  3.76s/it]"
     ]
    },
    {
     "name": "stdout",
     "output_type": "stream",
     "text": [
      "70\n",
      "[x] Opening connection to prob16.geekgame.pku.edu.cn on port 10016\n",
      "[x] Opening connection to prob16.geekgame.pku.edu.cn on port 10016: Trying 115.27.246.20\n",
      "[+] Opening connection to prob16.geekgame.pku.edu.cn on port 10016: Done\n"
     ]
    },
    {
     "name": "stderr",
     "output_type": "stream",
     "text": [
      "\r",
      "  6%|▋         | 65/1000 [04:05<58:17,  3.74s/it]"
     ]
    },
    {
     "name": "stdout",
     "output_type": "stream",
     "text": [
      "80\n",
      "[x] Opening connection to prob16.geekgame.pku.edu.cn on port 10016\n",
      "[x] Opening connection to prob16.geekgame.pku.edu.cn on port 10016: Trying 115.27.246.20\n",
      "[+] Opening connection to prob16.geekgame.pku.edu.cn on port 10016: Done\n"
     ]
    },
    {
     "name": "stderr",
     "output_type": "stream",
     "text": [
      "\r",
      "  7%|▋         | 66/1000 [04:09<58:22,  3.75s/it]"
     ]
    },
    {
     "name": "stdout",
     "output_type": "stream",
     "text": [
      "[x] Opening connection to prob16.geekgame.pku.edu.cn on port 10016\n",
      "[x] Opening connection to prob16.geekgame.pku.edu.cn on port 10016: Trying 115.27.246.20\n",
      "[+] Opening connection to prob16.geekgame.pku.edu.cn on port 10016: Done\n"
     ]
    },
    {
     "name": "stderr",
     "output_type": "stream",
     "text": [
      "\r",
      "  7%|▋         | 67/1000 [04:13<58:13,  3.74s/it]"
     ]
    },
    {
     "name": "stdout",
     "output_type": "stream",
     "text": [
      "90\n",
      "[x] Opening connection to prob16.geekgame.pku.edu.cn on port 10016\n",
      "[x] Opening connection to prob16.geekgame.pku.edu.cn on port 10016: Trying 115.27.246.20\n",
      "[+] Opening connection to prob16.geekgame.pku.edu.cn on port 10016: Done\n"
     ]
    },
    {
     "name": "stderr",
     "output_type": "stream",
     "text": [
      "\r",
      "  7%|▋         | 68/1000 [04:17<1:01:44,  3.97s/it]"
     ]
    },
    {
     "name": "stdout",
     "output_type": "stream",
     "text": [
      "[x] Opening connection to prob16.geekgame.pku.edu.cn on port 10016\n",
      "[x] Opening connection to prob16.geekgame.pku.edu.cn on port 10016: Trying 115.27.246.20\n",
      "[+] Opening connection to prob16.geekgame.pku.edu.cn on port 10016: Done\n"
     ]
    },
    {
     "name": "stderr",
     "output_type": "stream",
     "text": [
      "\r",
      "  7%|▋         | 69/1000 [04:22<1:03:08,  4.07s/it]"
     ]
    },
    {
     "name": "stdout",
     "output_type": "stream",
     "text": [
      "95\n",
      "[x] Opening connection to prob16.geekgame.pku.edu.cn on port 10016\n",
      "[x] Opening connection to prob16.geekgame.pku.edu.cn on port 10016: Trying 115.27.246.20\n",
      "[+] Opening connection to prob16.geekgame.pku.edu.cn on port 10016: Done\n"
     ]
    },
    {
     "name": "stderr",
     "output_type": "stream",
     "text": [
      "\r",
      "  7%|▋         | 70/1000 [04:25<1:01:46,  3.99s/it]"
     ]
    },
    {
     "name": "stdout",
     "output_type": "stream",
     "text": [
      "[x] Opening connection to prob16.geekgame.pku.edu.cn on port 10016\n",
      "[x] Opening connection to prob16.geekgame.pku.edu.cn on port 10016: Trying 115.27.246.20\n",
      "[+] Opening connection to prob16.geekgame.pku.edu.cn on port 10016: Done\n"
     ]
    },
    {
     "name": "stderr",
     "output_type": "stream",
     "text": [
      "\r",
      "  7%|▋         | 71/1000 [04:29<1:00:28,  3.91s/it]"
     ]
    },
    {
     "name": "stdout",
     "output_type": "stream",
     "text": [
      "70\n",
      "[x] Opening connection to prob16.geekgame.pku.edu.cn on port 10016\n",
      "[x] Opening connection to prob16.geekgame.pku.edu.cn on port 10016: Trying 115.27.246.20\n",
      "[+] Opening connection to prob16.geekgame.pku.edu.cn on port 10016: Done\n"
     ]
    },
    {
     "name": "stderr",
     "output_type": "stream",
     "text": [
      "\r",
      "  7%|▋         | 72/1000 [04:33<59:15,  3.83s/it]  "
     ]
    },
    {
     "name": "stdout",
     "output_type": "stream",
     "text": [
      "[x] Opening connection to prob16.geekgame.pku.edu.cn on port 10016\n",
      "[x] Opening connection to prob16.geekgame.pku.edu.cn on port 10016: Trying 115.27.246.20\n",
      "[+] Opening connection to prob16.geekgame.pku.edu.cn on port 10016: Done\n"
     ]
    },
    {
     "name": "stderr",
     "output_type": "stream",
     "text": [
      "\r",
      "  7%|▋         | 73/1000 [04:37<58:29,  3.79s/it]"
     ]
    },
    {
     "name": "stdout",
     "output_type": "stream",
     "text": [
      "[x] Opening connection to prob16.geekgame.pku.edu.cn on port 10016\n",
      "[x] Opening connection to prob16.geekgame.pku.edu.cn on port 10016: Trying 115.27.246.20\n",
      "[+] Opening connection to prob16.geekgame.pku.edu.cn on port 10016: Done\n"
     ]
    },
    {
     "name": "stderr",
     "output_type": "stream",
     "text": [
      "\r",
      "  7%|▋         | 74/1000 [04:40<58:00,  3.76s/it]"
     ]
    },
    {
     "name": "stdout",
     "output_type": "stream",
     "text": [
      "[x] Opening connection to prob16.geekgame.pku.edu.cn on port 10016\n",
      "[x] Opening connection to prob16.geekgame.pku.edu.cn on port 10016: Trying 115.27.246.20\n",
      "[+] Opening connection to prob16.geekgame.pku.edu.cn on port 10016: Done\n"
     ]
    },
    {
     "name": "stderr",
     "output_type": "stream",
     "text": [
      "\r",
      "  8%|▊         | 75/1000 [04:44<57:59,  3.76s/it]"
     ]
    },
    {
     "name": "stdout",
     "output_type": "stream",
     "text": [
      "[x] Opening connection to prob16.geekgame.pku.edu.cn on port 10016\n",
      "[x] Opening connection to prob16.geekgame.pku.edu.cn on port 10016: Trying 115.27.246.20\n",
      "[+] Opening connection to prob16.geekgame.pku.edu.cn on port 10016: Done\n"
     ]
    },
    {
     "name": "stderr",
     "output_type": "stream",
     "text": [
      "\r",
      "  8%|▊         | 76/1000 [04:48<57:13,  3.72s/it]"
     ]
    },
    {
     "name": "stdout",
     "output_type": "stream",
     "text": [
      "[x] Opening connection to prob16.geekgame.pku.edu.cn on port 10016\n",
      "[x] Opening connection to prob16.geekgame.pku.edu.cn on port 10016: Trying 115.27.246.20\n",
      "[+] Opening connection to prob16.geekgame.pku.edu.cn on port 10016: Done\n"
     ]
    },
    {
     "name": "stderr",
     "output_type": "stream",
     "text": [
      "\r",
      "  8%|▊         | 77/1000 [04:52<59:55,  3.90s/it]"
     ]
    },
    {
     "name": "stdout",
     "output_type": "stream",
     "text": [
      "[x] Opening connection to prob16.geekgame.pku.edu.cn on port 10016\n",
      "[x] Opening connection to prob16.geekgame.pku.edu.cn on port 10016: Trying 115.27.246.20\n",
      "[+] Opening connection to prob16.geekgame.pku.edu.cn on port 10016: Done\n"
     ]
    },
    {
     "name": "stderr",
     "output_type": "stream",
     "text": [
      "\r",
      "  8%|▊         | 78/1000 [04:56<59:58,  3.90s/it]"
     ]
    },
    {
     "name": "stdout",
     "output_type": "stream",
     "text": [
      "[x] Opening connection to prob16.geekgame.pku.edu.cn on port 10016\n",
      "[x] Opening connection to prob16.geekgame.pku.edu.cn on port 10016: Trying 115.27.246.20\n",
      "[+] Opening connection to prob16.geekgame.pku.edu.cn on port 10016: Done\n"
     ]
    },
    {
     "name": "stderr",
     "output_type": "stream",
     "text": [
      "\r",
      "  8%|▊         | 79/1000 [05:00<1:01:08,  3.98s/it]"
     ]
    },
    {
     "name": "stdout",
     "output_type": "stream",
     "text": [
      "[x] Opening connection to prob16.geekgame.pku.edu.cn on port 10016\n",
      "[x] Opening connection to prob16.geekgame.pku.edu.cn on port 10016: Trying 115.27.246.20\n",
      "[+] Opening connection to prob16.geekgame.pku.edu.cn on port 10016: Done\n"
     ]
    },
    {
     "name": "stderr",
     "output_type": "stream",
     "text": [
      "\r",
      "  8%|▊         | 80/1000 [05:04<59:13,  3.86s/it]  "
     ]
    },
    {
     "name": "stdout",
     "output_type": "stream",
     "text": [
      "[x] Opening connection to prob16.geekgame.pku.edu.cn on port 10016\n",
      "[x] Opening connection to prob16.geekgame.pku.edu.cn on port 10016: Trying 115.27.246.20\n",
      "[+] Opening connection to prob16.geekgame.pku.edu.cn on port 10016: Done\n"
     ]
    },
    {
     "name": "stderr",
     "output_type": "stream",
     "text": [
      "\r",
      "  8%|▊         | 81/1000 [05:07<58:41,  3.83s/it]"
     ]
    },
    {
     "name": "stdout",
     "output_type": "stream",
     "text": [
      "90\n",
      "[x] Opening connection to prob16.geekgame.pku.edu.cn on port 10016\n",
      "[x] Opening connection to prob16.geekgame.pku.edu.cn on port 10016: Trying 115.27.246.20\n",
      "[+] Opening connection to prob16.geekgame.pku.edu.cn on port 10016: Done\n"
     ]
    },
    {
     "name": "stderr",
     "output_type": "stream",
     "text": [
      "\r",
      "  8%|▊         | 82/1000 [05:11<58:50,  3.85s/it]"
     ]
    },
    {
     "name": "stdout",
     "output_type": "stream",
     "text": [
      "[x] Opening connection to prob16.geekgame.pku.edu.cn on port 10016\n",
      "[x] Opening connection to prob16.geekgame.pku.edu.cn on port 10016: Trying 115.27.246.20\n",
      "[+] Opening connection to prob16.geekgame.pku.edu.cn on port 10016: Done\n"
     ]
    },
    {
     "name": "stderr",
     "output_type": "stream",
     "text": [
      "\r",
      "  8%|▊         | 83/1000 [05:15<58:07,  3.80s/it]"
     ]
    },
    {
     "name": "stdout",
     "output_type": "stream",
     "text": [
      "70\n",
      "[x] Opening connection to prob16.geekgame.pku.edu.cn on port 10016\n",
      "[x] Opening connection to prob16.geekgame.pku.edu.cn on port 10016: Trying 115.27.246.20\n",
      "[+] Opening connection to prob16.geekgame.pku.edu.cn on port 10016: Done\n"
     ]
    },
    {
     "name": "stderr",
     "output_type": "stream",
     "text": [
      "\r",
      "  8%|▊         | 84/1000 [05:19<58:41,  3.84s/it]"
     ]
    },
    {
     "name": "stdout",
     "output_type": "stream",
     "text": [
      "80\n",
      "[x] Opening connection to prob16.geekgame.pku.edu.cn on port 10016\n",
      "[x] Opening connection to prob16.geekgame.pku.edu.cn on port 10016: Trying 115.27.246.20\n",
      "[+] Opening connection to prob16.geekgame.pku.edu.cn on port 10016: Done\n"
     ]
    },
    {
     "name": "stderr",
     "output_type": "stream",
     "text": [
      "\r",
      "  8%|▊         | 85/1000 [05:23<58:01,  3.80s/it]"
     ]
    },
    {
     "name": "stdout",
     "output_type": "stream",
     "text": [
      "80\n",
      "[x] Opening connection to prob16.geekgame.pku.edu.cn on port 10016\n",
      "[x] Opening connection to prob16.geekgame.pku.edu.cn on port 10016: Trying 115.27.246.20\n",
      "[+] Opening connection to prob16.geekgame.pku.edu.cn on port 10016: Done\n"
     ]
    },
    {
     "name": "stderr",
     "output_type": "stream",
     "text": [
      "\r",
      "  9%|▊         | 86/1000 [05:26<57:41,  3.79s/it]"
     ]
    },
    {
     "name": "stdout",
     "output_type": "stream",
     "text": [
      "[x] Opening connection to prob16.geekgame.pku.edu.cn on port 10016\n",
      "[x] Opening connection to prob16.geekgame.pku.edu.cn on port 10016: Trying 115.27.246.20\n",
      "[+] Opening connection to prob16.geekgame.pku.edu.cn on port 10016: Done\n"
     ]
    },
    {
     "name": "stderr",
     "output_type": "stream",
     "text": [
      "\r",
      "  9%|▊         | 87/1000 [05:30<58:38,  3.85s/it]"
     ]
    },
    {
     "name": "stdout",
     "output_type": "stream",
     "text": [
      "45\n",
      "[x] Opening connection to prob16.geekgame.pku.edu.cn on port 10016\n",
      "[x] Opening connection to prob16.geekgame.pku.edu.cn on port 10016: Trying 115.27.246.20\n",
      "[+] Opening connection to prob16.geekgame.pku.edu.cn on port 10016: Done\n"
     ]
    },
    {
     "name": "stderr",
     "output_type": "stream",
     "text": [
      "\r",
      "  9%|▉         | 88/1000 [05:34<57:34,  3.79s/it]"
     ]
    },
    {
     "name": "stdout",
     "output_type": "stream",
     "text": [
      "70\n",
      "[x] Opening connection to prob16.geekgame.pku.edu.cn on port 10016\n",
      "[x] Opening connection to prob16.geekgame.pku.edu.cn on port 10016: Trying 115.27.246.20\n",
      "[+] Opening connection to prob16.geekgame.pku.edu.cn on port 10016: Done\n"
     ]
    },
    {
     "name": "stderr",
     "output_type": "stream",
     "text": [
      "\r",
      "  9%|▉         | 89/1000 [05:38<57:43,  3.80s/it]"
     ]
    },
    {
     "name": "stdout",
     "output_type": "stream",
     "text": [
      "[x] Opening connection to prob16.geekgame.pku.edu.cn on port 10016\n",
      "[x] Opening connection to prob16.geekgame.pku.edu.cn on port 10016: Trying 115.27.246.20\n",
      "[+] Opening connection to prob16.geekgame.pku.edu.cn on port 10016: Done\n"
     ]
    },
    {
     "name": "stderr",
     "output_type": "stream",
     "text": [
      "\r",
      "  9%|▉         | 90/1000 [05:42<57:05,  3.76s/it]"
     ]
    },
    {
     "name": "stdout",
     "output_type": "stream",
     "text": [
      "[x] Opening connection to prob16.geekgame.pku.edu.cn on port 10016\n",
      "[x] Opening connection to prob16.geekgame.pku.edu.cn on port 10016: Trying 115.27.246.20\n",
      "[+] Opening connection to prob16.geekgame.pku.edu.cn on port 10016: Done\n"
     ]
    },
    {
     "name": "stderr",
     "output_type": "stream",
     "text": [
      "\r",
      "  9%|▉         | 91/1000 [05:45<56:49,  3.75s/it]"
     ]
    },
    {
     "name": "stdout",
     "output_type": "stream",
     "text": [
      "[x] Opening connection to prob16.geekgame.pku.edu.cn on port 10016\n",
      "[x] Opening connection to prob16.geekgame.pku.edu.cn on port 10016: Trying 115.27.246.20\n",
      "[+] Opening connection to prob16.geekgame.pku.edu.cn on port 10016: Done\n"
     ]
    },
    {
     "name": "stderr",
     "output_type": "stream",
     "text": [
      "\r",
      "  9%|▉         | 92/1000 [05:49<56:35,  3.74s/it]"
     ]
    },
    {
     "name": "stdout",
     "output_type": "stream",
     "text": [
      "70\n",
      "[x] Opening connection to prob16.geekgame.pku.edu.cn on port 10016\n",
      "[x] Opening connection to prob16.geekgame.pku.edu.cn on port 10016: Trying 115.27.246.20\n",
      "[+] Opening connection to prob16.geekgame.pku.edu.cn on port 10016: Done\n"
     ]
    },
    {
     "name": "stderr",
     "output_type": "stream",
     "text": [
      "\r",
      "  9%|▉         | 93/1000 [05:53<57:04,  3.78s/it]"
     ]
    },
    {
     "name": "stdout",
     "output_type": "stream",
     "text": [
      "70\n",
      "[x] Opening connection to prob16.geekgame.pku.edu.cn on port 10016\n",
      "[x] Opening connection to prob16.geekgame.pku.edu.cn on port 10016: Trying 115.27.246.20\n",
      "[+] Opening connection to prob16.geekgame.pku.edu.cn on port 10016: Done\n"
     ]
    },
    {
     "name": "stderr",
     "output_type": "stream",
     "text": [
      "\r",
      "  9%|▉         | 94/1000 [05:57<57:04,  3.78s/it]"
     ]
    },
    {
     "name": "stdout",
     "output_type": "stream",
     "text": [
      "[x] Opening connection to prob16.geekgame.pku.edu.cn on port 10016\n",
      "[x] Opening connection to prob16.geekgame.pku.edu.cn on port 10016: Trying 115.27.246.20\n",
      "[+] Opening connection to prob16.geekgame.pku.edu.cn on port 10016: Done\n"
     ]
    },
    {
     "name": "stderr",
     "output_type": "stream",
     "text": [
      "\r",
      " 10%|▉         | 95/1000 [06:01<57:44,  3.83s/it]"
     ]
    },
    {
     "name": "stdout",
     "output_type": "stream",
     "text": [
      "70\n",
      "[x] Opening connection to prob16.geekgame.pku.edu.cn on port 10016\n",
      "[x] Opening connection to prob16.geekgame.pku.edu.cn on port 10016: Trying 115.27.246.20\n",
      "[+] Opening connection to prob16.geekgame.pku.edu.cn on port 10016: Done\n"
     ]
    },
    {
     "name": "stderr",
     "output_type": "stream",
     "text": [
      "\r",
      " 10%|▉         | 96/1000 [06:04<57:02,  3.79s/it]"
     ]
    },
    {
     "name": "stdout",
     "output_type": "stream",
     "text": [
      "45\n",
      "[x] Opening connection to prob16.geekgame.pku.edu.cn on port 10016\n",
      "[x] Opening connection to prob16.geekgame.pku.edu.cn on port 10016: Trying 115.27.246.20\n",
      "[+] Opening connection to prob16.geekgame.pku.edu.cn on port 10016: Done\n"
     ]
    },
    {
     "name": "stderr",
     "output_type": "stream",
     "text": [
      "\r",
      " 10%|▉         | 97/1000 [06:08<59:04,  3.93s/it]"
     ]
    },
    {
     "name": "stdout",
     "output_type": "stream",
     "text": [
      "45\n",
      "[x] Opening connection to prob16.geekgame.pku.edu.cn on port 10016\n",
      "[x] Opening connection to prob16.geekgame.pku.edu.cn on port 10016: Trying 115.27.246.20\n",
      "[+] Opening connection to prob16.geekgame.pku.edu.cn on port 10016: Done\n"
     ]
    },
    {
     "name": "stderr",
     "output_type": "stream",
     "text": [
      "\r",
      " 10%|▉         | 98/1000 [06:12<57:55,  3.85s/it]"
     ]
    },
    {
     "name": "stdout",
     "output_type": "stream",
     "text": [
      "80\n",
      "[x] Opening connection to prob16.geekgame.pku.edu.cn on port 10016\n",
      "[x] Opening connection to prob16.geekgame.pku.edu.cn on port 10016: Trying 115.27.246.20\n",
      "[+] Opening connection to prob16.geekgame.pku.edu.cn on port 10016: Done\n"
     ]
    },
    {
     "name": "stderr",
     "output_type": "stream",
     "text": [
      "\r",
      " 10%|▉         | 99/1000 [06:16<56:59,  3.80s/it]"
     ]
    },
    {
     "name": "stdout",
     "output_type": "stream",
     "text": [
      "70\n",
      "[x] Opening connection to prob16.geekgame.pku.edu.cn on port 10016\n",
      "[x] Opening connection to prob16.geekgame.pku.edu.cn on port 10016: Trying 115.27.246.20\n",
      "[+] Opening connection to prob16.geekgame.pku.edu.cn on port 10016: Done\n"
     ]
    },
    {
     "name": "stderr",
     "output_type": "stream",
     "text": [
      "\r",
      " 10%|█         | 100/1000 [06:20<56:31,  3.77s/it]"
     ]
    },
    {
     "name": "stdout",
     "output_type": "stream",
     "text": [
      "80\n",
      "[x] Opening connection to prob16.geekgame.pku.edu.cn on port 10016\n",
      "[x] Opening connection to prob16.geekgame.pku.edu.cn on port 10016: Trying 115.27.246.20\n",
      "[+] Opening connection to prob16.geekgame.pku.edu.cn on port 10016: Done\n"
     ]
    },
    {
     "name": "stderr",
     "output_type": "stream",
     "text": [
      "\r",
      " 10%|█         | 101/1000 [06:23<56:11,  3.75s/it]"
     ]
    },
    {
     "name": "stdout",
     "output_type": "stream",
     "text": [
      "60\n",
      "[x] Opening connection to prob16.geekgame.pku.edu.cn on port 10016\n",
      "[x] Opening connection to prob16.geekgame.pku.edu.cn on port 10016: Trying 115.27.246.20\n",
      "[+] Opening connection to prob16.geekgame.pku.edu.cn on port 10016: Done\n"
     ]
    },
    {
     "name": "stderr",
     "output_type": "stream",
     "text": [
      "\r",
      " 10%|█         | 102/1000 [06:27<56:24,  3.77s/it]"
     ]
    },
    {
     "name": "stdout",
     "output_type": "stream",
     "text": [
      "[x] Opening connection to prob16.geekgame.pku.edu.cn on port 10016\n",
      "[x] Opening connection to prob16.geekgame.pku.edu.cn on port 10016: Trying 115.27.246.20\n",
      "[+] Opening connection to prob16.geekgame.pku.edu.cn on port 10016: Done\n"
     ]
    },
    {
     "name": "stderr",
     "output_type": "stream",
     "text": [
      "\r",
      " 10%|█         | 103/1000 [06:31<55:50,  3.74s/it]"
     ]
    },
    {
     "name": "stdout",
     "output_type": "stream",
     "text": [
      "105\n",
      "[x] Opening connection to prob16.geekgame.pku.edu.cn on port 10016\n",
      "[x] Opening connection to prob16.geekgame.pku.edu.cn on port 10016: Trying 115.27.246.20\n",
      "[+] Opening connection to prob16.geekgame.pku.edu.cn on port 10016: Done\n"
     ]
    },
    {
     "name": "stderr",
     "output_type": "stream",
     "text": [
      "\r",
      " 10%|█         | 104/1000 [06:35<56:18,  3.77s/it]"
     ]
    },
    {
     "name": "stdout",
     "output_type": "stream",
     "text": [
      "[x] Opening connection to prob16.geekgame.pku.edu.cn on port 10016\n",
      "[x] Opening connection to prob16.geekgame.pku.edu.cn on port 10016: Trying 115.27.246.20\n",
      "[+] Opening connection to prob16.geekgame.pku.edu.cn on port 10016: Done\n"
     ]
    },
    {
     "name": "stderr",
     "output_type": "stream",
     "text": [
      "\r",
      " 10%|█         | 105/1000 [06:39<57:11,  3.83s/it]"
     ]
    },
    {
     "name": "stdout",
     "output_type": "stream",
     "text": [
      "[x] Opening connection to prob16.geekgame.pku.edu.cn on port 10016\n",
      "[x] Opening connection to prob16.geekgame.pku.edu.cn on port 10016: Trying 115.27.246.20\n",
      "[+] Opening connection to prob16.geekgame.pku.edu.cn on port 10016: Done\n"
     ]
    },
    {
     "name": "stderr",
     "output_type": "stream",
     "text": [
      "\r",
      " 11%|█         | 106/1000 [06:42<57:05,  3.83s/it]"
     ]
    },
    {
     "name": "stdout",
     "output_type": "stream",
     "text": [
      "80\n",
      "[x] Opening connection to prob16.geekgame.pku.edu.cn on port 10016\n",
      "[x] Opening connection to prob16.geekgame.pku.edu.cn on port 10016: Trying 115.27.246.20\n",
      "[+] Opening connection to prob16.geekgame.pku.edu.cn on port 10016: Done\n"
     ]
    },
    {
     "name": "stderr",
     "output_type": "stream",
     "text": [
      "\r",
      " 11%|█         | 107/1000 [06:46<56:43,  3.81s/it]"
     ]
    },
    {
     "name": "stdout",
     "output_type": "stream",
     "text": [
      "80\n",
      "[x] Opening connection to prob16.geekgame.pku.edu.cn on port 10016\n",
      "[x] Opening connection to prob16.geekgame.pku.edu.cn on port 10016: Trying 115.27.246.20\n",
      "[+] Opening connection to prob16.geekgame.pku.edu.cn on port 10016: Done\n"
     ]
    },
    {
     "name": "stderr",
     "output_type": "stream",
     "text": [
      "\r",
      " 11%|█         | 108/1000 [06:50<56:54,  3.83s/it]"
     ]
    },
    {
     "name": "stdout",
     "output_type": "stream",
     "text": [
      "[x] Opening connection to prob16.geekgame.pku.edu.cn on port 10016\n",
      "[x] Opening connection to prob16.geekgame.pku.edu.cn on port 10016: Trying 115.27.246.20\n",
      "[+] Opening connection to prob16.geekgame.pku.edu.cn on port 10016: Done\n"
     ]
    },
    {
     "name": "stderr",
     "output_type": "stream",
     "text": [
      "\r",
      " 11%|█         | 109/1000 [06:54<56:13,  3.79s/it]"
     ]
    },
    {
     "name": "stdout",
     "output_type": "stream",
     "text": [
      "55\n",
      "[x] Opening connection to prob16.geekgame.pku.edu.cn on port 10016\n",
      "[x] Opening connection to prob16.geekgame.pku.edu.cn on port 10016: Trying 115.27.246.20\n",
      "[+] Opening connection to prob16.geekgame.pku.edu.cn on port 10016: Done\n"
     ]
    },
    {
     "name": "stderr",
     "output_type": "stream",
     "text": [
      "\r",
      " 11%|█         | 110/1000 [06:57<55:49,  3.76s/it]"
     ]
    },
    {
     "name": "stdout",
     "output_type": "stream",
     "text": [
      "90\n",
      "[x] Opening connection to prob16.geekgame.pku.edu.cn on port 10016\n",
      "[x] Opening connection to prob16.geekgame.pku.edu.cn on port 10016: Trying 115.27.246.20\n",
      "[+] Opening connection to prob16.geekgame.pku.edu.cn on port 10016: Done\n"
     ]
    },
    {
     "name": "stderr",
     "output_type": "stream",
     "text": [
      "\r",
      " 11%|█         | 111/1000 [07:01<55:54,  3.77s/it]"
     ]
    },
    {
     "name": "stdout",
     "output_type": "stream",
     "text": [
      "90\n",
      "[x] Opening connection to prob16.geekgame.pku.edu.cn on port 10016\n",
      "[x] Opening connection to prob16.geekgame.pku.edu.cn on port 10016: Trying 115.27.246.20\n",
      "[+] Opening connection to prob16.geekgame.pku.edu.cn on port 10016: Done\n"
     ]
    },
    {
     "name": "stderr",
     "output_type": "stream",
     "text": [
      "\r",
      " 11%|█         | 112/1000 [07:05<57:09,  3.86s/it]"
     ]
    },
    {
     "name": "stdout",
     "output_type": "stream",
     "text": [
      "55\n",
      "[x] Opening connection to prob16.geekgame.pku.edu.cn on port 10016\n",
      "[x] Opening connection to prob16.geekgame.pku.edu.cn on port 10016: Trying 115.27.246.20\n",
      "[+] Opening connection to prob16.geekgame.pku.edu.cn on port 10016: Done\n"
     ]
    },
    {
     "name": "stderr",
     "output_type": "stream",
     "text": [
      "\r",
      " 11%|█▏        | 113/1000 [07:09<56:36,  3.83s/it]"
     ]
    },
    {
     "name": "stdout",
     "output_type": "stream",
     "text": [
      "70\n",
      "[x] Opening connection to prob16.geekgame.pku.edu.cn on port 10016\n",
      "[x] Opening connection to prob16.geekgame.pku.edu.cn on port 10016: Trying 115.27.246.20\n",
      "[+] Opening connection to prob16.geekgame.pku.edu.cn on port 10016: Done\n"
     ]
    },
    {
     "name": "stderr",
     "output_type": "stream",
     "text": [
      "\r",
      " 11%|█▏        | 114/1000 [07:13<58:44,  3.98s/it]"
     ]
    },
    {
     "name": "stdout",
     "output_type": "stream",
     "text": [
      "55\n",
      "[x] Opening connection to prob16.geekgame.pku.edu.cn on port 10016\n",
      "[x] Opening connection to prob16.geekgame.pku.edu.cn on port 10016: Trying 115.27.246.20\n",
      "[+] Opening connection to prob16.geekgame.pku.edu.cn on port 10016: Done\n"
     ]
    },
    {
     "name": "stderr",
     "output_type": "stream",
     "text": [
      "\r",
      " 12%|█▏        | 115/1000 [07:17<57:26,  3.89s/it]"
     ]
    },
    {
     "name": "stdout",
     "output_type": "stream",
     "text": [
      "[x] Opening connection to prob16.geekgame.pku.edu.cn on port 10016\n",
      "[x] Opening connection to prob16.geekgame.pku.edu.cn on port 10016: Trying 115.27.246.20\n",
      "[+] Opening connection to prob16.geekgame.pku.edu.cn on port 10016: Done\n"
     ]
    },
    {
     "name": "stderr",
     "output_type": "stream",
     "text": [
      "\r",
      " 12%|█▏        | 116/1000 [07:21<57:03,  3.87s/it]"
     ]
    },
    {
     "name": "stdout",
     "output_type": "stream",
     "text": [
      "45\n",
      "[x] Opening connection to prob16.geekgame.pku.edu.cn on port 10016\n",
      "[x] Opening connection to prob16.geekgame.pku.edu.cn on port 10016: Trying 115.27.246.20\n",
      "[+] Opening connection to prob16.geekgame.pku.edu.cn on port 10016: Done\n"
     ]
    },
    {
     "name": "stderr",
     "output_type": "stream",
     "text": [
      "\r",
      " 12%|█▏        | 117/1000 [07:25<56:16,  3.82s/it]"
     ]
    },
    {
     "name": "stdout",
     "output_type": "stream",
     "text": [
      "[x] Opening connection to prob16.geekgame.pku.edu.cn on port 10016\n",
      "[x] Opening connection to prob16.geekgame.pku.edu.cn on port 10016: Trying 115.27.246.20\n",
      "[+] Opening connection to prob16.geekgame.pku.edu.cn on port 10016: Done\n"
     ]
    },
    {
     "name": "stderr",
     "output_type": "stream",
     "text": [
      "\r",
      " 12%|█▏        | 118/1000 [07:29<58:46,  4.00s/it]"
     ]
    },
    {
     "name": "stdout",
     "output_type": "stream",
     "text": [
      "80\n",
      "[x] Opening connection to prob16.geekgame.pku.edu.cn on port 10016\n",
      "[x] Opening connection to prob16.geekgame.pku.edu.cn on port 10016: Trying 115.27.246.20\n",
      "[+] Opening connection to prob16.geekgame.pku.edu.cn on port 10016: Done\n"
     ]
    },
    {
     "name": "stderr",
     "output_type": "stream",
     "text": [
      "\r",
      " 12%|█▏        | 119/1000 [07:33<57:07,  3.89s/it]"
     ]
    },
    {
     "name": "stdout",
     "output_type": "stream",
     "text": [
      "55\n",
      "[x] Opening connection to prob16.geekgame.pku.edu.cn on port 10016\n",
      "[x] Opening connection to prob16.geekgame.pku.edu.cn on port 10016: Trying 115.27.246.20\n",
      "[+] Opening connection to prob16.geekgame.pku.edu.cn on port 10016: Done\n"
     ]
    },
    {
     "name": "stderr",
     "output_type": "stream",
     "text": [
      "\r",
      " 12%|█▏        | 120/1000 [07:36<56:07,  3.83s/it]"
     ]
    },
    {
     "name": "stdout",
     "output_type": "stream",
     "text": [
      "55\n",
      "[x] Opening connection to prob16.geekgame.pku.edu.cn on port 10016\n",
      "[x] Opening connection to prob16.geekgame.pku.edu.cn on port 10016: Trying 115.27.246.20\n",
      "[+] Opening connection to prob16.geekgame.pku.edu.cn on port 10016: Done\n"
     ]
    },
    {
     "name": "stderr",
     "output_type": "stream",
     "text": [
      "\r",
      " 12%|█▏        | 121/1000 [07:40<55:27,  3.79s/it]"
     ]
    },
    {
     "name": "stdout",
     "output_type": "stream",
     "text": [
      "70\n",
      "[x] Opening connection to prob16.geekgame.pku.edu.cn on port 10016\n",
      "[x] Opening connection to prob16.geekgame.pku.edu.cn on port 10016: Trying 115.27.246.20\n",
      "[+] Opening connection to prob16.geekgame.pku.edu.cn on port 10016: Done\n"
     ]
    },
    {
     "name": "stderr",
     "output_type": "stream",
     "text": [
      "\r",
      " 12%|█▏        | 122/1000 [07:44<55:12,  3.77s/it]"
     ]
    },
    {
     "name": "stdout",
     "output_type": "stream",
     "text": [
      "[x] Opening connection to prob16.geekgame.pku.edu.cn on port 10016\n",
      "[x] Opening connection to prob16.geekgame.pku.edu.cn on port 10016: Trying 115.27.246.20\n",
      "[+] Opening connection to prob16.geekgame.pku.edu.cn on port 10016: Done\n"
     ]
    },
    {
     "name": "stderr",
     "output_type": "stream",
     "text": [
      "\r",
      " 12%|█▏        | 123/1000 [07:48<55:21,  3.79s/it]"
     ]
    },
    {
     "name": "stdout",
     "output_type": "stream",
     "text": [
      "80\n",
      "[x] Opening connection to prob16.geekgame.pku.edu.cn on port 10016\n",
      "[x] Opening connection to prob16.geekgame.pku.edu.cn on port 10016: Trying 115.27.246.20\n",
      "[+] Opening connection to prob16.geekgame.pku.edu.cn on port 10016: Done\n"
     ]
    },
    {
     "name": "stderr",
     "output_type": "stream",
     "text": [
      "\r",
      " 12%|█▏        | 124/1000 [07:51<55:12,  3.78s/it]"
     ]
    },
    {
     "name": "stdout",
     "output_type": "stream",
     "text": [
      "[x] Opening connection to prob16.geekgame.pku.edu.cn on port 10016\n",
      "[x] Opening connection to prob16.geekgame.pku.edu.cn on port 10016: Trying 115.27.246.20\n",
      "[+] Opening connection to prob16.geekgame.pku.edu.cn on port 10016: Done\n"
     ]
    },
    {
     "name": "stderr",
     "output_type": "stream",
     "text": [
      "\r",
      " 12%|█▎        | 125/1000 [07:55<55:20,  3.79s/it]"
     ]
    },
    {
     "name": "stdout",
     "output_type": "stream",
     "text": [
      "[x] Opening connection to prob16.geekgame.pku.edu.cn on port 10016\n",
      "[x] Opening connection to prob16.geekgame.pku.edu.cn on port 10016: Trying 115.27.246.20\n",
      "[+] Opening connection to prob16.geekgame.pku.edu.cn on port 10016: Done\n"
     ]
    },
    {
     "name": "stderr",
     "output_type": "stream",
     "text": [
      "\r",
      " 13%|█▎        | 126/1000 [07:59<55:17,  3.80s/it]"
     ]
    },
    {
     "name": "stdout",
     "output_type": "stream",
     "text": [
      "[x] Opening connection to prob16.geekgame.pku.edu.cn on port 10016\n",
      "[x] Opening connection to prob16.geekgame.pku.edu.cn on port 10016: Trying 115.27.246.20\n",
      "[+] Opening connection to prob16.geekgame.pku.edu.cn on port 10016: Done\n"
     ]
    },
    {
     "name": "stderr",
     "output_type": "stream",
     "text": [
      "\r",
      " 13%|█▎        | 127/1000 [08:03<57:42,  3.97s/it]"
     ]
    },
    {
     "name": "stdout",
     "output_type": "stream",
     "text": [
      "45\n",
      "[x] Opening connection to prob16.geekgame.pku.edu.cn on port 10016\n",
      "[x] Opening connection to prob16.geekgame.pku.edu.cn on port 10016: Trying 115.27.246.20\n",
      "[+] Opening connection to prob16.geekgame.pku.edu.cn on port 10016: Done\n"
     ]
    },
    {
     "name": "stderr",
     "output_type": "stream",
     "text": [
      "\r",
      " 13%|█▎        | 128/1000 [08:07<57:46,  3.98s/it]"
     ]
    },
    {
     "name": "stdout",
     "output_type": "stream",
     "text": [
      "65\n",
      "[x] Opening connection to prob16.geekgame.pku.edu.cn on port 10016\n",
      "[x] Opening connection to prob16.geekgame.pku.edu.cn on port 10016: Trying 115.27.246.20\n",
      "[+] Opening connection to prob16.geekgame.pku.edu.cn on port 10016: Done\n"
     ]
    },
    {
     "name": "stderr",
     "output_type": "stream",
     "text": [
      "\r",
      " 13%|█▎        | 129/1000 [08:11<57:57,  3.99s/it]"
     ]
    },
    {
     "name": "stdout",
     "output_type": "stream",
     "text": [
      "[x] Opening connection to prob16.geekgame.pku.edu.cn on port 10016\n",
      "[x] Opening connection to prob16.geekgame.pku.edu.cn on port 10016: Trying 115.27.246.20\n",
      "[+] Opening connection to prob16.geekgame.pku.edu.cn on port 10016: Done\n"
     ]
    },
    {
     "name": "stderr",
     "output_type": "stream",
     "text": [
      "\r",
      " 13%|█▎        | 130/1000 [08:15<57:01,  3.93s/it]"
     ]
    },
    {
     "name": "stdout",
     "output_type": "stream",
     "text": [
      "65\n",
      "[x] Opening connection to prob16.geekgame.pku.edu.cn on port 10016\n",
      "[x] Opening connection to prob16.geekgame.pku.edu.cn on port 10016: Trying 115.27.246.20\n",
      "[+] Opening connection to prob16.geekgame.pku.edu.cn on port 10016: Done\n"
     ]
    },
    {
     "name": "stderr",
     "output_type": "stream",
     "text": [
      "\r",
      " 13%|█▎        | 131/1000 [08:19<56:46,  3.92s/it]"
     ]
    },
    {
     "name": "stdout",
     "output_type": "stream",
     "text": [
      "95\n",
      "[x] Opening connection to prob16.geekgame.pku.edu.cn on port 10016\n",
      "[x] Opening connection to prob16.geekgame.pku.edu.cn on port 10016: Trying 115.27.246.20\n",
      "[+] Opening connection to prob16.geekgame.pku.edu.cn on port 10016: Done\n"
     ]
    },
    {
     "name": "stderr",
     "output_type": "stream",
     "text": [
      "\r",
      " 13%|█▎        | 132/1000 [08:23<55:56,  3.87s/it]"
     ]
    },
    {
     "name": "stdout",
     "output_type": "stream",
     "text": [
      "[x] Opening connection to prob16.geekgame.pku.edu.cn on port 10016\n",
      "[x] Opening connection to prob16.geekgame.pku.edu.cn on port 10016: Trying 115.27.246.20\n",
      "[+] Opening connection to prob16.geekgame.pku.edu.cn on port 10016: Done\n"
     ]
    },
    {
     "name": "stderr",
     "output_type": "stream",
     "text": [
      "\r",
      " 13%|█▎        | 133/1000 [08:27<55:59,  3.87s/it]"
     ]
    },
    {
     "name": "stdout",
     "output_type": "stream",
     "text": [
      "[x] Opening connection to prob16.geekgame.pku.edu.cn on port 10016\n",
      "[x] Opening connection to prob16.geekgame.pku.edu.cn on port 10016: Trying 115.27.246.20\n",
      "[+] Opening connection to prob16.geekgame.pku.edu.cn on port 10016: Done\n"
     ]
    },
    {
     "name": "stderr",
     "output_type": "stream",
     "text": [
      "\r",
      " 13%|█▎        | 134/1000 [08:30<55:08,  3.82s/it]"
     ]
    },
    {
     "name": "stdout",
     "output_type": "stream",
     "text": [
      "[x] Opening connection to prob16.geekgame.pku.edu.cn on port 10016\n",
      "[x] Opening connection to prob16.geekgame.pku.edu.cn on port 10016: Trying 115.27.246.20\n",
      "[+] Opening connection to prob16.geekgame.pku.edu.cn on port 10016: Done\n"
     ]
    },
    {
     "name": "stderr",
     "output_type": "stream",
     "text": [
      "\r",
      " 14%|█▎        | 135/1000 [08:34<54:01,  3.75s/it]"
     ]
    },
    {
     "name": "stdout",
     "output_type": "stream",
     "text": [
      "[x] Opening connection to prob16.geekgame.pku.edu.cn on port 10016\n",
      "[x] Opening connection to prob16.geekgame.pku.edu.cn on port 10016: Trying 115.27.246.20\n",
      "[+] Opening connection to prob16.geekgame.pku.edu.cn on port 10016: Done\n"
     ]
    },
    {
     "name": "stderr",
     "output_type": "stream",
     "text": [
      "\r",
      " 14%|█▎        | 136/1000 [08:39<58:28,  4.06s/it]"
     ]
    },
    {
     "name": "stdout",
     "output_type": "stream",
     "text": [
      "70\n",
      "[x] Opening connection to prob16.geekgame.pku.edu.cn on port 10016\n",
      "[x] Opening connection to prob16.geekgame.pku.edu.cn on port 10016: Trying 115.27.246.20\n",
      "[+] Opening connection to prob16.geekgame.pku.edu.cn on port 10016: Done\n"
     ]
    },
    {
     "name": "stderr",
     "output_type": "stream",
     "text": [
      "\r",
      " 14%|█▎        | 137/1000 [08:43<57:21,  3.99s/it]"
     ]
    },
    {
     "name": "stdout",
     "output_type": "stream",
     "text": [
      "[x] Opening connection to prob16.geekgame.pku.edu.cn on port 10016\n",
      "[x] Opening connection to prob16.geekgame.pku.edu.cn on port 10016: Trying 115.27.246.20\n",
      "[+] Opening connection to prob16.geekgame.pku.edu.cn on port 10016: Done\n"
     ]
    },
    {
     "name": "stderr",
     "output_type": "stream",
     "text": [
      "\r",
      " 14%|█▍        | 138/1000 [08:46<55:43,  3.88s/it]"
     ]
    },
    {
     "name": "stdout",
     "output_type": "stream",
     "text": [
      "95\n",
      "[x] Opening connection to prob16.geekgame.pku.edu.cn on port 10016\n",
      "[x] Opening connection to prob16.geekgame.pku.edu.cn on port 10016: Trying 115.27.246.20\n",
      "[+] Opening connection to prob16.geekgame.pku.edu.cn on port 10016: Done\n"
     ]
    },
    {
     "name": "stderr",
     "output_type": "stream",
     "text": [
      "\r",
      " 14%|█▍        | 139/1000 [08:50<56:13,  3.92s/it]"
     ]
    },
    {
     "name": "stdout",
     "output_type": "stream",
     "text": [
      "[x] Opening connection to prob16.geekgame.pku.edu.cn on port 10016\n",
      "[x] Opening connection to prob16.geekgame.pku.edu.cn on port 10016: Trying 115.27.246.20\n",
      "[+] Opening connection to prob16.geekgame.pku.edu.cn on port 10016: Done\n"
     ]
    },
    {
     "name": "stderr",
     "output_type": "stream",
     "text": [
      "\r",
      " 14%|█▍        | 140/1000 [08:54<55:41,  3.89s/it]"
     ]
    },
    {
     "name": "stdout",
     "output_type": "stream",
     "text": [
      "95\n",
      "[x] Opening connection to prob16.geekgame.pku.edu.cn on port 10016\n",
      "[x] Opening connection to prob16.geekgame.pku.edu.cn on port 10016: Trying 115.27.246.20\n",
      "[+] Opening connection to prob16.geekgame.pku.edu.cn on port 10016: Done\n"
     ]
    },
    {
     "name": "stderr",
     "output_type": "stream",
     "text": [
      "\r",
      " 14%|█▍        | 141/1000 [08:58<56:13,  3.93s/it]"
     ]
    },
    {
     "name": "stdout",
     "output_type": "stream",
     "text": [
      "75\n",
      "[x] Opening connection to prob16.geekgame.pku.edu.cn on port 10016\n",
      "[x] Opening connection to prob16.geekgame.pku.edu.cn on port 10016: Trying 115.27.246.20\n",
      "[+] Opening connection to prob16.geekgame.pku.edu.cn on port 10016: Done\n"
     ]
    },
    {
     "name": "stderr",
     "output_type": "stream",
     "text": [
      "\r",
      " 14%|█▍        | 142/1000 [09:02<57:40,  4.03s/it]"
     ]
    },
    {
     "name": "stdout",
     "output_type": "stream",
     "text": [
      "[x] Opening connection to prob16.geekgame.pku.edu.cn on port 10016\n",
      "[x] Opening connection to prob16.geekgame.pku.edu.cn on port 10016: Trying 115.27.246.20\n",
      "[+] Opening connection to prob16.geekgame.pku.edu.cn on port 10016: Done\n"
     ]
    },
    {
     "name": "stderr",
     "output_type": "stream",
     "text": [
      "\r",
      " 14%|█▍        | 143/1000 [09:06<56:10,  3.93s/it]"
     ]
    },
    {
     "name": "stdout",
     "output_type": "stream",
     "text": [
      "70\n",
      "[x] Opening connection to prob16.geekgame.pku.edu.cn on port 10016\n",
      "[x] Opening connection to prob16.geekgame.pku.edu.cn on port 10016: Trying 115.27.246.20\n",
      "[+] Opening connection to prob16.geekgame.pku.edu.cn on port 10016: Done\n"
     ]
    },
    {
     "name": "stderr",
     "output_type": "stream",
     "text": [
      "\r",
      " 14%|█▍        | 144/1000 [09:10<55:49,  3.91s/it]"
     ]
    },
    {
     "name": "stdout",
     "output_type": "stream",
     "text": [
      "[x] Opening connection to prob16.geekgame.pku.edu.cn on port 10016\n",
      "[x] Opening connection to prob16.geekgame.pku.edu.cn on port 10016: Trying 115.27.246.20\n",
      "[+] Opening connection to prob16.geekgame.pku.edu.cn on port 10016: Done\n"
     ]
    },
    {
     "name": "stderr",
     "output_type": "stream",
     "text": [
      "\r",
      " 14%|█▍        | 145/1000 [09:14<55:00,  3.86s/it]"
     ]
    },
    {
     "name": "stdout",
     "output_type": "stream",
     "text": [
      "[x] Opening connection to prob16.geekgame.pku.edu.cn on port 10016\n",
      "[x] Opening connection to prob16.geekgame.pku.edu.cn on port 10016: Trying 115.27.246.20\n",
      "[+] Opening connection to prob16.geekgame.pku.edu.cn on port 10016: Done\n"
     ]
    },
    {
     "name": "stderr",
     "output_type": "stream",
     "text": [
      "\r",
      " 15%|█▍        | 146/1000 [09:17<54:57,  3.86s/it]"
     ]
    },
    {
     "name": "stdout",
     "output_type": "stream",
     "text": [
      "45\n",
      "[x] Opening connection to prob16.geekgame.pku.edu.cn on port 10016\n",
      "[x] Opening connection to prob16.geekgame.pku.edu.cn on port 10016: Trying 115.27.246.20\n",
      "[+] Opening connection to prob16.geekgame.pku.edu.cn on port 10016: Done\n"
     ]
    },
    {
     "name": "stderr",
     "output_type": "stream",
     "text": [
      "\r",
      " 15%|█▍        | 147/1000 [09:21<54:08,  3.81s/it]"
     ]
    },
    {
     "name": "stdout",
     "output_type": "stream",
     "text": [
      "[x] Opening connection to prob16.geekgame.pku.edu.cn on port 10016\n",
      "[x] Opening connection to prob16.geekgame.pku.edu.cn on port 10016: Trying 115.27.246.20\n",
      "[+] Opening connection to prob16.geekgame.pku.edu.cn on port 10016: Done\n"
     ]
    },
    {
     "name": "stderr",
     "output_type": "stream",
     "text": [
      "\r",
      " 15%|█▍        | 148/1000 [09:25<53:39,  3.78s/it]"
     ]
    },
    {
     "name": "stdout",
     "output_type": "stream",
     "text": [
      "[x] Opening connection to prob16.geekgame.pku.edu.cn on port 10016\n",
      "[x] Opening connection to prob16.geekgame.pku.edu.cn on port 10016: Trying 115.27.246.20\n",
      "[+] Opening connection to prob16.geekgame.pku.edu.cn on port 10016: Done\n"
     ]
    },
    {
     "name": "stderr",
     "output_type": "stream",
     "text": [
      "\r",
      " 15%|█▍        | 149/1000 [09:29<54:21,  3.83s/it]"
     ]
    },
    {
     "name": "stdout",
     "output_type": "stream",
     "text": [
      "70\n",
      "[x] Opening connection to prob16.geekgame.pku.edu.cn on port 10016\n",
      "[x] Opening connection to prob16.geekgame.pku.edu.cn on port 10016: Trying 115.27.246.20\n",
      "[+] Opening connection to prob16.geekgame.pku.edu.cn on port 10016: Done\n"
     ]
    },
    {
     "name": "stderr",
     "output_type": "stream",
     "text": [
      "\r",
      " 15%|█▌        | 150/1000 [09:33<53:51,  3.80s/it]"
     ]
    },
    {
     "name": "stdout",
     "output_type": "stream",
     "text": [
      "[x] Opening connection to prob16.geekgame.pku.edu.cn on port 10016\n",
      "[x] Opening connection to prob16.geekgame.pku.edu.cn on port 10016: Trying 115.27.246.20\n",
      "[+] Opening connection to prob16.geekgame.pku.edu.cn on port 10016: Done\n"
     ]
    },
    {
     "name": "stderr",
     "output_type": "stream",
     "text": [
      "\r",
      " 15%|█▌        | 151/1000 [09:36<53:45,  3.80s/it]"
     ]
    },
    {
     "name": "stdout",
     "output_type": "stream",
     "text": [
      "70\n",
      "[x] Opening connection to prob16.geekgame.pku.edu.cn on port 10016\n",
      "[x] Opening connection to prob16.geekgame.pku.edu.cn on port 10016: Trying 115.27.246.20\n",
      "[+] Opening connection to prob16.geekgame.pku.edu.cn on port 10016: Done\n"
     ]
    },
    {
     "name": "stderr",
     "output_type": "stream",
     "text": [
      "\r",
      " 15%|█▌        | 152/1000 [09:40<54:25,  3.85s/it]"
     ]
    },
    {
     "name": "stdout",
     "output_type": "stream",
     "text": [
      "105\n",
      "[x] Opening connection to prob16.geekgame.pku.edu.cn on port 10016\n",
      "[x] Opening connection to prob16.geekgame.pku.edu.cn on port 10016: Trying 115.27.246.20\n",
      "[+] Opening connection to prob16.geekgame.pku.edu.cn on port 10016: Done\n"
     ]
    },
    {
     "name": "stderr",
     "output_type": "stream",
     "text": [
      "\r",
      " 15%|█▌        | 153/1000 [09:44<54:26,  3.86s/it]"
     ]
    },
    {
     "name": "stdout",
     "output_type": "stream",
     "text": [
      "95\n",
      "[x] Opening connection to prob16.geekgame.pku.edu.cn on port 10016\n",
      "[x] Opening connection to prob16.geekgame.pku.edu.cn on port 10016: Trying 115.27.246.20\n",
      "[+] Opening connection to prob16.geekgame.pku.edu.cn on port 10016: Done\n"
     ]
    },
    {
     "name": "stderr",
     "output_type": "stream",
     "text": [
      "\r",
      " 15%|█▌        | 154/1000 [09:48<54:35,  3.87s/it]"
     ]
    },
    {
     "name": "stdout",
     "output_type": "stream",
     "text": [
      "[x] Opening connection to prob16.geekgame.pku.edu.cn on port 10016\n",
      "[x] Opening connection to prob16.geekgame.pku.edu.cn on port 10016: Trying 115.27.246.20\n",
      "[+] Opening connection to prob16.geekgame.pku.edu.cn on port 10016: Done\n"
     ]
    },
    {
     "name": "stderr",
     "output_type": "stream",
     "text": [
      "\r",
      " 16%|█▌        | 155/1000 [09:52<53:46,  3.82s/it]"
     ]
    },
    {
     "name": "stdout",
     "output_type": "stream",
     "text": [
      "[x] Opening connection to prob16.geekgame.pku.edu.cn on port 10016\n",
      "[x] Opening connection to prob16.geekgame.pku.edu.cn on port 10016: Trying 115.27.246.20\n",
      "[+] Opening connection to prob16.geekgame.pku.edu.cn on port 10016: Done\n"
     ]
    },
    {
     "name": "stderr",
     "output_type": "stream",
     "text": [
      "\r",
      " 16%|█▌        | 156/1000 [09:55<53:12,  3.78s/it]"
     ]
    },
    {
     "name": "stdout",
     "output_type": "stream",
     "text": [
      "[x] Opening connection to prob16.geekgame.pku.edu.cn on port 10016\n",
      "[x] Opening connection to prob16.geekgame.pku.edu.cn on port 10016: Trying 115.27.246.20\n",
      "[+] Opening connection to prob16.geekgame.pku.edu.cn on port 10016: Done\n"
     ]
    },
    {
     "name": "stderr",
     "output_type": "stream",
     "text": [
      "\r",
      " 16%|█▌        | 157/1000 [10:00<54:51,  3.90s/it]"
     ]
    },
    {
     "name": "stdout",
     "output_type": "stream",
     "text": [
      "55\n",
      "[x] Opening connection to prob16.geekgame.pku.edu.cn on port 10016\n",
      "[x] Opening connection to prob16.geekgame.pku.edu.cn on port 10016: Trying 115.27.246.20\n",
      "[+] Opening connection to prob16.geekgame.pku.edu.cn on port 10016: Done\n"
     ]
    },
    {
     "name": "stderr",
     "output_type": "stream",
     "text": [
      "\r",
      " 16%|█▌        | 158/1000 [10:03<54:02,  3.85s/it]"
     ]
    },
    {
     "name": "stdout",
     "output_type": "stream",
     "text": [
      "[x] Opening connection to prob16.geekgame.pku.edu.cn on port 10016\n",
      "[x] Opening connection to prob16.geekgame.pku.edu.cn on port 10016: Trying 115.27.246.20\n",
      "[+] Opening connection to prob16.geekgame.pku.edu.cn on port 10016: Done\n"
     ]
    },
    {
     "name": "stderr",
     "output_type": "stream",
     "text": [
      "\r",
      " 16%|█▌        | 159/1000 [10:07<53:04,  3.79s/it]"
     ]
    },
    {
     "name": "stdout",
     "output_type": "stream",
     "text": [
      "45\n",
      "[x] Opening connection to prob16.geekgame.pku.edu.cn on port 10016\n",
      "[x] Opening connection to prob16.geekgame.pku.edu.cn on port 10016: Trying 115.27.246.20\n",
      "[+] Opening connection to prob16.geekgame.pku.edu.cn on port 10016: Done\n"
     ]
    },
    {
     "name": "stderr",
     "output_type": "stream",
     "text": [
      "\r",
      " 16%|█▌        | 160/1000 [10:11<52:35,  3.76s/it]"
     ]
    },
    {
     "name": "stdout",
     "output_type": "stream",
     "text": [
      "[x] Opening connection to prob16.geekgame.pku.edu.cn on port 10016\n",
      "[x] Opening connection to prob16.geekgame.pku.edu.cn on port 10016: Trying 115.27.246.20\n",
      "[+] Opening connection to prob16.geekgame.pku.edu.cn on port 10016: Done\n"
     ]
    },
    {
     "name": "stderr",
     "output_type": "stream",
     "text": [
      "\r",
      " 16%|█▌        | 161/1000 [10:14<52:20,  3.74s/it]"
     ]
    },
    {
     "name": "stdout",
     "output_type": "stream",
     "text": [
      "[x] Opening connection to prob16.geekgame.pku.edu.cn on port 10016\n",
      "[x] Opening connection to prob16.geekgame.pku.edu.cn on port 10016: Trying 115.27.246.20\n",
      "[+] Opening connection to prob16.geekgame.pku.edu.cn on port 10016: Done\n"
     ]
    },
    {
     "name": "stderr",
     "output_type": "stream",
     "text": [
      "\r",
      " 16%|█▌        | 162/1000 [10:19<54:42,  3.92s/it]"
     ]
    },
    {
     "name": "stdout",
     "output_type": "stream",
     "text": [
      "[x] Opening connection to prob16.geekgame.pku.edu.cn on port 10016\n",
      "[x] Opening connection to prob16.geekgame.pku.edu.cn on port 10016: Trying 115.27.246.20\n",
      "[+] Opening connection to prob16.geekgame.pku.edu.cn on port 10016: Done\n"
     ]
    },
    {
     "name": "stderr",
     "output_type": "stream",
     "text": [
      "\r",
      " 16%|█▋        | 163/1000 [10:23<54:07,  3.88s/it]"
     ]
    },
    {
     "name": "stdout",
     "output_type": "stream",
     "text": [
      "105\n",
      "[x] Opening connection to prob16.geekgame.pku.edu.cn on port 10016\n",
      "[x] Opening connection to prob16.geekgame.pku.edu.cn on port 10016: Trying 115.27.246.20\n",
      "[+] Opening connection to prob16.geekgame.pku.edu.cn on port 10016: Done\n"
     ]
    },
    {
     "name": "stderr",
     "output_type": "stream",
     "text": [
      "\r",
      " 16%|█▋        | 164/1000 [10:26<53:34,  3.85s/it]"
     ]
    },
    {
     "name": "stdout",
     "output_type": "stream",
     "text": [
      "70\n",
      "[x] Opening connection to prob16.geekgame.pku.edu.cn on port 10016\n",
      "[x] Opening connection to prob16.geekgame.pku.edu.cn on port 10016: Trying 115.27.246.20\n",
      "[+] Opening connection to prob16.geekgame.pku.edu.cn on port 10016: Done\n"
     ]
    },
    {
     "name": "stderr",
     "output_type": "stream",
     "text": [
      "\r",
      " 16%|█▋        | 165/1000 [10:30<53:38,  3.85s/it]"
     ]
    },
    {
     "name": "stdout",
     "output_type": "stream",
     "text": [
      "65\n",
      "[x] Opening connection to prob16.geekgame.pku.edu.cn on port 10016\n",
      "[x] Opening connection to prob16.geekgame.pku.edu.cn on port 10016: Trying 115.27.246.20\n",
      "[+] Opening connection to prob16.geekgame.pku.edu.cn on port 10016: Done\n"
     ]
    },
    {
     "name": "stderr",
     "output_type": "stream",
     "text": [
      "\r",
      " 17%|█▋        | 166/1000 [10:34<53:33,  3.85s/it]"
     ]
    },
    {
     "name": "stdout",
     "output_type": "stream",
     "text": [
      "80\n",
      "[x] Opening connection to prob16.geekgame.pku.edu.cn on port 10016\n",
      "[x] Opening connection to prob16.geekgame.pku.edu.cn on port 10016: Trying 115.27.246.20\n",
      "[+] Opening connection to prob16.geekgame.pku.edu.cn on port 10016: Done\n"
     ]
    },
    {
     "name": "stderr",
     "output_type": "stream",
     "text": [
      "\r",
      " 17%|█▋        | 167/1000 [10:38<54:24,  3.92s/it]"
     ]
    },
    {
     "name": "stdout",
     "output_type": "stream",
     "text": [
      "55\n",
      "[x] Opening connection to prob16.geekgame.pku.edu.cn on port 10016\n",
      "[x] Opening connection to prob16.geekgame.pku.edu.cn on port 10016: Trying 115.27.246.20\n",
      "[+] Opening connection to prob16.geekgame.pku.edu.cn on port 10016: Done\n"
     ]
    },
    {
     "name": "stderr",
     "output_type": "stream",
     "text": [
      "\r",
      " 17%|█▋        | 168/1000 [10:42<54:09,  3.91s/it]"
     ]
    },
    {
     "name": "stdout",
     "output_type": "stream",
     "text": [
      "55\n",
      "[x] Opening connection to prob16.geekgame.pku.edu.cn on port 10016\n",
      "[x] Opening connection to prob16.geekgame.pku.edu.cn on port 10016: Trying 115.27.246.20\n",
      "[+] Opening connection to prob16.geekgame.pku.edu.cn on port 10016: Done\n"
     ]
    },
    {
     "name": "stderr",
     "output_type": "stream",
     "text": [
      "\r",
      " 17%|█▋        | 169/1000 [10:46<54:34,  3.94s/it]"
     ]
    },
    {
     "name": "stdout",
     "output_type": "stream",
     "text": [
      "60\n",
      "[x] Opening connection to prob16.geekgame.pku.edu.cn on port 10016\n",
      "[x] Opening connection to prob16.geekgame.pku.edu.cn on port 10016: Trying 115.27.246.20\n",
      "[+] Opening connection to prob16.geekgame.pku.edu.cn on port 10016: Done\n"
     ]
    },
    {
     "name": "stderr",
     "output_type": "stream",
     "text": [
      "\r",
      " 17%|█▋        | 170/1000 [10:50<53:37,  3.88s/it]"
     ]
    },
    {
     "name": "stdout",
     "output_type": "stream",
     "text": [
      "80\n",
      "[x] Opening connection to prob16.geekgame.pku.edu.cn on port 10016\n",
      "[x] Opening connection to prob16.geekgame.pku.edu.cn on port 10016: Trying 115.27.246.20\n",
      "[+] Opening connection to prob16.geekgame.pku.edu.cn on port 10016: Done\n"
     ]
    },
    {
     "name": "stderr",
     "output_type": "stream",
     "text": [
      "\r",
      " 17%|█▋        | 171/1000 [10:53<52:17,  3.78s/it]"
     ]
    },
    {
     "name": "stdout",
     "output_type": "stream",
     "text": [
      "80\n",
      "[x] Opening connection to prob16.geekgame.pku.edu.cn on port 10016\n",
      "[x] Opening connection to prob16.geekgame.pku.edu.cn on port 10016: Trying 115.27.246.20\n",
      "[+] Opening connection to prob16.geekgame.pku.edu.cn on port 10016: Done\n"
     ]
    },
    {
     "name": "stderr",
     "output_type": "stream",
     "text": [
      "\r",
      " 17%|█▋        | 172/1000 [10:57<51:48,  3.75s/it]"
     ]
    },
    {
     "name": "stdout",
     "output_type": "stream",
     "text": [
      "105\n",
      "[x] Opening connection to prob16.geekgame.pku.edu.cn on port 10016\n",
      "[x] Opening connection to prob16.geekgame.pku.edu.cn on port 10016: Trying 115.27.246.20\n",
      "[+] Opening connection to prob16.geekgame.pku.edu.cn on port 10016: Done\n"
     ]
    },
    {
     "name": "stderr",
     "output_type": "stream",
     "text": [
      "\r",
      " 17%|█▋        | 173/1000 [11:01<51:45,  3.76s/it]"
     ]
    },
    {
     "name": "stdout",
     "output_type": "stream",
     "text": [
      "80\n",
      "[x] Opening connection to prob16.geekgame.pku.edu.cn on port 10016\n",
      "[x] Opening connection to prob16.geekgame.pku.edu.cn on port 10016: Trying 115.27.246.20\n",
      "[+] Opening connection to prob16.geekgame.pku.edu.cn on port 10016: Done\n"
     ]
    },
    {
     "name": "stderr",
     "output_type": "stream",
     "text": [
      "\r",
      " 17%|█▋        | 174/1000 [11:04<51:19,  3.73s/it]"
     ]
    },
    {
     "name": "stdout",
     "output_type": "stream",
     "text": [
      "70\n",
      "[x] Opening connection to prob16.geekgame.pku.edu.cn on port 10016\n",
      "[x] Opening connection to prob16.geekgame.pku.edu.cn on port 10016: Trying 115.27.246.20\n",
      "[+] Opening connection to prob16.geekgame.pku.edu.cn on port 10016: Done\n"
     ]
    },
    {
     "name": "stderr",
     "output_type": "stream",
     "text": [
      "\r",
      " 18%|█▊        | 175/1000 [11:08<51:49,  3.77s/it]"
     ]
    },
    {
     "name": "stdout",
     "output_type": "stream",
     "text": [
      "70\n",
      "[x] Opening connection to prob16.geekgame.pku.edu.cn on port 10016\n",
      "[x] Opening connection to prob16.geekgame.pku.edu.cn on port 10016: Trying 115.27.246.20\n",
      "[+] Opening connection to prob16.geekgame.pku.edu.cn on port 10016: Done\n"
     ]
    },
    {
     "name": "stderr",
     "output_type": "stream",
     "text": [
      "\r",
      " 18%|█▊        | 176/1000 [11:12<52:29,  3.82s/it]"
     ]
    },
    {
     "name": "stdout",
     "output_type": "stream",
     "text": [
      "[x] Opening connection to prob16.geekgame.pku.edu.cn on port 10016\n",
      "[x] Opening connection to prob16.geekgame.pku.edu.cn on port 10016: Trying 115.27.246.20\n",
      "[+] Opening connection to prob16.geekgame.pku.edu.cn on port 10016: Done\n"
     ]
    },
    {
     "name": "stderr",
     "output_type": "stream",
     "text": [
      "\r",
      " 18%|█▊        | 177/1000 [11:16<53:18,  3.89s/it]"
     ]
    },
    {
     "name": "stdout",
     "output_type": "stream",
     "text": [
      "90\n",
      "[x] Opening connection to prob16.geekgame.pku.edu.cn on port 10016\n",
      "[x] Opening connection to prob16.geekgame.pku.edu.cn on port 10016: Trying 115.27.246.20\n",
      "[+] Opening connection to prob16.geekgame.pku.edu.cn on port 10016: Done\n"
     ]
    },
    {
     "name": "stderr",
     "output_type": "stream",
     "text": [
      "\r",
      " 18%|█▊        | 178/1000 [11:20<52:18,  3.82s/it]"
     ]
    },
    {
     "name": "stdout",
     "output_type": "stream",
     "text": [
      "[x] Opening connection to prob16.geekgame.pku.edu.cn on port 10016\n",
      "[x] Opening connection to prob16.geekgame.pku.edu.cn on port 10016: Trying 115.27.246.20\n",
      "[+] Opening connection to prob16.geekgame.pku.edu.cn on port 10016: Done\n"
     ]
    },
    {
     "name": "stderr",
     "output_type": "stream",
     "text": [
      "\r",
      " 18%|█▊        | 179/1000 [11:24<51:57,  3.80s/it]"
     ]
    },
    {
     "name": "stdout",
     "output_type": "stream",
     "text": [
      "105\n",
      "[x] Opening connection to prob16.geekgame.pku.edu.cn on port 10016\n",
      "[x] Opening connection to prob16.geekgame.pku.edu.cn on port 10016: Trying 115.27.246.20\n",
      "[+] Opening connection to prob16.geekgame.pku.edu.cn on port 10016: Done\n"
     ]
    },
    {
     "name": "stderr",
     "output_type": "stream",
     "text": [
      "\r",
      " 18%|█▊        | 180/1000 [11:29<58:29,  4.28s/it]"
     ]
    },
    {
     "name": "stdout",
     "output_type": "stream",
     "text": [
      "[x] Opening connection to prob16.geekgame.pku.edu.cn on port 10016\n",
      "[x] Opening connection to prob16.geekgame.pku.edu.cn on port 10016: Trying 115.27.246.20\n",
      "[+] Opening connection to prob16.geekgame.pku.edu.cn on port 10016: Done\n"
     ]
    },
    {
     "name": "stderr",
     "output_type": "stream",
     "text": [
      "\r",
      " 18%|█▊        | 181/1000 [11:33<56:02,  4.11s/it]"
     ]
    },
    {
     "name": "stdout",
     "output_type": "stream",
     "text": [
      "80\n",
      "[x] Opening connection to prob16.geekgame.pku.edu.cn on port 10016\n",
      "[x] Opening connection to prob16.geekgame.pku.edu.cn on port 10016: Trying 115.27.246.20\n",
      "[+] Opening connection to prob16.geekgame.pku.edu.cn on port 10016: Done\n"
     ]
    },
    {
     "name": "stderr",
     "output_type": "stream",
     "text": [
      "\r",
      " 18%|█▊        | 182/1000 [11:37<54:48,  4.02s/it]"
     ]
    },
    {
     "name": "stdout",
     "output_type": "stream",
     "text": [
      "55\n",
      "[x] Opening connection to prob16.geekgame.pku.edu.cn on port 10016\n",
      "[x] Opening connection to prob16.geekgame.pku.edu.cn on port 10016: Trying 115.27.246.20\n",
      "[+] Opening connection to prob16.geekgame.pku.edu.cn on port 10016: Done\n"
     ]
    },
    {
     "name": "stderr",
     "output_type": "stream",
     "text": [
      "\r",
      " 18%|█▊        | 183/1000 [11:40<53:17,  3.91s/it]"
     ]
    },
    {
     "name": "stdout",
     "output_type": "stream",
     "text": [
      "70\n",
      "[x] Opening connection to prob16.geekgame.pku.edu.cn on port 10016\n",
      "[x] Opening connection to prob16.geekgame.pku.edu.cn on port 10016: Trying 115.27.246.20\n",
      "[+] Opening connection to prob16.geekgame.pku.edu.cn on port 10016: Done\n"
     ]
    },
    {
     "name": "stderr",
     "output_type": "stream",
     "text": [
      "\r",
      " 18%|█▊        | 184/1000 [11:44<53:18,  3.92s/it]"
     ]
    },
    {
     "name": "stdout",
     "output_type": "stream",
     "text": [
      "80\n",
      "[x] Opening connection to prob16.geekgame.pku.edu.cn on port 10016\n",
      "[x] Opening connection to prob16.geekgame.pku.edu.cn on port 10016: Trying 115.27.246.20\n",
      "[+] Opening connection to prob16.geekgame.pku.edu.cn on port 10016: Done\n"
     ]
    },
    {
     "name": "stderr",
     "output_type": "stream",
     "text": [
      "\r",
      " 18%|█▊        | 185/1000 [11:48<53:03,  3.91s/it]"
     ]
    },
    {
     "name": "stdout",
     "output_type": "stream",
     "text": [
      "55\n",
      "[x] Opening connection to prob16.geekgame.pku.edu.cn on port 10016\n",
      "[x] Opening connection to prob16.geekgame.pku.edu.cn on port 10016: Trying 115.27.246.20\n",
      "[+] Opening connection to prob16.geekgame.pku.edu.cn on port 10016: Done\n"
     ]
    },
    {
     "name": "stderr",
     "output_type": "stream",
     "text": [
      "\r",
      " 19%|█▊        | 186/1000 [11:52<51:58,  3.83s/it]"
     ]
    },
    {
     "name": "stdout",
     "output_type": "stream",
     "text": [
      "[x] Opening connection to prob16.geekgame.pku.edu.cn on port 10016\n",
      "[x] Opening connection to prob16.geekgame.pku.edu.cn on port 10016: Trying 115.27.246.20\n",
      "[+] Opening connection to prob16.geekgame.pku.edu.cn on port 10016: Done\n"
     ]
    },
    {
     "name": "stderr",
     "output_type": "stream",
     "text": [
      "\r",
      " 19%|█▊        | 187/1000 [11:56<51:57,  3.83s/it]"
     ]
    },
    {
     "name": "stdout",
     "output_type": "stream",
     "text": [
      "90\n",
      "[x] Opening connection to prob16.geekgame.pku.edu.cn on port 10016\n",
      "[x] Opening connection to prob16.geekgame.pku.edu.cn on port 10016: Trying 115.27.246.20\n",
      "[+] Opening connection to prob16.geekgame.pku.edu.cn on port 10016: Done\n"
     ]
    },
    {
     "name": "stderr",
     "output_type": "stream",
     "text": [
      "\r",
      " 19%|█▉        | 188/1000 [11:59<51:14,  3.79s/it]"
     ]
    },
    {
     "name": "stdout",
     "output_type": "stream",
     "text": [
      "[x] Opening connection to prob16.geekgame.pku.edu.cn on port 10016\n",
      "[x] Opening connection to prob16.geekgame.pku.edu.cn on port 10016: Trying 115.27.246.20\n",
      "[+] Opening connection to prob16.geekgame.pku.edu.cn on port 10016: Done\n"
     ]
    },
    {
     "name": "stderr",
     "output_type": "stream",
     "text": [
      "\r",
      " 19%|█▉        | 189/1000 [12:03<51:25,  3.80s/it]"
     ]
    },
    {
     "name": "stdout",
     "output_type": "stream",
     "text": [
      "[x] Opening connection to prob16.geekgame.pku.edu.cn on port 10016\n",
      "[x] Opening connection to prob16.geekgame.pku.edu.cn on port 10016: Trying 115.27.246.20\n",
      "[+] Opening connection to prob16.geekgame.pku.edu.cn on port 10016: Done\n"
     ]
    },
    {
     "name": "stderr",
     "output_type": "stream",
     "text": [
      "\r",
      " 19%|█▉        | 190/1000 [12:07<51:17,  3.80s/it]"
     ]
    },
    {
     "name": "stdout",
     "output_type": "stream",
     "text": [
      "[x] Opening connection to prob16.geekgame.pku.edu.cn on port 10016\n",
      "[x] Opening connection to prob16.geekgame.pku.edu.cn on port 10016: Trying 115.27.246.20\n",
      "[+] Opening connection to prob16.geekgame.pku.edu.cn on port 10016: Done\n"
     ]
    },
    {
     "name": "stderr",
     "output_type": "stream",
     "text": [
      "\r",
      " 19%|█▉        | 191/1000 [12:11<51:18,  3.81s/it]"
     ]
    },
    {
     "name": "stdout",
     "output_type": "stream",
     "text": [
      "[x] Opening connection to prob16.geekgame.pku.edu.cn on port 10016\n",
      "[x] Opening connection to prob16.geekgame.pku.edu.cn on port 10016: Trying 115.27.246.20\n",
      "[+] Opening connection to prob16.geekgame.pku.edu.cn on port 10016: Done\n"
     ]
    },
    {
     "name": "stderr",
     "output_type": "stream",
     "text": [
      "\r",
      " 19%|█▉        | 192/1000 [12:14<50:36,  3.76s/it]"
     ]
    },
    {
     "name": "stdout",
     "output_type": "stream",
     "text": [
      "[x] Opening connection to prob16.geekgame.pku.edu.cn on port 10016\n",
      "[x] Opening connection to prob16.geekgame.pku.edu.cn on port 10016: Trying 115.27.246.20\n",
      "[+] Opening connection to prob16.geekgame.pku.edu.cn on port 10016: Done\n"
     ]
    },
    {
     "name": "stderr",
     "output_type": "stream",
     "text": [
      "\r",
      " 19%|█▉        | 193/1000 [12:18<51:43,  3.85s/it]"
     ]
    },
    {
     "name": "stdout",
     "output_type": "stream",
     "text": [
      "[x] Opening connection to prob16.geekgame.pku.edu.cn on port 10016\n",
      "[x] Opening connection to prob16.geekgame.pku.edu.cn on port 10016: Trying 115.27.246.20\n",
      "[+] Opening connection to prob16.geekgame.pku.edu.cn on port 10016: Done\n"
     ]
    },
    {
     "name": "stderr",
     "output_type": "stream",
     "text": [
      "\r",
      " 19%|█▉        | 194/1000 [12:22<51:45,  3.85s/it]"
     ]
    },
    {
     "name": "stdout",
     "output_type": "stream",
     "text": [
      "[x] Opening connection to prob16.geekgame.pku.edu.cn on port 10016\n",
      "[x] Opening connection to prob16.geekgame.pku.edu.cn on port 10016: Trying 115.27.246.20\n",
      "[+] Opening connection to prob16.geekgame.pku.edu.cn on port 10016: Done\n"
     ]
    },
    {
     "name": "stderr",
     "output_type": "stream",
     "text": [
      "\r",
      " 20%|█▉        | 195/1000 [12:26<51:40,  3.85s/it]"
     ]
    },
    {
     "name": "stdout",
     "output_type": "stream",
     "text": [
      "95\n",
      "[x] Opening connection to prob16.geekgame.pku.edu.cn on port 10016\n",
      "[x] Opening connection to prob16.geekgame.pku.edu.cn on port 10016: Trying 115.27.246.20\n",
      "[+] Opening connection to prob16.geekgame.pku.edu.cn on port 10016: Done\n"
     ]
    },
    {
     "name": "stderr",
     "output_type": "stream",
     "text": [
      "\r",
      " 20%|█▉        | 196/1000 [12:30<50:47,  3.79s/it]"
     ]
    },
    {
     "name": "stdout",
     "output_type": "stream",
     "text": [
      "[x] Opening connection to prob16.geekgame.pku.edu.cn on port 10016\n",
      "[x] Opening connection to prob16.geekgame.pku.edu.cn on port 10016: Trying 115.27.246.20\n",
      "[+] Opening connection to prob16.geekgame.pku.edu.cn on port 10016: Done\n"
     ]
    },
    {
     "name": "stderr",
     "output_type": "stream",
     "text": [
      "\r",
      " 20%|█▉        | 197/1000 [12:34<50:50,  3.80s/it]"
     ]
    },
    {
     "name": "stdout",
     "output_type": "stream",
     "text": [
      "70\n",
      "[x] Opening connection to prob16.geekgame.pku.edu.cn on port 10016\n",
      "[x] Opening connection to prob16.geekgame.pku.edu.cn on port 10016: Trying 115.27.246.20\n",
      "[+] Opening connection to prob16.geekgame.pku.edu.cn on port 10016: Done\n"
     ]
    },
    {
     "name": "stderr",
     "output_type": "stream",
     "text": [
      "\r",
      " 20%|█▉        | 198/1000 [12:38<53:58,  4.04s/it]"
     ]
    },
    {
     "name": "stdout",
     "output_type": "stream",
     "text": [
      "70\n",
      "[x] Opening connection to prob16.geekgame.pku.edu.cn on port 10016\n",
      "[x] Opening connection to prob16.geekgame.pku.edu.cn on port 10016: Trying 115.27.246.20\n",
      "[+] Opening connection to prob16.geekgame.pku.edu.cn on port 10016: Done\n"
     ]
    },
    {
     "name": "stderr",
     "output_type": "stream",
     "text": [
      "\r",
      " 20%|█▉        | 199/1000 [12:42<53:13,  3.99s/it]"
     ]
    },
    {
     "name": "stdout",
     "output_type": "stream",
     "text": [
      "70\n",
      "[x] Opening connection to prob16.geekgame.pku.edu.cn on port 10016\n",
      "[x] Opening connection to prob16.geekgame.pku.edu.cn on port 10016: Trying 115.27.246.20\n",
      "[+] Opening connection to prob16.geekgame.pku.edu.cn on port 10016: Done\n"
     ]
    },
    {
     "name": "stderr",
     "output_type": "stream",
     "text": [
      "\r",
      " 20%|██        | 200/1000 [12:47<55:24,  4.16s/it]"
     ]
    },
    {
     "name": "stdout",
     "output_type": "stream",
     "text": [
      "60\n",
      "[x] Opening connection to prob16.geekgame.pku.edu.cn on port 10016\n",
      "[x] Opening connection to prob16.geekgame.pku.edu.cn on port 10016: Trying 115.27.246.20\n",
      "[+] Opening connection to prob16.geekgame.pku.edu.cn on port 10016: Done\n"
     ]
    },
    {
     "name": "stderr",
     "output_type": "stream",
     "text": [
      "\r",
      " 20%|██        | 201/1000 [12:51<58:02,  4.36s/it]"
     ]
    },
    {
     "name": "stdout",
     "output_type": "stream",
     "text": [
      "[x] Opening connection to prob16.geekgame.pku.edu.cn on port 10016\n",
      "[x] Opening connection to prob16.geekgame.pku.edu.cn on port 10016: Trying 115.27.246.20\n",
      "[+] Opening connection to prob16.geekgame.pku.edu.cn on port 10016: Done\n"
     ]
    },
    {
     "name": "stderr",
     "output_type": "stream",
     "text": [
      "\r",
      " 20%|██        | 202/1000 [12:55<55:31,  4.17s/it]"
     ]
    },
    {
     "name": "stdout",
     "output_type": "stream",
     "text": [
      "[x] Opening connection to prob16.geekgame.pku.edu.cn on port 10016\n",
      "[x] Opening connection to prob16.geekgame.pku.edu.cn on port 10016: Trying 115.27.246.20\n",
      "[+] Opening connection to prob16.geekgame.pku.edu.cn on port 10016: Done\n"
     ]
    },
    {
     "name": "stderr",
     "output_type": "stream",
     "text": [
      "\r",
      " 20%|██        | 203/1000 [12:59<54:23,  4.09s/it]"
     ]
    },
    {
     "name": "stdout",
     "output_type": "stream",
     "text": [
      "60\n",
      "[x] Opening connection to prob16.geekgame.pku.edu.cn on port 10016\n",
      "[x] Opening connection to prob16.geekgame.pku.edu.cn on port 10016: Trying 115.27.246.20\n",
      "[+] Opening connection to prob16.geekgame.pku.edu.cn on port 10016: Done\n"
     ]
    },
    {
     "name": "stderr",
     "output_type": "stream",
     "text": [
      "\r",
      " 20%|██        | 204/1000 [13:03<53:08,  4.01s/it]"
     ]
    },
    {
     "name": "stdout",
     "output_type": "stream",
     "text": [
      "[x] Opening connection to prob16.geekgame.pku.edu.cn on port 10016\n",
      "[x] Opening connection to prob16.geekgame.pku.edu.cn on port 10016: Trying 115.27.246.20\n",
      "[+] Opening connection to prob16.geekgame.pku.edu.cn on port 10016: Done\n"
     ]
    },
    {
     "name": "stderr",
     "output_type": "stream",
     "text": [
      "\r",
      " 20%|██        | 205/1000 [13:07<52:06,  3.93s/it]"
     ]
    },
    {
     "name": "stdout",
     "output_type": "stream",
     "text": [
      "[x] Opening connection to prob16.geekgame.pku.edu.cn on port 10016\n",
      "[x] Opening connection to prob16.geekgame.pku.edu.cn on port 10016: Trying 115.27.246.20\n",
      "[+] Opening connection to prob16.geekgame.pku.edu.cn on port 10016: Done\n"
     ]
    },
    {
     "name": "stderr",
     "output_type": "stream",
     "text": [
      "\r",
      " 21%|██        | 206/1000 [13:11<54:09,  4.09s/it]"
     ]
    },
    {
     "name": "stdout",
     "output_type": "stream",
     "text": [
      "[x] Opening connection to prob16.geekgame.pku.edu.cn on port 10016\n",
      "[x] Opening connection to prob16.geekgame.pku.edu.cn on port 10016: Trying 115.27.246.20\n",
      "[+] Opening connection to prob16.geekgame.pku.edu.cn on port 10016: Done\n"
     ]
    },
    {
     "name": "stderr",
     "output_type": "stream",
     "text": [
      "\r",
      " 21%|██        | 207/1000 [13:15<52:41,  3.99s/it]"
     ]
    },
    {
     "name": "stdout",
     "output_type": "stream",
     "text": [
      "[x] Opening connection to prob16.geekgame.pku.edu.cn on port 10016\n",
      "[x] Opening connection to prob16.geekgame.pku.edu.cn on port 10016: Trying 115.27.246.20\n",
      "[+] Opening connection to prob16.geekgame.pku.edu.cn on port 10016: Done\n"
     ]
    },
    {
     "name": "stderr",
     "output_type": "stream",
     "text": [
      "\r",
      " 21%|██        | 208/1000 [13:20<55:49,  4.23s/it]"
     ]
    },
    {
     "name": "stdout",
     "output_type": "stream",
     "text": [
      "[x] Opening connection to prob16.geekgame.pku.edu.cn on port 10016\n",
      "[x] Opening connection to prob16.geekgame.pku.edu.cn on port 10016: Trying 115.27.246.20\n",
      "[+] Opening connection to prob16.geekgame.pku.edu.cn on port 10016: Done\n"
     ]
    },
    {
     "name": "stderr",
     "output_type": "stream",
     "text": [
      "\r",
      " 21%|██        | 209/1000 [13:23<54:19,  4.12s/it]"
     ]
    },
    {
     "name": "stdout",
     "output_type": "stream",
     "text": [
      "70\n",
      "[x] Opening connection to prob16.geekgame.pku.edu.cn on port 10016\n",
      "[x] Opening connection to prob16.geekgame.pku.edu.cn on port 10016: Trying 115.27.246.20\n",
      "[+] Opening connection to prob16.geekgame.pku.edu.cn on port 10016: Done\n"
     ]
    },
    {
     "name": "stderr",
     "output_type": "stream",
     "text": [
      "\r",
      " 21%|██        | 210/1000 [13:27<53:17,  4.05s/it]"
     ]
    },
    {
     "name": "stdout",
     "output_type": "stream",
     "text": [
      "70\n",
      "[x] Opening connection to prob16.geekgame.pku.edu.cn on port 10016\n",
      "[x] Opening connection to prob16.geekgame.pku.edu.cn on port 10016: Trying 115.27.246.20\n",
      "[+] Opening connection to prob16.geekgame.pku.edu.cn on port 10016: Done\n"
     ]
    },
    {
     "name": "stderr",
     "output_type": "stream",
     "text": [
      "\r",
      " 21%|██        | 211/1000 [13:31<52:36,  4.00s/it]"
     ]
    },
    {
     "name": "stdout",
     "output_type": "stream",
     "text": [
      "[x] Opening connection to prob16.geekgame.pku.edu.cn on port 10016\n",
      "[x] Opening connection to prob16.geekgame.pku.edu.cn on port 10016: Trying 115.27.246.20\n",
      "[+] Opening connection to prob16.geekgame.pku.edu.cn on port 10016: Done\n"
     ]
    },
    {
     "name": "stderr",
     "output_type": "stream",
     "text": [
      "\r",
      " 21%|██        | 212/1000 [13:35<51:32,  3.92s/it]"
     ]
    },
    {
     "name": "stdout",
     "output_type": "stream",
     "text": [
      "55\n",
      "[x] Opening connection to prob16.geekgame.pku.edu.cn on port 10016\n",
      "[x] Opening connection to prob16.geekgame.pku.edu.cn on port 10016: Trying 115.27.246.20\n",
      "[+] Opening connection to prob16.geekgame.pku.edu.cn on port 10016: Done\n"
     ]
    },
    {
     "name": "stderr",
     "output_type": "stream",
     "text": [
      "\r",
      " 21%|██▏       | 213/1000 [13:39<50:48,  3.87s/it]"
     ]
    },
    {
     "name": "stdout",
     "output_type": "stream",
     "text": [
      "[x] Opening connection to prob16.geekgame.pku.edu.cn on port 10016\n",
      "[x] Opening connection to prob16.geekgame.pku.edu.cn on port 10016: Trying 115.27.246.20\n",
      "[+] Opening connection to prob16.geekgame.pku.edu.cn on port 10016: Done\n"
     ]
    },
    {
     "name": "stderr",
     "output_type": "stream",
     "text": [
      "\r",
      " 21%|██▏       | 214/1000 [13:42<50:11,  3.83s/it]"
     ]
    },
    {
     "name": "stdout",
     "output_type": "stream",
     "text": [
      "65\n",
      "[x] Opening connection to prob16.geekgame.pku.edu.cn on port 10016\n",
      "[x] Opening connection to prob16.geekgame.pku.edu.cn on port 10016: Trying 115.27.246.20\n",
      "[+] Opening connection to prob16.geekgame.pku.edu.cn on port 10016: Done\n"
     ]
    },
    {
     "name": "stderr",
     "output_type": "stream",
     "text": [
      "\r",
      " 22%|██▏       | 215/1000 [13:46<49:36,  3.79s/it]"
     ]
    },
    {
     "name": "stdout",
     "output_type": "stream",
     "text": [
      "60\n",
      "[x] Opening connection to prob16.geekgame.pku.edu.cn on port 10016\n",
      "[x] Opening connection to prob16.geekgame.pku.edu.cn on port 10016: Trying 115.27.246.20\n",
      "[+] Opening connection to prob16.geekgame.pku.edu.cn on port 10016: Done\n"
     ]
    },
    {
     "name": "stderr",
     "output_type": "stream",
     "text": [
      "\r",
      " 22%|██▏       | 216/1000 [13:50<50:48,  3.89s/it]"
     ]
    },
    {
     "name": "stdout",
     "output_type": "stream",
     "text": [
      "45\n",
      "[x] Opening connection to prob16.geekgame.pku.edu.cn on port 10016\n",
      "[x] Opening connection to prob16.geekgame.pku.edu.cn on port 10016: Trying 115.27.246.20\n",
      "[+] Opening connection to prob16.geekgame.pku.edu.cn on port 10016: Done\n"
     ]
    },
    {
     "name": "stderr",
     "output_type": "stream",
     "text": [
      "\r",
      " 22%|██▏       | 217/1000 [13:55<52:01,  3.99s/it]"
     ]
    },
    {
     "name": "stdout",
     "output_type": "stream",
     "text": [
      "[x] Opening connection to prob16.geekgame.pku.edu.cn on port 10016\n",
      "[x] Opening connection to prob16.geekgame.pku.edu.cn on port 10016: Trying 115.27.246.20\n",
      "[+] Opening connection to prob16.geekgame.pku.edu.cn on port 10016: Done\n"
     ]
    },
    {
     "name": "stderr",
     "output_type": "stream",
     "text": [
      "\r",
      " 22%|██▏       | 218/1000 [14:00<56:28,  4.33s/it]"
     ]
    },
    {
     "name": "stdout",
     "output_type": "stream",
     "text": [
      "[x] Opening connection to prob16.geekgame.pku.edu.cn on port 10016\n",
      "[x] Opening connection to prob16.geekgame.pku.edu.cn on port 10016: Trying 115.27.246.20\n",
      "[+] Opening connection to prob16.geekgame.pku.edu.cn on port 10016: Done\n"
     ]
    },
    {
     "name": "stderr",
     "output_type": "stream",
     "text": [
      "\r",
      " 22%|██▏       | 219/1000 [14:03<53:52,  4.14s/it]"
     ]
    },
    {
     "name": "stdout",
     "output_type": "stream",
     "text": [
      "[x] Opening connection to prob16.geekgame.pku.edu.cn on port 10016\n",
      "[x] Opening connection to prob16.geekgame.pku.edu.cn on port 10016: Trying 115.27.246.20\n",
      "[+] Opening connection to prob16.geekgame.pku.edu.cn on port 10016: Done\n"
     ]
    },
    {
     "name": "stderr",
     "output_type": "stream",
     "text": [
      "\r",
      " 22%|██▏       | 220/1000 [14:07<52:22,  4.03s/it]"
     ]
    },
    {
     "name": "stdout",
     "output_type": "stream",
     "text": [
      "[x] Opening connection to prob16.geekgame.pku.edu.cn on port 10016\n",
      "[x] Opening connection to prob16.geekgame.pku.edu.cn on port 10016: Trying 115.27.246.20\n",
      "[+] Opening connection to prob16.geekgame.pku.edu.cn on port 10016: Done\n"
     ]
    },
    {
     "name": "stderr",
     "output_type": "stream",
     "text": [
      "\r",
      " 22%|██▏       | 221/1000 [14:11<51:36,  3.98s/it]"
     ]
    },
    {
     "name": "stdout",
     "output_type": "stream",
     "text": [
      "[x] Opening connection to prob16.geekgame.pku.edu.cn on port 10016\n",
      "[x] Opening connection to prob16.geekgame.pku.edu.cn on port 10016: Trying 115.27.246.20\n",
      "[+] Opening connection to prob16.geekgame.pku.edu.cn on port 10016: Done\n"
     ]
    },
    {
     "name": "stderr",
     "output_type": "stream",
     "text": [
      "\r",
      " 22%|██▏       | 222/1000 [14:15<52:09,  4.02s/it]"
     ]
    },
    {
     "name": "stdout",
     "output_type": "stream",
     "text": [
      "60\n",
      "[x] Opening connection to prob16.geekgame.pku.edu.cn on port 10016\n",
      "[x] Opening connection to prob16.geekgame.pku.edu.cn on port 10016: Trying 115.27.246.20\n",
      "[+] Opening connection to prob16.geekgame.pku.edu.cn on port 10016: Done\n"
     ]
    },
    {
     "name": "stderr",
     "output_type": "stream",
     "text": [
      "\r",
      " 22%|██▏       | 223/1000 [14:20<53:48,  4.15s/it]"
     ]
    },
    {
     "name": "stdout",
     "output_type": "stream",
     "text": [
      "[x] Opening connection to prob16.geekgame.pku.edu.cn on port 10016\n",
      "[x] Opening connection to prob16.geekgame.pku.edu.cn on port 10016: Trying 115.27.246.20\n",
      "[+] Opening connection to prob16.geekgame.pku.edu.cn on port 10016: Done\n"
     ]
    },
    {
     "name": "stderr",
     "output_type": "stream",
     "text": [
      "\r",
      " 22%|██▏       | 224/1000 [14:23<52:09,  4.03s/it]"
     ]
    },
    {
     "name": "stdout",
     "output_type": "stream",
     "text": [
      "[x] Opening connection to prob16.geekgame.pku.edu.cn on port 10016\n",
      "[x] Opening connection to prob16.geekgame.pku.edu.cn on port 10016: Trying 115.27.246.20\n",
      "[+] Opening connection to prob16.geekgame.pku.edu.cn on port 10016: Done\n"
     ]
    },
    {
     "name": "stderr",
     "output_type": "stream",
     "text": [
      "\r",
      " 22%|██▎       | 225/1000 [14:27<51:31,  3.99s/it]"
     ]
    },
    {
     "name": "stdout",
     "output_type": "stream",
     "text": [
      "[x] Opening connection to prob16.geekgame.pku.edu.cn on port 10016\n",
      "[x] Opening connection to prob16.geekgame.pku.edu.cn on port 10016: Trying 115.27.246.20\n",
      "[+] Opening connection to prob16.geekgame.pku.edu.cn on port 10016: Done\n"
     ]
    },
    {
     "name": "stderr",
     "output_type": "stream",
     "text": [
      "\r",
      " 23%|██▎       | 226/1000 [14:31<51:23,  3.98s/it]"
     ]
    },
    {
     "name": "stdout",
     "output_type": "stream",
     "text": [
      "90\n",
      "[x] Opening connection to prob16.geekgame.pku.edu.cn on port 10016\n",
      "[x] Opening connection to prob16.geekgame.pku.edu.cn on port 10016: Trying 115.27.246.20\n",
      "[+] Opening connection to prob16.geekgame.pku.edu.cn on port 10016: Done\n"
     ]
    },
    {
     "name": "stderr",
     "output_type": "stream",
     "text": [
      "\r",
      " 23%|██▎       | 227/1000 [14:35<50:38,  3.93s/it]"
     ]
    },
    {
     "name": "stdout",
     "output_type": "stream",
     "text": [
      "45\n",
      "[x] Opening connection to prob16.geekgame.pku.edu.cn on port 10016\n",
      "[x] Opening connection to prob16.geekgame.pku.edu.cn on port 10016: Trying 115.27.246.20\n",
      "[+] Opening connection to prob16.geekgame.pku.edu.cn on port 10016: Done\n"
     ]
    },
    {
     "name": "stderr",
     "output_type": "stream",
     "text": [
      "\r",
      " 23%|██▎       | 228/1000 [14:39<50:45,  3.94s/it]"
     ]
    },
    {
     "name": "stdout",
     "output_type": "stream",
     "text": [
      "80\n",
      "[x] Opening connection to prob16.geekgame.pku.edu.cn on port 10016\n",
      "[x] Opening connection to prob16.geekgame.pku.edu.cn on port 10016: Trying 115.27.246.20\n",
      "[+] Opening connection to prob16.geekgame.pku.edu.cn on port 10016: Done\n"
     ]
    },
    {
     "name": "stderr",
     "output_type": "stream",
     "text": [
      "\r",
      " 23%|██▎       | 229/1000 [14:43<50:44,  3.95s/it]"
     ]
    },
    {
     "name": "stdout",
     "output_type": "stream",
     "text": [
      "[x] Opening connection to prob16.geekgame.pku.edu.cn on port 10016\n",
      "[x] Opening connection to prob16.geekgame.pku.edu.cn on port 10016: Trying 115.27.246.20\n",
      "[+] Opening connection to prob16.geekgame.pku.edu.cn on port 10016: Done\n"
     ]
    },
    {
     "name": "stderr",
     "output_type": "stream",
     "text": [
      "\r",
      " 23%|██▎       | 230/1000 [14:47<50:28,  3.93s/it]"
     ]
    },
    {
     "name": "stdout",
     "output_type": "stream",
     "text": [
      "110\n",
      "[x] Opening connection to prob16.geekgame.pku.edu.cn on port 10016\n",
      "[x] Opening connection to prob16.geekgame.pku.edu.cn on port 10016: Trying 115.27.246.20\n",
      "[+] Opening connection to prob16.geekgame.pku.edu.cn on port 10016: Done\n"
     ]
    },
    {
     "name": "stderr",
     "output_type": "stream",
     "text": [
      "\r",
      " 23%|██▎       | 231/1000 [14:51<53:16,  4.16s/it]"
     ]
    },
    {
     "name": "stdout",
     "output_type": "stream",
     "text": [
      "[x] Opening connection to prob16.geekgame.pku.edu.cn on port 10016\n",
      "[x] Opening connection to prob16.geekgame.pku.edu.cn on port 10016: Trying 115.27.246.20\n",
      "[+] Opening connection to prob16.geekgame.pku.edu.cn on port 10016: Done\n"
     ]
    },
    {
     "name": "stderr",
     "output_type": "stream",
     "text": [
      "\r",
      " 23%|██▎       | 232/1000 [14:55<52:36,  4.11s/it]"
     ]
    },
    {
     "name": "stdout",
     "output_type": "stream",
     "text": [
      "[x] Opening connection to prob16.geekgame.pku.edu.cn on port 10016\n",
      "[x] Opening connection to prob16.geekgame.pku.edu.cn on port 10016: Trying 115.27.246.20\n",
      "[+] Opening connection to prob16.geekgame.pku.edu.cn on port 10016: Done\n"
     ]
    },
    {
     "name": "stderr",
     "output_type": "stream",
     "text": [
      "\r",
      " 23%|██▎       | 233/1000 [14:59<51:17,  4.01s/it]"
     ]
    },
    {
     "name": "stdout",
     "output_type": "stream",
     "text": [
      "[x] Opening connection to prob16.geekgame.pku.edu.cn on port 10016\n",
      "[x] Opening connection to prob16.geekgame.pku.edu.cn on port 10016: Trying 115.27.246.20\n",
      "[+] Opening connection to prob16.geekgame.pku.edu.cn on port 10016: Done\n"
     ]
    },
    {
     "name": "stderr",
     "output_type": "stream",
     "text": [
      "\r",
      " 23%|██▎       | 234/1000 [15:03<50:24,  3.95s/it]"
     ]
    },
    {
     "name": "stdout",
     "output_type": "stream",
     "text": [
      "[x] Opening connection to prob16.geekgame.pku.edu.cn on port 10016\n",
      "[x] Opening connection to prob16.geekgame.pku.edu.cn on port 10016: Trying 115.27.246.20\n",
      "[+] Opening connection to prob16.geekgame.pku.edu.cn on port 10016: Done\n"
     ]
    },
    {
     "name": "stderr",
     "output_type": "stream",
     "text": [
      "\r",
      " 24%|██▎       | 235/1000 [15:07<50:46,  3.98s/it]"
     ]
    },
    {
     "name": "stdout",
     "output_type": "stream",
     "text": [
      "[x] Opening connection to prob16.geekgame.pku.edu.cn on port 10016\n",
      "[x] Opening connection to prob16.geekgame.pku.edu.cn on port 10016: Trying 115.27.246.20\n",
      "[+] Opening connection to prob16.geekgame.pku.edu.cn on port 10016: Done\n"
     ]
    },
    {
     "name": "stderr",
     "output_type": "stream",
     "text": [
      "\r",
      " 24%|██▎       | 236/1000 [15:12<53:28,  4.20s/it]"
     ]
    },
    {
     "name": "stdout",
     "output_type": "stream",
     "text": [
      "120\n",
      "[x] Opening connection to prob16.geekgame.pku.edu.cn on port 10016\n",
      "[x] Opening connection to prob16.geekgame.pku.edu.cn on port 10016: Trying 115.27.246.20\n",
      "[+] Opening connection to prob16.geekgame.pku.edu.cn on port 10016: Done\n"
     ]
    },
    {
     "name": "stderr",
     "output_type": "stream",
     "text": [
      "\r",
      " 24%|██▎       | 237/1000 [15:16<51:41,  4.06s/it]"
     ]
    },
    {
     "name": "stdout",
     "output_type": "stream",
     "text": [
      "60\n",
      "[x] Opening connection to prob16.geekgame.pku.edu.cn on port 10016\n",
      "[x] Opening connection to prob16.geekgame.pku.edu.cn on port 10016: Trying 115.27.246.20\n",
      "[+] Opening connection to prob16.geekgame.pku.edu.cn on port 10016: Done\n"
     ]
    },
    {
     "name": "stderr",
     "output_type": "stream",
     "text": [
      "\r",
      " 24%|██▍       | 238/1000 [15:20<51:23,  4.05s/it]"
     ]
    },
    {
     "name": "stdout",
     "output_type": "stream",
     "text": [
      "[x] Opening connection to prob16.geekgame.pku.edu.cn on port 10016\n",
      "[x] Opening connection to prob16.geekgame.pku.edu.cn on port 10016: Trying 115.27.246.20\n",
      "[+] Opening connection to prob16.geekgame.pku.edu.cn on port 10016: Done\n"
     ]
    },
    {
     "name": "stderr",
     "output_type": "stream",
     "text": [
      "\r",
      " 24%|██▍       | 239/1000 [15:23<50:48,  4.01s/it]"
     ]
    },
    {
     "name": "stdout",
     "output_type": "stream",
     "text": [
      "65\n",
      "[x] Opening connection to prob16.geekgame.pku.edu.cn on port 10016\n",
      "[x] Opening connection to prob16.geekgame.pku.edu.cn on port 10016: Trying 115.27.246.20\n",
      "[+] Opening connection to prob16.geekgame.pku.edu.cn on port 10016: Done\n"
     ]
    },
    {
     "name": "stderr",
     "output_type": "stream",
     "text": [
      "\r",
      " 24%|██▍       | 240/1000 [15:27<49:48,  3.93s/it]"
     ]
    },
    {
     "name": "stdout",
     "output_type": "stream",
     "text": [
      "55\n",
      "[x] Opening connection to prob16.geekgame.pku.edu.cn on port 10016\n",
      "[x] Opening connection to prob16.geekgame.pku.edu.cn on port 10016: Trying 115.27.246.20\n",
      "[+] Opening connection to prob16.geekgame.pku.edu.cn on port 10016: Done\n"
     ]
    },
    {
     "name": "stderr",
     "output_type": "stream",
     "text": [
      "\r",
      " 24%|██▍       | 241/1000 [15:31<49:24,  3.91s/it]"
     ]
    },
    {
     "name": "stdout",
     "output_type": "stream",
     "text": [
      "[x] Opening connection to prob16.geekgame.pku.edu.cn on port 10016\n",
      "[x] Opening connection to prob16.geekgame.pku.edu.cn on port 10016: Trying 115.27.246.20\n",
      "[+] Opening connection to prob16.geekgame.pku.edu.cn on port 10016: Done\n"
     ]
    },
    {
     "name": "stderr",
     "output_type": "stream",
     "text": [
      "\r",
      " 24%|██▍       | 242/1000 [15:35<50:08,  3.97s/it]"
     ]
    },
    {
     "name": "stdout",
     "output_type": "stream",
     "text": [
      "70\n",
      "[x] Opening connection to prob16.geekgame.pku.edu.cn on port 10016\n",
      "[x] Opening connection to prob16.geekgame.pku.edu.cn on port 10016: Trying 115.27.246.20\n",
      "[+] Opening connection to prob16.geekgame.pku.edu.cn on port 10016: Done\n"
     ]
    },
    {
     "name": "stderr",
     "output_type": "stream",
     "text": [
      "\r",
      " 24%|██▍       | 243/1000 [15:39<49:33,  3.93s/it]"
     ]
    },
    {
     "name": "stdout",
     "output_type": "stream",
     "text": [
      "[x] Opening connection to prob16.geekgame.pku.edu.cn on port 10016\n",
      "[x] Opening connection to prob16.geekgame.pku.edu.cn on port 10016: Trying 115.27.246.20\n",
      "[+] Opening connection to prob16.geekgame.pku.edu.cn on port 10016: Done\n"
     ]
    },
    {
     "name": "stderr",
     "output_type": "stream",
     "text": [
      "\r",
      " 24%|██▍       | 244/1000 [15:43<49:44,  3.95s/it]"
     ]
    },
    {
     "name": "stdout",
     "output_type": "stream",
     "text": [
      "85\n",
      "[x] Opening connection to prob16.geekgame.pku.edu.cn on port 10016\n",
      "[x] Opening connection to prob16.geekgame.pku.edu.cn on port 10016: Trying 115.27.246.20\n",
      "[+] Opening connection to prob16.geekgame.pku.edu.cn on port 10016: Done\n"
     ]
    },
    {
     "name": "stderr",
     "output_type": "stream",
     "text": [
      "\r",
      " 24%|██▍       | 245/1000 [15:48<52:05,  4.14s/it]"
     ]
    },
    {
     "name": "stdout",
     "output_type": "stream",
     "text": [
      "90\n",
      "[x] Opening connection to prob16.geekgame.pku.edu.cn on port 10016\n",
      "[x] Opening connection to prob16.geekgame.pku.edu.cn on port 10016: Trying 115.27.246.20\n",
      "[+] Opening connection to prob16.geekgame.pku.edu.cn on port 10016: Done\n"
     ]
    },
    {
     "name": "stderr",
     "output_type": "stream",
     "text": [
      "\r",
      " 25%|██▍       | 246/1000 [15:51<50:38,  4.03s/it]"
     ]
    },
    {
     "name": "stdout",
     "output_type": "stream",
     "text": [
      "[x] Opening connection to prob16.geekgame.pku.edu.cn on port 10016\n",
      "[x] Opening connection to prob16.geekgame.pku.edu.cn on port 10016: Trying 115.27.246.20\n",
      "[+] Opening connection to prob16.geekgame.pku.edu.cn on port 10016: Done\n"
     ]
    },
    {
     "name": "stderr",
     "output_type": "stream",
     "text": [
      "\r",
      " 25%|██▍       | 247/1000 [15:55<49:26,  3.94s/it]"
     ]
    },
    {
     "name": "stdout",
     "output_type": "stream",
     "text": [
      "[x] Opening connection to prob16.geekgame.pku.edu.cn on port 10016\n",
      "[x] Opening connection to prob16.geekgame.pku.edu.cn on port 10016: Trying 115.27.246.20\n",
      "[+] Opening connection to prob16.geekgame.pku.edu.cn on port 10016: Done\n"
     ]
    },
    {
     "name": "stderr",
     "output_type": "stream",
     "text": [
      "\r",
      " 25%|██▍       | 248/1000 [15:59<48:53,  3.90s/it]"
     ]
    },
    {
     "name": "stdout",
     "output_type": "stream",
     "text": [
      "[x] Opening connection to prob16.geekgame.pku.edu.cn on port 10016\n",
      "[x] Opening connection to prob16.geekgame.pku.edu.cn on port 10016: Trying 115.27.246.20\n",
      "[+] Opening connection to prob16.geekgame.pku.edu.cn on port 10016: Done\n"
     ]
    },
    {
     "name": "stderr",
     "output_type": "stream",
     "text": [
      "\r",
      " 25%|██▍       | 249/1000 [16:03<48:51,  3.90s/it]"
     ]
    },
    {
     "name": "stdout",
     "output_type": "stream",
     "text": [
      "[x] Opening connection to prob16.geekgame.pku.edu.cn on port 10016\n",
      "[x] Opening connection to prob16.geekgame.pku.edu.cn on port 10016: Trying 115.27.246.20\n",
      "[+] Opening connection to prob16.geekgame.pku.edu.cn on port 10016: Done\n"
     ]
    },
    {
     "name": "stderr",
     "output_type": "stream",
     "text": [
      "\r",
      " 25%|██▌       | 250/1000 [16:07<48:27,  3.88s/it]"
     ]
    },
    {
     "name": "stdout",
     "output_type": "stream",
     "text": [
      "45\n",
      "[x] Opening connection to prob16.geekgame.pku.edu.cn on port 10016\n",
      "[x] Opening connection to prob16.geekgame.pku.edu.cn on port 10016: Trying 115.27.246.20\n",
      "[+] Opening connection to prob16.geekgame.pku.edu.cn on port 10016: Done\n"
     ]
    },
    {
     "name": "stderr",
     "output_type": "stream",
     "text": [
      "\r",
      " 25%|██▌       | 251/1000 [16:11<48:22,  3.88s/it]"
     ]
    },
    {
     "name": "stdout",
     "output_type": "stream",
     "text": [
      "[x] Opening connection to prob16.geekgame.pku.edu.cn on port 10016\n",
      "[x] Opening connection to prob16.geekgame.pku.edu.cn on port 10016: Trying 115.27.246.20\n",
      "[+] Opening connection to prob16.geekgame.pku.edu.cn on port 10016: Done\n"
     ]
    },
    {
     "name": "stderr",
     "output_type": "stream",
     "text": [
      "\r",
      " 25%|██▌       | 252/1000 [16:14<47:49,  3.84s/it]"
     ]
    },
    {
     "name": "stdout",
     "output_type": "stream",
     "text": [
      "[x] Opening connection to prob16.geekgame.pku.edu.cn on port 10016\n",
      "[x] Opening connection to prob16.geekgame.pku.edu.cn on port 10016: Trying 115.27.246.20\n",
      "[+] Opening connection to prob16.geekgame.pku.edu.cn on port 10016: Done\n"
     ]
    },
    {
     "name": "stderr",
     "output_type": "stream",
     "text": [
      "\r",
      " 25%|██▌       | 253/1000 [16:18<48:04,  3.86s/it]"
     ]
    },
    {
     "name": "stdout",
     "output_type": "stream",
     "text": [
      "105\n",
      "[x] Opening connection to prob16.geekgame.pku.edu.cn on port 10016\n",
      "[x] Opening connection to prob16.geekgame.pku.edu.cn on port 10016: Trying 115.27.246.20\n",
      "[+] Opening connection to prob16.geekgame.pku.edu.cn on port 10016: Done\n"
     ]
    },
    {
     "name": "stderr",
     "output_type": "stream",
     "text": [
      "\r",
      " 25%|██▌       | 254/1000 [16:22<48:58,  3.94s/it]"
     ]
    },
    {
     "name": "stdout",
     "output_type": "stream",
     "text": [
      "[x] Opening connection to prob16.geekgame.pku.edu.cn on port 10016\n",
      "[x] Opening connection to prob16.geekgame.pku.edu.cn on port 10016: Trying 115.27.246.20\n",
      "[+] Opening connection to prob16.geekgame.pku.edu.cn on port 10016: Done\n"
     ]
    },
    {
     "name": "stderr",
     "output_type": "stream",
     "text": [
      "\r",
      " 26%|██▌       | 255/1000 [16:26<49:23,  3.98s/it]"
     ]
    },
    {
     "name": "stdout",
     "output_type": "stream",
     "text": [
      "55\n",
      "[x] Opening connection to prob16.geekgame.pku.edu.cn on port 10016\n",
      "[x] Opening connection to prob16.geekgame.pku.edu.cn on port 10016: Trying 115.27.246.20\n",
      "[+] Opening connection to prob16.geekgame.pku.edu.cn on port 10016: Done\n"
     ]
    },
    {
     "name": "stderr",
     "output_type": "stream",
     "text": [
      "\r",
      " 26%|██▌       | 256/1000 [16:30<49:22,  3.98s/it]"
     ]
    },
    {
     "name": "stdout",
     "output_type": "stream",
     "text": [
      "55\n",
      "[x] Opening connection to prob16.geekgame.pku.edu.cn on port 10016\n",
      "[x] Opening connection to prob16.geekgame.pku.edu.cn on port 10016: Trying 115.27.246.20\n",
      "[+] Opening connection to prob16.geekgame.pku.edu.cn on port 10016: Done\n"
     ]
    },
    {
     "name": "stderr",
     "output_type": "stream",
     "text": [
      "\r",
      " 26%|██▌       | 257/1000 [16:34<49:02,  3.96s/it]"
     ]
    },
    {
     "name": "stdout",
     "output_type": "stream",
     "text": [
      "[x] Opening connection to prob16.geekgame.pku.edu.cn on port 10016\n",
      "[x] Opening connection to prob16.geekgame.pku.edu.cn on port 10016: Trying 115.27.246.20\n",
      "[+] Opening connection to prob16.geekgame.pku.edu.cn on port 10016: Done\n"
     ]
    },
    {
     "name": "stderr",
     "output_type": "stream",
     "text": [
      "\r",
      " 26%|██▌       | 258/1000 [16:41<57:48,  4.67s/it]"
     ]
    },
    {
     "name": "stdout",
     "output_type": "stream",
     "text": [
      "[x] Opening connection to prob16.geekgame.pku.edu.cn on port 10016\n",
      "[x] Opening connection to prob16.geekgame.pku.edu.cn on port 10016: Trying 115.27.246.20\n",
      "[+] Opening connection to prob16.geekgame.pku.edu.cn on port 10016: Done\n"
     ]
    },
    {
     "name": "stderr",
     "output_type": "stream",
     "text": [
      "\r",
      " 26%|██▌       | 259/1000 [16:45<55:13,  4.47s/it]"
     ]
    },
    {
     "name": "stdout",
     "output_type": "stream",
     "text": [
      "95\n",
      "[x] Opening connection to prob16.geekgame.pku.edu.cn on port 10016\n",
      "[x] Opening connection to prob16.geekgame.pku.edu.cn on port 10016: Trying 115.27.246.20\n",
      "[+] Opening connection to prob16.geekgame.pku.edu.cn on port 10016: Done\n"
     ]
    },
    {
     "name": "stderr",
     "output_type": "stream",
     "text": [
      "\r",
      " 26%|██▌       | 260/1000 [16:49<54:20,  4.41s/it]"
     ]
    },
    {
     "name": "stdout",
     "output_type": "stream",
     "text": [
      "[x] Opening connection to prob16.geekgame.pku.edu.cn on port 10016\n",
      "[x] Opening connection to prob16.geekgame.pku.edu.cn on port 10016: Trying 115.27.246.20\n",
      "[+] Opening connection to prob16.geekgame.pku.edu.cn on port 10016: Done\n"
     ]
    },
    {
     "name": "stderr",
     "output_type": "stream",
     "text": [
      "\r",
      " 26%|██▌       | 261/1000 [16:53<52:45,  4.28s/it]"
     ]
    },
    {
     "name": "stdout",
     "output_type": "stream",
     "text": [
      "[x] Opening connection to prob16.geekgame.pku.edu.cn on port 10016\n",
      "[x] Opening connection to prob16.geekgame.pku.edu.cn on port 10016: Trying 115.27.246.20\n",
      "[+] Opening connection to prob16.geekgame.pku.edu.cn on port 10016: Done\n"
     ]
    },
    {
     "name": "stderr",
     "output_type": "stream",
     "text": [
      "\r",
      " 26%|██▌       | 262/1000 [16:57<51:34,  4.19s/it]"
     ]
    },
    {
     "name": "stdout",
     "output_type": "stream",
     "text": [
      "70\n",
      "[x] Opening connection to prob16.geekgame.pku.edu.cn on port 10016\n",
      "[x] Opening connection to prob16.geekgame.pku.edu.cn on port 10016: Trying 115.27.246.20\n",
      "[+] Opening connection to prob16.geekgame.pku.edu.cn on port 10016: Done\n"
     ]
    },
    {
     "name": "stderr",
     "output_type": "stream",
     "text": [
      "\r",
      " 26%|██▋       | 263/1000 [17:01<50:09,  4.08s/it]"
     ]
    },
    {
     "name": "stdout",
     "output_type": "stream",
     "text": [
      "[x] Opening connection to prob16.geekgame.pku.edu.cn on port 10016\n",
      "[x] Opening connection to prob16.geekgame.pku.edu.cn on port 10016: Trying 115.27.246.20\n",
      "[+] Opening connection to prob16.geekgame.pku.edu.cn on port 10016: Done\n"
     ]
    },
    {
     "name": "stderr",
     "output_type": "stream",
     "text": [
      "\r",
      " 26%|██▋       | 264/1000 [17:05<49:08,  4.01s/it]"
     ]
    },
    {
     "name": "stdout",
     "output_type": "stream",
     "text": [
      "55\n",
      "[x] Opening connection to prob16.geekgame.pku.edu.cn on port 10016\n",
      "[x] Opening connection to prob16.geekgame.pku.edu.cn on port 10016: Trying 115.27.246.20\n",
      "[+] Opening connection to prob16.geekgame.pku.edu.cn on port 10016: Done\n"
     ]
    },
    {
     "name": "stderr",
     "output_type": "stream",
     "text": [
      "\r",
      " 26%|██▋       | 265/1000 [17:09<49:47,  4.06s/it]"
     ]
    },
    {
     "name": "stdout",
     "output_type": "stream",
     "text": [
      "[x] Opening connection to prob16.geekgame.pku.edu.cn on port 10016\n",
      "[x] Opening connection to prob16.geekgame.pku.edu.cn on port 10016: Trying 115.27.246.20\n",
      "[+] Opening connection to prob16.geekgame.pku.edu.cn on port 10016: Done\n"
     ]
    },
    {
     "name": "stderr",
     "output_type": "stream",
     "text": [
      "\r",
      " 27%|██▋       | 266/1000 [17:13<49:59,  4.09s/it]"
     ]
    },
    {
     "name": "stdout",
     "output_type": "stream",
     "text": [
      "[x] Opening connection to prob16.geekgame.pku.edu.cn on port 10016\n",
      "[x] Opening connection to prob16.geekgame.pku.edu.cn on port 10016: Trying 115.27.246.20\n",
      "[+] Opening connection to prob16.geekgame.pku.edu.cn on port 10016: Done\n"
     ]
    },
    {
     "name": "stderr",
     "output_type": "stream",
     "text": [
      "\r",
      " 27%|██▋       | 267/1000 [17:17<50:16,  4.12s/it]"
     ]
    },
    {
     "name": "stdout",
     "output_type": "stream",
     "text": [
      "[x] Opening connection to prob16.geekgame.pku.edu.cn on port 10016\n",
      "[x] Opening connection to prob16.geekgame.pku.edu.cn on port 10016: Trying 115.27.246.20\n",
      "[+] Opening connection to prob16.geekgame.pku.edu.cn on port 10016: Done\n"
     ]
    },
    {
     "name": "stderr",
     "output_type": "stream",
     "text": [
      "\r",
      " 27%|██▋       | 268/1000 [17:21<50:15,  4.12s/it]"
     ]
    },
    {
     "name": "stdout",
     "output_type": "stream",
     "text": [
      "80\n",
      "[x] Opening connection to prob16.geekgame.pku.edu.cn on port 10016\n",
      "[x] Opening connection to prob16.geekgame.pku.edu.cn on port 10016: Trying 115.27.246.20\n",
      "[+] Opening connection to prob16.geekgame.pku.edu.cn on port 10016: Done\n"
     ]
    },
    {
     "name": "stderr",
     "output_type": "stream",
     "text": [
      "\r",
      " 27%|██▋       | 269/1000 [17:25<49:46,  4.09s/it]"
     ]
    },
    {
     "name": "stdout",
     "output_type": "stream",
     "text": [
      "65\n",
      "[x] Opening connection to prob16.geekgame.pku.edu.cn on port 10016\n",
      "[x] Opening connection to prob16.geekgame.pku.edu.cn on port 10016: Trying 115.27.246.20\n",
      "[+] Opening connection to prob16.geekgame.pku.edu.cn on port 10016: Done\n"
     ]
    },
    {
     "name": "stderr",
     "output_type": "stream",
     "text": [
      "\r",
      " 27%|██▋       | 270/1000 [17:29<48:34,  3.99s/it]"
     ]
    },
    {
     "name": "stdout",
     "output_type": "stream",
     "text": [
      "[x] Opening connection to prob16.geekgame.pku.edu.cn on port 10016\n",
      "[x] Opening connection to prob16.geekgame.pku.edu.cn on port 10016: Trying 115.27.246.20\n",
      "[+] Opening connection to prob16.geekgame.pku.edu.cn on port 10016: Done\n"
     ]
    },
    {
     "name": "stderr",
     "output_type": "stream",
     "text": [
      "\r",
      " 27%|██▋       | 271/1000 [17:33<47:40,  3.92s/it]"
     ]
    },
    {
     "name": "stdout",
     "output_type": "stream",
     "text": [
      "[x] Opening connection to prob16.geekgame.pku.edu.cn on port 10016\n",
      "[x] Opening connection to prob16.geekgame.pku.edu.cn on port 10016: Trying 115.27.246.20\n",
      "[+] Opening connection to prob16.geekgame.pku.edu.cn on port 10016: Done\n"
     ]
    },
    {
     "name": "stderr",
     "output_type": "stream",
     "text": [
      "\r",
      " 27%|██▋       | 272/1000 [17:37<48:26,  3.99s/it]"
     ]
    },
    {
     "name": "stdout",
     "output_type": "stream",
     "text": [
      "[x] Opening connection to prob16.geekgame.pku.edu.cn on port 10016\n",
      "[x] Opening connection to prob16.geekgame.pku.edu.cn on port 10016: Trying 115.27.246.20\n",
      "[+] Opening connection to prob16.geekgame.pku.edu.cn on port 10016: Done\n"
     ]
    },
    {
     "name": "stderr",
     "output_type": "stream",
     "text": [
      "\r",
      " 27%|██▋       | 273/1000 [17:41<48:54,  4.04s/it]"
     ]
    },
    {
     "name": "stdout",
     "output_type": "stream",
     "text": [
      "[x] Opening connection to prob16.geekgame.pku.edu.cn on port 10016\n",
      "[x] Opening connection to prob16.geekgame.pku.edu.cn on port 10016: Trying 115.27.246.20\n",
      "[+] Opening connection to prob16.geekgame.pku.edu.cn on port 10016: Done\n"
     ]
    },
    {
     "name": "stderr",
     "output_type": "stream",
     "text": [
      "\r",
      " 27%|██▋       | 274/1000 [17:45<48:24,  4.00s/it]"
     ]
    },
    {
     "name": "stdout",
     "output_type": "stream",
     "text": [
      "[x] Opening connection to prob16.geekgame.pku.edu.cn on port 10016\n",
      "[x] Opening connection to prob16.geekgame.pku.edu.cn on port 10016: Trying 115.27.246.20\n",
      "[+] Opening connection to prob16.geekgame.pku.edu.cn on port 10016: Done\n"
     ]
    },
    {
     "name": "stderr",
     "output_type": "stream",
     "text": [
      "\r",
      " 28%|██▊       | 275/1000 [17:51<55:05,  4.56s/it]"
     ]
    },
    {
     "name": "stdout",
     "output_type": "stream",
     "text": [
      "[x] Opening connection to prob16.geekgame.pku.edu.cn on port 10016\n",
      "[x] Opening connection to prob16.geekgame.pku.edu.cn on port 10016: Trying 115.27.246.20\n",
      "[+] Opening connection to prob16.geekgame.pku.edu.cn on port 10016: Done\n"
     ]
    },
    {
     "name": "stderr",
     "output_type": "stream",
     "text": [
      "\r",
      " 28%|██▊       | 276/1000 [17:55<52:07,  4.32s/it]"
     ]
    },
    {
     "name": "stdout",
     "output_type": "stream",
     "text": [
      "[x] Opening connection to prob16.geekgame.pku.edu.cn on port 10016\n",
      "[x] Opening connection to prob16.geekgame.pku.edu.cn on port 10016: Trying 115.27.246.20\n",
      "[+] Opening connection to prob16.geekgame.pku.edu.cn on port 10016: Done\n"
     ]
    },
    {
     "name": "stderr",
     "output_type": "stream",
     "text": [
      "\r",
      " 28%|██▊       | 277/1000 [17:59<51:04,  4.24s/it]"
     ]
    },
    {
     "name": "stdout",
     "output_type": "stream",
     "text": [
      "45\n",
      "[x] Opening connection to prob16.geekgame.pku.edu.cn on port 10016\n",
      "[x] Opening connection to prob16.geekgame.pku.edu.cn on port 10016: Trying 115.27.246.20\n",
      "[+] Opening connection to prob16.geekgame.pku.edu.cn on port 10016: Done\n"
     ]
    },
    {
     "name": "stderr",
     "output_type": "stream",
     "text": [
      "\r",
      " 28%|██▊       | 278/1000 [18:02<48:58,  4.07s/it]"
     ]
    },
    {
     "name": "stdout",
     "output_type": "stream",
     "text": [
      "[x] Opening connection to prob16.geekgame.pku.edu.cn on port 10016\n",
      "[x] Opening connection to prob16.geekgame.pku.edu.cn on port 10016: Trying 115.27.246.20\n",
      "[+] Opening connection to prob16.geekgame.pku.edu.cn on port 10016: Done\n"
     ]
    },
    {
     "name": "stderr",
     "output_type": "stream",
     "text": [
      "\r",
      " 28%|██▊       | 279/1000 [18:06<48:07,  4.01s/it]"
     ]
    },
    {
     "name": "stdout",
     "output_type": "stream",
     "text": [
      "[x] Opening connection to prob16.geekgame.pku.edu.cn on port 10016\n",
      "[x] Opening connection to prob16.geekgame.pku.edu.cn on port 10016: Trying 115.27.246.20\n",
      "[+] Opening connection to prob16.geekgame.pku.edu.cn on port 10016: Done\n"
     ]
    },
    {
     "name": "stderr",
     "output_type": "stream",
     "text": [
      "\r",
      " 28%|██▊       | 280/1000 [18:10<47:42,  3.98s/it]"
     ]
    },
    {
     "name": "stdout",
     "output_type": "stream",
     "text": [
      "90\n",
      "[x] Opening connection to prob16.geekgame.pku.edu.cn on port 10016\n",
      "[x] Opening connection to prob16.geekgame.pku.edu.cn on port 10016: Trying 115.27.246.20\n",
      "[+] Opening connection to prob16.geekgame.pku.edu.cn on port 10016: Done\n"
     ]
    },
    {
     "name": "stderr",
     "output_type": "stream",
     "text": [
      "\r",
      " 28%|██▊       | 281/1000 [18:15<49:38,  4.14s/it]"
     ]
    },
    {
     "name": "stdout",
     "output_type": "stream",
     "text": [
      "[x] Opening connection to prob16.geekgame.pku.edu.cn on port 10016\n",
      "[x] Opening connection to prob16.geekgame.pku.edu.cn on port 10016: Trying 115.27.246.20\n",
      "[+] Opening connection to prob16.geekgame.pku.edu.cn on port 10016: Done\n"
     ]
    },
    {
     "name": "stderr",
     "output_type": "stream",
     "text": [
      "\r",
      " 28%|██▊       | 282/1000 [18:19<50:35,  4.23s/it]"
     ]
    },
    {
     "name": "stdout",
     "output_type": "stream",
     "text": [
      "95\n",
      "[x] Opening connection to prob16.geekgame.pku.edu.cn on port 10016\n",
      "[x] Opening connection to prob16.geekgame.pku.edu.cn on port 10016: Trying 115.27.246.20\n",
      "[+] Opening connection to prob16.geekgame.pku.edu.cn on port 10016: Done\n"
     ]
    },
    {
     "name": "stderr",
     "output_type": "stream",
     "text": [
      "\r",
      " 28%|██▊       | 283/1000 [18:23<50:06,  4.19s/it]"
     ]
    },
    {
     "name": "stdout",
     "output_type": "stream",
     "text": [
      "70\n",
      "[x] Opening connection to prob16.geekgame.pku.edu.cn on port 10016\n",
      "[x] Opening connection to prob16.geekgame.pku.edu.cn on port 10016: Trying 115.27.246.20\n",
      "[+] Opening connection to prob16.geekgame.pku.edu.cn on port 10016: Done\n"
     ]
    },
    {
     "name": "stderr",
     "output_type": "stream",
     "text": [
      "\r",
      " 28%|██▊       | 284/1000 [18:27<49:55,  4.18s/it]"
     ]
    },
    {
     "name": "stdout",
     "output_type": "stream",
     "text": [
      "[x] Opening connection to prob16.geekgame.pku.edu.cn on port 10016\n",
      "[x] Opening connection to prob16.geekgame.pku.edu.cn on port 10016: Trying 115.27.246.20\n",
      "[+] Opening connection to prob16.geekgame.pku.edu.cn on port 10016: Done\n"
     ]
    },
    {
     "name": "stderr",
     "output_type": "stream",
     "text": [
      "\r",
      " 28%|██▊       | 285/1000 [18:31<48:24,  4.06s/it]"
     ]
    },
    {
     "name": "stdout",
     "output_type": "stream",
     "text": [
      "55\n",
      "[x] Opening connection to prob16.geekgame.pku.edu.cn on port 10016\n",
      "[x] Opening connection to prob16.geekgame.pku.edu.cn on port 10016: Trying 115.27.246.20\n",
      "[+] Opening connection to prob16.geekgame.pku.edu.cn on port 10016: Done\n"
     ]
    },
    {
     "name": "stderr",
     "output_type": "stream",
     "text": [
      "\r",
      " 29%|██▊       | 286/1000 [18:35<47:27,  3.99s/it]"
     ]
    },
    {
     "name": "stdout",
     "output_type": "stream",
     "text": [
      "55\n",
      "[x] Opening connection to prob16.geekgame.pku.edu.cn on port 10016\n",
      "[x] Opening connection to prob16.geekgame.pku.edu.cn on port 10016: Trying 115.27.246.20\n",
      "[+] Opening connection to prob16.geekgame.pku.edu.cn on port 10016: Done\n"
     ]
    },
    {
     "name": "stderr",
     "output_type": "stream",
     "text": [
      "\r",
      " 29%|██▊       | 287/1000 [18:39<47:22,  3.99s/it]"
     ]
    },
    {
     "name": "stdout",
     "output_type": "stream",
     "text": [
      "[x] Opening connection to prob16.geekgame.pku.edu.cn on port 10016\n",
      "[x] Opening connection to prob16.geekgame.pku.edu.cn on port 10016: Trying 115.27.246.20\n",
      "[+] Opening connection to prob16.geekgame.pku.edu.cn on port 10016: Done\n"
     ]
    },
    {
     "name": "stderr",
     "output_type": "stream",
     "text": [
      "\r",
      " 29%|██▉       | 288/1000 [18:43<46:46,  3.94s/it]"
     ]
    },
    {
     "name": "stdout",
     "output_type": "stream",
     "text": [
      "[x] Opening connection to prob16.geekgame.pku.edu.cn on port 10016\n",
      "[x] Opening connection to prob16.geekgame.pku.edu.cn on port 10016: Trying 115.27.246.20\n",
      "[+] Opening connection to prob16.geekgame.pku.edu.cn on port 10016: Done\n"
     ]
    },
    {
     "name": "stderr",
     "output_type": "stream",
     "text": [
      "\r",
      " 29%|██▉       | 289/1000 [18:46<46:08,  3.89s/it]"
     ]
    },
    {
     "name": "stdout",
     "output_type": "stream",
     "text": [
      "65\n",
      "[x] Opening connection to prob16.geekgame.pku.edu.cn on port 10016\n",
      "[x] Opening connection to prob16.geekgame.pku.edu.cn on port 10016: Trying 115.27.246.20\n",
      "[+] Opening connection to prob16.geekgame.pku.edu.cn on port 10016: Done\n"
     ]
    },
    {
     "name": "stderr",
     "output_type": "stream",
     "text": [
      "\r",
      " 29%|██▉       | 290/1000 [18:50<46:08,  3.90s/it]"
     ]
    },
    {
     "name": "stdout",
     "output_type": "stream",
     "text": [
      "[x] Opening connection to prob16.geekgame.pku.edu.cn on port 10016\n",
      "[x] Opening connection to prob16.geekgame.pku.edu.cn on port 10016: Trying 115.27.246.20\n",
      "[+] Opening connection to prob16.geekgame.pku.edu.cn on port 10016: Done\n"
     ]
    },
    {
     "name": "stderr",
     "output_type": "stream",
     "text": [
      "\r",
      " 29%|██▉       | 291/1000 [18:54<45:51,  3.88s/it]"
     ]
    },
    {
     "name": "stdout",
     "output_type": "stream",
     "text": [
      "45\n",
      "[x] Opening connection to prob16.geekgame.pku.edu.cn on port 10016\n",
      "[x] Opening connection to prob16.geekgame.pku.edu.cn on port 10016: Trying 115.27.246.20\n",
      "[+] Opening connection to prob16.geekgame.pku.edu.cn on port 10016: Done\n"
     ]
    },
    {
     "name": "stderr",
     "output_type": "stream",
     "text": [
      "\r",
      " 29%|██▉       | 292/1000 [18:58<46:34,  3.95s/it]"
     ]
    },
    {
     "name": "stdout",
     "output_type": "stream",
     "text": [
      "75\n",
      "[x] Opening connection to prob16.geekgame.pku.edu.cn on port 10016\n",
      "[x] Opening connection to prob16.geekgame.pku.edu.cn on port 10016: Trying 115.27.246.20\n",
      "[+] Opening connection to prob16.geekgame.pku.edu.cn on port 10016: Done\n"
     ]
    },
    {
     "name": "stderr",
     "output_type": "stream",
     "text": [
      "\r",
      " 29%|██▉       | 293/1000 [19:02<45:54,  3.90s/it]"
     ]
    },
    {
     "name": "stdout",
     "output_type": "stream",
     "text": [
      "[x] Opening connection to prob16.geekgame.pku.edu.cn on port 10016\n",
      "[x] Opening connection to prob16.geekgame.pku.edu.cn on port 10016: Trying 115.27.246.20\n",
      "[+] Opening connection to prob16.geekgame.pku.edu.cn on port 10016: Done\n"
     ]
    },
    {
     "name": "stderr",
     "output_type": "stream",
     "text": [
      "\r",
      " 29%|██▉       | 294/1000 [19:06<45:30,  3.87s/it]"
     ]
    },
    {
     "name": "stdout",
     "output_type": "stream",
     "text": [
      "[x] Opening connection to prob16.geekgame.pku.edu.cn on port 10016\n",
      "[x] Opening connection to prob16.geekgame.pku.edu.cn on port 10016: Trying 115.27.246.20\n",
      "[+] Opening connection to prob16.geekgame.pku.edu.cn on port 10016: Done\n"
     ]
    },
    {
     "name": "stderr",
     "output_type": "stream",
     "text": [
      "\r",
      " 30%|██▉       | 295/1000 [19:10<44:55,  3.82s/it]"
     ]
    },
    {
     "name": "stdout",
     "output_type": "stream",
     "text": [
      "70\n",
      "[x] Opening connection to prob16.geekgame.pku.edu.cn on port 10016\n",
      "[x] Opening connection to prob16.geekgame.pku.edu.cn on port 10016: Trying 115.27.246.20\n",
      "[+] Opening connection to prob16.geekgame.pku.edu.cn on port 10016: Done\n"
     ]
    },
    {
     "name": "stderr",
     "output_type": "stream",
     "text": [
      "\r",
      " 30%|██▉       | 296/1000 [19:13<44:37,  3.80s/it]"
     ]
    },
    {
     "name": "stdout",
     "output_type": "stream",
     "text": [
      "[x] Opening connection to prob16.geekgame.pku.edu.cn on port 10016\n",
      "[x] Opening connection to prob16.geekgame.pku.edu.cn on port 10016: Trying 115.27.246.20\n",
      "[+] Opening connection to prob16.geekgame.pku.edu.cn on port 10016: Done\n"
     ]
    },
    {
     "name": "stderr",
     "output_type": "stream",
     "text": [
      "\r",
      " 30%|██▉       | 297/1000 [19:17<45:07,  3.85s/it]"
     ]
    },
    {
     "name": "stdout",
     "output_type": "stream",
     "text": [
      "55\n",
      "[x] Opening connection to prob16.geekgame.pku.edu.cn on port 10016\n",
      "[x] Opening connection to prob16.geekgame.pku.edu.cn on port 10016: Trying 115.27.246.20\n",
      "[+] Opening connection to prob16.geekgame.pku.edu.cn on port 10016: Done\n"
     ]
    },
    {
     "name": "stderr",
     "output_type": "stream",
     "text": [
      "\r",
      " 30%|██▉       | 298/1000 [19:21<45:15,  3.87s/it]"
     ]
    },
    {
     "name": "stdout",
     "output_type": "stream",
     "text": [
      "55\n",
      "[x] Opening connection to prob16.geekgame.pku.edu.cn on port 10016\n",
      "[x] Opening connection to prob16.geekgame.pku.edu.cn on port 10016: Trying 115.27.246.20\n",
      "[+] Opening connection to prob16.geekgame.pku.edu.cn on port 10016: Done\n"
     ]
    },
    {
     "name": "stderr",
     "output_type": "stream",
     "text": [
      "\r",
      " 30%|██▉       | 299/1000 [19:26<46:51,  4.01s/it]"
     ]
    },
    {
     "name": "stdout",
     "output_type": "stream",
     "text": [
      "[x] Opening connection to prob16.geekgame.pku.edu.cn on port 10016\n",
      "[x] Opening connection to prob16.geekgame.pku.edu.cn on port 10016: Trying 115.27.246.20\n",
      "[+] Opening connection to prob16.geekgame.pku.edu.cn on port 10016: Done\n"
     ]
    },
    {
     "name": "stderr",
     "output_type": "stream",
     "text": [
      "\r",
      " 30%|███       | 300/1000 [19:30<47:27,  4.07s/it]"
     ]
    },
    {
     "name": "stdout",
     "output_type": "stream",
     "text": [
      "[x] Opening connection to prob16.geekgame.pku.edu.cn on port 10016\n",
      "[x] Opening connection to prob16.geekgame.pku.edu.cn on port 10016: Trying 115.27.246.20\n",
      "[+] Opening connection to prob16.geekgame.pku.edu.cn on port 10016: Done\n"
     ]
    },
    {
     "name": "stderr",
     "output_type": "stream",
     "text": [
      "\r",
      " 30%|███       | 301/1000 [19:34<46:34,  4.00s/it]"
     ]
    },
    {
     "name": "stdout",
     "output_type": "stream",
     "text": [
      "[x] Opening connection to prob16.geekgame.pku.edu.cn on port 10016\n",
      "[x] Opening connection to prob16.geekgame.pku.edu.cn on port 10016: Trying 115.27.246.20\n",
      "[+] Opening connection to prob16.geekgame.pku.edu.cn on port 10016: Done\n"
     ]
    },
    {
     "name": "stderr",
     "output_type": "stream",
     "text": [
      "\r",
      " 30%|███       | 302/1000 [19:38<46:16,  3.98s/it]"
     ]
    },
    {
     "name": "stdout",
     "output_type": "stream",
     "text": [
      "[x] Opening connection to prob16.geekgame.pku.edu.cn on port 10016\n",
      "[x] Opening connection to prob16.geekgame.pku.edu.cn on port 10016: Trying 115.27.246.20\n",
      "[+] Opening connection to prob16.geekgame.pku.edu.cn on port 10016: Done\n"
     ]
    },
    {
     "name": "stderr",
     "output_type": "stream",
     "text": [
      "\r",
      " 30%|███       | 303/1000 [19:42<49:20,  4.25s/it]"
     ]
    },
    {
     "name": "stdout",
     "output_type": "stream",
     "text": [
      "55\n",
      "[x] Opening connection to prob16.geekgame.pku.edu.cn on port 10016\n",
      "[x] Opening connection to prob16.geekgame.pku.edu.cn on port 10016: Trying 115.27.246.20\n",
      "[+] Opening connection to prob16.geekgame.pku.edu.cn on port 10016: Done\n"
     ]
    },
    {
     "name": "stderr",
     "output_type": "stream",
     "text": [
      "\r",
      " 30%|███       | 304/1000 [19:46<47:24,  4.09s/it]"
     ]
    },
    {
     "name": "stdout",
     "output_type": "stream",
     "text": [
      "45\n",
      "[x] Opening connection to prob16.geekgame.pku.edu.cn on port 10016\n",
      "[x] Opening connection to prob16.geekgame.pku.edu.cn on port 10016: Trying 115.27.246.20\n",
      "[+] Opening connection to prob16.geekgame.pku.edu.cn on port 10016: Done\n"
     ]
    },
    {
     "name": "stderr",
     "output_type": "stream",
     "text": [
      "\r",
      " 30%|███       | 305/1000 [19:50<46:14,  3.99s/it]"
     ]
    },
    {
     "name": "stdout",
     "output_type": "stream",
     "text": [
      "90\n",
      "[x] Opening connection to prob16.geekgame.pku.edu.cn on port 10016\n",
      "[x] Opening connection to prob16.geekgame.pku.edu.cn on port 10016: Trying 115.27.246.20\n",
      "[+] Opening connection to prob16.geekgame.pku.edu.cn on port 10016: Done\n"
     ]
    },
    {
     "name": "stderr",
     "output_type": "stream",
     "text": [
      "\r",
      " 31%|███       | 306/1000 [19:54<46:35,  4.03s/it]"
     ]
    },
    {
     "name": "stdout",
     "output_type": "stream",
     "text": [
      "[x] Opening connection to prob16.geekgame.pku.edu.cn on port 10016\n",
      "[x] Opening connection to prob16.geekgame.pku.edu.cn on port 10016: Trying 115.27.246.20\n",
      "[+] Opening connection to prob16.geekgame.pku.edu.cn on port 10016: Done\n"
     ]
    },
    {
     "name": "stderr",
     "output_type": "stream",
     "text": [
      "\r",
      " 31%|███       | 307/1000 [19:59<48:46,  4.22s/it]"
     ]
    },
    {
     "name": "stdout",
     "output_type": "stream",
     "text": [
      "[x] Opening connection to prob16.geekgame.pku.edu.cn on port 10016\n",
      "[x] Opening connection to prob16.geekgame.pku.edu.cn on port 10016: Trying 115.27.246.20\n",
      "[+] Opening connection to prob16.geekgame.pku.edu.cn on port 10016: Done\n"
     ]
    },
    {
     "name": "stderr",
     "output_type": "stream",
     "text": [
      "\r",
      " 31%|███       | 308/1000 [20:03<47:50,  4.15s/it]"
     ]
    },
    {
     "name": "stdout",
     "output_type": "stream",
     "text": [
      "105\n",
      "[x] Opening connection to prob16.geekgame.pku.edu.cn on port 10016\n",
      "[x] Opening connection to prob16.geekgame.pku.edu.cn on port 10016: Trying 115.27.246.20\n",
      "[+] Opening connection to prob16.geekgame.pku.edu.cn on port 10016: Done\n"
     ]
    },
    {
     "name": "stderr",
     "output_type": "stream",
     "text": [
      "\r",
      " 31%|███       | 309/1000 [20:06<46:23,  4.03s/it]"
     ]
    },
    {
     "name": "stdout",
     "output_type": "stream",
     "text": [
      "[x] Opening connection to prob16.geekgame.pku.edu.cn on port 10016\n",
      "[x] Opening connection to prob16.geekgame.pku.edu.cn on port 10016: Trying 115.27.246.20\n",
      "[+] Opening connection to prob16.geekgame.pku.edu.cn on port 10016: Done\n"
     ]
    },
    {
     "name": "stderr",
     "output_type": "stream",
     "text": [
      "\r",
      " 31%|███       | 310/1000 [20:12<53:17,  4.63s/it]"
     ]
    },
    {
     "name": "stdout",
     "output_type": "stream",
     "text": [
      "55\n",
      "[x] Opening connection to prob16.geekgame.pku.edu.cn on port 10016\n",
      "[x] Opening connection to prob16.geekgame.pku.edu.cn on port 10016: Trying 115.27.246.20\n",
      "[+] Opening connection to prob16.geekgame.pku.edu.cn on port 10016: Done\n"
     ]
    },
    {
     "name": "stderr",
     "output_type": "stream",
     "text": [
      "\r",
      " 31%|███       | 311/1000 [20:16<50:40,  4.41s/it]"
     ]
    },
    {
     "name": "stdout",
     "output_type": "stream",
     "text": [
      "90\n",
      "[x] Opening connection to prob16.geekgame.pku.edu.cn on port 10016\n",
      "[x] Opening connection to prob16.geekgame.pku.edu.cn on port 10016: Trying 115.27.246.20\n",
      "[+] Opening connection to prob16.geekgame.pku.edu.cn on port 10016: Done\n"
     ]
    },
    {
     "name": "stderr",
     "output_type": "stream",
     "text": [
      "\r",
      " 31%|███       | 312/1000 [20:20<48:41,  4.25s/it]"
     ]
    },
    {
     "name": "stdout",
     "output_type": "stream",
     "text": [
      "65\n",
      "[x] Opening connection to prob16.geekgame.pku.edu.cn on port 10016\n",
      "[x] Opening connection to prob16.geekgame.pku.edu.cn on port 10016: Trying 115.27.246.20\n",
      "[+] Opening connection to prob16.geekgame.pku.edu.cn on port 10016: Done\n"
     ]
    },
    {
     "name": "stderr",
     "output_type": "stream",
     "text": [
      "\r",
      " 31%|███▏      | 313/1000 [20:24<47:04,  4.11s/it]"
     ]
    },
    {
     "name": "stdout",
     "output_type": "stream",
     "text": [
      "[x] Opening connection to prob16.geekgame.pku.edu.cn on port 10016\n",
      "[x] Opening connection to prob16.geekgame.pku.edu.cn on port 10016: Trying 115.27.246.20\n",
      "[+] Opening connection to prob16.geekgame.pku.edu.cn on port 10016: Done\n"
     ]
    },
    {
     "name": "stderr",
     "output_type": "stream",
     "text": [
      "\r",
      " 31%|███▏      | 314/1000 [20:30<53:04,  4.64s/it]"
     ]
    },
    {
     "name": "stdout",
     "output_type": "stream",
     "text": [
      "[x] Opening connection to prob16.geekgame.pku.edu.cn on port 10016\n",
      "[x] Opening connection to prob16.geekgame.pku.edu.cn on port 10016: Trying 115.27.246.20\n",
      "[+] Opening connection to prob16.geekgame.pku.edu.cn on port 10016: Done\n"
     ]
    },
    {
     "name": "stderr",
     "output_type": "stream",
     "text": [
      "\r",
      " 32%|███▏      | 315/1000 [20:34<52:18,  4.58s/it]"
     ]
    },
    {
     "name": "stdout",
     "output_type": "stream",
     "text": [
      "80\n",
      "[x] Opening connection to prob16.geekgame.pku.edu.cn on port 10016\n",
      "[x] Opening connection to prob16.geekgame.pku.edu.cn on port 10016: Trying 115.27.246.20\n",
      "[+] Opening connection to prob16.geekgame.pku.edu.cn on port 10016: Done\n"
     ]
    },
    {
     "name": "stderr",
     "output_type": "stream",
     "text": [
      "\r",
      " 32%|███▏      | 316/1000 [20:39<52:58,  4.65s/it]"
     ]
    },
    {
     "name": "stdout",
     "output_type": "stream",
     "text": [
      "70\n",
      "[x] Opening connection to prob16.geekgame.pku.edu.cn on port 10016\n",
      "[x] Opening connection to prob16.geekgame.pku.edu.cn on port 10016: Trying 115.27.246.20\n",
      "[+] Opening connection to prob16.geekgame.pku.edu.cn on port 10016: Done\n"
     ]
    },
    {
     "name": "stderr",
     "output_type": "stream",
     "text": [
      "\r",
      " 32%|███▏      | 317/1000 [20:43<50:22,  4.43s/it]"
     ]
    },
    {
     "name": "stdout",
     "output_type": "stream",
     "text": [
      "[x] Opening connection to prob16.geekgame.pku.edu.cn on port 10016\n",
      "[x] Opening connection to prob16.geekgame.pku.edu.cn on port 10016: Trying 115.27.246.20\n",
      "[+] Opening connection to prob16.geekgame.pku.edu.cn on port 10016: Done\n"
     ]
    },
    {
     "name": "stderr",
     "output_type": "stream",
     "text": [
      "\r",
      " 32%|███▏      | 318/1000 [20:47<49:22,  4.34s/it]"
     ]
    },
    {
     "name": "stdout",
     "output_type": "stream",
     "text": [
      "110\n",
      "[x] Opening connection to prob16.geekgame.pku.edu.cn on port 10016\n",
      "[x] Opening connection to prob16.geekgame.pku.edu.cn on port 10016: Trying 115.27.246.20\n",
      "[+] Opening connection to prob16.geekgame.pku.edu.cn on port 10016: Done\n"
     ]
    },
    {
     "name": "stderr",
     "output_type": "stream",
     "text": [
      "\r",
      " 32%|███▏      | 319/1000 [20:51<48:03,  4.23s/it]"
     ]
    },
    {
     "name": "stdout",
     "output_type": "stream",
     "text": [
      "60\n",
      "[x] Opening connection to prob16.geekgame.pku.edu.cn on port 10016\n",
      "[x] Opening connection to prob16.geekgame.pku.edu.cn on port 10016: Trying 115.27.246.20\n",
      "[+] Opening connection to prob16.geekgame.pku.edu.cn on port 10016: Done\n"
     ]
    },
    {
     "name": "stderr",
     "output_type": "stream",
     "text": [
      "\r",
      " 32%|███▏      | 320/1000 [20:55<46:26,  4.10s/it]"
     ]
    },
    {
     "name": "stdout",
     "output_type": "stream",
     "text": [
      "80\n",
      "[x] Opening connection to prob16.geekgame.pku.edu.cn on port 10016\n",
      "[x] Opening connection to prob16.geekgame.pku.edu.cn on port 10016: Trying 115.27.246.20\n",
      "[+] Opening connection to prob16.geekgame.pku.edu.cn on port 10016: Done\n"
     ]
    },
    {
     "name": "stderr",
     "output_type": "stream",
     "text": [
      "\r",
      " 32%|███▏      | 321/1000 [20:59<46:05,  4.07s/it]"
     ]
    },
    {
     "name": "stdout",
     "output_type": "stream",
     "text": [
      "[x] Opening connection to prob16.geekgame.pku.edu.cn on port 10016\n",
      "[x] Opening connection to prob16.geekgame.pku.edu.cn on port 10016: Trying 115.27.246.20\n",
      "[+] Opening connection to prob16.geekgame.pku.edu.cn on port 10016: Done\n"
     ]
    },
    {
     "name": "stderr",
     "output_type": "stream",
     "text": [
      "\r",
      " 32%|███▏      | 322/1000 [21:03<45:39,  4.04s/it]"
     ]
    },
    {
     "name": "stdout",
     "output_type": "stream",
     "text": [
      "105\n",
      "[x] Opening connection to prob16.geekgame.pku.edu.cn on port 10016\n",
      "[x] Opening connection to prob16.geekgame.pku.edu.cn on port 10016: Trying 115.27.246.20\n",
      "[+] Opening connection to prob16.geekgame.pku.edu.cn on port 10016: Done\n"
     ]
    },
    {
     "name": "stderr",
     "output_type": "stream",
     "text": [
      "\r",
      " 32%|███▏      | 323/1000 [21:07<45:32,  4.04s/it]"
     ]
    },
    {
     "name": "stdout",
     "output_type": "stream",
     "text": [
      "105\n",
      "[x] Opening connection to prob16.geekgame.pku.edu.cn on port 10016\n",
      "[x] Opening connection to prob16.geekgame.pku.edu.cn on port 10016: Trying 115.27.246.20\n",
      "[+] Opening connection to prob16.geekgame.pku.edu.cn on port 10016: Done\n"
     ]
    },
    {
     "name": "stderr",
     "output_type": "stream",
     "text": [
      "\r",
      " 32%|███▏      | 323/1000 [21:11<44:24,  3.94s/it]"
     ]
    },
    {
     "name": "stdout",
     "output_type": "stream",
     "text": [
      "135\n"
     ]
    },
    {
     "name": "stderr",
     "output_type": "stream",
     "text": [
      "\n"
     ]
    }
   ],
   "source": [
    "from pwn import *\n",
    "import re\n",
    "from tqdm import tqdm\n",
    "import time\n",
    "\n",
    "for i in tqdm(range(1000)):\n",
    "    time.sleep(2)\n",
    "    try:\n",
    "        r = remote('prob16.geekgame.pku.edu.cn', 10016)\n",
    "        r.sendline(b'34:MEUCIQDOrEz76mgSlMHgMyc8PUmHN2outbzVCUHyKCA4vxdv1wIgLRv4gw7LWZ4ucdcD9z_XsSlI1oVahfzYsjk-2uU4aKM=')\n",
    "        r.sendafter(b'[...]:', b'newgame')\n",
    "        r.sendafter(b'your name', b'x')\n",
    "        r.sendafter(b'known as', b'y')\n",
    "    except:\n",
    "        print(\"lose connection\")\n",
    "        continue\n",
    "    \n",
    "    for i in range(4):\n",
    "        r.sendafter(b\"[x]:\", b'h')\n",
    "        \n",
    "    r.sendafter(b\"[x]:\", b'q')\n",
    "    s = r.recv()\n",
    "    s = r.recv()\n",
    "    try:\n",
    "        h = re.findall(\"\\d+\", str(s))[0]\n",
    "        print(h)\n",
    "        if int(h) >= 127:\n",
    "            break\n",
    "        else:\n",
    "            continue\n",
    "    except:\n",
    "        continue"
   ]
  },
  {
   "cell_type": "code",
   "execution_count": 2,
   "id": "85443a23",
   "metadata": {},
   "outputs": [
    {
     "data": {
      "text/plain": [
       "b' ==========================================================================================\\n\\nA locked door stands to the North. This one has a gold handle.\\n\\n            __________\\n           |  __  __  |\\n           | |  ||  | |\\n           | |  ||  | |\\n           | |__||__| |\\n           |  __  __ @|\\n           | |  ||  | |\\n           | |  ||  | |\\n           | |  ||  | |\\n           | |  ||  | |\\n           | |__||__| |\\n           |__________|\\n            \\nWhat do you do?\\n\\ne: >> Walk East.\\ns: \\\\/ Move South.\\ni: View inventory.\\nh: Help, could increase sanity with a certain probability.\\nq: Check sanity.\\nuse: Use an item.\\nusewith: Use something with something.\\npickup: Pickup something.\\n\\n[x]:'"
      ]
     },
     "execution_count": 2,
     "metadata": {},
     "output_type": "execute_result"
    }
   ],
   "source": [
    "r.sendline(b'n')\n",
    "r.sendafter(b\"[x]:\", b'n')\n",
    "r.sendafter(b\"[x]:\", b'e')\n",
    "\n",
    "r.sendafter(b\"[x]:\", b'pickup key')\n",
    "r.sendafter(b\"[x]:\", b'w')\n",
    "r.sendafter(b\"[x]:\", b's')\n",
    "r.sendafter(b\"[x]:\", b's')\n",
    "\n",
    "r.sendafter(b\"[x]:\", b'e')\n",
    "r.sendafter(b\"[x]:\", b'e')\n",
    "r.sendafter(b\"[x]:\", b'e')\n",
    "\n",
    "r.sendafter(b\"[x]:\", b'pickup trinket')\n",
    "r.sendafter(b\"[x]:\", b'use trinket')\n",
    "\n",
    "r.sendafter(b\"[x]:\", b'w')\n",
    "r.sendafter(b\"[x]:\", b's')\n",
    "r.sendafter(b\"[x]:\", b'usewith key door')\n",
    "\n",
    "r.sendafter(b\"[x]:\", b's')\n",
    "r.sendafter(b\"[x]:\", b's')\n",
    "r.sendafter(b\"[x]:\", b'n')\n",
    "r.sendafter(b\"[x]:\", b'w')\n",
    "r.sendafter(b\"[x]:\", b'w')\n",
    "r.sendafter(b\"[x]:\", b'w')\n",
    "r.sendafter(b\"[x]:\", b'n')\n",
    "r.sendafter(b\"[x]:\", b'pickup key')\n",
    "\n",
    "r.sendafter(b\"[x]:\", b's')\n",
    "r.sendafter(b\"[x]:\", b'e')\n",
    "r.sendafter(b\"[x]:\", b'e')\n",
    "r.sendafter(b\"[x]:\", b'e')\n",
    "r.sendafter(b\"[x]:\", b'n')\n",
    "r.sendafter(b\"[x]:\", b'n')\n",
    "r.sendafter(b\"[x]:\", b'n')\n",
    "r.sendafter(b\"[x]:\", b'w')\n",
    "r.sendafter(b\"[x]:\", b'w')\n",
    "r.sendafter(b\"[x]:\", b'n')\n",
    "r.sendafter(b\"[x]:\", b'n')\n",
    "r.sendafter(b\"[x]:\", b'w')\n",
    "r.sendafter(b\"[x]:\", b'w')\n",
    "\n",
    "r.sendafter(b\"[x]:\", b'usewith key door')"
   ]
  },
  {
   "cell_type": "code",
   "execution_count": 3,
   "id": "94370e66",
   "metadata": {},
   "outputs": [
    {
     "data": {
      "text/plain": [
       "b' ==========================================================================================\\n\\nClick! The door unlocks!\\n\\n\\nClick! The door unlocks!\\nA now open door with a gold handle decorates the room.\\nA passage opens to the North.\\n\\nWhat do you do?\\n\\ne: >> Walk East.\\nn: /\\\\ Go North.\\ns: \\\\/ Move South.\\ni: View inventory.\\nh: Help, could increase sanity with a certain probability.\\nq: Check sanity.\\nuse: Use an item.\\nusewith: Use something with something.\\npickup: Pickup something.\\n\\n[x]:'"
      ]
     },
     "execution_count": 3,
     "metadata": {},
     "output_type": "execute_result"
    }
   ],
   "source": [
    "r.sendafter(b\"[x]:\", b'n')"
   ]
  },
  {
   "cell_type": "code",
   "execution_count": 4,
   "id": "5f79c8ff",
   "metadata": {},
   "outputs": [
    {
     "name": "stdout",
     "output_type": "stream",
     "text": [
      "b' '\n",
      "b\"==========================================================================================\\n\\nYou stumble against the wooden door.\\n    You reach to turn the handle as the voices get nearer.\\n\\n\\n                                .-''''-\\n                            F   .-'\\n                            F   J\\n                            I    I\\n                            L   `.\\n                            L    `-._,\\n                                `-.__.-'            @@\\n                                                @@@\\n                        @                      @@@@\\n                _____   @@                 .---@@@@@-...__\\n            .--'     `-@@@          .--..-'    @@@@@@     ''`---....\\n    _____.----.        @@@`.._____ .'          @@@@@@@\\n                        @@@       /       -.    @@@@@@@ _.---\\n                        @@@     .(              @@@@@@@\\n                        @      : `--...        @@@@@@\\n                        @       `.     ``.     @@@@@@\\n                                :       :.    @@@@@\\n                                .'          )    @@@\\n                            .'            /    @@\\n                            _.'              |   .@@\\n                        ,:'               |     '\\n                        .'                 <\\n                    '                   |\\n                    /                    |\\n                    '                     .\\n\\n    You feel the outside wind, the pale moonlight hitting your skin.\\n            \\n\"\n",
      "b'You have escaped with 124% sanity.\\nYou got flag1: flag{y0u_PLaY_GamE_vEry_WEL1}\\nBTW, if you finish with 117\\\\% or higher sanity, you can get flag1\\n\\n[...]: '\n"
     ]
    }
   ],
   "source": [
    "print(r.recv())\n",
    "print(r.recv())\n",
    "print(r.recv())"
   ]
  },
  {
   "cell_type": "code",
   "execution_count": null,
   "id": "107396e6",
   "metadata": {},
   "outputs": [],
   "source": []
  }
 ],
 "metadata": {
  "kernelspec": {
   "display_name": "Python [conda env:.conda-py36] *",
   "language": "python",
   "name": "conda-env-.conda-py36-py"
  },
  "language_info": {
   "codemirror_mode": {
    "name": "ipython",
    "version": 3
   },
   "file_extension": ".py",
   "mimetype": "text/x-python",
   "name": "python",
   "nbconvert_exporter": "python",
   "pygments_lexer": "ipython3",
   "version": "3.6.13"
  }
 },
 "nbformat": 4,
 "nbformat_minor": 5
}
