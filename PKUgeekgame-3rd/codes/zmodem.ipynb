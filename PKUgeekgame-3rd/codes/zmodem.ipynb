{
 "cells": [
  {
   "cell_type": "markdown",
   "id": "8b2260ad",
   "metadata": {},
   "source": [
    "## flag1"
   ]
  },
  {
   "cell_type": "code",
   "execution_count": 7,
   "id": "6739aa99",
   "metadata": {},
   "outputs": [
    {
     "name": "stdout",
     "output_type": "stream",
     "text": [
      "[x] Opening connection to prob05.geekgame.pku.edu.cn on port 10005\n",
      "[x] Opening connection to prob05.geekgame.pku.edu.cn on port 10005: Trying 115.27.246.20\n",
      "[+] Opening connection to prob05.geekgame.pku.edu.cn on port 10005: Done\n"
     ]
    },
    {
     "data": {
      "text/plain": [
       "b'Please input your token: '"
      ]
     },
     "execution_count": 7,
     "metadata": {},
     "output_type": "execute_result"
    }
   ],
   "source": [
    "from pwn import *\n",
    "\n",
    "r = remote('prob05.geekgame.pku.edu.cn', 10005)\n",
    "r.recv()"
   ]
  },
  {
   "cell_type": "code",
   "execution_count": 8,
   "id": "dbe9cc01",
   "metadata": {},
   "outputs": [
    {
     "data": {
      "text/plain": [
       "b'rz\\r**\\x18B00000000000000\\r\\x8a\\x11'"
      ]
     },
     "execution_count": 8,
     "metadata": {},
     "output_type": "execute_result"
    }
   ],
   "source": [
    "r.sendline(b'34:MEUCIQDOrEz76mgSlMHgMyc8PUmHN2outbzVCUHyKCA4vxdv1wIgLRv4gw7LWZ4ucdcD9z_XsSlI1oVahfzYsjk-2uU4aKM=')\n",
    "r.recv()"
   ]
  },
  {
   "cell_type": "code",
   "execution_count": 9,
   "id": "bccd9f05",
   "metadata": {},
   "outputs": [],
   "source": [
    "r.sendline(b'**\\x18B0100000063f694\\r\\x8a\\x11')\n",
    "r.sendline(b'**\\x18B0100000063f694\\r\\x8a\\x11')\n",
    "r.sendline(b'**\\x18B0900000000a87c\\r\\x8a\\x11')\n",
    "r.sendline(b'**\\x18B0100000063f694\\r\\x8a\\x11')\n",
    "r.sendline(b'**\\x18B0800000000022d\\r\\x8a\\x11')\n",
    "r.sendline(b'**\\x18B0800000000022d\\r\\x8a\\x11')\n",
    "r.sendline(b'**\\x18B0800000000022d\\r\\x8a\\x11')"
   ]
  },
  {
   "cell_type": "code",
   "execution_count": 10,
   "id": "555f9229",
   "metadata": {},
   "outputs": [
    {
     "data": {
      "text/plain": [
       "b'*\\x18C\\x18D\\x18@\\x18@\\x18@\\x18@\\xddQ\\xa23flag.txt\\x18@54 14514466272 100666 0 1 54\\x18@\\x18kj\\xc4\\xe0+\\x11*\\x18C\\x18J\\x18@\\x18@\\x18@\\x18@\\xbc\\xef\\x18\\xd2\\x18\\xccflag{AnC1eNt_tr4nSf3R_pr0tOcoI_15_57111_In_u5e_t0d4y}\\x18J\\x18h\\x18\\xc5\\xaf\\xa5\\x18\\xc1*\\x18C\\x18K6\\x18@\\x18@\\x18@qa\\xb2d\\r**\\x18B0800000000022d\\r\\x8aOO'"
      ]
     },
     "execution_count": 10,
     "metadata": {},
     "output_type": "execute_result"
    }
   ],
   "source": [
    "r.recv()"
   ]
  },
  {
   "cell_type": "markdown",
   "id": "6111a751",
   "metadata": {},
   "source": [
    "## flag2"
   ]
  },
  {
   "cell_type": "code",
   "execution_count": 8,
   "id": "e5a70f0d",
   "metadata": {},
   "outputs": [
    {
     "data": {
      "text/plain": [
       "16096"
      ]
     },
     "execution_count": 8,
     "metadata": {},
     "output_type": "execute_result"
    }
   ],
   "source": [
    "0x3ee0"
   ]
  },
  {
   "cell_type": "code",
   "execution_count": 10,
   "id": "17242799",
   "metadata": {},
   "outputs": [],
   "source": [
    "# prob05.bin是从WireShark导出的二进制文件\n",
    "with open('zmodem.bin','rb') as f:\n",
    "     dat = f.read()"
   ]
  },
  {
   "cell_type": "code",
   "execution_count": 11,
   "id": "64118231",
   "metadata": {},
   "outputs": [],
   "source": [
    "fig = dat[0x72:0x4f7f] # 从jpg的文件头到文件尾"
   ]
  },
  {
   "cell_type": "code",
   "execution_count": 12,
   "id": "9ae9e169",
   "metadata": {},
   "outputs": [],
   "source": [
    "import binascii"
   ]
  },
  {
   "cell_type": "code",
   "execution_count": 34,
   "id": "63be0e74",
   "metadata": {},
   "outputs": [
    {
     "name": "stdout",
     "output_type": "stream",
     "text": [
      "16171\n"
     ]
    }
   ],
   "source": [
    "s = b\"\"\n",
    "i = 0\n",
    "while i < len(fig):\n",
    "    if fig[i] == 0x18:\n",
    "        tmp = fig[i+1] ^ 0x40\n",
    "        tmp = hex(tmp)[2:].zfill(2)\n",
    "        s += bytes.fromhex(tmp)\n",
    "        i += 2\n",
    "    else:\n",
    "        s += fig[i:i+1]\n",
    "        i += 1\n",
    "        \n",
    "print(len(s))"
   ]
  },
  {
   "cell_type": "code",
   "execution_count": 48,
   "id": "b220c24f",
   "metadata": {},
   "outputs": [],
   "source": [
    "with open('res1.jpg','wb') as f:\n",
    "     f.write(s)"
   ]
  },
  {
   "cell_type": "code",
   "execution_count": 51,
   "id": "af03452f",
   "metadata": {},
   "outputs": [
    {
     "name": "stdout",
     "output_type": "stream",
     "text": [
      "16103\n"
     ]
    }
   ],
   "source": [
    "s = b\"\"\n",
    "i = 0\n",
    "while i < len(fig):\n",
    "    if len(s) % 1024 == 0 and len(s) > 0:\n",
    "        i += 6\n",
    "    if fig[i] == 0x18:\n",
    "        tmp = fig[i+1] ^ 0x40\n",
    "        tmp = hex(tmp)[2:].zfill(2)\n",
    "        s += bytes.fromhex(tmp)\n",
    "        i += 2\n",
    "    else:\n",
    "        s += fig[i:i+1]\n",
    "        i += 1\n",
    "        \n",
    "print(len(s))"
   ]
  },
  {
   "cell_type": "code",
   "execution_count": 52,
   "id": "905d16be",
   "metadata": {},
   "outputs": [],
   "source": [
    "with open('res2.jpg','wb') as f:\n",
    "     f.write(s)"
   ]
  },
  {
   "cell_type": "code",
   "execution_count": null,
   "id": "54701e18",
   "metadata": {},
   "outputs": [],
   "source": [
    "#flag{traFf1c_aNa1y51s_4_ZMODEM}"
   ]
  }
 ],
 "metadata": {
  "kernelspec": {
   "display_name": "Python [conda env:.conda-hjh]",
   "language": "python",
   "name": "conda-env-.conda-hjh-py"
  },
  "language_info": {
   "codemirror_mode": {
    "name": "ipython",
    "version": 3
   },
   "file_extension": ".py",
   "mimetype": "text/x-python",
   "name": "python",
   "nbconvert_exporter": "python",
   "pygments_lexer": "ipython3",
   "version": "3.8.10"
  }
 },
 "nbformat": 4,
 "nbformat_minor": 5
}
