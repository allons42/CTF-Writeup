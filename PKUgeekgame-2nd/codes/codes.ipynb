{
 "cells": [
  {
   "cell_type": "markdown",
   "id": "4bdec0b9",
   "metadata": {},
   "source": [
    "## source code"
   ]
  },
  {
   "cell_type": "code",
   "execution_count": 1,
   "id": "92d73e0e",
   "metadata": {},
   "outputs": [],
   "source": [
    "# The following code is copied from https://github.com/zyt717/CTFCodecTool/blob/master/ctfcodecs/tudoucode.py\n",
    "from Crypto.Cipher import AES\n",
    "from random import choice, randint\n",
    "\n",
    "KEY = b'XDXDtudou@KeyFansClub^_^Encode!!'\n",
    "IV = b'Potato@Key@_@=_='\n",
    "\n",
    "TUDOU = [\n",
    "    '滅', '苦', '婆', '娑', '耶', '陀', '跋', '多', '漫', '都', '殿', '悉', '夜', '爍', '帝', '吉',\n",
    "    '利', '阿', '無', '南', '那', '怛', '喝', '羯', '勝', '摩', '伽', '謹', '波', '者', '穆', '僧',\n",
    "    '室', '藝', '尼', '瑟', '地', '彌', '菩', '提', '蘇', '醯', '盧', '呼', '舍', '佛', '參', '沙',\n",
    "    '伊', '隸', '麼', '遮', '闍', '度', '蒙', '孕', '薩', '夷', '迦', '他', '姪', '豆', '特', '逝',\n",
    "    '朋', '輸', '楞', '栗', '寫', '數', '曳', '諦', '羅', '曰', '咒', '即', '密', '若', '般', '故',\n",
    "    '不', '實', '真', '訶', '切', '一', '除', '能', '等', '是', '上', '明', '大', '神', '知', '三',\n",
    "    '藐', '耨', '得', '依', '諸', '世', '槃', '涅', '竟', '究', '想', '夢', '倒', '顛', '離', '遠',\n",
    "    '怖', '恐', '有', '礙', '心', '所', '以', '亦', '智', '道', '。', '集', '盡', '死', '老', '至']\n",
    "\n",
    "BYTEMARK = ['冥', '奢', '梵', '呐', '俱', '哆', '怯', '諳', '罰', '侄', '缽', '皤']\n",
    "\n",
    "\n",
    "def Encrypt(plaintext):\n",
    "    # 1. Encode Plaintext in UTF-16 Little Endian\n",
    "    data = plaintext.encode('utf-16le')\n",
    "    # 2. Add Paddings (PKCS7)\n",
    "    pads = (- len(data)) % 16\n",
    "    data = data + bytes(pads * [pads])\n",
    "    # 3. Use AES-256-CBC to Encrypt\n",
    "    cryptor = AES.new(KEY, AES.MODE_CBC, IV)\n",
    "    result = cryptor.encrypt(data)\n",
    "    # 4. Encode and Add Header\n",
    "    return '佛曰：' + ''.join([TUDOU[i] if i < 128 else choice(BYTEMARK) + TUDOU[i - 128] for i in result])\n",
    "\n",
    "\n",
    "def Decrypt(ciphertext):\n",
    "    # 1. Remove Header and Decode\n",
    "    if ciphertext.startswith('佛曰：'):\n",
    "        ciphertext = ciphertext[3:]\n",
    "        data = b''\n",
    "        i = 0\n",
    "        while i < len(ciphertext):\n",
    "            if ciphertext[i] in BYTEMARK:\n",
    "                i = i + 1\n",
    "                data = data + bytes([TUDOU.index(ciphertext[i]) + 128])\n",
    "            else:\n",
    "                data = data + bytes([TUDOU.index(ciphertext[i])])\n",
    "            i = i + 1\n",
    "        # 2. Use AES-256-CBC to Decrypt\n",
    "        cryptor = AES.new(KEY, AES.MODE_CBC, IV)\n",
    "        result = cryptor.decrypt(data)\n",
    "        # 3. Remove Paddings (PKCS7)\n",
    "        flag = result[-1]\n",
    "        if flag < 16 and result[-flag] == flag:\n",
    "            result = result[:-flag]\n",
    "        # 4. Decode Plaintext with UTF-16 Little Endian\n",
    "        return result.decode('utf-16le')\n",
    "    else:\n",
    "        return ''\n"
   ]
  },
  {
   "cell_type": "code",
   "execution_count": null,
   "id": "86394670",
   "metadata": {},
   "outputs": [],
   "source": [
    "if __name__ == '__main__':\n",
    "    with open(\"flag1\",\"r\",encoding=\"utf-8\") as f:\n",
    "        x=f.read()\n",
    "    with open(\"flag1.enc\",\"w\",encoding=\"utf-8\") as f:\n",
    "        f.write(Encrypt(x).encode(\"utf-8\").decode(\"shift_jis\",errors=\"ignore\"))\n",
    "    with open(\"flag2\",\"rb\") as f:\n",
    "        x=f.read()\n",
    "    from base64 import b16encode, b32encode, b64encode, b85encode, a85encode\n",
    "    for i in range(10):\n",
    "        x=choice([b16encode, b32encode, b64encode, b85encode, a85encode])(x)\n",
    "    with open(\"flag2.enc\",\"w\",encoding=\"utf-8\") as f:\n",
    "        f.write(Encrypt(x.decode(\"utf-8\")).encode(\"utf-8\").decode(\"shift_jis\",errors=\"ignore\"))"
   ]
  },
  {
   "cell_type": "markdown",
   "id": "498464a9",
   "metadata": {},
   "source": [
    "## flag2"
   ]
  },
  {
   "cell_type": "code",
   "execution_count": 2,
   "id": "71f31091",
   "metadata": {},
   "outputs": [],
   "source": [
    "with open(\"flag2.enc\",\"r\",encoding=\"utf-8\") as f:\n",
    "    s = f.readline()"
   ]
  },
  {
   "cell_type": "code",
   "execution_count": 3,
   "id": "34d66d92",
   "metadata": {},
   "outputs": [],
   "source": [
    "utf_full = s.encode(\"shift_jis\")\n",
    "utf = s.encode(\"shift_jis\")[8:]"
   ]
  },
  {
   "cell_type": "code",
   "execution_count": 4,
   "id": "21dc2c2b",
   "metadata": {},
   "outputs": [],
   "source": [
    "xe = []\n",
    "for idx,x in enumerate(utf):\n",
    "    if x >= 0xe0:\n",
    "        xe.append(idx)\n",
    "total = len(xe)"
   ]
  },
  {
   "cell_type": "code",
   "execution_count": 5,
   "id": "d66b4ee6",
   "metadata": {},
   "outputs": [
    {
     "data": {
      "text/plain": [
       "27466"
      ]
     },
     "execution_count": 5,
     "metadata": {},
     "output_type": "execute_result"
    }
   ],
   "source": [
    "total"
   ]
  },
  {
   "cell_type": "code",
   "execution_count": 6,
   "id": "bae5cde8",
   "metadata": {},
   "outputs": [
    {
     "data": {
      "text/plain": [
       "Counter({2: 4712, 3: 22670, 1: 83})"
      ]
     },
     "execution_count": 6,
     "metadata": {},
     "output_type": "execute_result"
    }
   ],
   "source": [
    "from collections import Counter\n",
    "Counter([xe[i+1]-xe[i] for i in range(len(xe)-1)])"
   ]
  },
  {
   "cell_type": "code",
   "execution_count": 7,
   "id": "3e65fcdb",
   "metadata": {},
   "outputs": [],
   "source": [
    "dic = TUDOU + BYTEMARK\n",
    "dic = [x.encode(\"utf-8\") for x in dic]\n",
    "\n",
    "ins = set()\n",
    "for x in dic:\n",
    "    for xx in x:\n",
    "        ins.add(xx)\n",
    "        \n",
    "ins = [x.to_bytes(1,\"little\") for x in ins]"
   ]
  },
  {
   "cell_type": "code",
   "execution_count": 8,
   "id": "4f1b88ee",
   "metadata": {},
   "outputs": [
    {
     "name": "stderr",
     "output_type": "stream",
     "text": [
      "100%|██████████| 27466/27466 [00:01<00:00, 14070.95it/s]\n"
     ]
    }
   ],
   "source": [
    "from tqdm import tqdm\n",
    "possible = [[] for i in range(len(xe))]\n",
    "for i in tqdm(range(total)):\n",
    "    if i < total - 1:\n",
    "        ss = utf[xe[i]:xe[i+1]]\n",
    "    else:\n",
    "        ss = utf[xe[i]:]\n",
    "    \n",
    "    if len(ss) == 3:\n",
    "        possible[i].append(ss.decode(\"utf-8\"))\n",
    "    \n",
    "    elif len(ss) == 2:\n",
    "        for x in ins:\n",
    "            byte = ss[:1]+x+ss[1:2]\n",
    "            if byte in dic:\n",
    "                possible[i].append(byte.decode(\"utf-8\"))\n",
    "\n",
    "            byte = ss[:2]+x\n",
    "            if byte in dic:\n",
    "                possible[i].append(byte.decode(\"utf-8\"))\n",
    "    \n",
    "    elif len(ss) == 1:\n",
    "        for x in ins:\n",
    "            for y in ins:\n",
    "                byte = ss[:1]+x+y\n",
    "                if byte in dic:\n",
    "                    possible[i].append(byte.decode(\"utf-8\"))"
   ]
  },
  {
   "cell_type": "code",
   "execution_count": 9,
   "id": "8c4f59f5",
   "metadata": {},
   "outputs": [
    {
     "data": {
      "text/plain": [
       "Counter({1: 24272, 2: 2329, 4: 107, 3: 549, 5: 126, 25: 51, 36: 32})"
      ]
     },
     "execution_count": 9,
     "metadata": {},
     "output_type": "execute_result"
    }
   ],
   "source": [
    "Counter([len(x) for x in possible])"
   ]
  },
  {
   "cell_type": "code",
   "execution_count": 35,
   "id": "39b4a692",
   "metadata": {},
   "outputs": [
    {
     "name": "stderr",
     "output_type": "stream",
     "text": [
      "27466it [00:29, 942.41it/s] \n"
     ]
    }
   ],
   "source": [
    "def test_possible(cur, idx, step):\n",
    "    if step == 0 or idx == total:\n",
    "        if utf_full.startswith(cur.encode(\"utf-8\").decode(\"shift_jis\",errors=\"ignore\").encode(\"shift_jis\")):\n",
    "            return True\n",
    "        else:\n",
    "            return False\n",
    "    \n",
    "    for x in possible[idx]:\n",
    "        if test_possible(cur+x, idx+1, step-1):\n",
    "            return True\n",
    "    return False\n",
    "\n",
    "real_possible = [[] for i in range(len(xe))]\n",
    "example = \"佛曰：\"\n",
    "for idx,p in tqdm(enumerate(possible)):\n",
    "    for x in p:\n",
    "        if test_possible(example+x, idx+1, 5):\n",
    "            real_possible[idx].append(x)\n",
    "    example += real_possible[idx][0]"
   ]
  },
  {
   "cell_type": "code",
   "execution_count": 36,
   "id": "282d9328",
   "metadata": {},
   "outputs": [
    {
     "data": {
      "text/plain": [
       "Counter({1: 27409, 2: 55, 3: 2})"
      ]
     },
     "execution_count": 36,
     "metadata": {},
     "output_type": "execute_result"
    }
   ],
   "source": [
    "Counter([len(x) for x in real_possible])"
   ]
  },
  {
   "cell_type": "code",
   "execution_count": 37,
   "id": "9eda8a39",
   "metadata": {},
   "outputs": [
    {
     "data": {
      "text/plain": [
       "True"
      ]
     },
     "execution_count": 37,
     "metadata": {},
     "output_type": "execute_result"
    }
   ],
   "source": [
    "example.encode(\"utf-8\").decode(\"shift_jis\",errors=\"ignore\").encode(\"shift_jis\") == utf_full"
   ]
  },
  {
   "cell_type": "code",
   "execution_count": 38,
   "id": "37854c64",
   "metadata": {},
   "outputs": [
    {
     "data": {
      "text/plain": [
       "27469"
      ]
     },
     "execution_count": 38,
     "metadata": {},
     "output_type": "execute_result"
    }
   ],
   "source": [
    "len(example)"
   ]
  },
  {
   "cell_type": "code",
   "execution_count": 39,
   "id": "dd129745",
   "metadata": {},
   "outputs": [],
   "source": [
    "sst = [idx for idx,p in enumerate(real_possible) if len(p)>=2]"
   ]
  },
  {
   "cell_type": "code",
   "execution_count": 40,
   "id": "9e3c902f",
   "metadata": {},
   "outputs": [],
   "source": [
    "def half_decrypt(ciphertext):\n",
    "    # 1. Remove Header and Decode\n",
    "    if ciphertext.startswith('佛曰：'):\n",
    "        ciphertext = ciphertext[3:]\n",
    "        data = b''\n",
    "        i = 0\n",
    "        while i < len(ciphertext):\n",
    "            if ciphertext[i] in BYTEMARK:\n",
    "                i = i + 1\n",
    "                data = data + bytes([TUDOU.index(ciphertext[i]) + 128])\n",
    "            else:\n",
    "                data = data + bytes([TUDOU.index(ciphertext[i])])\n",
    "            i = i + 1\n",
    "        # 2. Use AES-256-CBC to Decrypt\n",
    "        cryptor = AES.new(KEY, AES.MODE_CBC, IV)\n",
    "        result = cryptor.decrypt(data)\n",
    "        return result"
   ]
  },
  {
   "cell_type": "code",
   "execution_count": 20,
   "id": "575c5dfe",
   "metadata": {},
   "outputs": [
    {
     "name": "stderr",
     "output_type": "stream",
     "text": [
      "100%|██████████| 1000/1000 [01:13<00:00, 13.57it/s]\n"
     ]
    }
   ],
   "source": [
    "# 根据末尾数值做对应\n",
    "cipher = example\n",
    "dec = []\n",
    "\n",
    "for _ in tqdm(range(1000)):\n",
    "    i = choice(sst)\n",
    "    idx = i + 3\n",
    "    for x in real_possible[i]:\n",
    "        if x != cipher[idx]:\n",
    "            cipher = cipher[:idx] + x + cipher[idx+1:]\n",
    "            if cipher.encode(\"utf-8\").decode(\"shift_jis\",errors=\"ignore\").encode(\"shift_jis\") != utf_full:\n",
    "                print(\"error!\")\n",
    "                break\n",
    "            try:\n",
    "                res = Decrypt(cipher)\n",
    "                dec.append(res)\n",
    "                print(len(dec))\n",
    "            except:\n",
    "                pass"
   ]
  },
  {
   "cell_type": "code",
   "execution_count": 41,
   "id": "fbb6aa7a",
   "metadata": {},
   "outputs": [
    {
     "data": {
      "text/plain": [
       "(27469, 27466)"
      ]
     },
     "execution_count": 41,
     "metadata": {},
     "output_type": "execute_result"
    }
   ],
   "source": [
    "len(example), len(possible)"
   ]
  },
  {
   "cell_type": "code",
   "execution_count": 42,
   "id": "dc73e7c4",
   "metadata": {},
   "outputs": [],
   "source": [
    "def change_one(cipher, i, pos=\"first\"):\n",
    "    idx = i + 3\n",
    "    for x in real_possible[i]:\n",
    "        if x != cipher[idx]:\n",
    "            if len(real_possible[i]) == 3 and pos==\"last\":\n",
    "                pos = \"first\"\n",
    "                continue\n",
    "            cipher = cipher[:idx] + x + cipher[idx+1:]\n",
    "            if cipher.encode(\"utf-8\").decode(\"shift_jis\",errors=\"ignore\").encode(\"shift_jis\") != utf_full:\n",
    "                print(\"error!\")\n",
    "                break\n",
    "            return cipher\n",
    "            "
   ]
  },
  {
   "cell_type": "code",
   "execution_count": 82,
   "id": "1db9631e",
   "metadata": {},
   "outputs": [],
   "source": [
    "mem = cipher"
   ]
  },
  {
   "cell_type": "code",
   "execution_count": 164,
   "id": "efaae349",
   "metadata": {},
   "outputs": [],
   "source": [
    "def first_err(s):\n",
    "    for idx,x in enumerate(s):\n",
    "        if ord(x)>128:\n",
    "            return idx\n",
    "    return 1e8"
   ]
  },
  {
   "cell_type": "code",
   "execution_count": 165,
   "id": "343d4802",
   "metadata": {
    "collapsed": true
   },
   "outputs": [
    {
     "name": "stdout",
     "output_type": "stream",
     "text": [
      "378 832\n",
      "2515 1840\n",
      "5524 2024\n",
      "6052 2232\n",
      "6684 2784\n",
      "8317 3384\n",
      "10110 4176\n",
      "12476 4496\n",
      "13451 5056\n",
      "15125 5344\n",
      "16025 5784\n",
      "17318 6304\n",
      "18879 6440\n",
      "19257 6752\n",
      "20204 6760\n",
      "20233 7408\n",
      "22193 7560\n",
      "22638 7840\n",
      "23480 8096\n",
      "24221 8168\n",
      "24448 8192\n",
      "24517 8464\n",
      "25327 8656\n",
      "25914 9160\n",
      "27430 100000000.0\n"
     ]
    }
   ],
   "source": [
    "cipher = mem\n",
    "for idx,i in enumerate(sst):\n",
    "    ss = Decrypt(cipher)\n",
    "    p = first_err(ss)\n",
    "    tmp = change_one(cipher, i)\n",
    "    try:\n",
    "        ss = Decrypt(tmp)\n",
    "        if first_err(ss) > p:\n",
    "            cipher = tmp\n",
    "            p = first_err(ss)\n",
    "            print(i,p)\n",
    "    except:\n",
    "        pass\n",
    "        \n",
    "    try:\n",
    "        tmp = change_one(cipher, i)\n",
    "        ss = Decrypt(tmp)\n",
    "        if first_err(ss) > p:\n",
    "            cipher = tmp\n",
    "            p = first_err(ss)\n",
    "            print(i,p)\n",
    "    except:\n",
    "        pass"
   ]
  },
  {
   "cell_type": "code",
   "execution_count": 214,
   "id": "94481457",
   "metadata": {},
   "outputs": [],
   "source": [
    "ss = Decrypt(cipher).encode(\"utf-8\")"
   ]
  },
  {
   "cell_type": "code",
   "execution_count": 215,
   "id": "9b4ce039",
   "metadata": {},
   "outputs": [],
   "source": [
    "from base64 import b16decode, b32decode, b64decode, b85decode, a85decode"
   ]
  },
  {
   "cell_type": "code",
   "execution_count": 216,
   "id": "34610e08",
   "metadata": {},
   "outputs": [
    {
     "name": "stdout",
     "output_type": "stream",
     "text": [
      "0 <function b32decode at 0x7f2c02727d30>\n",
      "1 <function a85decode at 0x7f2c0262c040>\n",
      "2 <function b85decode at 0x7f2c0262c160>\n",
      "3 <function b16decode at 0x7f2c02727e50>\n",
      "4 <function a85decode at 0x7f2c0262c040>\n",
      "5 <function b64decode at 0x7f2c027279d0>\n",
      "6 <function a85decode at 0x7f2c0262c040>\n",
      "7 <function b64decode at 0x7f2c027279d0>\n",
      "8 <function a85decode at 0x7f2c0262c040>\n"
     ]
    }
   ],
   "source": [
    "for i in range(10):\n",
    "    for dec in [b16decode, b32decode, b64decode, b85decode, a85decode]:\n",
    "        try:\n",
    "            tmp = dec(ss)\n",
    "            flag = True\n",
    "            for x in tmp:\n",
    "                if x > 128:\n",
    "                    flag = False\n",
    "                    break\n",
    "            if flag:\n",
    "                ss = tmp\n",
    "                print(i, dec)\n",
    "                break\n",
    "        except:\n",
    "            continue"
   ]
  },
  {
   "cell_type": "code",
   "execution_count": 222,
   "id": "f0652cce",
   "metadata": {},
   "outputs": [
    {
     "data": {
      "text/plain": [
       "'将需要打码的文字输入在上面的文本框里，点击『听佛说宇宙的真谛』按钮，就能在下面得到打码后的文字。\\r\\nflag{AES_1s_b10ck_cipher}\\r\\n将需要解码的文字输入在下面的文本框里，记得带上『佛曰：』或『如是我闻：』的文字，点击『参悟佛所言的真意』按钮，就能在上面的文本框里得到解码后的文字。'"
      ]
     },
     "execution_count": 222,
     "metadata": {},
     "output_type": "execute_result"
    }
   ],
   "source": [
    "b64decode(ss).decode(\"utf-8\")"
   ]
  },
  {
   "cell_type": "markdown",
   "id": "564d31b9",
   "metadata": {},
   "source": [
    "## flag1"
   ]
  },
  {
   "cell_type": "code",
   "execution_count": 16,
   "id": "12cabcfd",
   "metadata": {
    "scrolled": true
   },
   "outputs": [
    {
     "name": "stdout",
     "output_type": "stream",
     "text": [
      "b'\\xe3\\x80\\x82' 。\n",
      "b'\\xe4\\xb8\\x80' 一\n",
      "b'\\xe4\\xb8\\x89' 三\n",
      "b'\\xe4\\xb8\\x8a' 上\n",
      "b'\\xe4\\xb8\\x8d' 不\n",
      "b'\\xe4\\xb8\\x96' 世\n",
      "b'\\xe4\\xba\\xa6' 亦\n",
      "b'\\xe4\\xbb\\x96' 他\n",
      "b'\\xe4\\xbb\\xa5' 以\n",
      "b'\\xe4\\xbc\\x8a' 伊\n",
      "b'\\xe4\\xbc\\xbd' 伽\n",
      "b'\\xe4\\xbd\\x9b' 佛\n",
      "b'\\xe4\\xbe\\x84' 侄\n",
      "b'\\xe4\\xbe\\x9d' 依\n",
      "b'\\xe4\\xbf\\xb1' 俱\n",
      "b'\\xe5\\x80\\x92' 倒\n",
      "b'\\xe5\\x83\\xa7' 僧\n",
      "b'\\xe5\\x86\\xa5' 冥\n",
      "b'\\xe5\\x88\\x87' 切\n",
      "b'\\xe5\\x88\\xa9' 利\n",
      "b'\\xe5\\x8b\\x9d' 勝\n",
      "b'\\xe5\\x8d\\x97' 南\n",
      "b'\\xe5\\x8d\\xb3' 即\n",
      "b'\\xe5\\x8f\\x83' 參\n",
      "b'\\xe5\\x90\\x89' 吉\n",
      "b'\\xe5\\x91\\x90' 呐\n",
      "b'\\xe5\\x91\\xbc' 呼\n",
      "b'\\xe5\\x92\\x92' 咒\n",
      "b'\\xe5\\x93\\x86' 哆\n",
      "b'\\xe5\\x96\\x9d' 喝\n",
      "b'\\xe5\\x9c\\xb0' 地\n",
      "b'\\xe5\\xa4\\x9a' 多\n",
      "b'\\xe5\\xa4\\x9c' 夜\n",
      "b'\\xe5\\xa4\\xa2' 夢\n",
      "b'\\xe5\\xa4\\xa7' 大\n",
      "b'\\xe5\\xa4\\xb7' 夷\n",
      "b'\\xe5\\xa5\\xa2' 奢\n",
      "b'\\xe5\\xa7\\xaa' 姪\n",
      "b'\\xe5\\xa8\\x91' 娑\n",
      "b'\\xe5\\xa9\\x86' 婆\n",
      "b'\\xe5\\xad\\x95' 孕\n",
      "b'\\xe5\\xae\\xa4' 室\n",
      "b'\\xe5\\xaf\\x86' 密\n",
      "b'\\xe5\\xaf\\xa6' 實\n",
      "b'\\xe5\\xaf\\xab' 寫\n",
      "b'\\xe5\\xb0\\xbc' 尼\n",
      "b'\\xe5\\xb8\\x9d' 帝\n",
      "b'\\xe5\\xba\\xa6' 度\n",
      "b'\\xe5\\xbd\\x8c' 彌\n",
      "b'\\xe5\\xbe\\x97' 得\n",
      "b'\\xe5\\xbf\\x83' 心\n",
      "b'\\xe6\\x80\\x96' 怖\n",
      "b'\\xe6\\x80\\x9b' 怛\n",
      "b'\\xe6\\x80\\xaf' 怯\n",
      "b'\\xe6\\x81\\x90' 恐\n",
      "b'\\xe6\\x82\\x89' 悉\n",
      "b'\\xe6\\x83\\xb3' 想\n",
      "b'\\xe6\\x89\\x80' 所\n",
      "b'\\xe6\\x8f\\x90' 提\n",
      "b'\\xe6\\x91\\xa9' 摩\n",
      "b'\\xe6\\x95\\x85' 故\n",
      "b'\\xe6\\x95\\xb8' 數\n",
      "b'\\xe6\\x98\\x8e' 明\n",
      "b'\\xe6\\x98\\xaf' 是\n",
      "b'\\xe6\\x99\\xba' 智\n",
      "b'\\xe6\\x9b\\xb0' 曰\n",
      "b'\\xe6\\x9b\\xb3' 曳\n",
      "b'\\xe6\\x9c\\x89' 有\n",
      "b'\\xe6\\x9c\\x8b' 朋\n",
      "b'\\xe6\\xa0\\x97' 栗\n",
      "b'\\xe6\\xa2\\xb5' 梵\n",
      "b'\\xe6\\xa5\\x9e' 楞\n",
      "b'\\xe6\\xa7\\x83' 槃\n",
      "b'\\xe6\\xad\\xbb' 死\n",
      "b'\\xe6\\xae\\xbf' 殿\n",
      "b'\\xe6\\xb2\\x99' 沙\n",
      "b'\\xe6\\xb3\\xa2' 波\n",
      "b'\\xe6\\xb6\\x85' 涅\n",
      "b'\\xe6\\xbb\\x85' 滅\n",
      "b'\\xe6\\xbc\\xab' 漫\n",
      "b'\\xe7\\x84\\xa1' 無\n",
      "b'\\xe7\\x88\\x8d' 爍\n",
      "b'\\xe7\\x89\\xb9' 特\n",
      "b'\\xe7\\x91\\x9f' 瑟\n",
      "b'\\xe7\\x9a\\xa4' 皤\n",
      "b'\\xe7\\x9b\\xa1' 盡\n",
      "b'\\xe7\\x9b\\xa7' 盧\n",
      "b'\\xe7\\x9c\\x9f' 真\n",
      "b'\\xe7\\x9f\\xa5' 知\n",
      "b'\\xe7\\xa4\\x99' 礙\n",
      "b'\\xe7\\xa5\\x9e' 神\n",
      "b'\\xe7\\xa9\\x86' 穆\n",
      "b'\\xe7\\xa9\\xb6' 究\n",
      "b'\\xe7\\xab\\x9f' 竟\n",
      "b'\\xe7\\xad\\x89' 等\n",
      "b'\\xe7\\xbc\\xbd' 缽\n",
      "b'\\xe7\\xbd\\xb0' 罰\n",
      "b'\\xe7\\xbe\\x85' 羅\n",
      "b'\\xe7\\xbe\\xaf' 羯\n",
      "b'\\xe8\\x80\\x81' 老\n",
      "b'\\xe8\\x80\\x85' 者\n",
      "b'\\xe8\\x80\\xa8' 耨\n",
      "b'\\xe8\\x80\\xb6' 耶\n",
      "b'\\xe8\\x83\\xbd' 能\n",
      "b'\\xe8\\x87\\xb3' 至\n",
      "b'\\xe8\\x88\\x8d' 舍\n",
      "b'\\xe8\\x88\\xac' 般\n",
      "b'\\xe8\\x8b\\xa5' 若\n",
      "b'\\xe8\\x8b\\xa6' 苦\n",
      "b'\\xe8\\x8f\\xa9' 菩\n",
      "b'\\xe8\\x92\\x99' 蒙\n",
      "b'\\xe8\\x96\\xa9' 薩\n",
      "b'\\xe8\\x97\\x90' 藐\n",
      "b'\\xe8\\x97\\x9d' 藝\n",
      "b'\\xe8\\x98\\x87' 蘇\n",
      "b'\\xe8\\xa8\\xb6' 訶\n",
      "b'\\xe8\\xab\\xa6' 諦\n",
      "b'\\xe8\\xab\\xb3' 諳\n",
      "b'\\xe8\\xab\\xb8' 諸\n",
      "b'\\xe8\\xac\\xb9' 謹\n",
      "b'\\xe8\\xb1\\x86' 豆\n",
      "b'\\xe8\\xb7\\x8b' 跋\n",
      "b'\\xe8\\xbc\\xb8' 輸\n",
      "b'\\xe8\\xbf\\xa6' 迦\n",
      "b'\\xe9\\x80\\x9d' 逝\n",
      "b'\\xe9\\x81\\x93' 道\n",
      "b'\\xe9\\x81\\xa0' 遠\n",
      "b'\\xe9\\x81\\xae' 遮\n",
      "b'\\xe9\\x82\\xa3' 那\n",
      "b'\\xe9\\x83\\xbd' 都\n",
      "b'\\xe9\\x86\\xaf' 醯\n",
      "b'\\xe9\\x97\\x8d' 闍\n",
      "b'\\xe9\\x98\\xbf' 阿\n",
      "b'\\xe9\\x99\\x80' 陀\n",
      "b'\\xe9\\x99\\xa4' 除\n",
      "b'\\xe9\\x9a\\xb8' 隸\n",
      "b'\\xe9\\x9b\\x86' 集\n",
      "b'\\xe9\\x9b\\xa2' 離\n",
      "b'\\xe9\\xa1\\x9b' 顛\n",
      "b'\\xe9\\xba\\xbc' 麼\n",
      "b'\\xef\\xbc\\x9a' ：\n"
     ]
    }
   ],
   "source": [
    "for x in sorted(dic):\n",
    "    print(x, x.decode(\"utf-8\"))"
   ]
  },
  {
   "cell_type": "code",
   "execution_count": 20,
   "id": "f86f93a8",
   "metadata": {},
   "outputs": [],
   "source": [
    "with open(\"flag1.enc\",\"r\",encoding=\"utf-8\") as f:\n",
    "    s = f.readline()"
   ]
  },
  {
   "cell_type": "code",
   "execution_count": 21,
   "id": "c089ac62",
   "metadata": {},
   "outputs": [],
   "source": [
    "utf = s.encode(\"shift_jis\")[8:]"
   ]
  },
  {
   "cell_type": "code",
   "execution_count": 22,
   "id": "d8988dbf",
   "metadata": {},
   "outputs": [],
   "source": [
    "dic = TUDOU + BYTEMARK + [\"：\"]\n",
    "dic = [x.encode(\"utf-8\") for x in dic]\n",
    "\n",
    "ins = set()\n",
    "for x in dic:\n",
    "    for xx in x:\n",
    "        ins.add(xx)\n",
    "        \n",
    "ins = [x.to_bytes(1,\"little\") for x in ins]  # 0x80-0xbf, 0xe3-0xe9"
   ]
  },
  {
   "cell_type": "code",
   "execution_count": 24,
   "id": "dc997f83",
   "metadata": {},
   "outputs": [],
   "source": [
    "def recur(output, ss):\n",
    "    #print(len(ss), output, ss[:10])\n",
    "    if not utf.startswith(output.encode(\"utf-8\").decode(\"shift_jis\",errors=\"ignore\").encode(\"shift_jis\")):\n",
    "        return\n",
    "    \n",
    "    if len(ss) == 0:\n",
    "        possible.append(output)\n",
    "    \n",
    "    byte = ss[0:3]\n",
    "    if byte in dic:\n",
    "        recur(output+byte.decode(\"utf-8\"), ss[3:])\n",
    "        \n",
    "    for x in ins:\n",
    "        byte = x+ss[:2]\n",
    "        if byte in dic:\n",
    "            recur(output+byte.decode(\"utf-8\"), ss[2:])\n",
    "            \n",
    "        byte = ss[:1]+x+ss[1:2]\n",
    "        if byte in dic:\n",
    "            recur(output+byte.decode(\"utf-8\"), ss[2:])\n",
    "            \n",
    "        byte = ss[:2]+x\n",
    "        if byte in dic:\n",
    "            recur(output+byte.decode(\"utf-8\"), ss[2:])\n",
    "            \n",
    "    for x in ins:\n",
    "        for y in ins:\n",
    "            byte = x+y+ss[:1]\n",
    "            if byte in dic:\n",
    "                recur(output+byte.decode(\"utf-8\"), ss[1:])\n",
    "                \n",
    "            byte = x+ss[:1]+y\n",
    "            if byte in dic:\n",
    "                recur(output+byte.decode(\"utf-8\"), ss[1:])\n",
    "                \n",
    "            byte = ss[:1]+x+y\n",
    "            if byte in dic:\n",
    "                recur(output+byte.decode(\"utf-8\"), ss[1:])"
   ]
  },
  {
   "cell_type": "code",
   "execution_count": 25,
   "id": "f5db6f39",
   "metadata": {},
   "outputs": [],
   "source": [
    "possible = []\n",
    "recur(\"\", utf)"
   ]
  },
  {
   "cell_type": "code",
   "execution_count": 26,
   "id": "5e25a329",
   "metadata": {},
   "outputs": [
    {
     "data": {
      "text/plain": [
       "['麼是梵殿皤盡皤滅娑苦冥那盧羯伊罰智盡夜梵勝俱實利盧皤呼呐。帝夢梵滅羅實呐等依皤蘇侄倒伊以亦哆數怯姪尼怯無呐明倒神怯夷遠侄摩智呐伽恐怯亦冥彌缽一',\n",
       " '麼是梵殿皤盡皤滅娑苦冥那盧羯伊罰智盡夜梵勝俱實利盧皤呼呐。帝夢梵滅羅實呐等依皤蘇侄倒伊以亦哆數怯姪尼怯無呐明倒神怯夷遠侄摩智呐伽恐怯亦冥彌缽三',\n",
       " '麼是梵殿皤盡皤滅娑苦冥那盧羯伊罰智盡夜梵勝俱實利盧皤呼呐。帝夢梵滅羅實呐等依皤蘇侄倒伊以亦哆數怯姪尼怯無呐明倒神怯夷遠侄摩智呐伽恐怯亦冥彌缽上',\n",
       " '麼是梵殿皤盡皤滅娑苦冥那盧羯伊罰智盡夜梵勝俱實利盧皤呼呐。帝夢梵滅羅實呐等依皤蘇侄倒伊以亦哆數怯姪尼怯無呐明倒神怯夷遠侄摩智呐伽恐怯亦冥彌缽不',\n",
       " '麼是梵殿皤盡皤滅娑苦冥那盧羯伊罰智盡夜梵勝俱實利盧皤呼呐。帝夢梵滅羅實呐等依皤蘇侄倒伊以亦哆數怯姪尼怯無呐明倒神怯夷遠侄摩智呐伽恐怯亦冥彌缽世']"
      ]
     },
     "execution_count": 26,
     "metadata": {},
     "output_type": "execute_result"
    }
   ],
   "source": [
    "possible"
   ]
  },
  {
   "cell_type": "code",
   "execution_count": 27,
   "id": "5610374f",
   "metadata": {},
   "outputs": [
    {
     "name": "stdout",
     "output_type": "stream",
     "text": [
      "error 吶\n",
      "error 吶\n",
      "error 吶\n",
      "error 吶\n",
      "flag{s1mp1e_Tud0銲ꅙ揲锔睟챽ᄻ\n",
      "error 吶\n",
      "error 吶\n",
      "error 吶\n",
      "error 吶\n",
      "flag{s1mp1e_Tud0룄爉鸆몠㊆硎ữ\n",
      "error 吶\n",
      "error 吶\n",
      "error 吶\n",
      "error 吶\n",
      "error 吶\n",
      "error 吶\n",
      "error 吶\n",
      "error 吶\n",
      "flag{s1mp1e_Tud0uc0d3}\n",
      "error 吶\n",
      "error 吶\n",
      "error 吶\n",
      "error 吶\n",
      "flag{s1mp1e_Tud0⧶䳐鑅绎箄䰍໎\n"
     ]
    }
   ],
   "source": [
    "rev_TUDOU = {x:i for i,x in enumerate(TUDOU)}\n",
    "\n",
    "for p in possible:\n",
    "    hant = zhconv.convert(p, \"zh-hant\") # 这里不需要转化为繁体\n",
    "\n",
    "    origin = b\"\"\n",
    "    flag = 0\n",
    "    for x in hant:\n",
    "        if x in rev_TUDOU:\n",
    "            origin += (rev_TUDOU[x]+flag*128).to_bytes(1,\"little\")\n",
    "            flag = 0\n",
    "        else:\n",
    "            if x in BYTEMARK:\n",
    "                flag = 1\n",
    "            else:\n",
    "                flag = 1 \n",
    "                print(\"error\", x)\n",
    "    \n",
    "    cryptor = AES.new(KEY, AES.MODE_CBC, IV)\n",
    "    result = cryptor.decrypt(origin)\n",
    "    \n",
    "    \n",
    "    flag = result[-1]\n",
    "    if flag < 16 and result[-flag] == flag:\n",
    "        result = result[:-flag]\n",
    "        \n",
    "    try:\n",
    "        print(result.decode('utf-16le'))\n",
    "    except:\n",
    "        pass\n"
   ]
  },
  {
   "cell_type": "code",
   "execution_count": null,
   "id": "4a801de0",
   "metadata": {},
   "outputs": [],
   "source": []
  }
 ],
 "metadata": {
  "kernelspec": {
   "display_name": "Python [conda env:.conda-hjh]",
   "language": "python",
   "name": "conda-env-.conda-hjh-py"
  },
  "language_info": {
   "codemirror_mode": {
    "name": "ipython",
    "version": 3
   },
   "file_extension": ".py",
   "mimetype": "text/x-python",
   "name": "python",
   "nbconvert_exporter": "python",
   "pygments_lexer": "ipython3",
   "version": "3.8.10"
  }
 },
 "nbformat": 4,
 "nbformat_minor": 5
}
