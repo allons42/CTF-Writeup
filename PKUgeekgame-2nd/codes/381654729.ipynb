{
 "cells": [
  {
   "cell_type": "code",
   "execution_count": 2,
   "id": "df20b803",
   "metadata": {
    "scrolled": true
   },
   "outputs": [
    {
     "name": "stdout",
     "output_type": "stream",
     "text": [
      "1 16\n",
      "2 128\n",
      "3 683\n",
      "4 2732\n",
      "5 8743\n",
      "6 23360\n",
      "7 53393\n",
      "8 106786\n",
      "9 190211\n",
      "10 304230\n",
      "11 442509\n",
      "12 591233\n",
      "13 727580\n",
      "14 831520\n",
      "15 887652\n",
      "16 887652\n",
      "17 834564\n",
      "18 748611\n",
      "19 630664\n",
      "20 505315\n",
      "21 385887\n",
      "22 280710\n",
      "23 195254\n",
      "24 129920\n",
      "25 83131\n",
      "26 51169\n",
      "27 30376\n",
      "28 17276\n",
      "29 9419\n",
      "30 5038\n",
      "31 2605\n",
      "32 1288\n",
      "33 600\n",
      "34 278\n",
      "35 133\n",
      "36 51\n",
      "37 23\n",
      "38 11\n",
      "39 4\n",
      "40 1\n",
      "41 1\n",
      "42 1\n",
      "43 1\n",
      "44 1\n",
      "45 1\n",
      "46 1\n",
      "47 1\n",
      "48 1\n",
      "49 1\n"
     ]
    }
   ],
   "source": [
    "from tqdm import tqdm\n",
    "candi = [0]\n",
    "new_candi = []\n",
    "d = {}\n",
    "for i in range(1,50):\n",
    "    for num in candi:\n",
    "        for nxt in range(0,16):\n",
    "            tmp = (num << 4) + nxt\n",
    "            if tmp % i == 0:\n",
    "                new_candi.append(tmp)\n",
    "    candi = new_candi\n",
    "    new_candi = []\n",
    "    print(i, len(candi))\n",
    "    if len(candi) < 1000:\n",
    "        d[i] = candi"
   ]
  },
  {
   "cell_type": "code",
   "execution_count": 5,
   "id": "e60a9a89",
   "metadata": {},
   "outputs": [
    {
     "data": {
      "text/plain": [
       "[0,\n",
       " 18872900738885736149574055538327802527212537551,\n",
       " 60753927368683934227793588395570842550542338031,\n",
       " 89515749136034833729775437005460258167590093634]"
      ]
     },
     "execution_count": 5,
     "metadata": {},
     "output_type": "execute_result"
    }
   ],
   "source": [
    "d[39]"
   ]
  },
  {
   "cell_type": "code",
   "execution_count": 6,
   "id": "aef34b09",
   "metadata": {},
   "outputs": [
    {
     "name": "stdout",
     "output_type": "stream",
     "text": [
      "Correct\n"
     ]
    }
   ],
   "source": [
    "num = 60753927368683934227793588395570842550542338031\n",
    "num_len=len(hex(num))-2\n",
    "for i in range(1,num_len+1):\n",
    "    if (num>>((num_len-i)*4))%i>0: # 十六进制前i位可以整除i\n",
    "        print(\"Wrong\")\n",
    "        exit()\n",
    "print(\"Correct\")"
   ]
  },
  {
   "cell_type": "code",
   "execution_count": 20,
   "id": "23328adf",
   "metadata": {},
   "outputs": [
    {
     "name": "stdout",
     "output_type": "stream",
     "text": [
      "b'\\x00\\x00\\x00\\x00\\x00\\x00flagx\\x08%3\\xef\\x02\\x92\\xcbe\\xabf\\xe2Y\\xc56Kk\\xe7\\xd4\\xb2'\n",
      "b'\\x00\\x00\\x00\\x00\\x00\\x00flag{Found_MaGic_numbeR}'\n",
      "b'\\x00\\x00\\x00\\x00\\x00\\x00flagr\\xaci\\xd1\\xe8\\xc5\\x1d\\x08e\\xa8\\xa5.TF\\xb4\\xa9lj\\xd3]'\n",
      "b'\\x00\\x00\\x00\\x00\\x00\\x00flagw\\xa6#Tc,\\x1a\\x8db@\\xed\\xacR\\xcf9Mh\\xa5\\xd7\\xf0'\n"
     ]
    }
   ],
   "source": [
    "for x in d[39]:\n",
    "    num = x ^ 2511413510822562751986134628546866352953362661458148054194\n",
    "    print(int.to_bytes(num, length=30, byteorder=\"big\"))"
   ]
  },
  {
   "cell_type": "code",
   "execution_count": null,
   "id": "4e1e82d9",
   "metadata": {},
   "outputs": [],
   "source": []
  }
 ],
 "metadata": {
  "kernelspec": {
   "display_name": "Python [conda env:.conda-hjh]",
   "language": "python",
   "name": "conda-env-.conda-hjh-py"
  },
  "language_info": {
   "codemirror_mode": {
    "name": "ipython",
    "version": 3
   },
   "file_extension": ".py",
   "mimetype": "text/x-python",
   "name": "python",
   "nbconvert_exporter": "python",
   "pygments_lexer": "ipython3",
   "version": "3.8.10"
  }
 },
 "nbformat": 4,
 "nbformat_minor": 5
}
