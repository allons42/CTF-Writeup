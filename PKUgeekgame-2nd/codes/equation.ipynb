{
 "cells": [
  {
   "cell_type": "code",
   "execution_count": 1,
   "id": "4a37a2d7",
   "metadata": {},
   "outputs": [],
   "source": [
    "import os\n",
    "from decimal import *\n",
    "primes=[2, 3, 5, 7, 11, 13, 17, 19, 23, 29, 31, 37, 41, 43, 47, 53, 59, 61, 67, 71, 73, 79, 83, 89, 97, 101, 103, 107, 109, 113, 127, 131, 137, 139, 149, 151, 157, 163, 167, 173, 179, 181, 191, 193, 197, 199, 211, 223, 227, 229, 233, 239, 241, 251, 257, 263, 269, 271]\n",
    "def enc(flag):\n",
    "    res=[]\n",
    "    p=primes[:len(flag)]\n",
    "    for i in range(len(flag)):\n",
    "        res.append(str(sum([Decimal(p[i]).sqrt()*flag[i] for i in range(len(flag))])))\n",
    "        p=[p[-1]]+p[:-1]\n",
    "    return res\n"
   ]
  },
  {
   "cell_type": "code",
   "execution_count": null,
   "id": "7690190a",
   "metadata": {},
   "outputs": [],
   "source": [
    "getcontext().prec=5\n",
    "print(enc(open(\"flag1.txt\",\"rb\").read().strip()))\n",
    "getcontext().prec=15\n",
    "print(enc(open(\"flag2.txt\",\"rb\").read().strip())[:-10])\n",
    "getcontext().prec=200\n",
    "print(enc(open(\"flag3.txt\",\"rb\").read().strip())[0])"
   ]
  },
  {
   "cell_type": "code",
   "execution_count": 2,
   "id": "b117b719",
   "metadata": {
    "scrolled": true
   },
   "outputs": [
    {
     "data": {
      "text/plain": [
       "[Decimal('1.4142'),\n",
       " Decimal('1.7321'),\n",
       " Decimal('2.2361'),\n",
       " Decimal('2.6458'),\n",
       " Decimal('3.3166'),\n",
       " Decimal('3.6056'),\n",
       " Decimal('4.1231'),\n",
       " Decimal('4.3589'),\n",
       " Decimal('4.7958'),\n",
       " Decimal('5.3852'),\n",
       " Decimal('5.5678'),\n",
       " Decimal('6.0828'),\n",
       " Decimal('6.4031'),\n",
       " Decimal('6.5574'),\n",
       " Decimal('6.8557'),\n",
       " Decimal('7.2801'),\n",
       " Decimal('7.6811'),\n",
       " Decimal('7.8102'),\n",
       " Decimal('8.1854'),\n",
       " Decimal('8.4261'),\n",
       " Decimal('8.5440'),\n",
       " Decimal('8.8882'),\n",
       " Decimal('9.1104'),\n",
       " Decimal('9.4340'),\n",
       " Decimal('9.8489'),\n",
       " Decimal('10.050'),\n",
       " Decimal('10.149'),\n",
       " Decimal('10.344'),\n",
       " Decimal('10.440'),\n",
       " Decimal('10.630'),\n",
       " Decimal('11.269'),\n",
       " Decimal('11.446'),\n",
       " Decimal('11.705'),\n",
       " Decimal('11.790'),\n",
       " Decimal('12.207'),\n",
       " Decimal('12.288'),\n",
       " Decimal('12.530'),\n",
       " Decimal('12.767'),\n",
       " Decimal('12.923'),\n",
       " Decimal('13.153'),\n",
       " Decimal('13.379'),\n",
       " Decimal('13.454'),\n",
       " Decimal('13.820'),\n",
       " Decimal('13.892'),\n",
       " Decimal('14.036'),\n",
       " Decimal('14.107'),\n",
       " Decimal('14.526'),\n",
       " Decimal('14.933'),\n",
       " Decimal('15.067'),\n",
       " Decimal('15.133'),\n",
       " Decimal('15.264'),\n",
       " Decimal('15.460'),\n",
       " Decimal('15.524'),\n",
       " Decimal('15.843'),\n",
       " Decimal('16.031'),\n",
       " Decimal('16.217'),\n",
       " Decimal('16.401'),\n",
       " Decimal('16.462')]"
      ]
     },
     "execution_count": 2,
     "metadata": {},
     "output_type": "execute_result"
    }
   ],
   "source": [
    "getcontext().prec=5\n",
    "sq = [Decimal(j).sqrt() for j in primes]\n",
    "sq"
   ]
  },
  {
   "cell_type": "code",
   "execution_count": 138,
   "id": "c3c0fed3",
   "metadata": {},
   "outputs": [
    {
     "data": {
      "text/plain": [
       "Decimal('160.3386')"
      ]
     },
     "execution_count": 138,
     "metadata": {},
     "output_type": "execute_result"
    }
   ],
   "source": [
    "sum(sq[:26])"
   ]
  },
  {
   "cell_type": "code",
   "execution_count": 5,
   "id": "17a0dbd1",
   "metadata": {},
   "outputs": [],
   "source": [
    "res1 = ['16404', '16416', '16512', '16515', '16557', '16791', '16844', '16394', '15927', '15942', '15896', '15433', '15469', '15553', '15547', '15507', '15615', '15548', '15557', '15677', '15802', '15770', '15914', '15957', '16049', '16163']\n",
    "res2 = ['19106.6119577929', '19098.1846041713', '19124.6925013201', '19072.8591005901', '19063.3797914261', '19254.8741381550', '19410.9493230296', '18896.7331405884', '19021.3167024024', '18924.6509997019', '18853.3351082021', '18957.2296714145', '18926.7035797566', '18831.7182995672', '18768.8192204100', '18668.7452791590', '18645.9207293335', '18711.1447224940']\n",
    "res3 = Decimal(\"25800.359843622375482317741765092423108740749704076506674391637220601256480076793833725266596491145653469234638681214279142266384627498702292519864562549230222347690184575651985867669548991937988156542\")"
   ]
  },
  {
   "cell_type": "code",
   "execution_count": 101,
   "id": "7ae03f48",
   "metadata": {},
   "outputs": [
    {
     "data": {
      "text/plain": [
       "(26, 18)"
      ]
     },
     "execution_count": 101,
     "metadata": {},
     "output_type": "execute_result"
    }
   ],
   "source": [
    "len(res1), len(res2)"
   ]
  },
  {
   "cell_type": "code",
   "execution_count": 142,
   "id": "370c81b7",
   "metadata": {},
   "outputs": [],
   "source": [
    "y = [int(x*10000) for x in sq]"
   ]
  },
  {
   "cell_type": "code",
   "execution_count": 143,
   "id": "ab9c584e",
   "metadata": {},
   "outputs": [],
   "source": [
    "b = [int(x)*10000 for x in res1]"
   ]
  },
  {
   "cell_type": "code",
   "execution_count": 3,
   "id": "9f026e6a",
   "metadata": {},
   "outputs": [],
   "source": [
    "import numpy as np"
   ]
  },
  {
   "cell_type": "code",
   "execution_count": 146,
   "id": "8f3ad051",
   "metadata": {},
   "outputs": [],
   "source": [
    "A = np.array([ [y[(j-i+26)%26] for j in range(26)]  for i in range(26) ])\n",
    "b = np.array([int(x)*10000 for x in res1])\n",
    "b2 = np.zeros(26)"
   ]
  },
  {
   "cell_type": "code",
   "execution_count": 147,
   "id": "79c0b745",
   "metadata": {},
   "outputs": [
    {
     "name": "stdout",
     "output_type": "stream",
     "text": [
      "flag{g00d_1inear_equation}"
     ]
    }
   ],
   "source": [
    "from scipy.optimize import nnls\n",
    "\n",
    "res = nnls(A, b)\n",
    "for i in res[0]:\n",
    "    print(chr(round(i)), end=\"\")"
   ]
  },
  {
   "cell_type": "code",
   "execution_count": 148,
   "id": "40e751d0",
   "metadata": {},
   "outputs": [
    {
     "data": {
      "text/plain": [
       "array([101.87624822, 108.05855626,  97.21633508, 102.72762196,\n",
       "       123.127491  , 102.99073928,  47.88299384,  48.11968059,\n",
       "       100.029542  ,  94.95932192,  49.02662804, 104.93531526,\n",
       "       109.82530148, 101.18340944,  97.00629639, 114.16314461,\n",
       "        94.99981158, 101.06385193, 112.71722557, 117.23354772,\n",
       "        96.85725053, 116.05246634, 104.95312872, 111.16558744,\n",
       "       109.83737249, 124.99743273])"
      ]
     },
     "execution_count": 148,
     "metadata": {},
     "output_type": "execute_result"
    }
   ],
   "source": [
    "np.linalg.solve(A,b)"
   ]
  },
  {
   "cell_type": "code",
   "execution_count": 111,
   "id": "45557a22",
   "metadata": {},
   "outputs": [
    {
     "data": {
      "text/plain": [
       "(array([0., 0., 0., 0., 0., 0., 0., 0., 0., 0., 0., 0., 0., 0., 0., 0., 0.,\n",
       "        0., 0., 0., 0., 0., 0., 0., 0., 0.]),\n",
       " 0.0)"
      ]
     },
     "execution_count": 111,
     "metadata": {},
     "output_type": "execute_result"
    }
   ],
   "source": [
    "nnls(A, b2)"
   ]
  },
  {
   "cell_type": "code",
   "execution_count": 66,
   "id": "91f733aa",
   "metadata": {},
   "outputs": [
    {
     "data": {
      "text/plain": [
       "array([], shape=(0, 26), dtype=float64)"
      ]
     },
     "execution_count": 66,
     "metadata": {},
     "output_type": "execute_result"
    }
   ],
   "source": [
    "s, v, d = np.linalg.svd(A)\n",
    "np.compress(v < 1e-10, d, axis=0)"
   ]
  },
  {
   "cell_type": "code",
   "execution_count": null,
   "id": "1e9d7b93",
   "metadata": {},
   "outputs": [],
   "source": []
  },
  {
   "cell_type": "code",
   "execution_count": 125,
   "id": "6a437abb",
   "metadata": {},
   "outputs": [],
   "source": [
    "A = np.array([ [y[(j+i)%26] for j in range(26)]  for i in range(26) ])\n",
    "b = np.array([int(x)*10000 for x in res1])\n",
    "b2 = np.zeros(26)"
   ]
  },
  {
   "cell_type": "code",
   "execution_count": 126,
   "id": "b7cbcac8",
   "metadata": {},
   "outputs": [
    {
     "data": {
      "text/plain": [
       "array([], shape=(26, 0), dtype=float64)"
      ]
     },
     "execution_count": 126,
     "metadata": {},
     "output_type": "execute_result"
    }
   ],
   "source": [
    "import scipy\n",
    "scipy.linalg.null_space(A)"
   ]
  },
  {
   "cell_type": "code",
   "execution_count": 149,
   "id": "6f6691cd",
   "metadata": {
    "scrolled": true
   },
   "outputs": [],
   "source": [
    "getcontext().prec=15\n",
    "sq = [Decimal(j).sqrt() for j in primes]\n",
    "y = [float(x) for x in sq[:28]]"
   ]
  },
  {
   "cell_type": "code",
   "execution_count": 150,
   "id": "7eaa6132",
   "metadata": {},
   "outputs": [],
   "source": [
    "n = 28\n",
    "A = np.array([ [y[(j-i+n)%n] for j in range(n)]  for i in range(n) ])\n",
    "b = np.array([float(x) for x in res2])\n",
    "b2 = np.zeros(28)"
   ]
  },
  {
   "cell_type": "markdown",
   "id": "27962ed8",
   "metadata": {},
   "source": [
    "按均值算？"
   ]
  },
  {
   "cell_type": "code",
   "execution_count": 158,
   "id": "1d31257e",
   "metadata": {},
   "outputs": [
    {
     "data": {
      "text/plain": [
       "(180.83133103193185, 18963.21493719526, 104.8668658742918)"
      ]
     },
     "execution_count": 158,
     "metadata": {},
     "output_type": "execute_result"
    }
   ],
   "source": [
    "res2_mean = np.array([float(x) for x in res2]).mean()\n",
    "ssum = float(sum(sq[:28]))\n",
    "ssum, res2_mean, res2_mean/ssum"
   ]
  },
  {
   "cell_type": "code",
   "execution_count": 160,
   "id": "42874bb1",
   "metadata": {},
   "outputs": [
    {
     "name": "stdout",
     "output_type": "stream",
     "text": [
      "102,108,97,103,123,125,"
     ]
    }
   ],
   "source": [
    "for x in \"flag{}\":\n",
    "    print(ord(x), end=\",\")"
   ]
  },
  {
   "cell_type": "code",
   "execution_count": 354,
   "id": "e1a9642a",
   "metadata": {},
   "outputs": [],
   "source": [
    "A = np.array([ [y[(j-i+n)%n] for j in range(5,23)]  for i in range(18) ])\n",
    "b = np.array([float(x) for x in res2])\n",
    "\n",
    "for i in range(18):\n",
    "    tmp = [y[(j-i+n)%n] for j in range(n)] \n",
    "    con = tmp[-1] * ord(\"}\")\n",
    "    for j in range(5):\n",
    "        con += tmp[j] * ord(\"flag{\"[j])\n",
    "    for j in range(-5,-1):\n",
    "        con += tmp[j] * (104.8668658742918)\n",
    "    b[i] -= con"
   ]
  },
  {
   "cell_type": "code",
   "execution_count": 355,
   "id": "b83412f7",
   "metadata": {},
   "outputs": [
    {
     "name": "stdout",
     "output_type": "stream",
     "text": [
      "y1v^are_b_fpufLg|"
     ]
    }
   ],
   "source": [
    "from scipy.optimize import nnls\n",
    "\n",
    "res = nnls(A, b)\n",
    "for i in res[0]:\n",
    "    print(chr(round(i)), end=\"\")"
   ]
  },
  {
   "cell_type": "code",
   "execution_count": 373,
   "id": "700355a5",
   "metadata": {},
   "outputs": [],
   "source": [
    "A = []\n",
    "b = np.array([float(x) for x in res2])\n",
    "\n",
    "\n",
    "for i in range(18):\n",
    "    tmp = [y[(j-i+n)%n] for j in range(n)] \n",
    "    con = tmp[-1] * ord(\"}\")\n",
    "    for j in range(9):\n",
    "        con += tmp[j] * ord(\"flag{y0u_are_\"[j])\n",
    "    A.append(tmp[9:-1])\n",
    "    b[i] -= con\n",
    "    \n",
    "A = np.array(A)"
   ]
  },
  {
   "cell_type": "code",
   "execution_count": 374,
   "id": "b44b6239",
   "metadata": {},
   "outputs": [
    {
     "name": "stdout",
     "output_type": "stream",
     "text": [
      "are_a_good_guesser"
     ]
    }
   ],
   "source": [
    "\n",
    "res = nnls(A, b)\n",
    "for i in res[0]:\n",
    "    print(chr(round(i)), end=\"\")"
   ]
  },
  {
   "cell_type": "code",
   "execution_count": 375,
   "id": "8bf8b4ff",
   "metadata": {},
   "outputs": [],
   "source": [
    "# flag{y0u_are_a_good_guesser}"
   ]
  },
  {
   "cell_type": "code",
   "execution_count": 6,
   "id": "7827a673",
   "metadata": {},
   "outputs": [
    {
     "data": {
      "text/plain": [
       "Decimal('248.0803831117536104069013631')"
      ]
     },
     "execution_count": 6,
     "metadata": {},
     "output_type": "execute_result"
    }
   ],
   "source": [
    "res3 / 104"
   ]
  },
  {
   "cell_type": "code",
   "execution_count": 7,
   "id": "9ff71745",
   "metadata": {},
   "outputs": [
    {
     "data": {
      "text/plain": [
       "Decimal('248.1116')"
      ]
     },
     "execution_count": 7,
     "metadata": {},
     "output_type": "execute_result"
    }
   ],
   "source": [
    "sum(sq[:34])"
   ]
  },
  {
   "cell_type": "code",
   "execution_count": 15,
   "id": "2c3b91af",
   "metadata": {},
   "outputs": [],
   "source": [
    "num = 150\n",
    "getcontext().prec=200\n",
    "sq = [Decimal(j).sqrt() for j in primes]\n",
    "\n",
    "ints = [] # 保留小数点后190位\n",
    "for x in sq:\n",
    "    tmp = str(x)\n",
    "    if len(tmp.split(\".\")[0]) == 2:\n",
    "        tmp2 = tmp[:num+3]\n",
    "    else:\n",
    "        tmp2 = tmp[:num+2]\n",
    "        \n",
    "    tmp3 = int(\"\".join(tmp2.split(\".\")))\n",
    "    ints.append(tmp3)"
   ]
  },
  {
   "cell_type": "code",
   "execution_count": 16,
   "id": "0d4bbdcb",
   "metadata": {},
   "outputs": [],
   "source": [
    "tmp = str(res3)\n",
    "tmp2 = \"\".join(tmp.split(\".\"))\n",
    "M = int(tmp2[:num+5])"
   ]
  },
  {
   "cell_type": "code",
   "execution_count": 43,
   "id": "479d31a3",
   "metadata": {},
   "outputs": [
    {
     "data": {
      "text/plain": [
       "25800359843622375482317741765092423108740749704076506674391637220601256480076793833725266596491145653469234638681214279142266384627498702292519864562549230"
      ]
     },
     "execution_count": 43,
     "metadata": {},
     "output_type": "execute_result"
    }
   ],
   "source": [
    "M"
   ]
  },
  {
   "cell_type": "code",
   "execution_count": 44,
   "id": "87f3a1aa",
   "metadata": {},
   "outputs": [
    {
     "data": {
      "text/plain": [
       "(23097964479653084930765864346318316430024385394640911570933915133775235784514117588267961383604953963632612469494544351767744862078712511739405514446893352,\n",
       " 102.66824008239713)"
      ]
     },
     "execution_count": 44,
     "metadata": {},
     "output_type": "execute_result"
    }
   ],
   "source": [
    "left = M - ints[33] * ord(\"}\")\n",
    "for i in range(5):\n",
    "    left -= ints[i] * ord(\"flag{\"[i])\n",
    "left, left / sum(ints[5:33])\n",
    "# 剩5-32, total 28"
   ]
  },
  {
   "cell_type": "code",
   "execution_count": 19,
   "id": "ee1b2abd",
   "metadata": {},
   "outputs": [],
   "source": [
    "ints2 = ints[5:33]"
   ]
  },
  {
   "cell_type": "code",
   "execution_count": 35,
   "id": "a64e1fb5",
   "metadata": {},
   "outputs": [],
   "source": [
    "sq2 = sq[:34]"
   ]
  },
  {
   "cell_type": "code",
   "execution_count": 42,
   "id": "a5fc7ed8",
   "metadata": {},
   "outputs": [
    {
     "name": "stdout",
     "output_type": "stream",
     "text": [
      "===============================================================================\n",
      "                                     CVXPY                                     \n",
      "                                     v1.2.2                                    \n",
      "===============================================================================\n",
      "(CVXPY) Nov 23 11:59:12 AM: Your problem has 28 variables, 3 constraints, and 0 parameters.\n",
      "(CVXPY) Nov 23 11:59:12 AM: It is compliant with the following grammars: DCP, DQCP\n",
      "(CVXPY) Nov 23 11:59:12 AM: (If you need to solve this problem multiple times, but with different data, consider using parameters.)\n",
      "(CVXPY) Nov 23 11:59:12 AM: CVXPY will first compile your problem; then, it will invoke a numerical solver to obtain a solution.\n",
      "-------------------------------------------------------------------------------\n",
      "                                  Compilation                                  \n",
      "-------------------------------------------------------------------------------\n",
      "(CVXPY) Nov 23 11:59:12 AM: Compiling problem (target solver=GLPK_MI).\n",
      "(CVXPY) Nov 23 11:59:12 AM: Reduction chain: Dcp2Cone -> CvxAttr2Constr -> ConeMatrixStuffing -> GLPK_MI\n",
      "(CVXPY) Nov 23 11:59:12 AM: Applying reduction Dcp2Cone\n",
      "(CVXPY) Nov 23 11:59:12 AM: Applying reduction CvxAttr2Constr\n",
      "(CVXPY) Nov 23 11:59:12 AM: Applying reduction ConeMatrixStuffing\n",
      "(CVXPY) Nov 23 11:59:12 AM: Applying reduction GLPK_MI\n",
      "(CVXPY) Nov 23 11:59:12 AM: Finished problem compilation (took 1.214e-02 seconds).\n",
      "-------------------------------------------------------------------------------\n",
      "                                Numerical solver                               \n",
      "-------------------------------------------------------------------------------\n",
      "(CVXPY) Nov 23 11:59:12 AM: Invoking solver GLPK_MI  to obtain a solution.\n",
      "-------------------------------------------------------------------------------\n",
      "                                    Summary                                    \n",
      "-------------------------------------------------------------------------------\n",
      "(CVXPY) Nov 23 11:59:14 AM: Problem status: optimal\n"
     ]
    },
    {
     "name": "stderr",
     "output_type": "stream",
     "text": [
      "/data1/jhhou/.conda/envs/hjh/lib/python3.8/site-packages/cvxpy/expressions/expression.py:593: UserWarning: \n",
      "This use of ``*`` has resulted in matrix multiplication.\n",
      "Using ``*`` for matrix multiplication has been deprecated since CVXPY 1.1.\n",
      "    Use ``*`` for matrix-scalar and vector-scalar multiplication.\n",
      "    Use ``@`` for matrix-matrix and matrix-vector multiplication.\n",
      "    Use ``multiply`` for elementwise multiplication.\n",
      "This code path has been hit 17 times so far.\n",
      "\n",
      "  warnings.warn(msg, UserWarning)\n",
      "/data1/jhhou/.conda/envs/hjh/lib/python3.8/site-packages/cvxpy/expressions/expression.py:593: UserWarning: \n",
      "This use of ``*`` has resulted in matrix multiplication.\n",
      "Using ``*`` for matrix multiplication has been deprecated since CVXPY 1.1.\n",
      "    Use ``*`` for matrix-scalar and vector-scalar multiplication.\n",
      "    Use ``@`` for matrix-matrix and matrix-vector multiplication.\n",
      "    Use ``multiply`` for elementwise multiplication.\n",
      "This code path has been hit 18 times so far.\n",
      "\n",
      "  warnings.warn(msg, UserWarning)\n"
     ]
    },
    {
     "name": "stdout",
     "output_type": "stream",
     "text": [
      "(CVXPY) Nov 23 11:59:14 AM: Optimal value: 2.867e+03\n",
      "(CVXPY) Nov 23 11:59:14 AM: Compilation took 1.214e-02 seconds\n",
      "(CVXPY) Nov 23 11:59:14 AM: Solver (including time spent in interface) took 2.831e+00 seconds\n",
      "最优值为: 2867.0\n",
      "最优解为：\n",
      " [ 48. 126. 126.  48.  94. 118. 107. 101. 126. 126. 126. 126. 126. 126.\n",
      " 126. 125. 116.  50.  48.  52.  48.  60.  88. 126. 126. 126. 126. 126.]\n"
     ]
    }
   ],
   "source": [
    "import cvxpy as cp\n",
    "from numpy import array\n",
    "\n",
    "c = np.array( [1 for i in range(28)], dtype=object)\n",
    "A = np.array([ints2, [-x for x in ints2]], dtype=object)\n",
    "b = np.array([left+1000, -left-1000], dtype=object)\n",
    "\n",
    "x = cp.Variable(28, integer=True)  # 定义28个整数决策变量\n",
    "obj = cp.Minimize(c * x)  # 构造目标函数\n",
    "cons = [A * x <= b, x >= 48, x <= 126]  # 构造约束条件\n",
    "prob = cp.Problem(obj, cons)  # 构建问题模型\n",
    "prob.solve(solver='GLPK_MI', verbose=True)  # 求解问题\n",
    "print(\"最优值为:\", prob.value)\n",
    "print(\"最优解为：\\n\", x.value)"
   ]
  },
  {
   "cell_type": "code",
   "execution_count": null,
   "id": "fcd4402e",
   "metadata": {},
   "outputs": [],
   "source": []
  },
  {
   "cell_type": "code",
   "execution_count": null,
   "id": "5503795c",
   "metadata": {},
   "outputs": [],
   "source": []
  },
  {
   "cell_type": "code",
   "execution_count": null,
   "id": "c3e3021d",
   "metadata": {},
   "outputs": [],
   "source": [
    "from gurobipy import *\n",
    "try:\n",
    "\n",
    "    # Create a new model\n",
    "    m = Model(\"mip1\")\n",
    "\n",
    "    # Create variables\n",
    "    x = [m.addVar(vtype=GRB.INTEGER, name=f\"x{i}\") for i in range(34)]\n",
    "    # default bounds for continuous type is [0, infinite]\n",
    "    \n",
    "    # Set objective\n",
    "    m.setObjective(x, GRB.MAXIMIZE)\n",
    "\n",
    "    # Add constraint: x + 2 y + 3 z <= 4\n",
    "    m.addConstr(x + 2 * y + 3 * z <= 4, \"c0\")\n",
    "\n",
    "    # Add constraint: x + y >= 1\n",
    "    m.addConstr(x + y >= 1, \"c1\")\n",
    "\n",
    "    m.optimize()\n",
    "\n",
    "    for v in m.getVars():\n",
    "        print('%s %g' % (v.varName, v.x))\n",
    "\n",
    "    print('Obj: %g' % m.objVal)\n",
    "\n",
    "except GurobiError as e:\n",
    "    print('Error code ' + str(e.errno) + \": \" + str(e))\n",
    "\n",
    "except AttributeError:\n",
    "    print('Encountered an attribute error')"
   ]
  },
  {
   "cell_type": "code",
   "execution_count": null,
   "id": "82ed2d22",
   "metadata": {},
   "outputs": [],
   "source": []
  },
  {
   "cell_type": "code",
   "execution_count": null,
   "id": "9af82186",
   "metadata": {},
   "outputs": [],
   "source": []
  },
  {
   "cell_type": "code",
   "execution_count": 21,
   "id": "f022c280",
   "metadata": {},
   "outputs": [
    {
     "data": {
      "text/plain": [
       "111"
      ]
     },
     "execution_count": 21,
     "metadata": {},
     "output_type": "execute_result"
    }
   ],
   "source": [
    "len(\"\"\"#include <iostream>\n",
    "using namespace std;\n",
    "\n",
    "#define a string(1)\n",
    "#define b a;a;a\n",
    "#define c b;b;b\n",
    "int main(){c;c;c}\"\"\")"
   ]
  },
  {
   "cell_type": "code",
   "execution_count": null,
   "id": "2736c1f7",
   "metadata": {},
   "outputs": [],
   "source": []
  }
 ],
 "metadata": {
  "kernelspec": {
   "display_name": "Python [conda env:.conda-hjh]",
   "language": "python",
   "name": "conda-env-.conda-hjh-py"
  },
  "language_info": {
   "codemirror_mode": {
    "name": "ipython",
    "version": 3
   },
   "file_extension": ".py",
   "mimetype": "text/x-python",
   "name": "python",
   "nbconvert_exporter": "python",
   "pygments_lexer": "ipython3",
   "version": "3.8.10"
  }
 },
 "nbformat": 4,
 "nbformat_minor": 5
}
