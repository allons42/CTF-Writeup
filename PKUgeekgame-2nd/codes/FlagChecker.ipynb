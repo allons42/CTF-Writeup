{
 "cells": [
  {
   "cell_type": "code",
   "execution_count": 2,
   "id": "dade5370",
   "metadata": {},
   "outputs": [],
   "source": [
    "def rot13(s):\n",
    "    obj = []\n",
    "    for cc in s:\n",
    "        c = ord(cc)\n",
    "        if c < ord('a') or c > ord('m'):\n",
    "            if ord('@') < c and c < ord('N'):\n",
    "                c = c + ord('\\r')\n",
    "            elif ord('m') < c and c < ord('{'):\n",
    "                c = c - 13\n",
    "            elif ord('M') < c and c < ord('['):\n",
    "                c = c -13\n",
    "            elif ord('4') < c and c < ord(':'):\n",
    "                c = c - 5\n",
    "            elif ord('/') < c and c < ord('5'):\n",
    "                c += 5\n",
    "        else:\n",
    "            c = c + ord('\\r')\n",
    "        obj.append(c)\n",
    "    return obj\n",
    "                "
   ]
  },
  {
   "cell_type": "code",
   "execution_count": 3,
   "id": "6207eb08",
   "metadata": {},
   "outputs": [
    {
     "name": "stdout",
     "output_type": "stream",
     "text": [
      "ZmxhZ3tzMW1wMWUtanZhdl9yZXZ9"
     ]
    }
   ],
   "source": [
    "f = rot13(\"MzkuM8gmZJ6jZJHgnaMuqy4lMKM4\")\n",
    "for x in f:\n",
    "    print(chr(x), end=\"\")"
   ]
  },
  {
   "cell_type": "code",
   "execution_count": 4,
   "id": "4f14cf50",
   "metadata": {},
   "outputs": [
    {
     "data": {
      "text/plain": [
       "b'flag{s1mp1e-jvav_rev}'"
      ]
     },
     "execution_count": 4,
     "metadata": {},
     "output_type": "execute_result"
    }
   ],
   "source": [
    "from base64 import b64decode\n",
    "b64decode(\"ZmxhZ3tzMW1wMWUtanZhdl9yZXZ9\")"
   ]
  },
  {
   "cell_type": "code",
   "execution_count": 2,
   "id": "cc9d259b",
   "metadata": {},
   "outputs": [],
   "source": [
    "s = r\"\"\"\\ux0089\\ux009a\\ux0081\\ux008c\\ux009b\\ux0086\\ux0080\\ux0081Ï\\ux008c\\ux0087\\ux008a\\ux008c\\ux0084\\ux00 89\\ux0083\\ux008e\\ux0088ÝÇ°ß\\ux0097\\ux008e×Ü\\ux008a\\ux0097ÝÆ\\ux0094\\ux0099\\ux008e\\ux009dÏ°ß\\ux0097Ø ÝÛ\\ux008dÒ´È\\ux008c\\ux0087\\ux008e\\ux009d¬\\ux0080\\ux008b\\ux008a®\\ux009bÈÃÈ\\ux0082\\ux008e\\ux009fÈÃÈÈ ÃÈ\\ux009c\\ux009f\\ux0083\\ux0086\\ux009b��ÃÈ\\ux009c\\ux009b\\ux009d\\ux0086\\ux0081\\ux0088\\ux0086\\ux0089\\ ux0096ÈÃÈ¬\\ux0080\\ux009d\\ux009d\\ux008a\\ux008c\\ux009bÈÃÈ¸\\ux009d\\ux0080\\ux0081\\ux0088ÈÃÈ\\ux0085ÂÈ²Ô \\ux009d\\ux008a\\ux009b\\ux009a\\ux009d\\ux0081ÏÇ¥¼\\ux00a0¡´°ß\\ux0097ØÝÛ\\ux008d´Û²²Ç°ß\\ux0097\\ux008e×Ü\\ ux008a\\ux0097Ý´°ß\\ux0097ØÝÛ\\ux008d´Ü²²Ç°ß\\ux0097ØÝÛ\\ux008d´Ý²Æ´°ß\\ux0097ØÝÛ\\ux008d´Þ²²Ç\\ux0089\\ux0 09a\\ux0081\\ux008c\\ux009b\\ux0086\\ux0080\\ux0081Ç°ß\\ux0097\\ux008e×Ü\\ux008a\\ux0097ÜÆ\\ux0094\\ux009d\\ux0 08a\\ux009b\\ux009a\\ux009d\\ux0081Ï°ß\\ux0097\\ux008e×Ü\\ux008a\\ux0097Ü´°ß\\ux0097ØÝÛ\\ux008d´ß²²ÇßÆ\\ux009 2ÆÆÒÒÏ¥¼\\ux00a0¡´°ß\\ux0097ØÝÛ\\ux008d´Û²²Ç´ßÃÞÚÃÞÙÃÞØÃÜßÃÞßÚÃÞÙÃÜÞÃÞÙÃÙØÃÜÃÜÜÃÚÃÙßÃÛÃÞßÙÃÙÃÛÞÃßÃÞÃÙ ØÃÜÃÞÙÃÛÃÙÃÜÜÃÝÜÝ²´°ß\\ux0097ØÝÛ\\ux008d´Þ²²Ç\\ux0089\\ux009a\\ux0081\\ux008c\\ux009b\\ux0086\\ux0080\\ux008 1Ç°ß\\ux0097\\ux008e×Ü\\ux008a\\ux0097ÜÆ\\ux0094\\ux009d\\ux008a\\ux009b\\ux009a\\ux009d\\ux0081ÏÇ\\ux008c\\ux0 087\\ux008a\\ux008c\\ux0084\\ux0089\\ux0083\\ux008e\\ux0088ÝÄÏ°ß\\ux0097ØÝÛ\\ux008d´Ý²Æ´°ß\\ux0097ØÝÛ\\ux008d ´ß²²Ç°ß\\ux0097\\ux008e×Ü\\ux008a\\ux0097ÜÆ\\ux0092ÆÆÐ°ß\\ux0097ØÝÛ\\ux008d´Ú²Õ°ß\\ux0097ØÝÛ\\ux008d´Ù²Æ\\ux 0092\"\"\""
   ]
  },
  {
   "cell_type": "code",
   "execution_count": 27,
   "id": "79fcdd1e",
   "metadata": {},
   "outputs": [],
   "source": [
    "ss = ''.join([x for x in s if x != \" \"])"
   ]
  },
  {
   "cell_type": "code",
   "execution_count": 28,
   "id": "308f1b89",
   "metadata": {},
   "outputs": [
    {
     "data": {
      "text/plain": [
       "'\\\\ux0089\\\\ux009a\\\\ux0081\\\\ux008c\\\\ux009b\\\\ux0086\\\\ux0080\\\\ux0081Ï\\\\ux008c\\\\ux0087\\\\ux008a\\\\ux008c\\\\ux0084\\\\ux0089\\\\ux0083\\\\ux008e\\\\ux0088ÝÇ°ß\\\\ux0097\\\\ux008e×Ü\\\\ux008a\\\\ux0097ÝÆ\\\\ux0094\\\\ux0099\\\\ux008e\\\\ux009dÏ°ß\\\\ux0097ØÝÛ\\\\ux008dÒ´È\\\\ux008c\\\\ux0087\\\\ux008e\\\\ux009d¬\\\\ux0080\\\\ux008b\\\\ux008a®\\\\ux009bÈÃÈ\\\\ux0082\\\\ux008e\\\\ux009fÈÃÈÈÃÈ\\\\ux009c\\\\ux009f\\\\ux0083\\\\ux0086\\\\ux009b��ÃÈ\\\\ux009c\\\\ux009b\\\\ux009d\\\\ux0086\\\\ux0081\\\\ux0088\\\\ux0086\\\\ux0089\\\\ux0096ÈÃÈ¬\\\\ux0080\\\\ux009d\\\\ux009d\\\\ux008a\\\\ux008c\\\\ux009bÈÃÈ¸\\\\ux009d\\\\ux0080\\\\ux0081\\\\ux0088ÈÃÈ\\\\ux0085ÂÈ²Ô\\\\ux009d\\\\ux008a\\\\ux009b\\\\ux009a\\\\ux009d\\\\ux0081ÏÇ¥¼\\\\ux00a0¡´°ß\\\\ux0097ØÝÛ\\\\ux008d´Û²²Ç°ß\\\\ux0097\\\\ux008e×Ü\\\\ux008a\\\\ux0097Ý´°ß\\\\ux0097ØÝÛ\\\\ux008d´Ü²²Ç°ß\\\\ux0097ØÝÛ\\\\ux008d´Ý²Æ´°ß\\\\ux0097ØÝÛ\\\\ux008d´Þ²²Ç\\\\ux0089\\\\ux009a\\\\ux0081\\\\ux008c\\\\ux009b\\\\ux0086\\\\ux0080\\\\ux0081Ç°ß\\\\ux0097\\\\ux008e×Ü\\\\ux008a\\\\ux0097ÜÆ\\\\ux0094\\\\ux009d\\\\ux008a\\\\ux009b\\\\ux009a\\\\ux009d\\\\ux0081Ï°ß\\\\ux0097\\\\ux008e×Ü\\\\ux008a\\\\ux0097Ü´°ß\\\\ux0097ØÝÛ\\\\ux008d´ß²²ÇßÆ\\\\ux0092ÆÆÒÒÏ¥¼\\\\ux00a0¡´°ß\\\\ux0097ØÝÛ\\\\ux008d´Û²²Ç´ßÃÞÚÃÞÙÃÞØÃÜßÃÞßÚÃÞÙÃÜÞÃÞÙÃÙØÃÜÃÜÜÃÚÃÙßÃÛÃÞßÙÃÙÃÛÞÃßÃÞÃÙØÃÜÃÞÙÃÛÃÙÃÜÜÃÝÜÝ²´°ß\\\\ux0097ØÝÛ\\\\ux008d´Þ²²Ç\\\\ux0089\\\\ux009a\\\\ux0081\\\\ux008c\\\\ux009b\\\\ux0086\\\\ux0080\\\\ux0081Ç°ß\\\\ux0097\\\\ux008e×Ü\\\\ux008a\\\\ux0097ÜÆ\\\\ux0094\\\\ux009d\\\\ux008a\\\\ux009b\\\\ux009a\\\\ux009d\\\\ux0081ÏÇ\\\\ux008c\\\\ux0087\\\\ux008a\\\\ux008c\\\\ux0084\\\\ux0089\\\\ux0083\\\\ux008e\\\\ux0088ÝÄÏ°ß\\\\ux0097ØÝÛ\\\\ux008d´Ý²Æ´°ß\\\\ux0097ØÝÛ\\\\ux008d´ß²²Ç°ß\\\\ux0097\\\\ux008e×Ü\\\\ux008a\\\\ux0097ÜÆ\\\\ux0092ÆÆÐ°ß\\\\ux0097ØÝÛ\\\\ux008d´Ú²Õ°ß\\\\ux0097ØÝÛ\\\\ux008d´Ù²Æ\\\\ux0092'"
      ]
     },
     "execution_count": 28,
     "metadata": {},
     "output_type": "execute_result"
    }
   ],
   "source": [
    "ss"
   ]
  },
  {
   "cell_type": "code",
   "execution_count": 32,
   "id": "512a5a8b",
   "metadata": {},
   "outputs": [],
   "source": [
    "i = 0\n",
    "s3 = []\n",
    "while i < len(ss):\n",
    "    if ss[i] == \"\\\\\":\n",
    "        s3.append(int(ss[i+3:i+7], 16))\n",
    "        i = i + 7\n",
    "    else:\n",
    "        s3.append(ord(ss[i]))\n",
    "        i += 1"
   ]
  },
  {
   "cell_type": "code",
   "execution_count": 43,
   "id": "9cdd19fd",
   "metadata": {},
   "outputs": [],
   "source": [
    "s4 = []\n",
    "for x in s3:\n",
    "    s4.append(x^0xef)"
   ]
  },
  {
   "cell_type": "code",
   "execution_count": 46,
   "id": "e520dc10",
   "metadata": {},
   "outputs": [
    {
     "name": "stdout",
     "output_type": "stream",
     "text": [
      "function checkflag2(_0xa83ex2){var _0x724b=['charCodeAt','map','','split２２,'stringify','Correct','Wrong','j-'];return (JSON[_0x724b[4]](_0xa83ex2[_0x724b[3]](_0x724b[2])[_0x724b[1]](function(_0xa83ex3){return _0xa83ex3[_0x724b[0]](0)}))== JSON[_0x724b[4]]([0,15,16,17,30,105,16,31,16,67,3,33,5,60,4,106,6,41,0,1,67,3,16,4,6,33,232][_0x724b[1]](function(_0xa83ex3){return (checkflag2+ _0x724b[2])[_0x724b[0]](_0xa83ex3)}))?_0x724b[5]:_0x724b[6])}"
     ]
    }
   ],
   "source": [
    "for x in s4:\n",
    "    print(chr(x),end='')"
   ]
  },
  {
   "cell_type": "code",
   "execution_count": null,
   "id": "dc2bf79b",
   "metadata": {},
   "outputs": [],
   "source": [
    "# 伪代码\n",
    "function checkflag2(_0xa83ex2)\n",
    "{\n",
    "    var _0x724b=['charCodeAt','map','','split２２','stringify','Correct','Wrong','j-'];\n",
    "    return (JSON[_0x724b[4]]\n",
    "                (_0xa83ex2[_0x724b[3]](_0x724b[2])[_0x724b[1]]\n",
    "                     (function(_0xa83ex3){return _0xa83ex3[_0x724b[0]](0)}))\n",
    "                == JSON[_0x724b[4]]([0,15,16,17,30,105,16,31,16,67,3,33,5,60,4,106,6,41,0,1,67,3,16,4,6,33,232][_0x724b[1]]\n",
    "                                    (function(_0xa83ex3){return (checkflag2+ _0x724b[2])[_0x724b[0]](_0xa83ex3)}))\n",
    "                    ?_0x724b[5]:_0x724b[6])\n",
    "}"
   ]
  },
  {
   "cell_type": "code",
   "execution_count": null,
   "id": "b8d7a930",
   "metadata": {},
   "outputs": [],
   "source": [
    "def f2(x):\n",
    "    return x.charCodeAt(0)\n",
    "\n",
    "def mapping(x):\n",
    "    return (checkflag2+\"\").charCodeAt(x)\n",
    "\n",
    "seq = [0,15,16,17,30,105,16,31,16,67,3,33,5,60,4,106,6,41,0,1,67,3,16,4,6,33,232]\n",
    "\n",
    "def checkflag2(s):\n",
    "    return JSON.stringfy(s.split(\"\").map(charCodeAt(0)) \n",
    "                         == JSON.stringfy(seq.map(mapping)) ? 'Correct': 'Wrong'\n",
    "        "
   ]
  },
  {
   "cell_type": "code",
   "execution_count": 58,
   "id": "7ddabac7",
   "metadata": {},
   "outputs": [],
   "source": [
    "s5 = \"function checkflag2(_0xa83ex2){var _0x724b=['charCodeAt','map','','split','stringify','Correct','Wrong','j-'];return (JSON[_0x724b[4]](_0xa83ex2[_0x724b[3]](_0x724b[2])[_0x724b[1]](function(_0xa83ex3){return _0xa83ex3[_0x724b[0]](0)}))== JSON[_0x724b[4]]([0,15,16,17,30,105,16,31,16,67,3,33,5,60,4,106,6,41,0,1,67,3,16,4,6,33,232][_0x724b[1]](function(_0xa83ex3){return (checkflag2+ _0x724b[2])[_0x724b[0]](_0xa83ex3)}))?_0x724b[5]:_0x724b[6])}\""
   ]
  },
  {
   "cell_type": "code",
   "execution_count": 59,
   "id": "e0e18e77",
   "metadata": {},
   "outputs": [],
   "source": [
    "seq = [0,15,16,17,30,105,16,31,16,67,3,33,5,60,4,106,6,41,0,1,67,3,16,4,6,33,232]"
   ]
  },
  {
   "cell_type": "code",
   "execution_count": 60,
   "id": "0b054732",
   "metadata": {},
   "outputs": [
    {
     "data": {
      "text/plain": [
       "'flag{javascript-obfuscator}'"
      ]
     },
     "execution_count": 60,
     "metadata": {},
     "output_type": "execute_result"
    }
   ],
   "source": [
    "\"\".join([s5[x] for x in seq])"
   ]
  }
 ],
 "metadata": {
  "kernelspec": {
   "display_name": "Python [conda env:.conda-hjh]",
   "language": "python",
   "name": "conda-env-.conda-hjh-py"
  },
  "language_info": {
   "codemirror_mode": {
    "name": "ipython",
    "version": 3
   },
   "file_extension": ".py",
   "mimetype": "text/x-python",
   "name": "python",
   "nbconvert_exporter": "python",
   "pygments_lexer": "ipython3",
   "version": "3.8.10"
  }
 },
 "nbformat": 4,
 "nbformat_minor": 5
}
