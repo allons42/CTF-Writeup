{
 "cells": [
  {
   "cell_type": "code",
   "execution_count": 11,
   "id": "5a348405",
   "metadata": {},
   "outputs": [],
   "source": [
    "from rsa import *"
   ]
  },
  {
   "cell_type": "markdown",
   "id": "4b8a95e2",
   "metadata": {},
   "source": [
    "# flag1"
   ]
  },
  {
   "cell_type": "code",
   "execution_count": 12,
   "id": "c368df6b",
   "metadata": {},
   "outputs": [
    {
     "name": "stdout",
     "output_type": "stream",
     "text": [
      "a={'k22', 'k8', 'k26', 'k14', 'k4', 'k20', 'k10', 'k28', 'k16', 'c0', 'k2'}\n",
      "b={'k15', 'k9', 'k5', 'k29', 'k21', 'k17', 'k23', 'k3', 'd0', 'k11', 'k27'}\n",
      "c={'k22', 'k0', 'k6', 'k30', 'k12', 'k4', 'k10', 'k28', 'k16', 'c0', 'k18', 'k24', 'a0'}\n",
      "d={'k5', 'k13', 'k19', 'k29', 'k25', 'b0', 'k17', 'k11', 'd0', 'k31', 'k7', 'k23', 'k1'}\n"
     ]
    }
   ],
   "source": [
    "# 检测规律\n",
    "\n",
    "keys = [set(['k%d'%i]) for i in range(32)]\n",
    "\n",
    "a = set(['a0'])\n",
    "b = set(['b0'])\n",
    "c = set(['c0'])\n",
    "d = set(['d0'])\n",
    "\n",
    "for i in range(32):\n",
    "    a, b, c, d = b, c, d, a^c^keys[i]\n",
    "    \n",
    "print(\"a=%s\"%a)\n",
    "print(\"b=%s\"%b)\n",
    "print(\"c=%s\"%c)\n",
    "print(\"d=%s\"%d)"
   ]
  },
  {
   "cell_type": "code",
   "execution_count": 42,
   "id": "b6f589af",
   "metadata": {},
   "outputs": [],
   "source": [
    "mess = pad((\"I can give you the second flag now. It is: xxx\").encode(\"utf-8\"))\n",
    "assert len(mess)%32 == 0\n",
    "cip=b\"\"\n",
    "\n",
    "pmess=mess[0:32] # 第一段文字\n",
    "a0 = bytes_to_long(pmess[0:8])\n",
    "b0 = bytes_to_long(pmess[8:16])\n",
    "c0 = bytes_to_long(pmess[16:24])\n",
    "d0 = bytes_to_long(pmess[24:32])\n",
    "\n",
    "cipher = \"f0d2765c6a7d04191e022d26b9063a30b2066a2e7ef46f00bce56ccb09252da3cac417703e6d341a0f6e3f03880d733dae4746430db01803a8d67ef13b3a23a1fbca582101106579742c4544d66f1450c44a4e443ee62166cd9e69bf7b696bde\"\n",
    "cip = bytes.fromhex(cipher)\n",
    "# cip = MESenc(pad((\"Hello, Alice! I will give you two flags. The first is: \"+flag1(token)).encode(\"utf-8\")),Public_key)\n",
    "keys = [None for i in range(4)]\n",
    "assert len(cip)%32 == 0\n",
    "\n",
    "pcip=cip[0:32]\n",
    "a = bytes_to_long(pcip[0:8])\n",
    "b = bytes_to_long(pcip[8:16])\n",
    "c = bytes_to_long(pcip[16:24])\n",
    "d = bytes_to_long(pcip[24:32])\n",
    "keys[0] = a ^ c0\n",
    "keys[1] = b ^ d0\n",
    "keys[2] = a0 ^ c0 ^ c\n",
    "keys[3] = b0 ^ d0 ^ d"
   ]
  },
  {
   "cell_type": "code",
   "execution_count": 43,
   "id": "31560b22",
   "metadata": {},
   "outputs": [
    {
     "data": {
      "text/plain": [
       "'I can give you the second flag now. It is: flag{RsA_1s_muLtIPlic4tivE_Hom0MorPHic}\\x0e\\x0e\\x0e\\x0e\\x0e\\x0e\\x0e\\x0e\\x0e\\x0e\\x0e\\x0e\\x0e\\x0e'"
      ]
     },
     "execution_count": 43,
     "metadata": {},
     "output_type": "execute_result"
    }
   ],
   "source": [
    "cip = bytes.fromhex(cipher)\n",
    "# cip = MESenc(pad((\"Hello, Alice! I will give you two flags. The first is: \"+flag1(token)).encode(\"utf-8\")),Public_key)\n",
    "assert len(cip)%32 == 0\n",
    "mess = b\"\"\n",
    "\n",
    "for it in range(0,len(cip),32):\n",
    "    pcip=cip[it:it+32]\n",
    "    a = bytes_to_long(pcip[0:8])\n",
    "    b = bytes_to_long(pcip[8:16])\n",
    "    c = bytes_to_long(pcip[16:24])\n",
    "    d = bytes_to_long(pcip[24:32])\n",
    "    \n",
    "    c0 = a ^ keys[0]\n",
    "    d0 = b ^ keys[1]\n",
    "    a0 = c0 ^ c ^ keys[2]\n",
    "    b0 = d0 ^ d ^ keys[3]\n",
    "    \n",
    "    a0=long_to_bytes(a0,8)\n",
    "    b0=long_to_bytes(b0,8)\n",
    "    c0=long_to_bytes(c0,8)\n",
    "    d0=long_to_bytes(d0,8)\n",
    "    mess+=a0+b0+c0+d0\n",
    "    \n",
    "mess.decode(\"utf-8\")"
   ]
  },
  {
   "cell_type": "markdown",
   "id": "1f9511bb",
   "metadata": {},
   "source": [
    "# flag2"
   ]
  },
  {
   "cell_type": "code",
   "execution_count": 44,
   "id": "e1034235",
   "metadata": {},
   "outputs": [
    {
     "name": "stdout",
     "output_type": "stream",
     "text": [
      "b\"Alice\\x00\\x05M\\x81\\x16\\xa1\\x04\\xde;&\\x9a\\xc9\\xcd\\x853\\xdb\\x8a\\xad-\\xd0\\x11\\xd3%R7\\x0e\\xae\\xfa\\xa0? \\x8a\\xd3\\xb5\\xb2n\\xa8u%\\xa2\\x9b\\x99N\\xe4\\xec\\xf3\\xffU9\\n\\xfa\\x8c\\xc1\\x0b\\xd9\\xb7\\xea*!\\xdf\\xec\\x94\\x1d\\xd6\\xea\\xc1t\\x15\\x88U\\xd8\\xd0e\\xc0\\xdd&\\xebN\\xee'\\xe0\\x83zA\\x17'\\xacTNa\\xb1\\x85\\x1e\\x18\\x07\\t\\x80\\xfdh\\x8a\\xc8$\\x12\\x03K4\\xf3\\xc2\\xf2\\x02\\xaa\\xe4\\xf1z\\xcc\\x0e~#\\x9a\\xdb\\xec\\xaf)\\x03\\xcev\\xe91\\xfdg\\x00\\x80\"\n",
      "0x416c69636500054d8116a104de3b269ac9cd8533db8aad2dd011d32552370eaefaa03f208ad3b5b26ea87525a29b994ee4ecf3ff55390afa8cc10bd9b7ea2a21dfec941dd6eac174158855d8d065c0dd26eb4eee27e0837a411727ac544e61b1851e18070980fd688ac82412034b34f3c2f202aae4f17acc0e7e239adbecaf2903ce76e931fd670080\n"
     ]
    }
   ],
   "source": [
    "name = b\"Alice\"\n",
    "rmess=packmess(name)+packmess(mykey)\n",
    "print(rmess)\n",
    "gmess=int.from_bytes(rmess,'big')\n",
    "print(hex(gmess))"
   ]
  },
  {
   "cell_type": "code",
   "execution_count": 45,
   "id": "7b106ecd",
   "metadata": {},
   "outputs": [
    {
     "name": "stdout",
     "output_type": "stream",
     "text": [
      "b\"QQQQQ\\x00\\x05M\\x81\\x16\\xa1\\x04\\xde;&\\x9a\\xc9\\xcd\\x853\\xdb\\x8a\\xad-\\xd0\\x11\\xd3%R7\\x0e\\xae\\xfa\\xa0? \\x8a\\xd3\\xb5\\xb2n\\xa8u%\\xa2\\x9b\\x99N\\xe4\\xec\\xf3\\xffU9\\n\\xfa\\x8c\\xc1\\x0b\\xd9\\xb7\\xea*!\\xdf\\xec\\x94\\x1d\\xd6\\xea\\xc1t\\x15\\x88U\\xd8\\xd0e\\xc0\\xdd&\\xebN\\xee'\\xe0\\x83zA\\x17'\\xacTNa\\xb1\\x85\\x1e\\x18\\x07\\t\\x80\\xfdh\\x8a\\xc8$\\x12\\x03K4\\xf3\\xc2\\xf2\\x02\\xaa\\xe4\\xf1z\\xcc\\x0e~#\\x9a\\xdb\\xec\\xaf)\\x03\\xcev\\xe91\\xfdg\\x00\\x80\"\n",
      "0x515151515100054d8116a104de3b269ac9cd8533db8aad2dd011d32552370eaefaa03f208ad3b5b26ea87525a29b994ee4ecf3ff55390afa8cc10bd9b7ea2a21dfec941dd6eac174158855d8d065c0dd26eb4eee27e0837a411727ac544e61b1851e18070980fd688ac82412034b34f3c2f202aae4f17acc0e7e239adbecaf2903ce76e931fd670080\n"
     ]
    }
   ],
   "source": [
    "name = b\"QQQQQ\"\n",
    "rmess=packmess(name)+packmess(mykey)\n",
    "print(rmess)\n",
    "gmess=int.from_bytes(rmess,'big')\n",
    "print(hex(gmess))"
   ]
  },
  {
   "cell_type": "markdown",
   "id": "452a9bca",
   "metadata": {},
   "source": [
    "### want: x*y mod N == 0x416c6963650005 _ key _ len(key)"
   ]
  },
  {
   "cell_type": "code",
   "execution_count": 37,
   "id": "0c9ad15c",
   "metadata": {},
   "outputs": [
    {
     "name": "stdout",
     "output_type": "stream",
     "text": [
      "0x3722c1fa39416c696365 34466 6870723\n"
     ]
    }
   ],
   "source": [
    "for x in range(0x10000):\n",
    "    y = 0x695d65 - x\n",
    "    z = ( (x*y)<<40 ) + ( (2*y+3*x)<<24 ) + 0x696365\n",
    "    #print(hex(z&0xffffffffff))\n",
    "    if (z&0xffffffffff) == 0x416c696365:\n",
    "        print(hex(z),x,y)\n",
    "        break"
   ]
  },
  {
   "cell_type": "code",
   "execution_count": 38,
   "id": "2708c1a7",
   "metadata": {},
   "outputs": [
    {
     "name": "stdout",
     "output_type": "stream",
     "text": [
      "0x86a2 0x68d6c3\n"
     ]
    }
   ],
   "source": [
    "print(hex(34466), hex(6870723))"
   ]
  },
  {
   "cell_type": "code",
   "execution_count": 39,
   "id": "abec7af7",
   "metadata": {},
   "outputs": [],
   "source": [
    "N = 18181599473037095164451763070694196592153017761053442394519787000061860614819915891651974448771378361703604886225083210666604000604218546073122844321899676246883023430577444705097631204284011810065783647691303862759597477488850942218806618583633416252519261173850834254607001113645143444933407232527385714586558110950276206175181564621172658570480902809465176738393513239940223176118332672407912628042547366870404355490825957811629450972493203350653291299000658961079132509815383847632976674580005363453377915869336973041554311339473363612296223895969335634589800444057394181709838908671953561456126417227685088146887"
   ]
  },
  {
   "cell_type": "code",
   "execution_count": 40,
   "id": "6b7cd4d8",
   "metadata": {},
   "outputs": [],
   "source": [
    "xx = 5151634373583824348718817200864781004167061202586465696101388139932911164135633640396158424586424676618980509642344200300121286715300355516888982659252269872957743559576470636653159718942573476525765800768867835161755875045010655060739882418829254114006361548688178274259378355031981898186705560415826962152467454631747649382528454669501172144589437828523977948871315549218209962756783332323471605084452643585168554577241522773521877335851812071983080905631613128945860272344686913241505813196294670156886833855530853293461553259465450718060646662700054172226679284988005656664676354090645241552861985439473434658549 * 4089728530269177187213232546179207516039016865601078943237341397543111045774995024422677917231388654717921671031328868762761181928143918505188864227544624188311400500301586746378218165032450417832897930450108524114903727764110749424410396870089008756948141720722053896956620440742551018820308574935845867779043383238307105889374978506904484365598023114005522240232302424069589814960547923835153727915438327052011978722759970753250814566410905324496333350502771961118578066884977614873202197245021481200048663365464076295101107275513811892676014264350678594252169859321462975699135156563204966285493916960853433017643"
   ]
  },
  {
   "cell_type": "code",
   "execution_count": 41,
   "id": "06c2a064",
   "metadata": {},
   "outputs": [
    {
     "data": {
      "text/plain": [
       "11558310590939480878359033537539962306461148005566913346738006345273273751996398590375926482725020100881590349107585619501644788371008383499653900239946307105481601401150531433790087462442411590592786469616131284523697383304671937483015154094585270670700873259941272794153236457619160936433809673296919659729557529878772204776031405877543981497629342336548668985245230599574621968751191168036773839215774296586705205499576568101846064240897349681340967400040382738235629266811373673682369480507301370794139634500210960421265880868984147273380798916849077731052371493228919065491534860122301960701662145556427974903941"
      ]
     },
     "execution_count": 41,
     "metadata": {},
     "output_type": "execute_result"
    }
   ],
   "source": [
    "xx % N"
   ]
  }
 ],
 "metadata": {
  "kernelspec": {
   "display_name": "Python 3",
   "language": "python",
   "name": "python3"
  },
  "language_info": {
   "codemirror_mode": {
    "name": "ipython",
    "version": 3
   },
   "file_extension": ".py",
   "mimetype": "text/x-python",
   "name": "python",
   "nbconvert_exporter": "python",
   "pygments_lexer": "ipython3",
   "version": "3.6.13"
  }
 },
 "nbformat": 4,
 "nbformat_minor": 5
}
