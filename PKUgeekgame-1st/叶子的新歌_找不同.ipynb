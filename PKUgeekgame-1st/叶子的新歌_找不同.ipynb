{
 "cells": [
  {
   "cell_type": "code",
   "execution_count": 2,
   "id": "f0fe5fba",
   "metadata": {},
   "outputs": [
    {
     "data": {
      "text/plain": [
       "(512146, 512468)"
      ]
     },
     "execution_count": 2,
     "metadata": {},
     "output_type": "execute_result"
    }
   ],
   "source": [
    "f1 = open(\"left.bin\", 'rb')\n",
    "a = f1.read()\n",
    "f1.close()\n",
    "f2 = open(\"right.bin\", 'rb')\n",
    "b = f2.read()\n",
    "f2.close()\n",
    "\n",
    "len(a),len(b)"
   ]
  },
  {
   "cell_type": "code",
   "execution_count": 6,
   "id": "dff0b567",
   "metadata": {},
   "outputs": [],
   "source": [
    "x,y = 0,0\n",
    "all_insert = []\n",
    "x_insert = []\n",
    "y_insert = []\n",
    "tr = []\n",
    "while x < len(a) and y < len(b):\n",
    "    if a[x] == b[y]:\n",
    "        tr.append(a[x])\n",
    "        x += 1\n",
    "        y += 1\n",
    "    else:\n",
    "        if a[x+1:x+3] == b[y:y+2]:\n",
    "            x_insert.append(a[x])\n",
    "            all_insert.append(a[x])\n",
    "            x += 1\n",
    "        elif a[x:x+2] == b[y+1:y+3]:\n",
    "            y_insert.append(b[y])\n",
    "            all_insert.append(b[y])\n",
    "            y += 1\n",
    "        else:\n",
    "            print(x,y)\n",
    "            print(a[x-3:x+5],b[y-3:y+5])\n",
    "            print(a[x:x+10],b[y:y+10])\n",
    "            break\n",
    "            \n",
    "while x < len(a):\n",
    "    x_insert.append(a[x])\n",
    "    all_insert.append(a[x])\n",
    "    x += 1\n",
    "while y < len(b):\n",
    "    y_insert.append(b[y])\n",
    "    all_insert.append(b[y])\n",
    "    y += 1"
   ]
  },
  {
   "cell_type": "code",
   "execution_count": 7,
   "id": "eed6a33a",
   "metadata": {},
   "outputs": [
    {
     "data": {
      "text/plain": [
       "(20327, 20649, 491819, 40976)"
      ]
     },
     "execution_count": 7,
     "metadata": {},
     "output_type": "execute_result"
    }
   ],
   "source": [
    "len(x_insert), len(y_insert), len(tr), len(all_insert)"
   ]
  },
  {
   "cell_type": "code",
   "execution_count": 8,
   "id": "55fa9cb3",
   "metadata": {},
   "outputs": [],
   "source": [
    "import struct\n",
    "fout = open(\"res.nes\", 'wb')\n",
    "for i in all_insert:\n",
    "    try:\n",
    "        fout.write(struct.pack('B',i))\n",
    "    except:\n",
    "        print(i)\n",
    "fout.close()"
   ]
  },
  {
   "cell_type": "code",
   "execution_count": 9,
   "id": "f72934ad",
   "metadata": {},
   "outputs": [
    {
     "name": "stdout",
     "output_type": "stream",
     "text": [
      "0x56 0xd8 0x6e 0x9c 0xaa 0x25 0xf7 0xff 0xe5 0xbc 0xb5 0x78 0xb7 0x70 0x4f 0x2f 0xfe 0xba 0xe1 0x66 \n",
      "0x4e 0x45 0x53 0x1a 0x2 0x1 0x1 0x0 0x0 0x0 0x0 0x0 0x0 0x0 0x0 0x0 0x78 0xd8 0xa9 0x10 \n"
     ]
    }
   ],
   "source": [
    "for i in range(20):\n",
    "    print(hex(tr[i]),end=\" \")\n",
    "print()\n",
    "\n",
    "for i in range(20):\n",
    "    print(hex(all_insert[i]),end=\" \")   \n",
    "print()\n"
   ]
  },
  {
   "cell_type": "code",
   "execution_count": 10,
   "id": "64ff72d5",
   "metadata": {},
   "outputs": [],
   "source": [
    "import struct\n",
    "fout = open(\"com.bin\", 'wb')\n",
    "for i in tr:\n",
    "    try:\n",
    "        fout.write(struct.pack('B',i))\n",
    "    except:\n",
    "        print(i)\n",
    "fout.close()"
   ]
  }
 ],
 "metadata": {
  "kernelspec": {
   "display_name": "Python 3",
   "language": "python",
   "name": "python3"
  },
  "language_info": {
   "codemirror_mode": {
    "name": "ipython",
    "version": 3
   },
   "file_extension": ".py",
   "mimetype": "text/x-python",
   "name": "python",
   "nbconvert_exporter": "python",
   "pygments_lexer": "ipython3",
   "version": "3.6.13"
  }
 },
 "nbformat": 4,
 "nbformat_minor": 5
}
