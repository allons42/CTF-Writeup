{
 "cells": [
  {
   "cell_type": "code",
   "execution_count": 62,
   "id": "78ffcd67",
   "metadata": {},
   "outputs": [
    {
     "name": "stdout",
     "output_type": "stream",
     "text": [
      "[x] Opening connection to prob16.geekgame.pku.edu.cn on port 10016\n",
      "[x] Opening connection to prob16.geekgame.pku.edu.cn on port 10016: Trying 115.27.246.20\n",
      "[+] Opening connection to prob16.geekgame.pku.edu.cn on port 10016: Done\n"
     ]
    },
    {
     "name": "stderr",
     "output_type": "stream",
     "text": [
      "100%|██████████| 3000/3000 [00:01<00:00, 1706.77it/s]\n"
     ]
    }
   ],
   "source": [
    "from pwn import *\n",
    "from tqdm import tqdm\n",
    "\n",
    "r = remote('prob16.geekgame.pku.edu.cn', 10016)\n",
    "token = b'xxx'\n",
    "r.sendline(token)\n",
    "\n",
    "nums = []\n",
    "\n",
    "l = r.recvline()\n",
    "l = l.split(b\" \")[-1]\n",
    "nums.append(int(l[:-1]))\n",
    "\n",
    "\n",
    "for _ in tqdm(range(3000)):\n",
    "    r.sendline(b'')\n",
    "    l = r.recvline()\n",
    "    nums.append(int(l[:-1]))\n"
   ]
  },
  {
   "cell_type": "code",
   "execution_count": 89,
   "id": "65bbce55",
   "metadata": {},
   "outputs": [
    {
     "data": {
      "text/plain": [
       "(173459, 4289372821)"
      ]
     },
     "execution_count": 89,
     "metadata": {},
     "output_type": "execute_result"
    }
   ],
   "source": [
    "min(nums), max(nums)"
   ]
  },
  {
   "cell_type": "code",
   "execution_count": 63,
   "id": "24631a78",
   "metadata": {},
   "outputs": [],
   "source": [
    "def temper(tmp):\n",
    "    tmp ^= (tmp >> 11)\n",
    "    tmp ^= (tmp << 7) & 0x9d2c5680\n",
    "    tmp ^= (tmp << 15) & 0xefc60000\n",
    "    tmp ^= (tmp >> 18)\n",
    "    return tmp"
   ]
  },
  {
   "cell_type": "code",
   "execution_count": 90,
   "id": "fddf10ff",
   "metadata": {},
   "outputs": [],
   "source": [
    "def twister(n0, n1, n397):\n",
    "    y = (n0 & 0x80000000) + (n1 & 0x7fffffff)\n",
    "    ns = n397 ^ (y >> 1)\n",
    "    if y % 2:\n",
    "        ns ^= 0x9908b0df\n",
    "    return ns"
   ]
  },
  {
   "cell_type": "code",
   "execution_count": 66,
   "id": "088f026c",
   "metadata": {},
   "outputs": [],
   "source": [
    "class TemperInverser:\n",
    "    __b = 0x9d2c5680\n",
    "    __c = 0xefc60000\n",
    "    __kMaxBits = 0xffffffff\n",
    "\n",
    "    def __inverse_right_shift_xor(self, value, shift):\n",
    "        i, result = 0, 0\n",
    "        while i * shift < 32:\n",
    "            part_mask = ((self.__kMaxBits << (32 - shift)) & self.__kMaxBits) >> (i * shift)\n",
    "            part = value & part_mask\n",
    "            value ^= part >> shift\n",
    "            result |= part\n",
    "            i += 1\n",
    "        return result\n",
    "\n",
    "    def __inverse_left_shift_xor(self, value, shift, mask):\n",
    "        i, result = 0, 0\n",
    "        while i * shift < 32:\n",
    "            part_mask = (self.__kMaxBits >> (32 - shift)) << (i * shift)\n",
    "            part = value & part_mask\n",
    "            value ^= (part << shift) & mask\n",
    "            result |= part\n",
    "            i += 1\n",
    "        return result\n",
    "\n",
    "    def __inverse_temper(self, tempered):\n",
    "        value = tempered\n",
    "        value = self.__inverse_right_shift_xor(value, 18)\n",
    "        value = self.__inverse_left_shift_xor(value, 15, self.__c)\n",
    "        value = self.__inverse_left_shift_xor(value, 7, self.__b)\n",
    "        value = self.__inverse_right_shift_xor(value, 11)\n",
    "        return value\n",
    "\n",
    "    def __call__(self, tempered):\n",
    "        return self.__inverse_temper(tempered)\n",
    "\n",
    "inverser = TemperInverser()"
   ]
  },
  {
   "cell_type": "code",
   "execution_count": 121,
   "id": "3bae0918",
   "metadata": {},
   "outputs": [
    {
     "name": "stdout",
     "output_type": "stream",
     "text": [
      "abcdefghijklmnopqrstuvwxyzABCDEFGHIJKLMNOPQRSTUVWXYZ0123456789 _{} 66\n"
     ]
    }
   ],
   "source": [
    "# 生成包含大小写字母和数字的集合\n",
    "char_set = string.ascii_letters + string.digits\n",
    "char_set += \" _{}\"\n",
    "char_num = [ord(x) for x in char_set]\n",
    "print(char_set, len(char_set))"
   ]
  },
  {
   "cell_type": "code",
   "execution_count": 141,
   "id": "be395a24",
   "metadata": {},
   "outputs": [
    {
     "name": "stdout",
     "output_type": "stream",
     "text": [
      "22 a\n",
      "23 C\n",
      "24 K\n",
      "25 E\n",
      "26 D\n",
      "27 }\n"
     ]
    },
    {
     "ename": "IndexError",
     "evalue": "string index out of range",
     "output_type": "error",
     "traceback": [
      "\u001b[0;31m---------------------------------------------------------------------------\u001b[0m",
      "\u001b[0;31mIndexError\u001b[0m                                Traceback (most recent call last)",
      "Cell \u001b[0;32mIn[141], line 9\u001b[0m\n\u001b[1;32m      5\u001b[0m     state[i] \u001b[38;5;241m=\u001b[39m inverser(nums[i] \u001b[38;5;241m-\u001b[39m \u001b[38;5;28mord\u001b[39m(s[i]))\n\u001b[1;32m      8\u001b[0m \u001b[38;5;28;01mfor\u001b[39;00m i \u001b[38;5;129;01min\u001b[39;00m \u001b[38;5;28mrange\u001b[39m(\u001b[38;5;28mlen\u001b[39m(s)\u001b[38;5;241m-\u001b[39m\u001b[38;5;241m1\u001b[39m, \u001b[38;5;241m100\u001b[39m):\n\u001b[0;32m----> 9\u001b[0m     state[i] \u001b[38;5;241m=\u001b[39m inverser(nums[i] \u001b[38;5;241m-\u001b[39m \u001b[38;5;28mord\u001b[39m(s[i]))\n\u001b[1;32m     10\u001b[0m     \u001b[38;5;28;01mfor\u001b[39;00m z \u001b[38;5;129;01min\u001b[39;00m char_num:\n\u001b[1;32m     11\u001b[0m         s5 \u001b[38;5;241m=\u001b[39m inverser(nums[i\u001b[38;5;241m+\u001b[39m\u001b[38;5;241m1\u001b[39m] \u001b[38;5;241m-\u001b[39m z)\n",
      "\u001b[0;31mIndexError\u001b[0m: string index out of range"
     ]
    }
   ],
   "source": [
    "state = [0] * 624\n",
    "s = \"flag{MT19937_cAN_BE_ATTaCKED}\"\n",
    "for i in range(len(s)):\n",
    "    state[i] = inverser(nums[i] - ord(s[i]))\n",
    "    \n",
    "for i in range(len(s)-1, 100):\n",
    "    state[i] = inverser(nums[i] - ord(s[i]))\n",
    "    for z in char_num:\n",
    "        s5 = inverser(nums[i+1] - z)\n",
    "        able = False\n",
    "        for x in char_num:\n",
    "            for y in char_num:\n",
    "                nsi = inverser(nums[i+624] - x)\n",
    "                s397 = inverser(nums[i+397] - y)\n",
    "                if twister(state[i], s5, s397) == nsi:\n",
    "                    able = True\n",
    "                    #print(chr(x), chr(y))\n",
    "                    break\n",
    "        if able:\n",
    "            s += chr(z)\n",
    "            print(i, chr(z))\n",
    "            break"
   ]
  },
  {
   "cell_type": "code",
   "execution_count": null,
   "id": "e7516af8",
   "metadata": {},
   "outputs": [],
   "source": []
  }
 ],
 "metadata": {
  "kernelspec": {
   "display_name": "Python [conda env:.conda-geek] *",
   "language": "python",
   "name": "conda-env-.conda-geek-py"
  },
  "language_info": {
   "codemirror_mode": {
    "name": "ipython",
    "version": 3
   },
   "file_extension": ".py",
   "mimetype": "text/x-python",
   "name": "python",
   "nbconvert_exporter": "python",
   "pygments_lexer": "ipython3",
   "version": "3.11.10"
  }
 },
 "nbformat": 4,
 "nbformat_minor": 5
}
