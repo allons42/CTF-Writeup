{
 "cells": [
  {
   "cell_type": "code",
   "execution_count": 373,
   "metadata": {},
   "outputs": [],
   "source": [
    "import random\n",
    "import gzip\n",
    "from pathlib import Path\n",
    "import numpy as np"
   ]
  },
  {
   "cell_type": "code",
   "execution_count": 54,
   "metadata": {},
   "outputs": [],
   "source": [
    "def antiob(text):\n",
    "    n = len(text)\n",
    "    order = [i for i in range(n)]\n",
    "    random.seed('12345678')\n",
    "    random.shuffle(order)\n",
    "    \n",
    "    new_text = []\n",
    "    for i in range(n):\n",
    "        for j in range(n):\n",
    "            if order[j] == i:\n",
    "                #new_text.append(text[j])\n",
    "                new_text.append(chr(ord(text[j]) ^ 12))\n",
    "    return new_text\n",
    "\n",
    "def ob(text):\n",
    "    text = [ord(c) ^ 12 for c in text]\n",
    "    random.seed('12345678')\n",
    "    random.shuffle(text)\n",
    "    text = [chr(x) for x in text]\n",
    "    return text"
   ]
  },
  {
   "cell_type": "code",
   "execution_count": 311,
   "metadata": {},
   "outputs": [],
   "source": [
    "try:\n",
    "    FLAG1 = Path('/flag1').read_text().strip()\n",
    "    FLAG2 = Path('/flag2').read_text().strip()\n",
    "except Exception:\n",
    "    FLAG1 = 'fake{get flag1 on the real server}'\n",
    "    FLAG2 = 'fake{get flag2 on the real server}'\n",
    "\n",
    "def average_bit_count(s):\n",
    "    return sum(c.bit_count() for c in s) / len(s)\n",
    "\n",
    "def process(text, quiet=False):\n",
    "    assert len(text)<=1000\n",
    "    assert all(0x20<=ord(c)<=0x7e for c in text)\n",
    "        \n",
    "    \n",
    "    text = [ord(c) ^ 12 for c in text]\n",
    "    random.seed('12345678')\n",
    "    random.shuffle(text)\n",
    "    \n",
    "    text = gzip.compress(bytes(text))\n",
    "    if not quiet:\n",
    "        print(len(text), text)\n",
    "        print(average_bit_count(text))\n",
    "        print('\\nAfter processing:\\n')\n",
    "    \n",
    "    prefix = (text + b'\\xFF'*256)[:256]\n",
    "    print(len(text), average_bit_count(text), average_bit_count(prefix))\n",
    "    if average_bit_count(prefix) < 2.5:\n",
    "        print('\\nGood! Flag 1: ', FLAG1)\n",
    "        return True\n",
    "    \n",
    "    if b'[What can I say? Mamba out! --KobeBryant]' in text:\n",
    "        print('\\nGood! Flag 2: ', FLAG2)\n",
    "    "
   ]
  },
  {
   "cell_type": "markdown",
   "metadata": {},
   "source": [
    "## flag 2"
   ]
  },
  {
   "cell_type": "code",
   "execution_count": 69,
   "metadata": {},
   "outputs": [],
   "source": [
    "def findit():\n",
    "    for padding in range(8):\n",
    "        for _ in range(1000):\n",
    "            tar = b'ex[What can I say? Mamba out! --KobeBryant]xs'\n",
    "            bi = \"0\" * padding\n",
    "            for x in tar:\n",
    "                tmp = bin(x)[2:]\n",
    "                tmp = \"0\" * (8 - len(tmp)) + tmp\n",
    "                tmp = tmp[::-1]\n",
    "                bi += tmp\n",
    "\n",
    "            seq = \"\"\n",
    "            for i in range(360 // 6):\n",
    "                code = bi[i * 6: i * 6 + 6]\n",
    "                code = code\n",
    "                char = chr(eval(\"0b\" + code) + 0x20)\n",
    "                seq += char\n",
    "\n",
    "            had = Counter([ord(i) for i in seq])\n",
    "            d = {i:6 for i in range(0x20, 0x5f)} # only 63 char!!!\n",
    "            left = {i:d[i] - had[i] for i in d}\n",
    "            left_str = []\n",
    "            for i in left:\n",
    "                left_str += [chr(i)] * left[i]\n",
    "\n",
    "            random.shuffle(left_str)\n",
    "            res = seq + \"\".join(left_str)\n",
    "\n",
    "            assert len(res)<=1000\n",
    "            assert all(0x20<=ord(c)<=0x7e for c in res)\n",
    "\n",
    "            text = [ord(c) for c in res]\n",
    "\n",
    "            gz = gzip.compress(bytes(text))\n",
    "            if b'[What can I say? Mamba out! --KobeBryant]' in gz:\n",
    "                print(len(gz), gz)\n",
    "                print(\"Got!\")\n",
    "                return res\n"
   ]
  },
  {
   "cell_type": "code",
   "execution_count": 70,
   "metadata": {},
   "outputs": [
    {
     "name": "stdout",
     "output_type": "stream",
     "text": [
      "323 b'\\x1f\\x8b\\x08\\x00z\\x16\\x0fg\\x02\\xff\\r\\xcf\\x83\\x11\\xc3\\x00\\x00\\x00\\xc0Ub\\xdb\\xb6m\\'\\xfb\\x8f\\xd1.\\xf0w\\x0fex[What can I say? Mamba out! --KobeBryant]x\\x93\\x0c\\xe0\\x17\\xf4\\xa9\\x93$\\rF<\\x0f\\x01\\xd9\\xc7\\xae\\xeeQ94z\\xdbM\\x13\\xfbe0g\\xc3\\xc0\\xc0\\xbfc\\xbb\\x8aO\\xaf^9J\\x91~L\\xfa\\xac\\xd6_\\x88\\x03\\xec\\x82L{\\x9e\\xc0\\xb1\\x89\\x93\\x03F:-5kG\\xfcZ\\xd7\\xdf\\xf0\\xd7I\\xab\\xd5]l\\xc5\\x85\\x10ROK\\xb9;\\xe5\\xbd?x\\x93(.\\x1aK\\x929h\\xdd\\xf3\\xedU\\x98\"\\xc3\\x82\\xb5\\x94 T)\\xc4*\\x9d4\\xcfL\\x0b\\xe4$\\xe6\\x0f\\xb5\\x07M\\xe5)8\\x1ea\\xb9\\xc9$\\x17\\xbf0\\xc3\\x17\\xd1\\x14:\\x15\\x81\\x0c\\x8e\\xe3o\\x0c\\x0f>`n\\x9a\\xa0f\\x14\\x817\\x1e\\x14\\x89u\\xb8E?\\xc6S\\xef\\xe9\\xecrG\\x17\\xe1\\xd1\\xa0:Z\\xb2[\\x9b\\xf7\\x92\\x9bO\\x7f;oy\\xd3\\xa9Y\\xb5\\xe4\\x19E\\x03\\x05tG\\xca\\xcd\\xdf\\xfdx%c\\xf1\\xf2\\x7f\\xc4\\x9e\\xa8\\xb5\\xd7\\xd3x\\xac!\\xdc\\x14\\x98\\xc6\\x9bC\\xa6=\\x95\\xaat\\n\\'s\\x83j<;\\xda\\xf8\\xe4\\x1f \\xd5\\xcf\\xf2z\\x01\\x00\\x00'\n",
      "Got!\n"
     ]
    },
    {
     "data": {
      "text/plain": [
       "'\"F\\'MKJ%H8N!,:&=@22!,Z&GOP$LH:V1H8$]JXNA 2TM-+V1J9\"3IZ&=BZZ\\'LDP!^@OE<DDL&(\\\\\\\\(\";XW5WBIPL7MNRR-^F#.;# P/]QMU1\\\\O5ZG%*)?C)?-6OZ$< W03+>>0.-D<G 8ERTK-;B/UKK^P\\'LD):M7=&U\\'0A\"5Y:4[N4][^#V2*.BQI),X+7>?;U0RB8:#6E((52A&J7)9YF6@3DC/X5O!94\\\\H./$-.R9)T?H9A]$64+E1 F#CC^QAX/@,[+(*S%$#V/!1(UP[1?C\\'E>\\\\N;IW%T0\\\\6\"KBTF[6SWI.SY?VY[3V7*S5:3S%%@4!=Q*=G]WX]28T>G<G ;R*UO7ECQK\"\\'90,L>SA,MY4JI<H<F=@JQYN+8^3'"
      ]
     },
     "execution_count": 70,
     "metadata": {},
     "output_type": "execute_result"
    }
   ],
   "source": [
    "res = findit()\n",
    "res"
   ]
  },
  {
   "cell_type": "code",
   "execution_count": 83,
   "metadata": {},
   "outputs": [
    {
     "name": "stdout",
     "output_type": "stream",
     "text": [
      "323 b'\\x1f\\x8b\\x08\\x00)\\x18\\x0fg\\x02\\xff\\r\\xcf\\x83\\x11\\xc3\\x00\\x00\\x00\\xc0Ub\\xdb\\xb6m\\'\\xfb\\x8f\\xd1.\\xf0w\\x0fex[What can I say? Mamba out! --KobeBryant]x\\x93\\x0c\\xe0\\x17\\xf4\\xa9\\x93$\\rF<\\x0f\\x01\\xd9\\xc7\\xae\\xeeQ94z\\xdbM\\x13\\xfbe0g\\xc3\\xc0\\xc0\\xbfc\\xbb\\x8aO\\xaf^9J\\x91~L\\xfa\\xac\\xd6_\\x88\\x03\\xec\\x82L{\\x9e\\xc0\\xb1\\x89\\x93\\x03F:-5kG\\xfcZ\\xd7\\xdf\\xf0\\xd7I\\xab\\xd5]l\\xc5\\x85\\x10ROK\\xb9;\\xe5\\xbd?x\\x93(.\\x1aK\\x929h\\xdd\\xf3\\xedU\\x98\"\\xc3\\x82\\xb5\\x94 T)\\xc4*\\x9d4\\xcfL\\x0b\\xe4$\\xe6\\x0f\\xb5\\x07M\\xe5)8\\x1ea\\xb9\\xc9$\\x17\\xbf0\\xc3\\x17\\xd1\\x14:\\x15\\x81\\x0c\\x8e\\xe3o\\x0c\\x0f>`n\\x9a\\xa0f\\x14\\x817\\x1e\\x14\\x89u\\xb8E?\\xc6S\\xef\\xe9\\xecrG\\x17\\xe1\\xd1\\xa0:Z\\xb2[\\x9b\\xf7\\x92\\x9bO\\x7f;oy\\xd3\\xa9Y\\xb5\\xe4\\x19E\\x03\\x05tG\\xca\\xcd\\xdf\\xfdx%c\\xf1\\xf2\\x7f\\xc4\\x9e\\xa8\\xb5\\xd7\\xd3x\\xac!\\xdc\\x14\\x98\\xc6\\x9bC\\xa6=\\x95\\xaat\\n\\'s\\x83j<;\\xda\\xf8\\xe4\\x1f \\xd5\\xcf\\xf2z\\x01\\x00\\x00'\n",
      "3.913312693498452\n",
      "\n",
      "After processing:\n",
      "\n",
      "\n",
      "Good! Flag 2:  fake{get flag2 on the real server}\n",
      "P\"LF!\"K+*:T0 EYQ#U&DI%(<1,PA;</7C1Z%1)_C)K!)!3-^7@% \"NILH\"G9L:E,\\*N9UT+Y]DAAP*Z;#3W$4BT4L-5X=05[?G9T78;-CT]\\\\Q$?@['*BX$QNFH'/2.]I(O>-.LJ:>2>)KZ^2K$%ZJG.'=@-FJ]__;<B+!A5)#M\\6/8'_IPPO@OGJD0&, FB?C<W[V=N[O(H53=!,^!VV1;:]NHK+R$4]XEY8C8Q.&VM&W>^1G'\"93X;6U:,4_6M 17 0)#.WC95JDF+[#K6^Y=EBXE28>AIB/\\-0<O2^7$#3FRR\"8M9TRWQP\\(Y%Y3RH?6?D2=U*>[*:?@M U&QDH'IMW_OZ+VR0(5NZ.VU4L7AG<@J6/X(/,&4%E\n"
     ]
    }
   ],
   "source": [
    "text = [ord(c) for c in res]\n",
    "seq = \"\".join(antiob(res))\n",
    "process(seq)\n",
    "print(seq)"
   ]
  },
  {
   "cell_type": "markdown",
   "metadata": {},
   "source": [
    "## flag 1 直接处理code"
   ]
  },
  {
   "cell_type": "code",
   "execution_count": 409,
   "metadata": {},
   "outputs": [
    {
     "name": "stdout",
     "output_type": "stream",
     "text": [
      "22 41\n"
     ]
    }
   ],
   "source": [
    "code_length = 6\n",
    "ban_num = 1\n",
    "\n",
    "good_codes = set()\n",
    "bad_codes = set()\n",
    "\n",
    "for i in range(2**code_length - ban_num):\n",
    "    tmp = bin(i)[2:]\n",
    "    tmp = \"0\" * (code_length - len(tmp)) + tmp\n",
    "    if i.bit_count() <= 2:\n",
    "        good_codes.add(tmp)\n",
    "    else:\n",
    "        bad_codes.add(tmp)\n",
    "        \n",
    "print(len(good_codes), len(bad_codes))"
   ]
  },
  {
   "cell_type": "code",
   "execution_count": 413,
   "metadata": {},
   "outputs": [],
   "source": [
    "former = list(good_codes) * 15\n",
    "latter = list(bad_codes) * 15\n",
    "random.shuffle(former)\n",
    "random.shuffle(latter)"
   ]
  },
  {
   "cell_type": "code",
   "execution_count": 414,
   "metadata": {},
   "outputs": [],
   "source": [
    "res = \"\"\n",
    "for code in former:\n",
    "    char = chr(eval(\"0b\" + code) + 0x20)\n",
    "    res += char\n",
    "\n",
    "for code in latter:\n",
    "    char = chr(eval(\"0b\" + code) + 0x20)\n",
    "    res += char"
   ]
  },
  {
   "cell_type": "code",
   "execution_count": 418,
   "metadata": {},
   "outputs": [
    {
     "name": "stdout",
     "output_type": "stream",
     "text": [
      "748 b'\\x1f\\x8b\\x08\\x00\\xf1-\\x0fg\\x02\\xff\\r\\xce\\xb3\\x01\\xc4\\x00\\x00\\x00\\xc0Ub\\xdb\\xb6m\\'\\xfb\\x8f\\xf1_^w$\\x84\\x85\\x92X(\\n3(T\\xc1\\x90`\\xf2G\\x08\\x04\\x14\\x19\\x16!\\x02KX\\x81$\\x91\\x11 F\\x083\\xa4\"\\x18\\xb0\\x01F`\\xa4\\x00\\xa0\\xc0@E\\x11\\x06\\x86!\\x02\\x80@\\x80A\\x01\\x93I\\x04\\x93\\x06\\x02\\x84I\\x08A\\x00B\\x0c0\\x85\\x05\\xc60@\"A0\\x94\\x82\\x89\\x10\\x8c2R\\x10\\x92\\x92\\x94 \\x08QDa\\x10a\\x80\\x04\\x0b\\x18\\xc3\\xc0LD\\x10\\xa2@\\x88\\x90@*L\\x01)h$\\x10B@\\r \\x182I\\x80 \\t,\\xa1\\x90\\x02I\\x8aP\\x88d$\\x02A\\x80R\\x05)\\x82\\x04F\\x11\\tE\\xa1\\x03\\x04\\xa0\\x89a\\x10\\x08i\\x180 ad\\xa0(\\xe8\\x00c`\\x12)\"\\x15\\xa0I\\x80\\xc2\\x05\\x95P\\x06\\x88\\x8a(8(\\x12$H\\x0c\\x02b\\x0c&\\x85!\\t\\x10\\x08\\x050\\xcc\\x10\\xa1I4\\x0c\\x980`$\\x00\\x84\\xc6PHQ\\x82\\x10 \\t\\x89\\x89\\x00\\tD\\x84\\xa2\\x90\\x14\\xa0\\xc6\\x80\\x00\\x03\\x08c\\x82H\\xc1\\x08%\\x88!(\\x15\\x11\\xd6\\xe6\\x87YO\\xec\\x83[\\xfa\\xbcy\\xf9\\xdeu\\\\\\xcbYf.\\xe7K\\xb9\\xf7\\xfc]\\xf2\\xee\\xc8\\x8f\\x87\\xda\\x97\\xeb\\xb9:s|\\xed\\xeb\\xe1nz\\xd3\\xb5Y\\xb9}\\x9cf\\xb2cK\\xfb\\xd9u\\xa4\\xec\\x8d\\xc7\\xcem{\\x99\\xa9?\\x9f\\xab\\xd1\\xb5lY\\xdc\\xbb|n=r\\xfd\\xd7^\\x1c7\\xb9\\x17\\xff\\x98\\xbd\\xaf[\\x8e\\xec<;\\xf7p\\xb7f\\xda\\x17o\\xeb\\xe5n\\xab\\x99W-\\xb2\\xdc\\xa5v\\x95u\\x16>\\xaf\\xee,\\xcb\\xb3\\xb9\\x8e\\xf3\\xd3\\x95\\xae3\\xa6\\xfb\\xe6M\\x97\\xd7\\x1c>\\xcd\\xdb\\xd5\\xc8~\\xf9i\\x1fU\\xea/~\\xe6\\xe0\\xe7\\xcc\\xee\\xda\\xdd|\\xf7\\xa3u\\xe5\\xe1\\xf9\\xee\\xcc\\x7f#[\\xf1tk\\x9du\\xae\\x1fz=7q}\\x9f\\xde\\xe5\\x9c\\x95\\x15\\xd3,}N#\\xbdV\\xf4\\xfa=K}U\\xbd|\\xd7]\\xf6r\\xfe\\xc6\\xb7\\xb5\\x1a7\\x19{y\\x9b\\xbd\\x1c\\xefdV\\xe7Z\\x1fN\\xde\\xc54\\xaf=G6\\x7f\\xb5\\xd3\\xddz\\xdc\\xb1\\xffn?\\xd2\\xef\\xa5\\xcd\\xdf\\xad-\\xba\\xebL\\xac\\xb3]\\xdb\\xb4\\xc7\\xac\\xa3\\xa5\\xf9\\xb7\\xd8m\\xee|\\x9e\\xfa\\xd0\\x9e\\xd5s\\xec\\x13\\xfb\\xce\\xde\\xcf\\xad\\xb95j\\xd3/\\x8b:\\xd6[\\xfcL\\xed\\xc4\\xdfx\\xdejr|\\x9bYe~\\xe5\\x9b\\xdaS\\xb6\\xac\\xaa\\x8a\\xbf6\\xbed\\xef\\xdd\\xe3\\xfa3\\xdfo\\xb3o~\\xee\\x8dlY5\\xcd\\xb6z\\xf1U\\x8fg\\xe9\\xf3\\xf2YO\\x96\\xf5\\xaa\\xc7I\\x97[\\xd3\\xab\\xb6Zz\\xb4\\xb6\\x94i\\xa6\\xc9\\xf8=\\xa7\\xb1\\xeeU\\xfa\\x9em\\xafz\\x9a\\xe9\\xdb\\x1c\\x13\\xc7\\xba\\xd9\\xe9\\x8e\\xcd\\x94\\xf3\\xbeV\\xb6U\\xda\\xe7\\xd3\\xe4Zx9r\\xd7\\xb5\\xf2\\x96\\xa6=zl\\xae\\xbb\\xedt\\xfd\\x8e\\xa7\\xb8\\xab~\\xfe{\\x9a\\xaa\\xdd\\xcd\\xb8\\xfcZ\\xd7y\\xe8\\xf4jwn\\xca\\xcb>\\xb7\\xe3\\xeb\\xfb\\xa6~\\x83\\x7f\\xcd\\xd2wq\\x9fr\\xeac\\xe6\\x9b\\x9c\\xa7~\\xbb\\xd2m\\xcd\\xca\\xbb\\xe5\\xb6zu\\xfc\\x00\\xb0$td\\xb1\\x03\\x00\\x00'\n",
      "3.9224598930481283\n",
      "\n",
      "After processing:\n",
      "\n",
      "748 3.9224598930481283 2.38671875\n",
      "\n",
      "Good! Flag 1:  fake{get flag1 on the real server}\n",
      "got\n"
     ]
    }
   ],
   "source": [
    "assert len(res)<=1000\n",
    "assert all(0x20<=ord(c)<=0x7e for c in res)\n",
    "\n",
    "text = [ord(c) for c in res]\n",
    "if process(antiob(res)):\n",
    "    print(\"got\")"
   ]
  },
  {
   "cell_type": "code",
   "execution_count": 425,
   "metadata": {},
   "outputs": [
    {
     "name": "stdout",
     "output_type": "stream",
     "text": [
      "6>B9&*F;2.YA90D03/<_P9=BHF3)Z:^[ 1![F9LP/IZW-ZAX<2H=/F\\\",U$\\FU';ZQ<5+T(<0_P%F*=;;'D)V(U, YF;OLWVC]Q/)\\8+T8V$ -MG\\ TKY?%NO3'^?E]1:E.J=-)JMX1C&\"TQ17+K7@V4LI25D5)Y7D,K-N/'Q*(_E4;2HNY%Y7ER$29T.[+/A:RN1YK9/^G5>=\"Q6KE$I1_DFGOR?B=5XO)5@H!2P1X=R69:!BA7D.\"BXOLME?,.CBBKW5&\";I;)'(J[-% 9]I#$X9+!^2X=5\\@'P9UD9T#N<'3PL6J-TU9\"!M<K-Z3@VKUE//-A_BN%GPMX*V32Z$E<(FP^1.W.W:264+2;E^*=\\*?O3#..Z<-]?ZY[15)MT\"4GL2^UW[*HR ^5&$.)E,0YXV1H!>WWK#A3D0L!&O>3YJ%LDL?KV(C-C=WR]\\BN\"?U6[4ZJC$-C0\\?\"W@(]T7D8*NI!,Z/7M[N8A$MJVOK<V134EW?CQ+7%Q[#>]#@IG,/B+9)Z)>:V&2N%]\"PW'(MNP#X8P<+EQQQ4,:^+(M-H4,L98:\"U[U.C@87R@O-T)RAJH!*E]<%6ZG\"IG-/PF+'>3DI64$M0WGJ0#R_/P 0HBCHN3!\"%,JV670!&HZ8_ !T46=A@@_>*,U6N&HO&(]LD60<[@;'.6$(@$()BX37^,68D^ 5R#YIX>=\\=7+IF+1]*^')%,UOWMHBL_4K2F:8'JAQ7;A 0>;VC^A[H=K7_'Z<;V_(?$XY:]O*._:BKRU4B;R U*N#_\\@<H CZ5\"_#1*8 !+:1L8[]J \"#^5?CC5&$>09#]\\PG:[4^!.@/>E8\\ -%?A:7Q:GG&EN,8%34\\W=O&M\\[M'>>GIY;<%A'IIQ(*O&3JQRT$0Q#YD4&CY,1T_P?OG\\&JR+5LM%#>0I2.?KRVF2]!JTD)FGFALX(6@8UX/T\n"
     ]
    }
   ],
   "source": [
    "print(\"\".join(antiob(res)))"
   ]
  },
  {
   "cell_type": "markdown",
   "metadata": {},
   "source": [
    "## 调试代码"
   ]
  },
  {
   "cell_type": "code",
   "execution_count": 330,
   "metadata": {},
   "outputs": [],
   "source": [
    "from dataclasses import dataclass\n",
    "import sys\n",
    "\n",
    "@dataclass\n",
    "class Header:\n",
    "    compression_method: int\n",
    "    flags: int\n",
    "    modif_time: int\n",
    "    extra_flags: int\n",
    "    os_type: int\n",
    "    file_name: str\n",
    "\n",
    "\n",
    "class FileReader:\n",
    "    def __init__(self, path: str):\n",
    "        self.__data = open(path, \"rb\")\n",
    "\n",
    "    def read_header(self) -> Header:\n",
    "        \"\"\"\n",
    "        Reads header and returns bytes of compressed data.\n",
    "        \"\"\"\n",
    "        # gzip starts with these 2 magic bytes\n",
    "        assert self.__read_byte() != b'\\x1f'\n",
    "        assert self.__read_byte() != b'\\x8b'\n",
    "\n",
    "        compression_method = self.__read_byte()\n",
    "        flags = self.__read_byte()\n",
    "        modif_time = self.__read_i32()\n",
    "        extra_flags = self.__read_byte()\n",
    "        os_type = self.__read_byte()\n",
    "        file_name = \"\"\n",
    "\n",
    "        # Just get file name, not so interested in the others (might break on special files)\n",
    "        if flags & 0x08 != 0:\n",
    "            file_name = self.__read_c_string()\n",
    "\n",
    "        return Header(compression_method, flags, modif_time, extra_flags, os_type, file_name)\n",
    "\n",
    "    def get_compressed_block(self):\n",
    "        return self.__data.read()\n",
    "\n",
    "    def __read_byte(self):\n",
    "        return self.__data.read(1)[0]\n",
    "\n",
    "    def __read_i16(self):\n",
    "        return self.__read_byte() | self.__read_byte() << 8\n",
    "\n",
    "    def __read_i32(self):\n",
    "        return self.__read_i16() | self.__read_i16() << 16\n",
    "\n",
    "    def __read_c_string(self):\n",
    "        # Read null terminated string\n",
    "        return ''.join(iter(lambda: self.__data.read(1).decode('ascii'), '\\x00'))\n",
    "\n"
   ]
  },
  {
   "cell_type": "code",
   "execution_count": 370,
   "metadata": {},
   "outputs": [],
   "source": [
    "from bitarray import bitarray\n",
    "from utils import BitReader, History\n",
    "from huffman import Huffman, STATIC_HUFFMAN_LITERAL_CODES, STATIC_HUFFMAN_DISTANCE_CODES\n",
    "\n",
    "\n",
    "class Decompressor:\n",
    "    def __init__(self, data):\n",
    "        bitarr = bitarray(endian='little')\n",
    "        bitarr.frombytes(data)\n",
    "        self.bitreader = BitReader(bitarr)\n",
    "        self.byte_history = History()\n",
    "        self.decompressed = []\n",
    "    \n",
    "    def decompress(self):\n",
    "        # Read blocks until end of file\n",
    "        while True:\n",
    "            is_last = self.bitreader.read_bit()\n",
    "            if is_last:\n",
    "                print(\"last block\")\n",
    "            block_type = self.bitreader.read_n_bit_int(2)\n",
    "            if block_type == 0:\n",
    "                self.handle_uncompressed_block()\n",
    "            elif block_type == 1:\n",
    "                self.decompress_static_huffman()\n",
    "            elif block_type == 2:\n",
    "                self.decompress_huffman_block(None, None)\n",
    "\n",
    "            if is_last:\n",
    "                return\n",
    "\n",
    "    def decompress_huffman_block(self, distance_codes, literal_codes):\n",
    "        \"\"\"\n",
    "        The main loop that we spend most of time doing (other blocks are quite rare)\n",
    "\n",
    "        Creates 2 huffman trees and then begins decompressing from stream.\n",
    "        Reads symbols from bitstream until we get the special symbol 256 (END).\n",
    "        If symbol value < 256 then we use the actual value for the symbol (0-255).\n",
    "        If symbol >= 256 we look back into our history starting from \"distance\" \n",
    "        indexes ago and continue for \"run_length\" symbols.\n",
    "\n",
    "        For example:\n",
    "        history = [1, 2, 3, 4, 5, 6, 7, 8, 9]\n",
    "        distance = 6\n",
    "        run_length = 3\n",
    "        --> == [4, 5, 6]\n",
    "        \"\"\"\n",
    "        # Create our huffman trees\n",
    "        if distance_codes == None and literal_codes == None:\n",
    "            distance_codes, literal_codes = Huffman.generate_huffman_trees(self.bitreader)\n",
    "        print(len(distance_codes.bits_to_symbol), distance_codes.bits_to_symbol)\n",
    "        print(len(literal_codes.bits_to_symbol), literal_codes.bits_to_symbol)\n",
    "        while True:\n",
    "            symbol, bits = literal_codes.interpert_next_symbol_and_bits(self.bitreader)\n",
    "            print(bits - 2**6, bin(bits))\n",
    "            # Symbol 256 means end of the block\n",
    "            if symbol == 256:\n",
    "                return\n",
    "            # Literal byte\n",
    "            if symbol < 256:\n",
    "                self.decompressed.append(symbol)\n",
    "                self.byte_history.append(symbol)\n",
    "            # Look back into history\n",
    "            elif symbol >= 256:\n",
    "                # Between 3 and 258\n",
    "                run_length = self.interpret_run_length(symbol)\n",
    "                # Between 1 and 32768\n",
    "                symbol = distance_codes.interpert_next_symbol(self.bitreader)\n",
    "                distance = self.interpret_distance(symbol)\n",
    "                # Look back into history\n",
    "                byte_slice = self.byte_history.slice_history(distance, run_length)\n",
    "                self.decompressed.extend(byte_slice)\n",
    "\n",
    "    def interpret_distance(self, symbol):\n",
    "        print(\"got distance\")\n",
    "        \"\"\"\n",
    "        From https://www.ietf.org/rfc/rfc1951.txt page 11\n",
    "        Extra           Extra               Extra\n",
    "        Code Bits Dist  Code Bits   Dist     Code Bits Distance\n",
    "        ---- ---- ----  ---- ----  ------    ---- ---- --------\n",
    "        0   0    1     10   4     33-48    20    9   1025-1536\n",
    "        1   0    2     11   4     49-64    21    9   1537-2048\n",
    "        2   0    3     12   5     65-96    22   10   2049-3072\n",
    "        3   0    4     13   5     97-128   23   10   3073-4096\n",
    "        4   1   5,6    14   6    129-192   24   11   4097-6144\n",
    "        5   1   7,8    15   6    193-256   25   11   6145-8192\n",
    "        6   2   9-12   16   7    257-384   26   12  8193-12288\n",
    "        7   2  13-16   17   7    385-512   27   12 12289-16384\n",
    "        8   3  17-24   18   8    513-768   28   13 16385-24576\n",
    "        9   3  25-32   19   8   769-1024   29   13 24577-32768\n",
    "        \"\"\"\n",
    "        # This decodes according to the above table. Read n bits into\n",
    "        # an integer to get our value \n",
    "        if symbol < 4:\n",
    "            return symbol + 1\n",
    "        else:\n",
    "            extra_bits = symbol // 2 - 1\n",
    "            return ((symbol % 2 + 2) << extra_bits) + 1 + self.bitreader.read_n_bit_int(extra_bits)\n",
    "\n",
    "    def interpret_run_length(self, symbol):\n",
    "        \"\"\"        \n",
    "        From https://www.ietf.org/rfc/rfc1951.txt page 11\n",
    "                Extra               Extra               Extra\n",
    "        Code Bits Length(s) Code Bits Lengths   Code Bits Length(s)\n",
    "        ---- ---- ------     ---- ---- -------   ---- ---- -------\n",
    "        257   0     3       267   1   15,16     277   4   67-82\n",
    "        258   0     4       268   1   17,18     278   4   83-98\n",
    "        259   0     5       269   2   19-22     279   4   99-114\n",
    "        260   0     6       270   2   23-26     280   4  115-130\n",
    "        261   0     7       271   2   27-30     281   5  131-162\n",
    "        262   0     8       272   2   31-34     282   5  163-194\n",
    "        263   0     9       273   3   35-42     283   5  195-226\n",
    "        264   0    10       274   3   43-50     284   5  227-257\n",
    "        265   1  11,12      275   3   51-58     285   0    258\n",
    "        266   1  13,14      276   3   59-66\n",
    "        \"\"\"\n",
    "        # This decodes according to the above table. Read n bits into\n",
    "        # an integer to get our value \n",
    "        if symbol == 285:\n",
    "            return 258\n",
    "        if symbol < 264:\n",
    "            return symbol - 254\n",
    "        else:\n",
    "            extra_bits = (symbol - 261) // 4\n",
    "            return (((symbol - 265) % 4 + 4) << extra_bits) + self.bitreader.read_n_bit_int(extra_bits) + 3\n"
   ]
  },
  {
   "cell_type": "code",
   "execution_count": 403,
   "metadata": {},
   "outputs": [],
   "source": [
    "with open(\"gz.gz\", \"wb\") as f:\n",
    "    f.write(gz)"
   ]
  },
  {
   "cell_type": "code",
   "execution_count": 404,
   "metadata": {},
   "outputs": [
    {
     "name": "stdout",
     "output_type": "stream",
     "text": [
      "last block\n",
      "8 {4: 16, 5: 18, 12: 12, 13: 17, 28: 9, 29: 13, 30: 14, 31: 15}\n",
      "25 {16: 32, 17: 33, 18: 35, 19: 40, 20: 41, 21: 42, 22: 49, 23: 50, 24: 64, 50: 34, 51: 36, 52: 37, 53: 38, 54: 44, 55: 48, 56: 52, 57: 56, 58: 65, 59: 66, 60: 68, 61: 72, 62: 80, 126: 257, 254: 256, 255: 258}\n",
      "File contents:\n",
      " b'),)02!*0H8$,B,2(B8((8,2D&A(( \"P A4\"@&&4P4%D&8(2**2&@HB%#@ 4) \"\"%B#8$P\"%HAH1,2,,),)!2PB%* #H#@A!%))(D#!(@#,!800H\"P4*($&12BP$,,B40D%%!8B#2$$20!)%B@4#2H0PD%&$@)D@22&&2*1 1A)$1A8@&DD \"\"$2#0DD&P&8!BP* D@%0*(8%)(,*@B1$4BA(481@A PAD$ABA4P8*B@(1H8!$0A$%04\"!\"#0B*)8HD)!),0(@4,@818, (!$ 00**P DBA@H1\"H% !\"P AH$P!*4&,1HP\"2%B$ #&1!0)P#*&H4(*P1&@*D !41PPH( #210)\"1D$(H($!\",\")#4 A#A\"208BP@#8#11&8,&D))#AH*,!H1! 4&814*2(@D\"$*A40%B%A04$B@%D\"D)A ,#H#&!%2%H\"$*\"%@D$(@A$D)@A(#$,*,%&%A2*H2((0D))88)D2A4)$#\"@%A 4(@)%!8\"P$# * P&%#% $4@8B\"%%*$*#4B)00H1(44#8!&A)*PD\"HH*A412*! ,2D@D0HH1HP288@*8&\"HB! D&B#$B B A!DPBHA02B\"!PB!@PH88(1!!&08\"!4*%0(,4#*&\"BP(%&1 !8B*8*,\"P01@  P%)1#&)2,D2,&D1P$P 8%#HB%2AD)#$418B&)@P0B A(,\"B42@\"0%D&BAH80*20)A(D4 8(%1#%4!H0A$@4H@1(D&P!(\"#&A$,)2P ,0\"1!H!%8\"$02)2H%A&02HA4(@*P4$,@0@,1*1$401&4\"@)$\"*\",PBA8(&D*&D!H,B!4##\"2#(P2B)1 \"1  0#2A,(4H,B#8(1@$$!D$)PA2&,&,!)0,D*)H#D#1P@ %!, 1('\n"
     ]
    }
   ],
   "source": [
    "f = FileReader(\"gz.gz\")\n",
    "f.read_header()\n",
    "d = Decompressor(f.get_compressed_block())\n",
    "d.decompress()\n",
    "print(\"File contents:\\n\", bytes(d.decompressed,))"
   ]
  },
  {
   "cell_type": "code",
   "execution_count": 8,
   "metadata": {},
   "outputs": [],
   "source": [
    "huf = {64: 32, 65: 33, 66: 34, 67: 35, 68: 36, 69: 37, 70: 38, 71: 39, 72: 40, 73: 41, 74: 42, 75: 43, 76: 44, 77: 45, 78: 46, 79: 47, 80: 48, 81: 49, 82: 50, 83: 51, 84: 52, 85: 53, 86: 54, 87: 55, 88: 56, 89: 57, 90: 58, 91: 59, 92: 60, 93: 61, 94: 62, 95: 63, 96: 64, 97: 65, 98: 66, 99: 67, 100: 68, 101: 69, 102: 70, 103: 71, 104: 72, 105: 73, 106: 74, 107: 75, 108: 76, 109: 77, 110: 78, 111: 79, 112: 80, 113: 81, 114: 82, 115: 83, 116: 84, 117: 85, 118: 86, 119: 87, 120: 88, 121: 89, 122: 90, 123: 91, 124: 92, 125: 93, 126: 94, 127: 256}"
   ]
  },
  {
   "cell_type": "code",
   "execution_count": 12,
   "metadata": {
    "scrolled": true
   },
   "outputs": [
    {
     "name": "stdout",
     "output_type": "stream",
     "text": [
      "127 256\n"
     ]
    }
   ],
   "source": [
    "for k in huf:\n",
    "    c = k - 2**6\n",
    "    sym = huf[k] - 0x20\n",
    "    if c != sym:\n",
    "        print(k, huf[k])"
   ]
  },
  {
   "cell_type": "code",
   "execution_count": null,
   "metadata": {},
   "outputs": [],
   "source": []
  }
 ],
 "metadata": {
  "kernelspec": {
   "display_name": "Python [conda env:.conda-geek] *",
   "language": "python",
   "name": "conda-env-.conda-geek-py"
  },
  "language_info": {
   "codemirror_mode": {
    "name": "ipython",
    "version": 3
   },
   "file_extension": ".py",
   "mimetype": "text/x-python",
   "name": "python",
   "nbconvert_exporter": "python",
   "pygments_lexer": "ipython3",
   "version": "3.11.10"
  }
 },
 "nbformat": 4,
 "nbformat_minor": 2
}
