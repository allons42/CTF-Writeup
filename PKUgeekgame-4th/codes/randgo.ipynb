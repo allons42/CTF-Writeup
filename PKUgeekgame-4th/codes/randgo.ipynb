{
 "cells": [
  {
   "cell_type": "code",
   "execution_count": 1,
   "id": "66765f6d",
   "metadata": {},
   "outputs": [],
   "source": [
    "from pwn import *\n",
    "from tqdm import tqdm"
   ]
  },
  {
   "cell_type": "code",
   "execution_count": 3,
   "id": "0a708122",
   "metadata": {},
   "outputs": [
    {
     "name": "stdout",
     "output_type": "stream",
     "text": [
      "[x] Opening connection to prob16.geekgame.pku.edu.cn on port 10017\n",
      "[x] Opening connection to prob16.geekgame.pku.edu.cn on port 10017: Trying 115.27.246.20\n",
      "[+] Opening connection to prob16.geekgame.pku.edu.cn on port 10017: Done\n"
     ]
    },
    {
     "name": "stderr",
     "output_type": "stream",
     "text": [
      "100%|██████████| 1024/1024 [00:00<00:00, 1844.79it/s]"
     ]
    },
    {
     "name": "stdout",
     "output_type": "stream",
     "text": [
      "[*] Closed connection to prob16.geekgame.pku.edu.cn port 10017\n"
     ]
    },
    {
     "name": "stderr",
     "output_type": "stream",
     "text": [
      "\n"
     ]
    }
   ],
   "source": [
    "r = remote('prob16.geekgame.pku.edu.cn', 10017)\n",
    "token = b'xxx'\n",
    "r.sendline(token)\n",
    "\n",
    "nums = []\n",
    "\n",
    "l = r.recvline()\n",
    "l = l.split(b\" \")[-1]\n",
    "nums.append(int(l[:-1]))\n",
    "\n",
    "\n",
    "for _ in tqdm(range(1<<10)):\n",
    "    r.sendline(b'')\n",
    "    l = r.recvline()\n",
    "    nums.append(int(l[:-1]))\n",
    "\n",
    "r.close()"
   ]
  },
  {
   "cell_type": "code",
   "execution_count": 223,
   "id": "bb1f48aa",
   "metadata": {},
   "outputs": [
    {
     "name": "stdout",
     "output_type": "stream",
     "text": [
      "(array([  0.        ,   0.        ,   0.        ,   0.        ,\n",
      "         0.        ,   0.        ,   0.        ,   0.        ,\n",
      "         0.        ,   0.        ,  99.6250005 ,  94.56250044,\n",
      "        69.75000032,  48.6250003 ,  97.6250005 , 110.7500005 ,\n",
      "       109.75000055,  96.81250049,  98.8750005 ,  67.18750037,\n",
      "        48.75000027,  94.87500042, 102.87500051,  68.7500004 ,\n",
      "       109.75000055, 100.9375005 ,   0.        ,   0.        ,\n",
      "         0.        ,   0.        ,   0.        ,   0.        ,\n",
      "         0.        ,   0.        ,   0.        ,   0.        ,\n",
      "         0.        ,   0.        ,   0.        ,   0.        ,\n",
      "         0.        ,   0.        ,   0.        ,   0.        ,\n",
      "         0.        ,   0.        ,   0.        ,   0.        ,\n",
      "         0.        ,   0.        ,   0.        ,   0.        ,\n",
      "         0.        ]), np.float64(6.585968673201248))\n"
     ]
    }
   ],
   "source": [
    "import numpy as np\n",
    "from scipy.optimize import nnls\n",
    "\n",
    "maxint = 1 << 32\n",
    "\n",
    "def calc(n):\n",
    "    mat = np.zeros((2*n, n))\n",
    "    b = np.zeros(2*n)\n",
    "    con = \"flag{LagGed_?????????_gEneraTor_can_be_attaCKed_t00}\\n\"\n",
    "\n",
    "    for i in range(2*n):\n",
    "        # i: 0 - (n-1)，第i个方程\n",
    "\n",
    "        mat[i, i%n] = -1 + 1e-8\n",
    "        mat[i, (i+334)%n] = -1\n",
    "        mat[i, (i+607)%n] = 1\n",
    "\n",
    "        tmp = nums[607+i] - nums[i] - nums[334+i]\n",
    "        if tmp >= maxint:\n",
    "            tmp -= maxint\n",
    "        if tmp < -maxint:\n",
    "            tmp += maxint\n",
    "        b[i] = tmp\n",
    "        if i % n > 25 or i % n < 10:\n",
    "            mat[i, i%n] = 0\n",
    "            b[i] += ord(con[i%n])\n",
    "        \n",
    "        if (i+334)%n > 25 or (i+334)%n < 10:\n",
    "            mat[i, (i+334)%n] = 0\n",
    "            b[i] += ord(con[(i+334)%n])\n",
    "        \n",
    "        if (i+607)%n > 25 or (i+607)%n < 10:\n",
    "            mat[i, (i+607)%n] = 0\n",
    "            b[i] -= ord(con[(i+607)%n])\n",
    "    x = nnls(mat, b)\n",
    "    return x\n",
    "\"\"\"\n",
    "for n in range(6, 80):\n",
    "    x = calc(n)\n",
    "    if 100 <= x[0] <= 105:\n",
    "        print(n, x)\n",
    "\"\"\"\n",
    "x = calc(53)\n",
    "print(x)"
   ]
  },
  {
   "cell_type": "code",
   "execution_count": 225,
   "id": "b137959d",
   "metadata": {},
   "outputs": [],
   "source": [
    "x = calc(53)"
   ]
  },
  {
   "cell_type": "code",
   "execution_count": 226,
   "id": "577a78b7",
   "metadata": {},
   "outputs": [
    {
     "data": {
      "text/plain": [
       "array([ 99.6250005 ,  94.56250044,  69.75000032,  48.6250003 ,\n",
       "        97.6250005 , 110.7500005 , 109.75000055,  96.81250049,\n",
       "        98.8750005 ,  67.18750037,  48.75000027,  94.87500042,\n",
       "       102.87500051,  68.7500004 , 109.75000055])"
      ]
     },
     "execution_count": 226,
     "metadata": {},
     "output_type": "execute_result"
    }
   ],
   "source": [
    "x[0][10:25]"
   ]
  },
  {
   "cell_type": "code",
   "execution_count": 227,
   "id": "54e49890",
   "metadata": {},
   "outputs": [
    {
     "name": "stdout",
     "output_type": "stream",
     "text": [
      "G2cpobdD2\n",
      "F1bonacC1\n",
      "E0anm`bB0"
     ]
    }
   ],
   "source": [
    "for i in x[0][12:21]:\n",
    "    t = round(i)\n",
    "    print(chr(t+1), end=\"\")\n",
    "print()\n",
    "for i in x[0][12:21]:\n",
    "    t = round(i)\n",
    "    print(chr(t), end=\"\")\n",
    "print()\n",
    "for i in x[0][12:21]:\n",
    "    t = round(i)\n",
    "    print(chr(t-1), end=\"\")"
   ]
  },
  {
   "cell_type": "code",
   "execution_count": 147,
   "id": "d6772fd0",
   "metadata": {
    "scrolled": true
   },
   "outputs": [
    {
     "name": "stdout",
     "output_type": "stream",
     "text": [
      "flbg{LagHed_F2bonadC1_gFnfrbTpr`dao_bf_autaCKfd`t00}\n",
      "\n",
      "ekafzK`fGdc^E1anm`cB0^fEmeqaSoq_c`n^ae^`ts`BJec_s//|\t"
     ]
    }
   ],
   "source": [
    "for i in x[0]:\n",
    "    t = round(i)\n",
    "    print(chr(t+1), end=\"\")\n",
    "print()\n",
    "for i in x[0]:\n",
    "    t = round(i)\n",
    "    print(chr(t), end=\"\")"
   ]
  },
  {
   "cell_type": "code",
   "execution_count": null,
   "id": "43c7d128",
   "metadata": {},
   "outputs": [],
   "source": [
    "flag{LagGed_F1bonacC1_gEneraTor_can_be_attaCKed_t00}"
   ]
  },
  {
   "cell_type": "code",
   "execution_count": null,
   "id": "701d5f3e",
   "metadata": {},
   "outputs": [],
   "source": [
    "Fibonacci!!!"
   ]
  }
 ],
 "metadata": {
  "kernelspec": {
   "display_name": "Python [conda env:.conda-geek] *",
   "language": "python",
   "name": "conda-env-.conda-geek-py"
  },
  "language_info": {
   "codemirror_mode": {
    "name": "ipython",
    "version": 3
   },
   "file_extension": ".py",
   "mimetype": "text/x-python",
   "name": "python",
   "nbconvert_exporter": "python",
   "pygments_lexer": "ipython3",
   "version": "3.11.10"
  }
 },
 "nbformat": 4,
 "nbformat_minor": 5
}
